{
 "cells": [
  {
   "cell_type": "code",
   "execution_count": null,
   "id": "e5c9eed5",
   "metadata": {},
   "outputs": [],
   "source": []
  },
  {
   "cell_type": "code",
   "execution_count": 1,
   "id": "6061bec3",
   "metadata": {},
   "outputs": [],
   "source": [
    "import requests\n",
    "from bs4 import Tag, NavigableString, BeautifulSoup\n",
    "import re\n",
    "from datetime import datetime, date, time, timedelta\n",
    "\n",
    "import pandas as pd\n"
   ]
  },
  {
   "cell_type": "code",
   "execution_count": null,
   "id": "3d8541ce",
   "metadata": {},
   "outputs": [],
   "source": []
  },
  {
   "cell_type": "code",
   "execution_count": null,
   "id": "fff0b9e3",
   "metadata": {},
   "outputs": [],
   "source": []
  },
  {
   "cell_type": "code",
   "execution_count": null,
   "id": "8e9c350d",
   "metadata": {},
   "outputs": [],
   "source": []
  },
  {
   "cell_type": "markdown",
   "id": "d09913dc",
   "metadata": {},
   "source": [
    "# 1. To extract info about studied alphabet"
   ]
  },
  {
   "cell_type": "code",
   "execution_count": 2,
   "id": "d6721e85",
   "metadata": {},
   "outputs": [],
   "source": [
    "russian_string = \"АаБбВвГгДдЕеЁёЖжЗзИиЙйКкЛлМмНнОоПпСсТтУуФфХхЦцЧчШшЩщЪъЫыЬьЭэЮюЯя\""
   ]
  },
  {
   "cell_type": "code",
   "execution_count": null,
   "id": "9ce2b03c",
   "metadata": {},
   "outputs": [],
   "source": []
  },
  {
   "cell_type": "code",
   "execution_count": null,
   "id": "499a26e3",
   "metadata": {},
   "outputs": [],
   "source": []
  },
  {
   "cell_type": "code",
   "execution_count": null,
   "id": "2bebf287",
   "metadata": {},
   "outputs": [],
   "source": [
    "# georgian alphabet with english pronunciation\n",
    "# https://app2brain.com/learn-languages/georgian/alphabet-pronunciation/"
   ]
  },
  {
   "cell_type": "code",
   "execution_count": null,
   "id": "6b435896",
   "metadata": {},
   "outputs": [],
   "source": []
  },
  {
   "cell_type": "code",
   "execution_count": null,
   "id": "6aad62de",
   "metadata": {},
   "outputs": [],
   "source": [
    "# georgian alphabet with russian pronunciation\n",
    "\n",
    "# https://georgiabest.ru/gruzinskiy-yazyk/\n",
    "# https://gruzinskij.ru/%D0%B1%D0%B5%D0%B7-%D1%80%D1%83%D0%B1%D1%80%D0%B8%D0%BA%D0%B8/probaalfevita.html\n",
    "# https://allgeotrip.ru/stati/gruzinskiy-alfavit (in 3 columns)"
   ]
  },
  {
   "cell_type": "code",
   "execution_count": null,
   "id": "824ddff4",
   "metadata": {},
   "outputs": [],
   "source": []
  },
  {
   "cell_type": "code",
   "execution_count": null,
   "id": "9ff232d9",
   "metadata": {},
   "outputs": [],
   "source": []
  },
  {
   "cell_type": "code",
   "execution_count": null,
   "id": "6040be5e",
   "metadata": {},
   "outputs": [],
   "source": []
  },
  {
   "cell_type": "markdown",
   "id": "82cfc518",
   "metadata": {},
   "source": [
    "# 2. To define sets of languages"
   ]
  },
  {
   "cell_type": "code",
   "execution_count": 3,
   "id": "ca2d3ab4",
   "metadata": {},
   "outputs": [],
   "source": [
    "original_languages_set = ['rus', 'eng']\n",
    "studied_languages_set = ['geo']"
   ]
  },
  {
   "cell_type": "code",
   "execution_count": null,
   "id": "96a34e6d",
   "metadata": {},
   "outputs": [],
   "source": []
  },
  {
   "cell_type": "code",
   "execution_count": 5,
   "id": "098d263a",
   "metadata": {},
   "outputs": [
    {
     "data": {
      "text/plain": [
       "{'geo': {'rus': {'ა': 'a', 'ბ': 'б'}}}"
      ]
     },
     "execution_count": 5,
     "metadata": {},
     "output_type": "execute_result"
    }
   ],
   "source": [
    "geo_alphabet = {}\n",
    "geo_alphabet['ა'] = 'a'\n",
    "geo_alphabet['ბ'] = 'б'\n",
    "\n",
    "alphabets_dict = {}\n",
    "alphabets_dict['geo'] = {}\n",
    "alphabets_dict['geo']['rus'] = geo_alphabet\n",
    "\n",
    "alphabets_dict"
   ]
  },
  {
   "cell_type": "code",
   "execution_count": 7,
   "id": "2a906eb2",
   "metadata": {},
   "outputs": [
    {
     "data": {
      "text/plain": [
       "{'ა': 'a', 'ბ': 'б'}"
      ]
     },
     "execution_count": 7,
     "metadata": {},
     "output_type": "execute_result"
    }
   ],
   "source": [
    "# example of languages pair\n",
    "\n",
    "alphabets_dict['geo']['rus']"
   ]
  },
  {
   "cell_type": "code",
   "execution_count": null,
   "id": "bdc702d6",
   "metadata": {},
   "outputs": [],
   "source": []
  },
  {
   "cell_type": "markdown",
   "id": "f36ac18f",
   "metadata": {},
   "source": [
    "# 3. To get a lot of russian texts, desirable about Georgia"
   ]
  },
  {
   "cell_type": "code",
   "execution_count": null,
   "id": "101638f3",
   "metadata": {},
   "outputs": [],
   "source": []
  },
  {
   "cell_type": "code",
   "execution_count": null,
   "id": "b3cbe23a",
   "metadata": {},
   "outputs": [],
   "source": []
  },
  {
   "cell_type": "code",
   "execution_count": null,
   "id": "50aa74a5",
   "metadata": {},
   "outputs": [],
   "source": []
  },
  {
   "cell_type": "code",
   "execution_count": null,
   "id": "73fdc7fb",
   "metadata": {},
   "outputs": [],
   "source": []
  },
  {
   "cell_type": "markdown",
   "id": "53cdb617",
   "metadata": {},
   "source": [
    "# 4. To get a lot of georgian texts for extracting of frequent letter combinations and making a rating of letter frequency"
   ]
  },
  {
   "cell_type": "code",
   "execution_count": null,
   "id": "ba58a37e",
   "metadata": {},
   "outputs": [],
   "source": []
  },
  {
   "cell_type": "code",
   "execution_count": null,
   "id": "461a8939",
   "metadata": {},
   "outputs": [],
   "source": []
  },
  {
   "cell_type": "code",
   "execution_count": null,
   "id": "fd746f27",
   "metadata": {},
   "outputs": [],
   "source": []
  },
  {
   "cell_type": "code",
   "execution_count": null,
   "id": "b6b7179f",
   "metadata": {},
   "outputs": [],
   "source": []
  },
  {
   "cell_type": "code",
   "execution_count": null,
   "id": "621149c6",
   "metadata": {},
   "outputs": [],
   "source": []
  },
  {
   "cell_type": "markdown",
   "id": "47ae4c2e",
   "metadata": {},
   "source": [
    "# 5. Educational process"
   ]
  },
  {
   "cell_type": "code",
   "execution_count": null,
   "id": "af099a04",
   "metadata": {},
   "outputs": [],
   "source": []
  },
  {
   "cell_type": "code",
   "execution_count": null,
   "id": "0a4e7f7e",
   "metadata": {},
   "outputs": [],
   "source": []
  },
  {
   "cell_type": "code",
   "execution_count": null,
   "id": "d10971ee",
   "metadata": {},
   "outputs": [],
   "source": [
    "original_languages_dict = {}\n",
    "\n",
    "original_languages_dict['rus'] = []"
   ]
  },
  {
   "cell_type": "code",
   "execution_count": null,
   "id": "749d307e",
   "metadata": {},
   "outputs": [],
   "source": [
    "studied_languages_dict = {}"
   ]
  },
  {
   "cell_type": "code",
   "execution_count": null,
   "id": "86694bf5",
   "metadata": {},
   "outputs": [],
   "source": []
  },
  {
   "cell_type": "code",
   "execution_count": null,
   "id": "3bda2cc4",
   "metadata": {},
   "outputs": [],
   "source": []
  },
  {
   "cell_type": "code",
   "execution_count": null,
   "id": "78098c51",
   "metadata": {},
   "outputs": [],
   "source": []
  },
  {
   "cell_type": "code",
   "execution_count": null,
   "id": "2bd1cbf8",
   "metadata": {},
   "outputs": [],
   "source": []
  },
  {
   "cell_type": "code",
   "execution_count": null,
   "id": "899b0632",
   "metadata": {},
   "outputs": [],
   "source": []
  }
 ],
 "metadata": {
  "kernelspec": {
   "display_name": "Python 3 (ipykernel)",
   "language": "python",
   "name": "python3"
  },
  "language_info": {
   "codemirror_mode": {
    "name": "ipython",
    "version": 3
   },
   "file_extension": ".py",
   "mimetype": "text/x-python",
   "name": "python",
   "nbconvert_exporter": "python",
   "pygments_lexer": "ipython3",
   "version": "3.9.13"
  }
 },
 "nbformat": 4,
 "nbformat_minor": 5
}
