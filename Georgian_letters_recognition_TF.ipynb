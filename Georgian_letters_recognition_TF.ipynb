{
  "nbformat": 4,
  "nbformat_minor": 0,
  "metadata": {
    "colab": {
      "provenance": [],
      "authorship_tag": "ABX9TyPG5tiZSRHT/EcCo+BxI2DN",
      "include_colab_link": true
    },
    "kernelspec": {
      "name": "python3",
      "display_name": "Python 3"
    },
    "language_info": {
      "name": "python"
    }
  },
  "cells": [
    {
      "cell_type": "markdown",
      "metadata": {
        "id": "view-in-github",
        "colab_type": "text"
      },
      "source": [
        "<a href=\"https://colab.research.google.com/github/am-tropin/georgian-letters-trainer/blob/main/Georgian_letters_recognition_TF.ipynb\" target=\"_parent\"><img src=\"https://colab.research.google.com/assets/colab-badge.svg\" alt=\"Open In Colab\"/></a>"
      ]
    },
    {
      "cell_type": "code",
      "execution_count": null,
      "metadata": {
        "id": "2eo1-747dOUA"
      },
      "outputs": [],
      "source": []
    },
    {
      "cell_type": "markdown",
      "source": [
        "# **Step 1. Choose a dataset**"
      ],
      "metadata": {
        "id": "RKMZJmvx7grN"
      }
    },
    {
      "cell_type": "code",
      "source": [
        "!pip install pandas"
      ],
      "metadata": {
        "colab": {
          "base_uri": "https://localhost:8080/"
        },
        "id": "foT7cCnQv-N1",
        "outputId": "412336f7-9b02-4ee1-8ac9-7d7931f478b4"
      },
      "execution_count": 1,
      "outputs": [
        {
          "output_type": "stream",
          "name": "stdout",
          "text": [
            "Looking in indexes: https://pypi.org/simple, https://us-python.pkg.dev/colab-wheels/public/simple/\n",
            "Requirement already satisfied: pandas in /usr/local/lib/python3.8/dist-packages (1.3.5)\n",
            "Requirement already satisfied: numpy>=1.17.3 in /usr/local/lib/python3.8/dist-packages (from pandas) (1.21.6)\n",
            "Requirement already satisfied: pytz>=2017.3 in /usr/local/lib/python3.8/dist-packages (from pandas) (2022.7.1)\n",
            "Requirement already satisfied: python-dateutil>=2.7.3 in /usr/local/lib/python3.8/dist-packages (from pandas) (2.8.2)\n",
            "Requirement already satisfied: six>=1.5 in /usr/local/lib/python3.8/dist-packages (from python-dateutil>=2.7.3->pandas) (1.15.0)\n"
          ]
        }
      ]
    },
    {
      "cell_type": "code",
      "source": [
        "!pip install opendatasets"
      ],
      "metadata": {
        "colab": {
          "base_uri": "https://localhost:8080/"
        },
        "id": "1u1vpkQdwJix",
        "outputId": "9a8263d0-d4af-40d7-8283-c35ddb5a33df"
      },
      "execution_count": 2,
      "outputs": [
        {
          "output_type": "stream",
          "name": "stdout",
          "text": [
            "Looking in indexes: https://pypi.org/simple, https://us-python.pkg.dev/colab-wheels/public/simple/\n",
            "Requirement already satisfied: opendatasets in /usr/local/lib/python3.8/dist-packages (0.1.22)\n",
            "Requirement already satisfied: click in /usr/local/lib/python3.8/dist-packages (from opendatasets) (7.1.2)\n",
            "Requirement already satisfied: tqdm in /usr/local/lib/python3.8/dist-packages (from opendatasets) (4.64.1)\n",
            "Requirement already satisfied: kaggle in /usr/local/lib/python3.8/dist-packages (from opendatasets) (1.5.12)\n",
            "Requirement already satisfied: six>=1.10 in /usr/local/lib/python3.8/dist-packages (from kaggle->opendatasets) (1.15.0)\n",
            "Requirement already satisfied: requests in /usr/local/lib/python3.8/dist-packages (from kaggle->opendatasets) (2.25.1)\n",
            "Requirement already satisfied: certifi in /usr/local/lib/python3.8/dist-packages (from kaggle->opendatasets) (2022.12.7)\n",
            "Requirement already satisfied: python-slugify in /usr/local/lib/python3.8/dist-packages (from kaggle->opendatasets) (8.0.0)\n",
            "Requirement already satisfied: python-dateutil in /usr/local/lib/python3.8/dist-packages (from kaggle->opendatasets) (2.8.2)\n",
            "Requirement already satisfied: urllib3 in /usr/local/lib/python3.8/dist-packages (from kaggle->opendatasets) (1.24.3)\n",
            "Requirement already satisfied: text-unidecode>=1.3 in /usr/local/lib/python3.8/dist-packages (from python-slugify->kaggle->opendatasets) (1.3)\n",
            "Requirement already satisfied: idna<3,>=2.5 in /usr/local/lib/python3.8/dist-packages (from requests->kaggle->opendatasets) (2.10)\n",
            "Requirement already satisfied: chardet<5,>=3.0.2 in /usr/local/lib/python3.8/dist-packages (from requests->kaggle->opendatasets) (4.0.0)\n"
          ]
        }
      ]
    },
    {
      "cell_type": "code",
      "source": [
        "import opendatasets as od\n",
        "\n",
        "od.download(\"https://www.kaggle.com/datasets/alexandertropin/georgian-letters-photo-database\")"
      ],
      "metadata": {
        "colab": {
          "base_uri": "https://localhost:8080/"
        },
        "id": "dqcyk4Qpv-S9",
        "outputId": "0f0b9957-46a9-4e38-9054-9342d1bf8920"
      },
      "execution_count": 58,
      "outputs": [
        {
          "output_type": "stream",
          "name": "stdout",
          "text": [
            "Please provide your Kaggle credentials to download this dataset. Learn more: http://bit.ly/kaggle-creds\n",
            "Your Kaggle username: alexandertropin\n",
            "Your Kaggle Key: ··········\n",
            "Downloading georgian-letters-photo-database.zip to ./georgian-letters-photo-database\n"
          ]
        },
        {
          "output_type": "stream",
          "name": "stderr",
          "text": [
            "100%|██████████| 337M/337M [00:02<00:00, 153MB/s]\n"
          ]
        },
        {
          "output_type": "stream",
          "name": "stdout",
          "text": [
            "\n"
          ]
        }
      ]
    },
    {
      "cell_type": "code",
      "source": [
        "# remove all .txt files\n",
        "\n",
        "# import os\n",
        "# import glob\n",
        "\n",
        "# fileList = glob.glob('/content/georgian-letters-photo-database/georgian_letters_image_database/dataset/yolo/*') # .txt\n",
        "# fileList = glob.glob('/content/georgian-letters-photo-database/georgian_letters_image_database/dataset/*') # .txt\n",
        "# fileList = glob.glob('/content/georgian-letters-photo-database/georgian_letters_image_database/for_prediction/*') # .txt\n",
        "# fileList = glob.glob('/content/georgian-letters-photo-database/georgian_letters_image_database/dataset/*') # .txt\n",
        "# fileList = glob.glob('/content/georgian-letters-photo-database/georgian_letters_image_database/dataset/*') # .txt\n",
        "\n",
        "# for filePath in fileList:\n",
        "#     os.remove(filePath)"
      ],
      "metadata": {
        "id": "us7nztY1v-VG"
      },
      "execution_count": 57,
      "outputs": []
    },
    {
      "cell_type": "code",
      "source": [],
      "metadata": {
        "id": "D2sk9ayGayOF"
      },
      "execution_count": null,
      "outputs": []
    },
    {
      "cell_type": "markdown",
      "source": [
        "# **Step 2. To chop up the letters**"
      ],
      "metadata": {
        "id": "_5h7ZP70uVP8"
      }
    },
    {
      "cell_type": "code",
      "source": [
        "import cv2\n",
        "import pandas as pd\n",
        "import numpy as np\n",
        "import xml.etree.ElementTree as ET\n",
        "\n",
        "# import sys, random\n",
        "# from shutil import copyfile"
      ],
      "metadata": {
        "id": "XSEATm2i1FW-"
      },
      "execution_count": 18,
      "outputs": []
    },
    {
      "cell_type": "code",
      "source": [
        "# https://github.com/Shenggan/BCCD_Dataset/blob/master/export.py\n",
        "\n",
        "def to_extract_coordinates(source_folder, target_name):\n",
        "    annotations = glob.glob(source_folder + '*.xml')\n",
        "\n",
        "    df = []\n",
        "    cnt = 0\n",
        "\n",
        "    for file in annotations:\n",
        "        filename = file.split('/')[-1].split('.')[0] + '.jpg'\n",
        "        row = []\n",
        "        parsedXML = ET.parse(file)\n",
        "        for node in parsedXML.getroot().iter('object'):\n",
        "            letters = node.find('name').text\n",
        "            xmin = int(node.find('bndbox/xmin').text)\n",
        "            xmax = int(node.find('bndbox/xmax').text)\n",
        "            ymin = int(node.find('bndbox/ymin').text)\n",
        "            ymax = int(node.find('bndbox/ymax').text)\n",
        "\n",
        "            row = [filename, letters, xmin, xmax, ymin, ymax]\n",
        "            df.append(row)\n",
        "            cnt += 1\n",
        "\n",
        "    data = pd.DataFrame(df, columns=['filename', 'letter_name', 'xmin', 'xmax', 'ymin', 'ymax'])\n",
        "\n",
        "    data[['filename', 'letter_name', 'xmin', 'xmax', 'ymin', 'ymax']].to_csv(target_name + '.csv', index=False)\n",
        "    return 1"
      ],
      "metadata": {
        "id": "TkTurZgm18uu"
      },
      "execution_count": 59,
      "outputs": []
    },
    {
      "cell_type": "code",
      "source": [
        "source_folder = 'georgian-letters-photo-database/georgian_letters_image_database/dataset/'\n",
        "target_name = 'label_coordinates'\n",
        "\n",
        "to_extract_coordinates(source_folder, target_name)"
      ],
      "metadata": {
        "colab": {
          "base_uri": "https://localhost:8080/"
        },
        "id": "KYQtkVoCgD9k",
        "outputId": "9f36f7af-1e10-4e3f-bc71-566416e433b7"
      },
      "execution_count": 60,
      "outputs": [
        {
          "output_type": "execute_result",
          "data": {
            "text/plain": [
              "1"
            ]
          },
          "metadata": {},
          "execution_count": 60
        }
      ]
    },
    {
      "cell_type": "code",
      "source": [
        "df = pd.read_csv('label_coordinates.csv')\n",
        "df.head()"
      ],
      "metadata": {
        "colab": {
          "base_uri": "https://localhost:8080/",
          "height": 206
        },
        "id": "pUvgWbgt1FZ4",
        "outputId": "431b1747-19ec-4e3d-cc30-7c2407785226"
      },
      "execution_count": 20,
      "outputs": [
        {
          "output_type": "execute_result",
          "data": {
            "text/plain": [
              "                  filename letter_name  xmin  xmax  ymin  ymax\n",
              "0  IMG_20230213_212214.jpg         18ტ   578   841  1167  1520\n",
              "1  IMG_20230213_212214.jpg         19უ   812  1029  1187  1475\n",
              "2  IMG_20230213_212214.jpg         16რ  1006  1220  1187  1501\n",
              "3  IMG_20230213_212214.jpg          1ბ  1197  1401  1190  1498\n",
              "4  IMG_20230213_212214.jpg         13ო  1385  1689  1206  1511"
            ],
            "text/html": [
              "\n",
              "  <div id=\"df-47fcb6ef-a0e8-461c-bd8d-18443d139ba3\">\n",
              "    <div class=\"colab-df-container\">\n",
              "      <div>\n",
              "<style scoped>\n",
              "    .dataframe tbody tr th:only-of-type {\n",
              "        vertical-align: middle;\n",
              "    }\n",
              "\n",
              "    .dataframe tbody tr th {\n",
              "        vertical-align: top;\n",
              "    }\n",
              "\n",
              "    .dataframe thead th {\n",
              "        text-align: right;\n",
              "    }\n",
              "</style>\n",
              "<table border=\"1\" class=\"dataframe\">\n",
              "  <thead>\n",
              "    <tr style=\"text-align: right;\">\n",
              "      <th></th>\n",
              "      <th>filename</th>\n",
              "      <th>letter_name</th>\n",
              "      <th>xmin</th>\n",
              "      <th>xmax</th>\n",
              "      <th>ymin</th>\n",
              "      <th>ymax</th>\n",
              "    </tr>\n",
              "  </thead>\n",
              "  <tbody>\n",
              "    <tr>\n",
              "      <th>0</th>\n",
              "      <td>IMG_20230213_212214.jpg</td>\n",
              "      <td>18ტ</td>\n",
              "      <td>578</td>\n",
              "      <td>841</td>\n",
              "      <td>1167</td>\n",
              "      <td>1520</td>\n",
              "    </tr>\n",
              "    <tr>\n",
              "      <th>1</th>\n",
              "      <td>IMG_20230213_212214.jpg</td>\n",
              "      <td>19უ</td>\n",
              "      <td>812</td>\n",
              "      <td>1029</td>\n",
              "      <td>1187</td>\n",
              "      <td>1475</td>\n",
              "    </tr>\n",
              "    <tr>\n",
              "      <th>2</th>\n",
              "      <td>IMG_20230213_212214.jpg</td>\n",
              "      <td>16რ</td>\n",
              "      <td>1006</td>\n",
              "      <td>1220</td>\n",
              "      <td>1187</td>\n",
              "      <td>1501</td>\n",
              "    </tr>\n",
              "    <tr>\n",
              "      <th>3</th>\n",
              "      <td>IMG_20230213_212214.jpg</td>\n",
              "      <td>1ბ</td>\n",
              "      <td>1197</td>\n",
              "      <td>1401</td>\n",
              "      <td>1190</td>\n",
              "      <td>1498</td>\n",
              "    </tr>\n",
              "    <tr>\n",
              "      <th>4</th>\n",
              "      <td>IMG_20230213_212214.jpg</td>\n",
              "      <td>13ო</td>\n",
              "      <td>1385</td>\n",
              "      <td>1689</td>\n",
              "      <td>1206</td>\n",
              "      <td>1511</td>\n",
              "    </tr>\n",
              "  </tbody>\n",
              "</table>\n",
              "</div>\n",
              "      <button class=\"colab-df-convert\" onclick=\"convertToInteractive('df-47fcb6ef-a0e8-461c-bd8d-18443d139ba3')\"\n",
              "              title=\"Convert this dataframe to an interactive table.\"\n",
              "              style=\"display:none;\">\n",
              "        \n",
              "  <svg xmlns=\"http://www.w3.org/2000/svg\" height=\"24px\"viewBox=\"0 0 24 24\"\n",
              "       width=\"24px\">\n",
              "    <path d=\"M0 0h24v24H0V0z\" fill=\"none\"/>\n",
              "    <path d=\"M18.56 5.44l.94 2.06.94-2.06 2.06-.94-2.06-.94-.94-2.06-.94 2.06-2.06.94zm-11 1L8.5 8.5l.94-2.06 2.06-.94-2.06-.94L8.5 2.5l-.94 2.06-2.06.94zm10 10l.94 2.06.94-2.06 2.06-.94-2.06-.94-.94-2.06-.94 2.06-2.06.94z\"/><path d=\"M17.41 7.96l-1.37-1.37c-.4-.4-.92-.59-1.43-.59-.52 0-1.04.2-1.43.59L10.3 9.45l-7.72 7.72c-.78.78-.78 2.05 0 2.83L4 21.41c.39.39.9.59 1.41.59.51 0 1.02-.2 1.41-.59l7.78-7.78 2.81-2.81c.8-.78.8-2.07 0-2.86zM5.41 20L4 18.59l7.72-7.72 1.47 1.35L5.41 20z\"/>\n",
              "  </svg>\n",
              "      </button>\n",
              "      \n",
              "  <style>\n",
              "    .colab-df-container {\n",
              "      display:flex;\n",
              "      flex-wrap:wrap;\n",
              "      gap: 12px;\n",
              "    }\n",
              "\n",
              "    .colab-df-convert {\n",
              "      background-color: #E8F0FE;\n",
              "      border: none;\n",
              "      border-radius: 50%;\n",
              "      cursor: pointer;\n",
              "      display: none;\n",
              "      fill: #1967D2;\n",
              "      height: 32px;\n",
              "      padding: 0 0 0 0;\n",
              "      width: 32px;\n",
              "    }\n",
              "\n",
              "    .colab-df-convert:hover {\n",
              "      background-color: #E2EBFA;\n",
              "      box-shadow: 0px 1px 2px rgba(60, 64, 67, 0.3), 0px 1px 3px 1px rgba(60, 64, 67, 0.15);\n",
              "      fill: #174EA6;\n",
              "    }\n",
              "\n",
              "    [theme=dark] .colab-df-convert {\n",
              "      background-color: #3B4455;\n",
              "      fill: #D2E3FC;\n",
              "    }\n",
              "\n",
              "    [theme=dark] .colab-df-convert:hover {\n",
              "      background-color: #434B5C;\n",
              "      box-shadow: 0px 1px 3px 1px rgba(0, 0, 0, 0.15);\n",
              "      filter: drop-shadow(0px 1px 2px rgba(0, 0, 0, 0.3));\n",
              "      fill: #FFFFFF;\n",
              "    }\n",
              "  </style>\n",
              "\n",
              "      <script>\n",
              "        const buttonEl =\n",
              "          document.querySelector('#df-47fcb6ef-a0e8-461c-bd8d-18443d139ba3 button.colab-df-convert');\n",
              "        buttonEl.style.display =\n",
              "          google.colab.kernel.accessAllowed ? 'block' : 'none';\n",
              "\n",
              "        async function convertToInteractive(key) {\n",
              "          const element = document.querySelector('#df-47fcb6ef-a0e8-461c-bd8d-18443d139ba3');\n",
              "          const dataTable =\n",
              "            await google.colab.kernel.invokeFunction('convertToInteractive',\n",
              "                                                     [key], {});\n",
              "          if (!dataTable) return;\n",
              "\n",
              "          const docLinkHtml = 'Like what you see? Visit the ' +\n",
              "            '<a target=\"_blank\" href=https://colab.research.google.com/notebooks/data_table.ipynb>data table notebook</a>'\n",
              "            + ' to learn more about interactive tables.';\n",
              "          element.innerHTML = '';\n",
              "          dataTable['output_type'] = 'display_data';\n",
              "          await google.colab.output.renderOutput(dataTable, element);\n",
              "          const docLink = document.createElement('div');\n",
              "          docLink.innerHTML = docLinkHtml;\n",
              "          element.appendChild(docLink);\n",
              "        }\n",
              "      </script>\n",
              "    </div>\n",
              "  </div>\n",
              "  "
            ]
          },
          "metadata": {},
          "execution_count": 20
        }
      ]
    },
    {
      "cell_type": "code",
      "source": [
        "def invert_image(img_test):\n",
        "    height, width = img_test.shape[:2]\n",
        "    border_delta = 0.02\n",
        "\n",
        "    # mean grayscale value\n",
        "    mean_image = np.mean(img_test)\n",
        "\n",
        "    # grayscale values near the borders\n",
        "    mean_left_border = np.mean(img_test[:, int(width*(1-border_delta)):width])\n",
        "    mean_right_border = np.mean(img_test[:, 0:int(width*border_delta)])\n",
        "    mean_upper_border = np.mean(img_test[0:int(height*border_delta), :])\n",
        "    mean_lower_border = np.mean(img_test[int(height*(1-border_delta)):height, :])\n",
        "\n",
        "    if mean_image > np.mean(np.array([mean_left_border, mean_right_border, mean_upper_border, mean_lower_border])):\n",
        "        return cv2.bitwise_not(img_test)\n",
        "    else:\n",
        "        return img_test\n"
      ],
      "metadata": {
        "id": "HI5VYgzWsP0L"
      },
      "execution_count": 21,
      "outputs": []
    },
    {
      "cell_type": "code",
      "source": [
        "!mkdir cropped_images\n"
      ],
      "metadata": {
        "id": "Auzxq0UB3eQ_"
      },
      "execution_count": 11,
      "outputs": []
    },
    {
      "cell_type": "code",
      "source": [
        "# df_short = df[df['filename'] == 'IMG_20230212_163927.jpg']\n",
        "# df_short = df[df['filename'] == 'IMG_20230215_140350 (1).jpg']\n"
      ],
      "metadata": {
        "id": "NpCsxDgOMiLJ"
      },
      "execution_count": 12,
      "outputs": []
    },
    {
      "cell_type": "code",
      "source": [
        "def to_crop_letters(df, source_folder, target_folder):\n",
        "    letter_names = set(list(df['letter_name']))\n",
        "\n",
        "    # a counter of letters within each image\n",
        "    letter_counter = {}\n",
        "\n",
        "    for index, row in df.iterrows():\n",
        "        if row['filename'] in letter_counter.keys():\n",
        "            if row['letter_name'] in letter_counter[row['filename']].keys():\n",
        "                letter_counter[row['filename']][row['letter_name']] += 1\n",
        "            else:\n",
        "                letter_counter[row['filename']][row['letter_name']] = 1\n",
        "        else:\n",
        "            letter_counter[row['filename']] = {}\n",
        "            letter_counter[row['filename']][row['letter_name']] = 1\n",
        "\n",
        "        img = cv2.imread(source_folder + row['filename'])\n",
        "        crop_img = img[row['ymin']:row['ymax'], row['xmin']:row['xmax']]\n",
        "        crop_resize_img = cv2.resize(crop_img, (100, 150))\n",
        "        gray_crop_resize_img = cv2.cvtColor(crop_resize_img, cv2.COLOR_BGR2GRAY)\n",
        "        invert_img = invert_image(gray_crop_resize_img)\n",
        "        # thresh_img = invert_img\n",
        "        thresh_img = cv2.threshold(invert_img, np.mean(invert_img), 255, cv2.THRESH_BINARY)[1]\n",
        "        # thresh_img = cv2.threshold(invert_img, (np.amin(invert_img) + np.amax(invert_img))//2, 255, cv2.THRESH_BINARY)[1]\n",
        "        # 127, 255\n",
        "        # cv2.THRESH_BINARY: If pixel intensity is greater than the set threshold, value set to 255, else set to 0 (black).\n",
        "        cv2.imwrite(target_folder + row['filename'][:-4] + '_' + row['letter_name'][-1] + '_' + str(letter_counter[row['filename']][row['letter_name']]) + '.jpg', thresh_img)\n",
        "    return 1"
      ],
      "metadata": {
        "id": "k_mLzmWVZ3AW"
      },
      "execution_count": 50,
      "outputs": []
    },
    {
      "cell_type": "code",
      "source": [
        "'''\n",
        "Creating a new dataset of images with singular letters.\n",
        "Grayscale. \n",
        "Resized to 100x150.\n",
        "Inverted (black <-> white) if the borders are darker than the image on the average\n",
        "'''\n",
        "\n",
        "\n",
        "'''\n",
        "4.5 minutes for processing of a full dataset (86 images / 1302 letters)\n",
        "'''\n",
        "\n",
        "df_short = df #.head(100)\n",
        "\n",
        "# the folder where images locate\n",
        "source_folder = 'georgian-letters-photo-database/georgian_letters_image_database/dataset/'\n",
        "\n",
        "# the folder where cropped images will be saved\n",
        "target_folder = 'cropped_images/'\n",
        "\n",
        "to_crop_letters(df_short, source_folder, target_folder)"
      ],
      "metadata": {
        "colab": {
          "base_uri": "https://localhost:8080/"
        },
        "id": "qk1VbcwFahCj",
        "outputId": "d546ff7e-7a27-451c-de24-ed893fd4ccc9"
      },
      "execution_count": 51,
      "outputs": [
        {
          "output_type": "execute_result",
          "data": {
            "text/plain": [
              "1"
            ]
          },
          "metadata": {},
          "execution_count": 51
        }
      ]
    },
    {
      "cell_type": "code",
      "source": [
        "# files = glob.glob('cropped_images/*')\n",
        "# for f in files:\n",
        "#     os.remove(f)"
      ],
      "metadata": {
        "id": "CHwDbnNDahFK"
      },
      "execution_count": 18,
      "outputs": []
    },
    {
      "cell_type": "code",
      "source": [
        "# !rmdir croped_images"
      ],
      "metadata": {
        "id": "hwDXQRUOhz46"
      },
      "execution_count": 47,
      "outputs": []
    },
    {
      "cell_type": "markdown",
      "source": [
        "Downloading the cropped images:"
      ],
      "metadata": {
        "id": "V-r_-PZwSxt7"
      }
    },
    {
      "cell_type": "code",
      "source": [
        "# !zip -r /content/cropped_images.zip /content/cropped_images\n",
        "\n",
        "# from google.colab import files\n",
        "# files.download(\"/content/cropped_images.zip\")"
      ],
      "metadata": {
        "id": "Rz-ToLseQ8bk"
      },
      "execution_count": 26,
      "outputs": []
    },
    {
      "cell_type": "code",
      "source": [],
      "metadata": {
        "id": "Kk1PzCuPM7n-"
      },
      "execution_count": null,
      "outputs": []
    },
    {
      "cell_type": "code",
      "source": [
        "import re\n",
        "\n",
        "# path = \"cropped_images/\"\n",
        "dir_list = os.listdir(\"cropped_images/\")\n",
        "# ა_list = [d for d in dir_list if \"ა\" in d]\n",
        "letter_list = [re.findall(\"\\_(.)\\_\", d)[0] for d in dir_list if re.findall(\"\\_(.)\\_\", d)]\n"
      ],
      "metadata": {
        "id": "F04Rm_G0kkJp"
      },
      "execution_count": 23,
      "outputs": []
    },
    {
      "cell_type": "code",
      "source": [
        "# to detect the most frequent letters\n",
        "\n",
        "from collections import Counter\n",
        "\n",
        "letter_counter = Counter(letter_list)\n",
        "letter_counter.most_common()"
      ],
      "metadata": {
        "colab": {
          "base_uri": "https://localhost:8080/"
        },
        "id": "MIAIW9r2_QwS",
        "outputId": "a9ad9b80-84d3-479f-a663-962b07009c31"
      },
      "execution_count": 24,
      "outputs": [
        {
          "output_type": "execute_result",
          "data": {
            "text/plain": [
              "[('ი', 105),\n",
              " ('ა', 99),\n",
              " ('რ', 87),\n",
              " ('ე', 79),\n",
              " ('ს', 74),\n",
              " ('ლ', 67),\n",
              " ('ნ', 63),\n",
              " ('ო', 62),\n",
              " ('ბ', 58),\n",
              " ('უ', 56),\n",
              " ('დ', 53),\n",
              " ('ვ', 50),\n",
              " ('მ', 50),\n",
              " ('ტ', 46),\n",
              " ('თ', 41),\n",
              " ('კ', 37),\n",
              " ('ფ', 35),\n",
              " ('გ', 34),\n",
              " ('ქ', 32),\n",
              " ('ხ', 26),\n",
              " ('შ', 22),\n",
              " ('ზ', 20),\n",
              " ('პ', 18),\n",
              " ('წ', 17),\n",
              " ('ც', 17),\n",
              " ('ჩ', 12),\n",
              " ('ყ', 11),\n",
              " ('ძ', 10),\n",
              " ('ღ', 9),\n",
              " ('ჟ', 5),\n",
              " ('ჯ', 4),\n",
              " ('ჭ', 2),\n",
              " ('ჰ', 1)]"
            ]
          },
          "metadata": {},
          "execution_count": 24
        }
      ]
    },
    {
      "cell_type": "markdown",
      "source": [
        "# **Step 3. To distribute the top of letters by separate folders**\n",
        "\n",
        "I will create folders for 8 most frequent letters and another one for the others."
      ],
      "metadata": {
        "id": "9eocgUva5YcE"
      }
    },
    {
      "cell_type": "code",
      "source": [
        "import shutil\n",
        "\n",
        "# src_path = r\"E:\\pynative\\reports\\sales.txt\" # source\n",
        "# dst_path = r\"E:\\pynative\\account\\sales.txt\" # destination\n",
        "# shutil.move(src_path, dst_path) # move\n",
        "# shutil.copyfile(src_path, dst_path) # copy"
      ],
      "metadata": {
        "id": "EryQj87EW28e"
      },
      "execution_count": 25,
      "outputs": []
    },
    {
      "cell_type": "code",
      "source": [
        "treshold = 60"
      ],
      "metadata": {
        "id": "wzlOpG5jV9EF"
      },
      "execution_count": 26,
      "outputs": []
    },
    {
      "cell_type": "code",
      "source": [
        "head_letter_dict = {x: count for x, count in Counter(letter_list).items() if count >= treshold}\n",
        "head_letter_dict = {k: v for k, v in sorted(head_letter_dict.items(), key=lambda item: item[1], reverse=True)}\n",
        "head_letter_dict"
      ],
      "metadata": {
        "colab": {
          "base_uri": "https://localhost:8080/"
        },
        "id": "H3efCTNZWBi_",
        "outputId": "ba0dd6c9-c028-4bb6-b446-d5951d94ab65"
      },
      "execution_count": 27,
      "outputs": [
        {
          "output_type": "execute_result",
          "data": {
            "text/plain": [
              "{'ი': 105, 'ა': 99, 'რ': 87, 'ე': 79, 'ს': 74, 'ლ': 67, 'ნ': 63, 'ო': 62}"
            ]
          },
          "metadata": {},
          "execution_count": 27
        }
      ]
    },
    {
      "cell_type": "code",
      "source": [
        "tail_letter_dict = {x: count for x, count in Counter(letter_list).items() if count < treshold}\n",
        "tail_letter_dict = {k: v for k, v in sorted(tail_letter_dict.items(), key=lambda item: item[1], reverse=True)}\n",
        "# tail_letter_dict"
      ],
      "metadata": {
        "id": "gwzpI93GWBmW"
      },
      "execution_count": 28,
      "outputs": []
    },
    {
      "cell_type": "code",
      "source": [
        "head_letter_dict['other'] = np.sum([v for v in tail_letter_dict.values()])\n",
        "head_letter_dict"
      ],
      "metadata": {
        "colab": {
          "base_uri": "https://localhost:8080/"
        },
        "id": "_Ge2FLzsWct7",
        "outputId": "2336674d-ce04-4be2-aa50-7585fcec0c39"
      },
      "execution_count": 29,
      "outputs": [
        {
          "output_type": "execute_result",
          "data": {
            "text/plain": [
              "{'ი': 105,\n",
              " 'ა': 99,\n",
              " 'რ': 87,\n",
              " 'ე': 79,\n",
              " 'ს': 74,\n",
              " 'ლ': 67,\n",
              " 'ნ': 63,\n",
              " 'ო': 62,\n",
              " 'other': 666}"
            ]
          },
          "metadata": {},
          "execution_count": 29
        }
      ]
    },
    {
      "cell_type": "code",
      "source": [
        "# for filePath in glob.glob(\"cropped_images_i/*.jpg\"):\n",
        "#     filePath_splitted = filePath.split('/')\n",
        "#     shutil.move(filePath, 'cropped_images/' + filePath_splitted[1])"
      ],
      "metadata": {
        "id": "TC17XhieWwFZ"
      },
      "execution_count": 134,
      "outputs": []
    },
    {
      "cell_type": "code",
      "source": [
        "del head_letter_dict['other']"
      ],
      "metadata": {
        "id": "cLfajQ7gc8fA"
      },
      "execution_count": 30,
      "outputs": []
    },
    {
      "cell_type": "code",
      "source": [
        "base_dir = 'grouped_images'\n",
        "os.mkdir(base_dir)\n",
        "\n",
        "for letter in head_letter_dict.keys():\n",
        "    os.mkdir(base_dir + '/letter_' + letter)"
      ],
      "metadata": {
        "id": "eTaWpNmEXMsZ"
      },
      "execution_count": 32,
      "outputs": []
    },
    {
      "cell_type": "code",
      "source": [
        "# distributing images with top of letters by folders\n",
        "for letter in head_letter_dict.keys():\n",
        "    fileList = [f for f in glob.glob(\"cropped_images/*.jpg\") if letter in f]\n",
        "    for filePath in fileList:\n",
        "        filePath_splitted = filePath.split('/')\n",
        "        shutil.copyfile(filePath, 'grouped_images/letter_'+letter+'/' + filePath_splitted[1])\n"
      ],
      "metadata": {
        "id": "fUMjlrLhYp1k"
      },
      "execution_count": 33,
      "outputs": []
    },
    {
      "cell_type": "code",
      "source": [
        "# and the rest:\n",
        "# fileList = [f for f in glob.glob(\"cropped_images/*.jpg\") if not any(letter in f for letter in head_letter_dict.keys())]\n",
        "# for filePath in fileList:\n",
        "#     filePath_splitted = filePath.split('/')\n",
        "#     shutil.copyfile(filePath, 'grouped_images/letter_other/' + filePath_splitted[1])\n"
      ],
      "metadata": {
        "id": "23P2NiLpZ0M7"
      },
      "execution_count": 20,
      "outputs": []
    },
    {
      "cell_type": "code",
      "source": [],
      "metadata": {
        "id": "7C94LwevmNS6"
      },
      "execution_count": null,
      "outputs": []
    },
    {
      "cell_type": "markdown",
      "source": [
        "# **Step 4. To distribute images by test, validation and train folders for each letter**\n",
        "\n",
        "based on https://www.analyticsvidhya.com/blog/2022/07/training-cnn-from-scratch-using-the-custom-dataset/"
      ],
      "metadata": {
        "id": "Lm9M4FUhaKbn"
      }
    },
    {
      "cell_type": "code",
      "source": [
        "base_dir = 'grouped_images'\n",
        "dataset_types = [\"train\", \"validation\", \"test\"]"
      ],
      "metadata": {
        "id": "BSd_gAfFZ8oC"
      },
      "execution_count": 34,
      "outputs": []
    },
    {
      "cell_type": "code",
      "source": [
        "for t in dataset_types:\n",
        "    t_dir = os.path.join(base_dir, t)\n",
        "    os.mkdir(t_dir)\n",
        "    for letter in head_letter_dict.keys():\n",
        "        t_letter_dir = os.path.join(t_dir, letter)\n",
        "        os.mkdir(t_letter_dir)\n"
      ],
      "metadata": {
        "id": "WA5YXfw0lNEO"
      },
      "execution_count": 35,
      "outputs": []
    },
    {
      "cell_type": "code",
      "source": [
        "letter_sizes = {}\n",
        "\n",
        "for letter, amount in head_letter_dict.items():\n",
        "    letter_sizes[letter] = {}\n",
        "    letter_sizes[letter]['test'] = int(np.floor(amount * 0.2))\n",
        "    letter_sizes[letter]['validation'] = int(np.floor((amount - letter_sizes[letter]['test']) * 0.2))\n",
        "    letter_sizes[letter]['train'] = amount - (letter_sizes[letter]['test'] + letter_sizes[letter]['validation'])\n",
        "    # print(head_letter_dict[letter])\n",
        "\n",
        "letter_sizes"
      ],
      "metadata": {
        "colab": {
          "base_uri": "https://localhost:8080/"
        },
        "id": "Tyz-g7mtr47Y",
        "outputId": "1c12f8ba-fab2-4a6f-9b5b-8dbce137ed0f"
      },
      "execution_count": 36,
      "outputs": [
        {
          "output_type": "execute_result",
          "data": {
            "text/plain": [
              "{'ი': {'test': 21, 'validation': 16, 'train': 68},\n",
              " 'ა': {'test': 19, 'validation': 16, 'train': 64},\n",
              " 'რ': {'test': 17, 'validation': 14, 'train': 56},\n",
              " 'ე': {'test': 15, 'validation': 12, 'train': 52},\n",
              " 'ს': {'test': 14, 'validation': 12, 'train': 48},\n",
              " 'ლ': {'test': 13, 'validation': 10, 'train': 44},\n",
              " 'ნ': {'test': 12, 'validation': 10, 'train': 41},\n",
              " 'ო': {'test': 12, 'validation': 10, 'train': 40}}"
            ]
          },
          "metadata": {},
          "execution_count": 36
        }
      ]
    },
    {
      "cell_type": "code",
      "source": [
        "# '''\n",
        "# TO DELETE OTHER LETTERS\n",
        "# '''\n",
        "\n",
        "# files = glob.glob('grouped_images/letter_other/*')\n",
        "# for f in files:\n",
        "#     os.remove(f)\n",
        "\n",
        "# !rmdir grouped_images/letter_other"
      ],
      "metadata": {
        "id": "lS0RMw-Bfmh9"
      },
      "execution_count": 24,
      "outputs": []
    },
    {
      "cell_type": "code",
      "source": [
        "# del head_letter_dict['other']"
      ],
      "metadata": {
        "id": "d09IIiZygK8q"
      },
      "execution_count": 29,
      "outputs": []
    },
    {
      "cell_type": "code",
      "source": [
        "for letter in head_letter_dict.keys():\n",
        "    file_names = [f.split('/')[-1] for f in os.listdir('grouped_images/letter_' + letter)]\n",
        "\n",
        "    test_names = file_names[:letter_sizes[letter]['test']]\n",
        "    validation_names = file_names[letter_sizes[letter]['test']:letter_sizes[letter]['test']+letter_sizes[letter]['validation']]\n",
        "    train_names = file_names[-letter_sizes[letter]['train']:]\n",
        "\n",
        "    original_dir = 'grouped_images/letter_' + letter\n",
        "\n",
        "    for f in test_names:\n",
        "        target_dir = 'grouped_images/test/' + letter\n",
        "        src = os.path.join(original_dir, f)\n",
        "        dst = os.path.join(target_dir, f)\n",
        "        shutil.copyfile(src, dst)\n",
        "\n",
        "    for f in validation_names:\n",
        "        target_dir = 'grouped_images/validation/' + letter\n",
        "        src = os.path.join(original_dir, f)\n",
        "        dst = os.path.join(target_dir, f)\n",
        "        shutil.copyfile(src, dst)\n",
        "\n",
        "    for f in train_names:\n",
        "        target_dir = 'grouped_images/train/' + letter\n",
        "        src = os.path.join(original_dir, f)\n",
        "        dst = os.path.join(target_dir, f)\n",
        "        shutil.copyfile(src, dst)\n"
      ],
      "metadata": {
        "id": "CFQ95cLalNHD"
      },
      "execution_count": 37,
      "outputs": []
    },
    {
      "cell_type": "markdown",
      "source": [
        "# **Step 5. Training CNN**\n",
        "\n",
        "based on https://www.analyticsvidhya.com/blog/2022/07/training-cnn-from-scratch-using-the-custom-dataset/"
      ],
      "metadata": {
        "id": "Obv1JRdCwqCd"
      }
    },
    {
      "cell_type": "markdown",
      "source": [
        "about handwritten letters: https://data-flair.training/blogs/handwritten-character-recognition-neural-network/"
      ],
      "metadata": {
        "id": "pOewm31STKp6"
      }
    },
    {
      "cell_type": "code",
      "source": [
        "# ??????\n",
        "\n",
        "# import tensorflow as tf\n",
        "# import tensorflow_datasets as tfds\n",
        "\n",
        "# # tf.enable_eager_execution()\n",
        "\n",
        "# from keras.layers.core import Dense, Activation, Dropout, Flatten\n",
        "# from keras.layers.convolutional import Convolution2D, MaxPooling2D\n",
        "# from keras.optimizers import SGD, RMSprop, Adam\n",
        "# from keras.utils import np_utils\n",
        "# from keras.models import Sequential\n",
        "\n",
        "# from sklearn.tree import DecisionTreeClassifier # Import Decision Tree Classifier\n",
        "# from sklearn import metrics\n",
        "# from sklearn.utils import shuffle\n",
        "# from sklearn.model_selection import train_test_split\n",
        "\n",
        "# import matplotlib.image as mpimg\n",
        "# import matplotlib.pyplot as plt\n",
        "# import random\n",
        "# # from numpy import *\n",
        "# from PIL import Image\n",
        "# import theano"
      ],
      "metadata": {
        "id": "VOzMnLmEeZZ0"
      },
      "execution_count": null,
      "outputs": []
    },
    {
      "cell_type": "code",
      "source": [
        "# based on: https://medium.com/artificialis/get-started-with-computer-vision-by-building-a-digit-recognition-model-with-tensorflow-b2216823b90a\n",
        "\n",
        "from keras.models import Sequential\n",
        "from keras.layers import Dense, Flatten, Conv2D, MaxPool2D, Dropout\n",
        "from keras.optimizers import SGD, Adam\n",
        "\n",
        "model = Sequential()\n",
        "\n",
        "model.add(Conv2D(16, (3, 3), activation='relu', input_shape=(150, 100, 1)))\n",
        "model.add(Conv2D(16, (3, 3), activation='relu')) # , padding='same'\n",
        "# model.add(MaxPool2D((2, 2), strides=2))\n",
        "model.add(MaxPool2D(pool_size=(2, 2)))\n",
        "# model.add(Dropout(0.25))\n",
        "\n",
        "model.add(Conv2D(16, (3, 3), activation='relu'))\n",
        "model.add(Conv2D(16, (3, 3), activation='relu'))\n",
        "# model.add(MaxPool2D((2, 2), strides=2))\n",
        "model.add(MaxPool2D(pool_size=(2, 2)))\n",
        "# model.add(Dropout(0.25))\n",
        "\n",
        "# model.add(Conv2D(16, (3, 3), activation='relu', padding='valid'))\n",
        "# model.add(MaxPool2D((2, 2), strides=2))\n",
        "# model.add(Dropout(0.25))\n",
        "\n",
        "model.add(Flatten())\n",
        "# model.add(Dense(512, activation='relu'))\n",
        "# model.add(Dropout(0.5))\n",
        "# model.add(Dense(64, activation='relu'))\n",
        "\n",
        "model.add(Dense(9, activation='softmax')) # sigmoid # 1\n",
        "# == num_classes 9 8 ?\n",
        "model.summary()\n"
      ],
      "metadata": {
        "colab": {
          "base_uri": "https://localhost:8080/"
        },
        "id": "mLDoKwt_hR_j",
        "outputId": "47e52f2c-1203-4985-f5da-6f7e3468bb78"
      },
      "execution_count": 38,
      "outputs": [
        {
          "output_type": "stream",
          "name": "stdout",
          "text": [
            "Model: \"sequential\"\n",
            "_________________________________________________________________\n",
            " Layer (type)                Output Shape              Param #   \n",
            "=================================================================\n",
            " conv2d (Conv2D)             (None, 148, 98, 16)       160       \n",
            "                                                                 \n",
            " conv2d_1 (Conv2D)           (None, 146, 96, 16)       2320      \n",
            "                                                                 \n",
            " max_pooling2d (MaxPooling2D  (None, 73, 48, 16)       0         \n",
            " )                                                               \n",
            "                                                                 \n",
            " conv2d_2 (Conv2D)           (None, 71, 46, 16)        2320      \n",
            "                                                                 \n",
            " conv2d_3 (Conv2D)           (None, 69, 44, 16)        2320      \n",
            "                                                                 \n",
            " max_pooling2d_1 (MaxPooling  (None, 34, 22, 16)       0         \n",
            " 2D)                                                             \n",
            "                                                                 \n",
            " flatten (Flatten)           (None, 11968)             0         \n",
            "                                                                 \n",
            " dense (Dense)               (None, 9)                 107721    \n",
            "                                                                 \n",
            "=================================================================\n",
            "Total params: 114,841\n",
            "Trainable params: 114,841\n",
            "Non-trainable params: 0\n",
            "_________________________________________________________________\n"
          ]
        }
      ]
    },
    {
      "cell_type": "code",
      "source": [
        "# '''\n",
        "# OLD VERSION\n",
        "# '''\n",
        "\n",
        "# ###-----Build Your Model------###\n",
        "# # from keras import layers\n",
        "# # from keras import models\n",
        "\n",
        "# # from keras.models import Sequential\n",
        "# # from keras.layers.core import Dense, Activation, Dropout, Flatten\n",
        "# # from keras.layers.convolutional import Convolution2D, MaxPooling2D, AveragePooling2D\n",
        "\n",
        "# from keras.models import Sequential\n",
        "# from keras.layers import Dense, Flatten, Conv2D, MaxPool2D, Dropout\n",
        "# from keras.optimizers import SGD, Adam\n",
        "\n",
        "# model = Sequential()\n",
        "\n",
        "# model.add(Conv2D(32, (3, 3), activation='relu', input_shape=(150, 100, 1)))\n",
        "# # model.add(Conv2D(16, (3, 3), activation='relu', padding='same'))\n",
        "# model.add(MaxPool2D((2, 2), strides=2))\n",
        "# model.add(Dropout(0.25))\n",
        "\n",
        "# # model.add(Conv2D(32, (3, 3), activation='relu', padding='same'))\n",
        "# # model.add(Conv2D(32, (3, 3), activation='relu', padding='same'))\n",
        "# # model.add(MaxPool2D((2, 2), strides=2))\n",
        "# # model.add(Dropout(0.25))\n",
        "\n",
        "# model.add(Conv2D(64, (3, 3), activation='relu', padding='same'))\n",
        "# # model.add(Conv2D(64, (3, 3), activation='relu', padding='same'))\n",
        "# model.add(MaxPool2D((2, 2), strides=2))\n",
        "# model.add(Dropout(0.25))\n",
        "\n",
        "# model.add(Conv2D(128, (3, 3), activation='relu', padding='valid'))\n",
        "# # model.add(Conv2D(128, (3, 3), activation='relu', padding='same'))\n",
        "# model.add(MaxPool2D((2, 2), strides=2))\n",
        "# model.add(Dropout(0.25))\n",
        "\n",
        "# # model.add(Conv2D(256, (3, 3), activation='relu', padding='same'))\n",
        "# # model.add(Conv2D(256, (3, 3), activation='relu', padding='same'))\n",
        "# # model.add(MaxPool2D((2, 2), strides=(2,2)))\n",
        "# # model.add(Dropout(0.25))\n",
        "\n",
        "# model.add(Flatten())\n",
        "# model.add(Dense(512, activation='relu'))\n",
        "# model.add(Dropout(0.5))\n",
        "# model.add(Dense(64, activation='relu'))\n",
        "\n",
        "# model.add(Dense(1, activation='softmax')) # sigmoid # 1\n",
        "# # == num_classes\n",
        "# # 9 ?\n",
        "# model.summary()\n"
      ],
      "metadata": {
        "id": "bwBdOgUxxx9X"
      },
      "execution_count": 65,
      "outputs": []
    },
    {
      "cell_type": "code",
      "source": [
        "####----Configuring the model for training-----####\n",
        "from tensorflow import keras\n",
        "from keras import optimizers\n",
        "\n",
        "model.compile(loss='sparse_categorical_crossentropy', # binary_crossentropy\n",
        "              optimizer=keras.optimizers.Adam(), \n",
        "              # optimizer=keras.optimizers.RMSprop(learning_rate=1e-4), \n",
        "              metrics=['accuracy'])\n"
      ],
      "metadata": {
        "id": "JizRDsi7xyAP"
      },
      "execution_count": 39,
      "outputs": []
    },
    {
      "cell_type": "code",
      "source": [
        "train_dir = os.path.join(base_dir, 'train')\n",
        "validation_dir = os.path.join(base_dir, 'validation')"
      ],
      "metadata": {
        "id": "Eee371TNzy2Q"
      },
      "execution_count": 40,
      "outputs": []
    },
    {
      "cell_type": "code",
      "source": [
        "#####-----Data Preprocessing-----######\n",
        "\n",
        "from keras.preprocessing.image import ImageDataGenerator\n",
        "\n",
        "train_datagen = ImageDataGenerator(rescale=1./255)\n",
        "test_datagen = ImageDataGenerator(rescale=1./255)\n",
        "\n",
        "train_generator = train_datagen.flow_from_directory(train_dir, target_size=(150, 100), batch_size=20, class_mode='binary', color_mode = 'grayscale')\n",
        "validation_generator = test_datagen.flow_from_directory(validation_dir, target_size=(150, 100), batch_size=20, class_mode='binary', color_mode = 'grayscale')\n",
        "\n",
        "for data_batch, labels_batch in train_generator:\n",
        "    print('data batch shape:', data_batch.shape)\n",
        "    print('labels batch shape:', labels_batch.shape)\n",
        "    break"
      ],
      "metadata": {
        "colab": {
          "base_uri": "https://localhost:8080/"
        },
        "id": "Ii4oX3l8wwiE",
        "outputId": "56190a0a-cee2-4c94-bd2a-9844dc7314f8"
      },
      "execution_count": 41,
      "outputs": [
        {
          "output_type": "stream",
          "name": "stdout",
          "text": [
            "Found 413 images belonging to 8 classes.\n",
            "Found 100 images belonging to 8 classes.\n",
            "data batch shape: (20, 150, 100, 1)\n",
            "labels batch shape: (20,)\n"
          ]
        }
      ]
    },
    {
      "cell_type": "code",
      "source": [
        "####----Fit the Model----####\n",
        "history = model.fit_generator(train_generator, steps_per_epoch=10, epochs=4, validation_data=validation_generator, validation_steps=40) # 50\n",
        "\n",
        "######-----Save the Model-------######\n",
        "model.save('geo_letters_top8.h5')"
      ],
      "metadata": {
        "colab": {
          "base_uri": "https://localhost:8080/"
        },
        "id": "ym9Dfbnuwwkp",
        "outputId": "241a9705-dc9b-463b-805f-d118c1e185de"
      },
      "execution_count": 42,
      "outputs": [
        {
          "output_type": "stream",
          "name": "stderr",
          "text": [
            "<ipython-input-42-4725df906d0a>:2: UserWarning: `Model.fit_generator` is deprecated and will be removed in a future version. Please use `Model.fit`, which supports generators.\n",
            "  history = model.fit_generator(train_generator, steps_per_epoch=10, epochs=4, validation_data=validation_generator, validation_steps=40)\n"
          ]
        },
        {
          "output_type": "stream",
          "name": "stdout",
          "text": [
            "Epoch 1/4\n",
            "10/10 [==============================] - ETA: 0s - loss: 2.0882 - accuracy: 0.2250"
          ]
        },
        {
          "output_type": "stream",
          "name": "stderr",
          "text": [
            "WARNING:tensorflow:Your input ran out of data; interrupting training. Make sure that your dataset or generator can generate at least `steps_per_epoch * epochs` batches (in this case, 40 batches). You may need to use the repeat() function when building your dataset.\n"
          ]
        },
        {
          "output_type": "stream",
          "name": "stdout",
          "text": [
            "\b\b\b\b\b\b\b\b\b\b\b\b\b\b\b\b\b\b\b\b\b\b\b\b\b\b\b\b\b\b\b\b\b\b\b\b\b\b\b\b\b\b\b\b\b\b\b\b\b\b\b\b\b\b\b\b\b\b\b\b\b\b\b\b\b\b\b\b\b\b\b\b\b\b\b\b\b\b\b\b\b\b\r10/10 [==============================] - 6s 396ms/step - loss: 2.0882 - accuracy: 0.2250 - val_loss: 1.9099 - val_accuracy: 0.2400\n",
            "Epoch 2/4\n",
            "10/10 [==============================] - 3s 306ms/step - loss: 1.5508 - accuracy: 0.4950\n",
            "Epoch 3/4\n",
            "10/10 [==============================] - 3s 300ms/step - loss: 0.7270 - accuracy: 0.7617\n",
            "Epoch 4/4\n",
            "10/10 [==============================] - 3s 306ms/step - loss: 0.4136 - accuracy: 0.8700\n"
          ]
        }
      ]
    },
    {
      "cell_type": "code",
      "source": [],
      "metadata": {
        "id": "64PMXG1P4vLq"
      },
      "execution_count": null,
      "outputs": []
    },
    {
      "cell_type": "code",
      "source": [
        "######-----Displaying curves of loss and accuracy during training-------######\n",
        "import matplotlib.pyplot as plt\n",
        "\n",
        "acc = history.history['accuracy']\n",
        "val_acc = history.history['val_accuracy']\n",
        "loss = history.history['loss']\n",
        "val_loss = history.history['val_loss']\n",
        "epochs = range(1, len(acc) + 1)\n",
        "\n",
        "plt.plot(epochs, acc, 'r', label='Training acc')\n",
        "# plt.plot(epochs, val_acc, 'b', label='Validation acc')\n",
        "plt.title('Training and validation accuracy')\n",
        "plt.legend()\n",
        "plt.figure()\n",
        "plt.plot(epochs, loss, 'r', label='Training loss')\n",
        "# plt.plot(epochs, val_loss, 'b', label='Validation loss')\n",
        "plt.title('Training and validation loss')\n",
        "plt.legend()\n",
        "plt.show()"
      ],
      "metadata": {
        "colab": {
          "base_uri": "https://localhost:8080/",
          "height": 545
        },
        "id": "xAERDIJawwr-",
        "outputId": "f3162459-7d6f-4fd3-9d0d-51c35ea733a9"
      },
      "execution_count": 43,
      "outputs": [
        {
          "output_type": "display_data",
          "data": {
            "text/plain": [
              "<Figure size 432x288 with 1 Axes>"
            ],
            "image/png": "[encoded data removed]"
          },
          "metadata": {
            "needs_background": "light"
          }
        },
        {
          "output_type": "display_data",
          "data": {
            "text/plain": [
              "<Figure size 432x288 with 1 Axes>"
            ],
            "image/png": "[encoded data removed]"
          },
          "metadata": {
            "needs_background": "light"
          }
        }
      ]
    },
    {
      "cell_type": "code",
      "source": [
        "history.history"
      ],
      "metadata": {
        "colab": {
          "base_uri": "https://localhost:8080/"
        },
        "id": "2Y8O4v39fkqb",
        "outputId": "9bffd6ee-05b5-4511-ea3f-549c49869056"
      },
      "execution_count": 44,
      "outputs": [
        {
          "output_type": "execute_result",
          "data": {
            "text/plain": [
              "{'loss': [2.088198184967041,\n",
              "  1.5508379936218262,\n",
              "  0.7270172834396362,\n",
              "  0.41361141204833984],\n",
              " 'accuracy': [0.22499999403953552,\n",
              "  0.4950000047683716,\n",
              "  0.7616580128669739,\n",
              "  0.8700000047683716],\n",
              " 'val_loss': [1.9099206924438477],\n",
              " 'val_accuracy': [0.23999999463558197]}"
            ]
          },
          "metadata": {},
          "execution_count": 44
        }
      ]
    },
    {
      "cell_type": "markdown",
      "source": [
        "BECAUSE val_loss and val_accuracy were only after first Epoch\n",
        "**BUT WHY?**\n",
        "\n",
        "Epoch 1/4\n",
        "10/10 [==============================] - ETA: 0s - loss: 2.0863 - accuracy: 0.2642WARNING:tensorflow:Your input ran out of data; interrupting training. Make sure that your dataset or generator can generate at least `steps_per_epoch * epochs` batches (in this case, 50 batches). You may need to use the repeat() function when building your dataset.\n",
        "10/10 [==============================] - 5s 385ms/step - loss: 2.0863 - accuracy: 0.2642 - val_loss: 1.9104 - val_accuracy: 0.3700\n",
        "\n",
        "Epoch 2/4\n",
        "\n",
        "10/10 [==============================] - 3s 342ms/step - loss: 1.5920 - accuracy: 0.5050\n",
        "\n",
        "Epoch 3/4\n",
        "\n",
        "10/10 [==============================] - 3s 290ms/step - loss: 0.6316 - accuracy: 0.7824\n",
        "\n",
        "Epoch 4/4\n",
        "\n",
        "10/10 [==============================] - 3s 305ms/step - loss: 0.5871 - accuracy: 0.8200\n"
      ],
      "metadata": {
        "id": "c03IxEy9hlyl"
      }
    },
    {
      "cell_type": "code",
      "source": [],
      "metadata": {
        "id": "gj4lyQDGfktM"
      },
      "execution_count": null,
      "outputs": []
    },
    {
      "cell_type": "markdown",
      "source": [
        "# **Conclusion**"
      ],
      "metadata": {
        "id": "tmqBP8pYxh1K"
      }
    },
    {
      "cell_type": "markdown",
      "source": [
        "The next conditions make better results (**accuracy = 87%**) than previous:\n",
        "\n",
        "- Only Top-8 letters, without other\n",
        "- 9 in the last layer (Dense)\n",
        "- Small numbers of filters (16)\n",
        "- 'sparse_categorical_crossentropy' and Adam\n",
        "- validation_steps = 40 (**WHY?**)"
      ],
      "metadata": {
        "id": "utZXRmCTkAes"
      }
    },
    {
      "cell_type": "markdown",
      "source": [
        "# **Step 6. Prediction for an external image**"
      ],
      "metadata": {
        "id": "IjVTr9Ig6eef"
      }
    },
    {
      "cell_type": "code",
      "source": [
        "predict_img = cv2.imread(\"/content/georgian-letters-photo-database/georgian_letters_image_database/for_prediction/IMG_20230219_144541.jpg\")\n",
        "\n",
        "predict_labels_df = pd.read_csv(\"/content/georgian-letters-photo-database/georgian_letters_image_database/for_prediction/IMG_20230219_144541.csv\")\n",
        "predict_labels_df"
      ],
      "metadata": {
        "colab": {
          "base_uri": "https://localhost:8080/",
          "height": 269
        },
        "id": "GiGAvdBz-Nhx",
        "outputId": "a832dda6-0e27-4d3d-bf47-dfd2104727a1"
      },
      "execution_count": 52,
      "outputs": [
        {
          "output_type": "execute_result",
          "data": {
            "text/plain": [
              "  label_name  bbox_x  bbox_y  bbox_width  bbox_height  \\\n",
              "0        30ხ     327     656         505         1253   \n",
              "1         8ი     819     643         525         1285   \n",
              "2        12ნ    1330     643         531         1285   \n",
              "3         9კ    1815     643         544         1298   \n",
              "4         0ა    2320     649         498         1285   \n",
              "5        10ლ    2806     649         918         1292   \n",
              "6         8ი    3691     643         531         1298   \n",
              "\n",
              "                image_name  image_width  image_height  \n",
              "0  IMG_20230219_144541.jpg         4608          3456  \n",
              "1  IMG_20230219_144541.jpg         4608          3456  \n",
              "2  IMG_20230219_144541.jpg         4608          3456  \n",
              "3  IMG_20230219_144541.jpg         4608          3456  \n",
              "4  IMG_20230219_144541.jpg         4608          3456  \n",
              "5  IMG_20230219_144541.jpg         4608          3456  \n",
              "6  IMG_20230219_144541.jpg         4608          3456  "
            ],
            "text/html": [
              "\n",
              "  <div id=\"df-80b6ac58-275a-4bf4-a7fa-b5893ddb3632\">\n",
              "    <div class=\"colab-df-container\">\n",
              "      <div>\n",
              "<style scoped>\n",
              "    .dataframe tbody tr th:only-of-type {\n",
              "        vertical-align: middle;\n",
              "    }\n",
              "\n",
              "    .dataframe tbody tr th {\n",
              "        vertical-align: top;\n",
              "    }\n",
              "\n",
              "    .dataframe thead th {\n",
              "        text-align: right;\n",
              "    }\n",
              "</style>\n",
              "<table border=\"1\" class=\"dataframe\">\n",
              "  <thead>\n",
              "    <tr style=\"text-align: right;\">\n",
              "      <th></th>\n",
              "      <th>label_name</th>\n",
              "      <th>bbox_x</th>\n",
              "      <th>bbox_y</th>\n",
              "      <th>bbox_width</th>\n",
              "      <th>bbox_height</th>\n",
              "      <th>image_name</th>\n",
              "      <th>image_width</th>\n",
              "      <th>image_height</th>\n",
              "    </tr>\n",
              "  </thead>\n",
              "  <tbody>\n",
              "    <tr>\n",
              "      <th>0</th>\n",
              "      <td>30ხ</td>\n",
              "      <td>327</td>\n",
              "      <td>656</td>\n",
              "      <td>505</td>\n",
              "      <td>1253</td>\n",
              "      <td>IMG_20230219_144541.jpg</td>\n",
              "      <td>4608</td>\n",
              "      <td>3456</td>\n",
              "    </tr>\n",
              "    <tr>\n",
              "      <th>1</th>\n",
              "      <td>8ი</td>\n",
              "      <td>819</td>\n",
              "      <td>643</td>\n",
              "      <td>525</td>\n",
              "      <td>1285</td>\n",
              "      <td>IMG_20230219_144541.jpg</td>\n",
              "      <td>4608</td>\n",
              "      <td>3456</td>\n",
              "    </tr>\n",
              "    <tr>\n",
              "      <th>2</th>\n",
              "      <td>12ნ</td>\n",
              "      <td>1330</td>\n",
              "      <td>643</td>\n",
              "      <td>531</td>\n",
              "      <td>1285</td>\n",
              "      <td>IMG_20230219_144541.jpg</td>\n",
              "      <td>4608</td>\n",
              "      <td>3456</td>\n",
              "    </tr>\n",
              "    <tr>\n",
              "      <th>3</th>\n",
              "      <td>9კ</td>\n",
              "      <td>1815</td>\n",
              "      <td>643</td>\n",
              "      <td>544</td>\n",
              "      <td>1298</td>\n",
              "      <td>IMG_20230219_144541.jpg</td>\n",
              "      <td>4608</td>\n",
              "      <td>3456</td>\n",
              "    </tr>\n",
              "    <tr>\n",
              "      <th>4</th>\n",
              "      <td>0ა</td>\n",
              "      <td>2320</td>\n",
              "      <td>649</td>\n",
              "      <td>498</td>\n",
              "      <td>1285</td>\n",
              "      <td>IMG_20230219_144541.jpg</td>\n",
              "      <td>4608</td>\n",
              "      <td>3456</td>\n",
              "    </tr>\n",
              "    <tr>\n",
              "      <th>5</th>\n",
              "      <td>10ლ</td>\n",
              "      <td>2806</td>\n",
              "      <td>649</td>\n",
              "      <td>918</td>\n",
              "      <td>1292</td>\n",
              "      <td>IMG_20230219_144541.jpg</td>\n",
              "      <td>4608</td>\n",
              "      <td>3456</td>\n",
              "    </tr>\n",
              "    <tr>\n",
              "      <th>6</th>\n",
              "      <td>8ი</td>\n",
              "      <td>3691</td>\n",
              "      <td>643</td>\n",
              "      <td>531</td>\n",
              "      <td>1298</td>\n",
              "      <td>IMG_20230219_144541.jpg</td>\n",
              "      <td>4608</td>\n",
              "      <td>3456</td>\n",
              "    </tr>\n",
              "  </tbody>\n",
              "</table>\n",
              "</div>\n",
              "      <button class=\"colab-df-convert\" onclick=\"convertToInteractive('df-80b6ac58-275a-4bf4-a7fa-b5893ddb3632')\"\n",
              "              title=\"Convert this dataframe to an interactive table.\"\n",
              "              style=\"display:none;\">\n",
              "        \n",
              "  <svg xmlns=\"http://www.w3.org/2000/svg\" height=\"24px\"viewBox=\"0 0 24 24\"\n",
              "       width=\"24px\">\n",
              "    <path d=\"M0 0h24v24H0V0z\" fill=\"none\"/>\n",
              "    <path d=\"M18.56 5.44l.94 2.06.94-2.06 2.06-.94-2.06-.94-.94-2.06-.94 2.06-2.06.94zm-11 1L8.5 8.5l.94-2.06 2.06-.94-2.06-.94L8.5 2.5l-.94 2.06-2.06.94zm10 10l.94 2.06.94-2.06 2.06-.94-2.06-.94-.94-2.06-.94 2.06-2.06.94z\"/><path d=\"M17.41 7.96l-1.37-1.37c-.4-.4-.92-.59-1.43-.59-.52 0-1.04.2-1.43.59L10.3 9.45l-7.72 7.72c-.78.78-.78 2.05 0 2.83L4 21.41c.39.39.9.59 1.41.59.51 0 1.02-.2 1.41-.59l7.78-7.78 2.81-2.81c.8-.78.8-2.07 0-2.86zM5.41 20L4 18.59l7.72-7.72 1.47 1.35L5.41 20z\"/>\n",
              "  </svg>\n",
              "      </button>\n",
              "      \n",
              "  <style>\n",
              "    .colab-df-container {\n",
              "      display:flex;\n",
              "      flex-wrap:wrap;\n",
              "      gap: 12px;\n",
              "    }\n",
              "\n",
              "    .colab-df-convert {\n",
              "      background-color: #E8F0FE;\n",
              "      border: none;\n",
              "      border-radius: 50%;\n",
              "      cursor: pointer;\n",
              "      display: none;\n",
              "      fill: #1967D2;\n",
              "      height: 32px;\n",
              "      padding: 0 0 0 0;\n",
              "      width: 32px;\n",
              "    }\n",
              "\n",
              "    .colab-df-convert:hover {\n",
              "      background-color: #E2EBFA;\n",
              "      box-shadow: 0px 1px 2px rgba(60, 64, 67, 0.3), 0px 1px 3px 1px rgba(60, 64, 67, 0.15);\n",
              "      fill: #174EA6;\n",
              "    }\n",
              "\n",
              "    [theme=dark] .colab-df-convert {\n",
              "      background-color: #3B4455;\n",
              "      fill: #D2E3FC;\n",
              "    }\n",
              "\n",
              "    [theme=dark] .colab-df-convert:hover {\n",
              "      background-color: #434B5C;\n",
              "      box-shadow: 0px 1px 3px 1px rgba(0, 0, 0, 0.15);\n",
              "      filter: drop-shadow(0px 1px 2px rgba(0, 0, 0, 0.3));\n",
              "      fill: #FFFFFF;\n",
              "    }\n",
              "  </style>\n",
              "\n",
              "      <script>\n",
              "        const buttonEl =\n",
              "          document.querySelector('#df-80b6ac58-275a-4bf4-a7fa-b5893ddb3632 button.colab-df-convert');\n",
              "        buttonEl.style.display =\n",
              "          google.colab.kernel.accessAllowed ? 'block' : 'none';\n",
              "\n",
              "        async function convertToInteractive(key) {\n",
              "          const element = document.querySelector('#df-80b6ac58-275a-4bf4-a7fa-b5893ddb3632');\n",
              "          const dataTable =\n",
              "            await google.colab.kernel.invokeFunction('convertToInteractive',\n",
              "                                                     [key], {});\n",
              "          if (!dataTable) return;\n",
              "\n",
              "          const docLinkHtml = 'Like what you see? Visit the ' +\n",
              "            '<a target=\"_blank\" href=https://colab.research.google.com/notebooks/data_table.ipynb>data table notebook</a>'\n",
              "            + ' to learn more about interactive tables.';\n",
              "          element.innerHTML = '';\n",
              "          dataTable['output_type'] = 'display_data';\n",
              "          await google.colab.output.renderOutput(dataTable, element);\n",
              "          const docLink = document.createElement('div');\n",
              "          docLink.innerHTML = docLinkHtml;\n",
              "          element.appendChild(docLink);\n",
              "        }\n",
              "      </script>\n",
              "    </div>\n",
              "  </div>\n",
              "  "
            ]
          },
          "metadata": {},
          "execution_count": 52
        }
      ]
    },
    {
      "cell_type": "code",
      "source": [
        "!mkdir cropped_images_for_prediction"
      ],
      "metadata": {
        "id": "SSftwZD5-0-r"
      },
      "execution_count": 62,
      "outputs": []
    },
    {
      "cell_type": "code",
      "source": [
        "source_folder = 'georgian-letters-photo-database/georgian_letters_image_database/for_prediction/'\n",
        "target_name = 'label_coordinates_pred'\n",
        "\n",
        "to_extract_coordinates(source_folder, target_name)\n",
        "df_pred = pd.read_csv(target_name + '.csv')\n"
      ],
      "metadata": {
        "id": "IJYb4noe-1BT"
      },
      "execution_count": 64,
      "outputs": []
    },
    {
      "cell_type": "code",
      "source": [
        "# the folder where images locate\n",
        "source_folder_pred = 'georgian-letters-photo-database/georgian_letters_image_database/for_prediction/'\n",
        "\n",
        "# the folder where cropped images will be saved\n",
        "target_folder_pred = 'cropped_images_for_prediction/'\n",
        "\n",
        "to_crop_letters(df_pred, source_folder_pred, target_folder_pred)"
      ],
      "metadata": {
        "colab": {
          "base_uri": "https://localhost:8080/"
        },
        "id": "-u0FSsEV-1D1",
        "outputId": "e4c1ee51-f62c-4a51-ab8d-e09d4ab18099"
      },
      "execution_count": 65,
      "outputs": [
        {
          "output_type": "execute_result",
          "data": {
            "text/plain": [
              "1"
            ]
          },
          "metadata": {},
          "execution_count": 65
        }
      ]
    },
    {
      "cell_type": "code",
      "source": [],
      "metadata": {
        "id": "Qd180CuE-1GO"
      },
      "execution_count": null,
      "outputs": []
    },
    {
      "cell_type": "code",
      "source": [
        "# dictionary of Georgian alphabet\n",
        "\n",
        "df = pd.read_csv('label_coordinates.csv')\n",
        "letter_names = list(set(list(df['letter_name'])))\n",
        "\n",
        "geo_dict = {}\n",
        "for letter_name in letter_names:\n",
        "    geo_dict[int(letter_name[:-1])] = letter_name[-1]\n",
        "\n",
        "print(geo_dict)"
      ],
      "metadata": {
        "colab": {
          "base_uri": "https://localhost:8080/"
        },
        "id": "hlGZGt1oiyFv",
        "outputId": "4d4d6ff5-c29a-4d72-b1bb-2c056add906f"
      },
      "execution_count": 73,
      "outputs": [
        {
          "output_type": "stream",
          "name": "stdout",
          "text": [
            "{28: 'წ', 0: 'ა', 24: 'შ', 22: 'ღ', 3: 'დ', 10: 'ლ', 20: 'ფ', 32: 'ჰ', 4: 'ე', 14: 'პ', 6: 'ზ', 17: 'ს', 18: 'ტ', 2: 'გ', 13: 'ო', 12: 'ნ', 30: 'ხ', 25: 'ჩ', 7: 'თ', 5: 'ვ', 26: 'ც', 21: 'ქ', 9: 'კ', 29: 'ჭ', 16: 'რ', 11: 'მ', 19: 'უ', 1: 'ბ', 15: 'ჟ', 8: 'ი', 31: 'ჯ', 23: 'ყ', 27: 'ძ'}\n"
          ]
        }
      ]
    },
    {
      "cell_type": "code",
      "source": [],
      "metadata": {
        "id": "qZLm2JCniyIb"
      },
      "execution_count": null,
      "outputs": []
    },
    {
      "cell_type": "markdown",
      "source": [
        "based on: https://data-flair.training/blogs/handwritten-character-recognition-neural-network/"
      ],
      "metadata": {
        "id": "OS2G0zkuhe_T"
      }
    },
    {
      "cell_type": "code",
      "source": [
        "# example for 'ა'\n",
        "\n",
        "img_url = '/content/cropped_images_for_prediction/IMG_20230219_144541_ა_1.jpg'\n",
        "# ok\n",
        "# img_url = '/content/cropped_images_for_prediction/IMG_20230219_144541_ი_1.jpg'\n",
        "# not ok\n",
        "# img_url = '/content/cropped_images_for_prediction/IMG_20230219_144541_ი_2.jpg'\n",
        "# not ok\n",
        "# img_url = '/content/cropped_images_for_prediction/IMG_20230219_144541_კ_1.jpg'\n",
        "# not ok\n",
        "# img_url = '/content/cropped_images_for_prediction/IMG_20230219_144541_ლ_1.jpg'\n",
        "# not ok\n",
        "# img_url = '/content/cropped_images_for_prediction/IMG_20230219_144541_ნ_1.jpg'\n",
        "# not ok\n",
        "# img_url = '/content/cropped_images_for_prediction/IMG_20230219_144541_ხ_1.jpg'\n",
        "# not ok\n",
        "\n",
        "pred_img = cv2.imread(img_url)\n",
        "img_final = np.reshape(pred_img, (3,150,100,1))\n",
        "\n",
        "print(\"The letter on the image is {0}\".format(geo_dict[np.argmax(model.predict(img_final))]))\n"
      ],
      "metadata": {
        "colab": {
          "base_uri": "https://localhost:8080/"
        },
        "id": "QLWh3PjQhOyd",
        "outputId": "a77e5e08-69e7-4bb5-988c-ca2dbe04e981"
      },
      "execution_count": 86,
      "outputs": [
        {
          "output_type": "stream",
          "name": "stdout",
          "text": [
            "1/1 [==============================] - 0s 30ms/step\n",
            "The letter on the image is ა\n"
          ]
        }
      ]
    },
    {
      "cell_type": "code",
      "source": [
        "from google.colab.patches import cv2_imshow\n",
        "\n",
        "img_final = np.reshape(pred_img, (3,150,100,1))\n",
        "\n",
        "img_pred = geo_dict[np.argmax(model.predict(img_final))]\n",
        "\n",
        "# # cv2.putText(img, \"Dataflair _ _ _ \", (20,25), cv2.FONT_HERSHEY_TRIPLEX, 0.7, color = (0,0,230))\n",
        "cv2.putText(pred_img, \"Prediction: \" + img_pred, (20,410), cv2.FONT_HERSHEY_DUPLEX, 1.3, color = (255,0,30))\n",
        "cv2_imshow(pred_img)\n"
      ],
      "metadata": {
        "colab": {
          "base_uri": "https://localhost:8080/",
          "height": 185
        },
        "id": "kwwcAhxehO1O",
        "outputId": "6ad6fef5-b3ce-4838-a095-6e6356d33440"
      },
      "execution_count": 77,
      "outputs": [
        {
          "output_type": "stream",
          "name": "stdout",
          "text": [
            "1/1 [==============================] - 0s 43ms/step\n"
          ]
        },
        {
          "output_type": "display_data",
          "data": {
            "text/plain": [
              "<PIL.Image.Image image mode=RGB size=100x150 at 0x7F9A74B00580>"
            ],
            "image/png": "[encoded data removed]"
          },
          "metadata": {}
        }
      ]
    },
    {
      "cell_type": "code",
      "source": [],
      "metadata": {
        "id": "hSg_WUhp-1IR"
      },
      "execution_count": null,
      "outputs": []
    },
    {
      "cell_type": "markdown",
      "source": [
        "# **What to do next:**"
      ],
      "metadata": {
        "id": "fKxhzaeDxl5G"
      }
    },
    {
      "cell_type": "markdown",
      "source": [
        "\n",
        "  - **TO CHECK ALL THE LABELS ON ALL THE PHOTOS -- THERE ARE MISTAKES**\n",
        "  <!-- - to view the cropped dataset and remove noisy images (totally black and so on) or maybe to change threshold for black/white masking -->\n",
        "  - to top up the dataset\n",
        "  - to fix validation curves on graphics\n",
        "  - **TO VISUALIZE A PREDICTION**"
      ],
      "metadata": {
        "id": "1CVGqX5TwlcK"
      }
    },
    {
      "cell_type": "code",
      "source": [],
      "metadata": {
        "id": "HqaW4O7dkkML"
      },
      "execution_count": null,
      "outputs": []
    },
    {
      "cell_type": "code",
      "source": [],
      "metadata": {
        "id": "WETnC5TbjLSo"
      },
      "execution_count": null,
      "outputs": []
    },
    {
      "cell_type": "markdown",
      "source": [
        "Downloading the cropped images:"
      ],
      "metadata": {
        "id": "oOwi3tzUyQpB"
      }
    },
    {
      "cell_type": "code",
      "source": [
        "# Downloading the cropped images:\n",
        "\n",
        "# !zip -r /content/cropped_images.zip /content/cropped_images\n",
        "\n",
        "# from google.colab import files\n",
        "# files.download(\"/content/cropped_images.zip\")"
      ],
      "metadata": {
        "id": "0RnkwTFXjLVp"
      },
      "execution_count": 108,
      "outputs": []
    },
    {
      "cell_type": "code",
      "source": [
        "# !zip -r /content/grouped_images.zip /content/grouped_images\n",
        "\n",
        "# from google.colab import files\n",
        "# files.download(\"/content/grouped_images.zip\")"
      ],
      "metadata": {
        "id": "pno_IfxokkOh"
      },
      "execution_count": null,
      "outputs": []
    },
    {
      "cell_type": "code",
      "source": [],
      "metadata": {
        "id": "dEn4Xsr_ybO2"
      },
      "execution_count": null,
      "outputs": []
    },
    {
      "cell_type": "code",
      "source": [],
      "metadata": {
        "id": "CEuEi_mLybRc"
      },
      "execution_count": null,
      "outputs": []
    },
    {
      "cell_type": "markdown",
      "source": [
        "# **===== DRAFTS =====**"
      ],
      "metadata": {
        "id": "DlZSXLP3ukHA"
      }
    },
    {
      "cell_type": "code",
      "source": [
        "from google.colab.patches import cv2_imshow\n"
      ],
      "metadata": {
        "id": "1t5w_Wmsu8bw"
      },
      "execution_count": 79,
      "outputs": []
    },
    {
      "cell_type": "code",
      "source": [
        "img_test = cv2.imread(\"/content/cropped_images/IMG_20230212_163114_ე_1.jpg\")\n",
        "\n",
        "cv2_imshow(img_test)\n"
      ],
      "metadata": {
        "colab": {
          "base_uri": "https://localhost:8080/",
          "height": 317
        },
        "id": "d0GzP-O3kkQ5",
        "outputId": "8070a790-8295-44cc-a2d5-5e820d996e38"
      },
      "execution_count": 51,
      "outputs": [
        {
          "output_type": "display_data",
          "data": {
            "text/plain": [
              "<PIL.Image.Image image mode=RGB size=200x300 at 0x7F267C697B50>"
            ],
            "image/png": "[encoded data removed]"
          },
          "metadata": {}
        }
      ]
    },
    {
      "cell_type": "code",
      "source": [
        "cv2_imshow(invert_image(img_test))\n"
      ],
      "metadata": {
        "colab": {
          "base_uri": "https://localhost:8080/",
          "height": 317
        },
        "id": "eiTwFUytqNzC",
        "outputId": "c6bc3560-261c-4b1f-c11e-7323ebd0df21"
      },
      "execution_count": 75,
      "outputs": [
        {
          "output_type": "display_data",
          "data": {
            "text/plain": [
              "<PIL.Image.Image image mode=RGB size=200x300 at 0x7F266C2838E0>"
            ],
            "image/png": "[encoded data removed]"
          },
          "metadata": {}
        }
      ]
    },
    {
      "cell_type": "code",
      "source": [],
      "metadata": {
        "id": "pRgw_FE_qN1m"
      },
      "execution_count": null,
      "outputs": []
    },
    {
      "cell_type": "code",
      "source": [
        "x = []\n",
        "img = Image.open('grouped_images/train/ა/IMG_20220404_150259_ა_1.jpg')\n",
        "img.load()\n",
        "data = np.asarray(img, dtype=\"int32\")\n",
        "x.append(data)\n",
        "x = np.array(x)\n",
        "print(x.shape)"
      ],
      "metadata": {
        "colab": {
          "base_uri": "https://localhost:8080/"
        },
        "id": "vAfGMKkTnCy3",
        "outputId": "e11147eb-f040-4db3-deb5-088a6f33ed26"
      },
      "execution_count": 226,
      "outputs": [
        {
          "output_type": "stream",
          "name": "stdout",
          "text": [
            "(1, 150, 100)\n"
          ]
        }
      ]
    },
    {
      "cell_type": "code",
      "source": [],
      "metadata": {
        "id": "bZQ1v9VCTyZ8"
      },
      "execution_count": null,
      "outputs": []
    },
    {
      "cell_type": "code",
      "source": [],
      "metadata": {
        "id": "YWxRwNLmTyct"
      },
      "execution_count": null,
      "outputs": []
    },
    {
      "cell_type": "code",
      "source": [],
      "metadata": {
        "id": "7JgVdtT7Tyfl"
      },
      "execution_count": null,
      "outputs": []
    },
    {
      "cell_type": "code",
      "source": [
        "# threshold\n",
        "thresh = cv2.threshold(img_test, 180, 255, cv2.THRESH_BINARY)[1]\n",
        "\n",
        "# count number of white pixels\n",
        "mean = np.mean(img_test)\n",
        "print(\"mean =\", mean)\n",
        "\n",
        "mean_masked = np.mean(img_test[np.where(thresh == 255)])\n",
        "print(\"masked mean =\", mean_masked)\n"
      ],
      "metadata": {
        "colab": {
          "base_uri": "https://localhost:8080/"
        },
        "id": "MZuc0YOOl0yd",
        "outputId": "30a19f3e-2864-4b0d-ce2c-9a6f45541f5d"
      },
      "execution_count": 53,
      "outputs": [
        {
          "output_type": "stream",
          "name": "stdout",
          "text": [
            "mean = 136.24663333333334\n",
            "masked mean = 215.07470801449858\n"
          ]
        }
      ]
    },
    {
      "cell_type": "code",
      "source": [
        "# write thresh to disk\n",
        "cv2.imwrite(\"gray_with_spots_thresh.png\", thresh)\n",
        "\n",
        "# display it\n",
        "cv2_imshow(thresh)\n",
        "cv2.waitKey(0)"
      ],
      "metadata": {
        "colab": {
          "base_uri": "https://localhost:8080/",
          "height": 335
        },
        "id": "3o2WpDdEl000",
        "outputId": "db92e099-5c80-438e-e6a1-64986a3cbcbe"
      },
      "execution_count": 56,
      "outputs": [
        {
          "output_type": "display_data",
          "data": {
            "text/plain": [
              "<PIL.Image.Image image mode=RGB size=200x300 at 0x7F267C5F9D00>"
            ],
            "image/png": "[encoded data removed]"
          },
          "metadata": {}
        },
        {
          "output_type": "execute_result",
          "data": {
            "text/plain": [
              "-1"
            ]
          },
          "metadata": {},
          "execution_count": 56
        }
      ]
    },
    {
      "cell_type": "code",
      "source": [],
      "metadata": {
        "id": "WpaFN_QlkkVV"
      },
      "execution_count": null,
      "outputs": []
    },
    {
      "cell_type": "code",
      "source": [],
      "metadata": {
        "id": "FNpK3qTTkkX6"
      },
      "execution_count": null,
      "outputs": []
    },
    {
      "cell_type": "code",
      "source": [],
      "metadata": {
        "id": "tmPdQLNbK_kq"
      },
      "execution_count": null,
      "outputs": []
    },
    {
      "cell_type": "code",
      "source": [],
      "metadata": {
        "id": "uBSgKcaPK_nC"
      },
      "execution_count": null,
      "outputs": []
    },
    {
      "cell_type": "code",
      "source": [
        "# #creating two dir for training and testing\n",
        "# !mkdir test_labels train_labels\n",
        "\n",
        "# # lists the files inside 'annotations' in a random order (not really random, by their hash value instead)\n",
        "# # Moves the first 274/1370 labels (20% of the labels) to the testing dir: `test_labels`\n",
        "# !ls annotations/* | sort -R | head -274 | xargs -I{} mv {} test_labels/\n",
        "\n",
        "# # Moves the rest of the labels ( 1096 labels ) to the training dir: `train_labels`\n",
        "# !ls annotations/* | xargs -I{} mv {} train_labels/"
      ],
      "metadata": {
        "id": "6SMfjBANv-XZ"
      },
      "execution_count": null,
      "outputs": []
    },
    {
      "cell_type": "code",
      "source": [
        "#creating two dir for training and testing\n",
        "!mkdir test_labels train_labels"
      ],
      "metadata": {
        "id": "yzNsH5fzv-Ze"
      },
      "execution_count": 6,
      "outputs": []
    },
    {
      "cell_type": "code",
      "source": [
        "#creating two dir for training and testing\n",
        "!mkdir test train"
      ],
      "metadata": {
        "id": "iwCz_3jv_CGq"
      },
      "execution_count": 11,
      "outputs": []
    },
    {
      "cell_type": "code",
      "source": [
        "# 86 * 0.2"
      ],
      "metadata": {
        "colab": {
          "base_uri": "https://localhost:8080/"
        },
        "id": "YFaH4GwC7X8M",
        "outputId": "157973a2-cd8a-4a3c-bee2-6a716fa5fdb0"
      },
      "execution_count": 7,
      "outputs": [
        {
          "output_type": "execute_result",
          "data": {
            "text/plain": [
              "17.2"
            ]
          },
          "metadata": {},
          "execution_count": 7
        }
      ]
    },
    {
      "cell_type": "code",
      "source": [
        "# Moves the first 51/86 labels (20% of the labels) to the testing dir: `test_labels`\n",
        "!ls georgian-letters-photo-database/* | head -51 | xargs -I{} mv {} test/\n",
        "\n",
        "# to cancel:\n",
        "# !ls test/* | xargs -I{} mv {} georgian-letters-photo-database/"
      ],
      "metadata": {
        "id": "MpBOQJ08v-b0"
      },
      "execution_count": 10,
      "outputs": []
    },
    {
      "cell_type": "code",
      "source": [
        "!ls georgian-letters-photo-database/* | xargs -I{} mv {} train/"
      ],
      "metadata": {
        "id": "scSR7lhx_KRX"
      },
      "execution_count": 13,
      "outputs": []
    },
    {
      "cell_type": "code",
      "source": [],
      "metadata": {
        "id": "tECCjx5j_PvM"
      },
      "execution_count": null,
      "outputs": []
    }
  ]
}