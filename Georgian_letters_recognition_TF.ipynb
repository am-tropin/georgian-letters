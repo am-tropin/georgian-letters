{
  "nbformat": 4,
  "nbformat_minor": 0,
  "metadata": {
    "colab": {
      "provenance": [],
      "authorship_tag": "ABX9TyPYdSNShzeuXflbG2ta/QLB",
      "include_colab_link": true
    },
    "kernelspec": {
      "name": "python3",
      "display_name": "Python 3"
    },
    "language_info": {
      "name": "python"
    }
  },
  "cells": [
    {
      "cell_type": "markdown",
      "metadata": {
        "id": "view-in-github",
        "colab_type": "text"
      },
      "source": [
        "<a href=\"https://colab.research.google.com/github/am-tropin/georgian-letters-trainer/blob/main/Georgian_letters_recognition_TF.ipynb\" target=\"_parent\"><img src=\"https://colab.research.google.com/assets/colab-badge.svg\" alt=\"Open In Colab\"/></a>"
      ]
    },
    {
      "cell_type": "code",
      "execution_count": null,
      "metadata": {
        "id": "2eo1-747dOUA"
      },
      "outputs": [],
      "source": []
    },
    {
      "cell_type": "markdown",
      "source": [
        "# **Step 1. Choose a dataset**"
      ],
      "metadata": {
        "id": "RKMZJmvx7grN"
      }
    },
    {
      "cell_type": "code",
      "source": [
        "!pip install pandas"
      ],
      "metadata": {
        "colab": {
          "base_uri": "https://localhost:8080/"
        },
        "id": "foT7cCnQv-N1",
        "outputId": "697d472e-7900-4965-90ad-19962a0a8e49"
      },
      "execution_count": 1,
      "outputs": [
        {
          "output_type": "stream",
          "name": "stdout",
          "text": [
            "Looking in indexes: https://pypi.org/simple, https://us-python.pkg.dev/colab-wheels/public/simple/\n",
            "Requirement already satisfied: pandas in /usr/local/lib/python3.8/dist-packages (1.3.5)\n",
            "Requirement already satisfied: numpy>=1.17.3 in /usr/local/lib/python3.8/dist-packages (from pandas) (1.21.6)\n",
            "Requirement already satisfied: pytz>=2017.3 in /usr/local/lib/python3.8/dist-packages (from pandas) (2022.7.1)\n",
            "Requirement already satisfied: python-dateutil>=2.7.3 in /usr/local/lib/python3.8/dist-packages (from pandas) (2.8.2)\n",
            "Requirement already satisfied: six>=1.5 in /usr/local/lib/python3.8/dist-packages (from python-dateutil>=2.7.3->pandas) (1.15.0)\n"
          ]
        }
      ]
    },
    {
      "cell_type": "code",
      "source": [
        "!pip install opendatasets"
      ],
      "metadata": {
        "colab": {
          "base_uri": "https://localhost:8080/"
        },
        "id": "1u1vpkQdwJix",
        "outputId": "26ebcb53-d09b-4331-e2cb-8af39fd60ed8"
      },
      "execution_count": 2,
      "outputs": [
        {
          "output_type": "stream",
          "name": "stdout",
          "text": [
            "Looking in indexes: https://pypi.org/simple, https://us-python.pkg.dev/colab-wheels/public/simple/\n",
            "Collecting opendatasets\n",
            "  Downloading opendatasets-0.1.22-py3-none-any.whl (15 kB)\n",
            "Requirement already satisfied: click in /usr/local/lib/python3.8/dist-packages (from opendatasets) (7.1.2)\n",
            "Requirement already satisfied: tqdm in /usr/local/lib/python3.8/dist-packages (from opendatasets) (4.64.1)\n",
            "Requirement already satisfied: kaggle in /usr/local/lib/python3.8/dist-packages (from opendatasets) (1.5.12)\n",
            "Requirement already satisfied: requests in /usr/local/lib/python3.8/dist-packages (from kaggle->opendatasets) (2.25.1)\n",
            "Requirement already satisfied: urllib3 in /usr/local/lib/python3.8/dist-packages (from kaggle->opendatasets) (1.24.3)\n",
            "Requirement already satisfied: python-slugify in /usr/local/lib/python3.8/dist-packages (from kaggle->opendatasets) (8.0.0)\n",
            "Requirement already satisfied: python-dateutil in /usr/local/lib/python3.8/dist-packages (from kaggle->opendatasets) (2.8.2)\n",
            "Requirement already satisfied: certifi in /usr/local/lib/python3.8/dist-packages (from kaggle->opendatasets) (2022.12.7)\n",
            "Requirement already satisfied: six>=1.10 in /usr/local/lib/python3.8/dist-packages (from kaggle->opendatasets) (1.15.0)\n",
            "Requirement already satisfied: text-unidecode>=1.3 in /usr/local/lib/python3.8/dist-packages (from python-slugify->kaggle->opendatasets) (1.3)\n",
            "Requirement already satisfied: idna<3,>=2.5 in /usr/local/lib/python3.8/dist-packages (from requests->kaggle->opendatasets) (2.10)\n",
            "Requirement already satisfied: chardet<5,>=3.0.2 in /usr/local/lib/python3.8/dist-packages (from requests->kaggle->opendatasets) (4.0.0)\n",
            "Installing collected packages: opendatasets\n",
            "Successfully installed opendatasets-0.1.22\n"
          ]
        }
      ]
    },
    {
      "cell_type": "code",
      "source": [
        "import opendatasets as od\n",
        "\n",
        "od.download(\"https://www.kaggle.com/datasets/alexandertropin/georgian-letters-photo-database\")"
      ],
      "metadata": {
        "colab": {
          "base_uri": "https://localhost:8080/"
        },
        "id": "dqcyk4Qpv-S9",
        "outputId": "1559589e-15d5-45a3-efc1-e20014ed49bc"
      },
      "execution_count": 3,
      "outputs": [
        {
          "output_type": "stream",
          "name": "stdout",
          "text": [
            "Please provide your Kaggle credentials to download this dataset. Learn more: http://bit.ly/kaggle-creds\n",
            "Your Kaggle username: alexandertropin\n",
            "Your Kaggle Key: ··········\n",
            "Downloading georgian-letters-photo-database.zip to ./georgian-letters-photo-database\n"
          ]
        },
        {
          "output_type": "stream",
          "name": "stderr",
          "text": [
            "100%|██████████| 333M/333M [00:03<00:00, 106MB/s]\n"
          ]
        },
        {
          "output_type": "stream",
          "name": "stdout",
          "text": [
            "\n"
          ]
        }
      ]
    },
    {
      "cell_type": "code",
      "source": [
        "# remove all .txt files\n",
        "\n",
        "import os\n",
        "import glob\n",
        "\n",
        "fileList = glob.glob('georgian-letters-photo-database/*.txt')\n",
        "\n",
        "for filePath in fileList:\n",
        "    os.remove(filePath)"
      ],
      "metadata": {
        "id": "us7nztY1v-VG"
      },
      "execution_count": 4,
      "outputs": []
    },
    {
      "cell_type": "code",
      "source": [],
      "metadata": {
        "id": "D2sk9ayGayOF"
      },
      "execution_count": null,
      "outputs": []
    },
    {
      "cell_type": "markdown",
      "source": [
        "# **Step 2. To chop up the letters**"
      ],
      "metadata": {
        "id": "_5h7ZP70uVP8"
      }
    },
    {
      "cell_type": "code",
      "source": [
        "import cv2\n",
        "import pandas as pd\n",
        "import numpy as np\n",
        "\n",
        "import sys, random\n",
        "import xml.etree.ElementTree as ET\n",
        "from shutil import copyfile"
      ],
      "metadata": {
        "id": "XSEATm2i1FW-"
      },
      "execution_count": 5,
      "outputs": []
    },
    {
      "cell_type": "code",
      "source": [
        "# https://github.com/Shenggan/BCCD_Dataset/blob/master/export.py\n",
        "\n",
        "annotations = glob.glob('georgian-letters-photo-database/*.xml')\n",
        "\n",
        "df = []\n",
        "cnt = 0\n",
        "\n",
        "for file in annotations:\n",
        "    filename = file.split('/')[-1].split('.')[0] + '.jpg'\n",
        "    row = []\n",
        "    parsedXML = ET.parse(file)\n",
        "    for node in parsedXML.getroot().iter('object'):\n",
        "        letters = node.find('name').text\n",
        "        xmin = int(node.find('bndbox/xmin').text)\n",
        "        xmax = int(node.find('bndbox/xmax').text)\n",
        "        ymin = int(node.find('bndbox/ymin').text)\n",
        "        ymax = int(node.find('bndbox/ymax').text)\n",
        "\n",
        "        row = [filename, letters, xmin, xmax, ymin, ymax]\n",
        "        df.append(row)\n",
        "        cnt += 1\n",
        "\n",
        "data = pd.DataFrame(df, columns=['filename', 'letter_name', 'xmin', 'xmax', 'ymin', 'ymax'])\n",
        "\n",
        "data[['filename', 'letter_name', 'xmin', 'xmax', 'ymin', 'ymax']].to_csv('test.csv', index=False)"
      ],
      "metadata": {
        "id": "TkTurZgm18uu"
      },
      "execution_count": 6,
      "outputs": []
    },
    {
      "cell_type": "code",
      "source": [
        "df = pd.read_csv('test.csv')\n",
        "df.head()"
      ],
      "metadata": {
        "colab": {
          "base_uri": "https://localhost:8080/",
          "height": 206
        },
        "id": "pUvgWbgt1FZ4",
        "outputId": "7ce9b244-553c-4812-9de6-a2aeb55a830b"
      },
      "execution_count": 7,
      "outputs": [
        {
          "output_type": "execute_result",
          "data": {
            "text/plain": [
              "                  filename letter_name  xmin  xmax  ymin  ymax\n",
              "0  IMG_20230213_212214.jpg         18ტ   578   841  1167  1520\n",
              "1  IMG_20230213_212214.jpg         19უ   812  1029  1187  1475\n",
              "2  IMG_20230213_212214.jpg         16რ  1006  1220  1187  1501\n",
              "3  IMG_20230213_212214.jpg          1ბ  1197  1401  1190  1498\n",
              "4  IMG_20230213_212214.jpg         13ო  1385  1689  1206  1511"
            ],
            "text/html": [
              "\n",
              "  <div id=\"df-19d7ec35-b852-47c5-9ae8-0e25b06e5035\">\n",
              "    <div class=\"colab-df-container\">\n",
              "      <div>\n",
              "<style scoped>\n",
              "    .dataframe tbody tr th:only-of-type {\n",
              "        vertical-align: middle;\n",
              "    }\n",
              "\n",
              "    .dataframe tbody tr th {\n",
              "        vertical-align: top;\n",
              "    }\n",
              "\n",
              "    .dataframe thead th {\n",
              "        text-align: right;\n",
              "    }\n",
              "</style>\n",
              "<table border=\"1\" class=\"dataframe\">\n",
              "  <thead>\n",
              "    <tr style=\"text-align: right;\">\n",
              "      <th></th>\n",
              "      <th>filename</th>\n",
              "      <th>letter_name</th>\n",
              "      <th>xmin</th>\n",
              "      <th>xmax</th>\n",
              "      <th>ymin</th>\n",
              "      <th>ymax</th>\n",
              "    </tr>\n",
              "  </thead>\n",
              "  <tbody>\n",
              "    <tr>\n",
              "      <th>0</th>\n",
              "      <td>IMG_20230213_212214.jpg</td>\n",
              "      <td>18ტ</td>\n",
              "      <td>578</td>\n",
              "      <td>841</td>\n",
              "      <td>1167</td>\n",
              "      <td>1520</td>\n",
              "    </tr>\n",
              "    <tr>\n",
              "      <th>1</th>\n",
              "      <td>IMG_20230213_212214.jpg</td>\n",
              "      <td>19უ</td>\n",
              "      <td>812</td>\n",
              "      <td>1029</td>\n",
              "      <td>1187</td>\n",
              "      <td>1475</td>\n",
              "    </tr>\n",
              "    <tr>\n",
              "      <th>2</th>\n",
              "      <td>IMG_20230213_212214.jpg</td>\n",
              "      <td>16რ</td>\n",
              "      <td>1006</td>\n",
              "      <td>1220</td>\n",
              "      <td>1187</td>\n",
              "      <td>1501</td>\n",
              "    </tr>\n",
              "    <tr>\n",
              "      <th>3</th>\n",
              "      <td>IMG_20230213_212214.jpg</td>\n",
              "      <td>1ბ</td>\n",
              "      <td>1197</td>\n",
              "      <td>1401</td>\n",
              "      <td>1190</td>\n",
              "      <td>1498</td>\n",
              "    </tr>\n",
              "    <tr>\n",
              "      <th>4</th>\n",
              "      <td>IMG_20230213_212214.jpg</td>\n",
              "      <td>13ო</td>\n",
              "      <td>1385</td>\n",
              "      <td>1689</td>\n",
              "      <td>1206</td>\n",
              "      <td>1511</td>\n",
              "    </tr>\n",
              "  </tbody>\n",
              "</table>\n",
              "</div>\n",
              "      <button class=\"colab-df-convert\" onclick=\"convertToInteractive('df-19d7ec35-b852-47c5-9ae8-0e25b06e5035')\"\n",
              "              title=\"Convert this dataframe to an interactive table.\"\n",
              "              style=\"display:none;\">\n",
              "        \n",
              "  <svg xmlns=\"http://www.w3.org/2000/svg\" height=\"24px\"viewBox=\"0 0 24 24\"\n",
              "       width=\"24px\">\n",
              "    <path d=\"M0 0h24v24H0V0z\" fill=\"none\"/>\n",
              "    <path d=\"M18.56 5.44l.94 2.06.94-2.06 2.06-.94-2.06-.94-.94-2.06-.94 2.06-2.06.94zm-11 1L8.5 8.5l.94-2.06 2.06-.94-2.06-.94L8.5 2.5l-.94 2.06-2.06.94zm10 10l.94 2.06.94-2.06 2.06-.94-2.06-.94-.94-2.06-.94 2.06-2.06.94z\"/><path d=\"M17.41 7.96l-1.37-1.37c-.4-.4-.92-.59-1.43-.59-.52 0-1.04.2-1.43.59L10.3 9.45l-7.72 7.72c-.78.78-.78 2.05 0 2.83L4 21.41c.39.39.9.59 1.41.59.51 0 1.02-.2 1.41-.59l7.78-7.78 2.81-2.81c.8-.78.8-2.07 0-2.86zM5.41 20L4 18.59l7.72-7.72 1.47 1.35L5.41 20z\"/>\n",
              "  </svg>\n",
              "      </button>\n",
              "      \n",
              "  <style>\n",
              "    .colab-df-container {\n",
              "      display:flex;\n",
              "      flex-wrap:wrap;\n",
              "      gap: 12px;\n",
              "    }\n",
              "\n",
              "    .colab-df-convert {\n",
              "      background-color: #E8F0FE;\n",
              "      border: none;\n",
              "      border-radius: 50%;\n",
              "      cursor: pointer;\n",
              "      display: none;\n",
              "      fill: #1967D2;\n",
              "      height: 32px;\n",
              "      padding: 0 0 0 0;\n",
              "      width: 32px;\n",
              "    }\n",
              "\n",
              "    .colab-df-convert:hover {\n",
              "      background-color: #E2EBFA;\n",
              "      box-shadow: 0px 1px 2px rgba(60, 64, 67, 0.3), 0px 1px 3px 1px rgba(60, 64, 67, 0.15);\n",
              "      fill: #174EA6;\n",
              "    }\n",
              "\n",
              "    [theme=dark] .colab-df-convert {\n",
              "      background-color: #3B4455;\n",
              "      fill: #D2E3FC;\n",
              "    }\n",
              "\n",
              "    [theme=dark] .colab-df-convert:hover {\n",
              "      background-color: #434B5C;\n",
              "      box-shadow: 0px 1px 3px 1px rgba(0, 0, 0, 0.15);\n",
              "      filter: drop-shadow(0px 1px 2px rgba(0, 0, 0, 0.3));\n",
              "      fill: #FFFFFF;\n",
              "    }\n",
              "  </style>\n",
              "\n",
              "      <script>\n",
              "        const buttonEl =\n",
              "          document.querySelector('#df-19d7ec35-b852-47c5-9ae8-0e25b06e5035 button.colab-df-convert');\n",
              "        buttonEl.style.display =\n",
              "          google.colab.kernel.accessAllowed ? 'block' : 'none';\n",
              "\n",
              "        async function convertToInteractive(key) {\n",
              "          const element = document.querySelector('#df-19d7ec35-b852-47c5-9ae8-0e25b06e5035');\n",
              "          const dataTable =\n",
              "            await google.colab.kernel.invokeFunction('convertToInteractive',\n",
              "                                                     [key], {});\n",
              "          if (!dataTable) return;\n",
              "\n",
              "          const docLinkHtml = 'Like what you see? Visit the ' +\n",
              "            '<a target=\"_blank\" href=https://colab.research.google.com/notebooks/data_table.ipynb>data table notebook</a>'\n",
              "            + ' to learn more about interactive tables.';\n",
              "          element.innerHTML = '';\n",
              "          dataTable['output_type'] = 'display_data';\n",
              "          await google.colab.output.renderOutput(dataTable, element);\n",
              "          const docLink = document.createElement('div');\n",
              "          docLink.innerHTML = docLinkHtml;\n",
              "          element.appendChild(docLink);\n",
              "        }\n",
              "      </script>\n",
              "    </div>\n",
              "  </div>\n",
              "  "
            ]
          },
          "metadata": {},
          "execution_count": 7
        }
      ]
    },
    {
      "cell_type": "code",
      "source": [
        "def invert_image(img_test):\n",
        "    height, width = img_test.shape[:2]\n",
        "    border_delta = 0.02\n",
        "\n",
        "    # mean grayscale value\n",
        "    mean_image = np.mean(img_test)\n",
        "\n",
        "    # grayscale values near the borders\n",
        "    mean_left_border = np.mean(img_test[:, int(width*(1-border_delta)):width])\n",
        "    mean_right_border = np.mean(img_test[:, 0:int(width*border_delta)])\n",
        "    mean_upper_border = np.mean(img_test[0:int(height*border_delta), :])\n",
        "    mean_lower_border = np.mean(img_test[int(height*(1-border_delta)):height, :])\n",
        "\n",
        "    if mean_image > np.mean(np.array([mean_left_border, mean_right_border, mean_upper_border, mean_lower_border])):\n",
        "        return cv2.bitwise_not(img_test)\n",
        "    else:\n",
        "        return img_test\n"
      ],
      "metadata": {
        "id": "HI5VYgzWsP0L"
      },
      "execution_count": 8,
      "outputs": []
    },
    {
      "cell_type": "code",
      "source": [
        "!mkdir cropped_images\n"
      ],
      "metadata": {
        "id": "Auzxq0UB3eQ_"
      },
      "execution_count": 9,
      "outputs": []
    },
    {
      "cell_type": "code",
      "source": [
        "'''\n",
        "Creating a new dataset of images with singular letters.\n",
        "Grayscale. \n",
        "Resized to 100x150.\n",
        "Inverted (black <-> white) if the borders are darker than the image on the average\n",
        "'''\n",
        "\n",
        "letter_names = set(list(df['letter_name']))\n",
        "\n",
        "# a counter of letters within each image\n",
        "letter_counter = {}\n",
        "\n",
        "'''\n",
        "6 minutes for processing of a full dataset (86 images / 1302 letters)\n",
        "'''\n",
        "# REPLACE BACK df_short WITH df !!!!!!\n",
        "df_short = df #.head(100)\n",
        "for index, row in df_short.iterrows():\n",
        "    if row['filename'] in letter_counter.keys():\n",
        "        if row['letter_name'] in letter_counter[row['filename']].keys():\n",
        "            letter_counter[row['filename']][row['letter_name']] += 1\n",
        "        else:\n",
        "            letter_counter[row['filename']][row['letter_name']] = 1\n",
        "    else:\n",
        "        letter_counter[row['filename']] = {}\n",
        "        letter_counter[row['filename']][row['letter_name']] = 1\n",
        "\n",
        "    img = cv2.imread(\"georgian-letters-photo-database/\" + row['filename'])\n",
        "    crop_img = img[row['ymin']:row['ymax'], row['xmin']:row['xmax']]\n",
        "    crop_resize_img = cv2.resize(crop_img, (100, 150))\n",
        "    gray_crop_resize_img = cv2.cvtColor(crop_resize_img, cv2.COLOR_BGR2GRAY)\n",
        "    invert_img = invert_image(gray_crop_resize_img)\n",
        "    thresh_img = cv2.threshold(invert_img, 127, 255, cv2.THRESH_BINARY)[1]\n",
        "\n",
        "    cv2.imwrite('cropped_images/' + row['filename'][:-4] + '_' + row['letter_name'][-1] + '_' + str(letter_counter[row['filename']][row['letter_name']]) + '.jpg', thresh_img)\n"
      ],
      "metadata": {
        "id": "qk1VbcwFahCj"
      },
      "execution_count": 10,
      "outputs": []
    },
    {
      "cell_type": "code",
      "source": [
        "# files = glob.glob('cropped_images/*')\n",
        "# for f in files:\n",
        "#     os.remove(f)"
      ],
      "metadata": {
        "id": "CHwDbnNDahFK"
      },
      "execution_count": 45,
      "outputs": []
    },
    {
      "cell_type": "code",
      "source": [
        "# !rmdir croped_images"
      ],
      "metadata": {
        "id": "hwDXQRUOhz46"
      },
      "execution_count": 47,
      "outputs": []
    },
    {
      "cell_type": "code",
      "source": [
        "import re\n",
        "\n",
        "# path = \"cropped_images/\"\n",
        "dir_list = os.listdir(\"cropped_images/\")\n",
        "# ა_list = [d for d in dir_list if \"ა\" in d]\n",
        "letter_list = [re.findall(\"\\_(.)\\_\", d)[0] for d in dir_list if re.findall(\"\\_(.)\\_\", d)]\n"
      ],
      "metadata": {
        "id": "F04Rm_G0kkJp"
      },
      "execution_count": 11,
      "outputs": []
    },
    {
      "cell_type": "code",
      "source": [
        "# to detect the most frequent letters\n",
        "\n",
        "from collections import Counter\n",
        "\n",
        "letter_counter = Counter(letter_list)\n",
        "letter_counter.most_common()"
      ],
      "metadata": {
        "colab": {
          "base_uri": "https://localhost:8080/"
        },
        "id": "MIAIW9r2_QwS",
        "outputId": "c1c2d472-a770-4e2a-d198-dd3c96f5ac3a"
      },
      "execution_count": 12,
      "outputs": [
        {
          "output_type": "execute_result",
          "data": {
            "text/plain": [
              "[('ი', 105),\n",
              " ('ა', 99),\n",
              " ('რ', 87),\n",
              " ('ე', 79),\n",
              " ('ს', 74),\n",
              " ('ლ', 67),\n",
              " ('ნ', 63),\n",
              " ('ო', 62),\n",
              " ('ბ', 58),\n",
              " ('უ', 56),\n",
              " ('დ', 53),\n",
              " ('ვ', 50),\n",
              " ('მ', 50),\n",
              " ('ტ', 46),\n",
              " ('თ', 41),\n",
              " ('კ', 37),\n",
              " ('ფ', 35),\n",
              " ('გ', 34),\n",
              " ('ქ', 32),\n",
              " ('ხ', 26),\n",
              " ('შ', 22),\n",
              " ('ზ', 20),\n",
              " ('პ', 18),\n",
              " ('წ', 17),\n",
              " ('ც', 17),\n",
              " ('ჩ', 12),\n",
              " ('ყ', 11),\n",
              " ('ძ', 10),\n",
              " ('ღ', 9),\n",
              " ('ჟ', 5),\n",
              " ('ჯ', 4),\n",
              " ('ჭ', 2),\n",
              " ('ჰ', 1)]"
            ]
          },
          "metadata": {},
          "execution_count": 12
        }
      ]
    },
    {
      "cell_type": "markdown",
      "source": [
        "# **Step 3. To distribute the top of letters by separate folders**\n",
        "\n",
        "I will create folders for 8 most frequent letters and another one for the others."
      ],
      "metadata": {
        "id": "9eocgUva5YcE"
      }
    },
    {
      "cell_type": "code",
      "source": [
        "import shutil\n",
        "\n",
        "# src_path = r\"E:\\pynative\\reports\\sales.txt\" # source\n",
        "# dst_path = r\"E:\\pynative\\account\\sales.txt\" # destination\n",
        "# shutil.move(src_path, dst_path) # move\n",
        "# shutil.copyfile(src_path, dst_path) # copy"
      ],
      "metadata": {
        "id": "EryQj87EW28e"
      },
      "execution_count": 13,
      "outputs": []
    },
    {
      "cell_type": "code",
      "source": [
        "treshold = 60"
      ],
      "metadata": {
        "id": "wzlOpG5jV9EF"
      },
      "execution_count": 14,
      "outputs": []
    },
    {
      "cell_type": "code",
      "source": [
        "head_letter_dict = {x: count for x, count in Counter(letter_list).items() if count >= treshold}\n",
        "head_letter_dict = {k: v for k, v in sorted(head_letter_dict.items(), key=lambda item: item[1], reverse=True)}\n",
        "head_letter_dict"
      ],
      "metadata": {
        "colab": {
          "base_uri": "https://localhost:8080/"
        },
        "id": "H3efCTNZWBi_",
        "outputId": "efb7e414-3207-438f-be21-13855b6e2f81"
      },
      "execution_count": 15,
      "outputs": [
        {
          "output_type": "execute_result",
          "data": {
            "text/plain": [
              "{'ი': 105, 'ა': 99, 'რ': 87, 'ე': 79, 'ს': 74, 'ლ': 67, 'ნ': 63, 'ო': 62}"
            ]
          },
          "metadata": {},
          "execution_count": 15
        }
      ]
    },
    {
      "cell_type": "code",
      "source": [
        "tail_letter_dict = {x: count for x, count in Counter(letter_list).items() if count < treshold}\n",
        "tail_letter_dict = {k: v for k, v in sorted(tail_letter_dict.items(), key=lambda item: item[1], reverse=True)}\n",
        "# tail_letter_dict"
      ],
      "metadata": {
        "id": "gwzpI93GWBmW"
      },
      "execution_count": 16,
      "outputs": []
    },
    {
      "cell_type": "code",
      "source": [
        "head_letter_dict['other'] = np.sum([v for v in tail_letter_dict.values()])\n",
        "head_letter_dict"
      ],
      "metadata": {
        "colab": {
          "base_uri": "https://localhost:8080/"
        },
        "id": "_Ge2FLzsWct7",
        "outputId": "96e7da70-1958-4f41-db38-53621d35eca7"
      },
      "execution_count": 17,
      "outputs": [
        {
          "output_type": "execute_result",
          "data": {
            "text/plain": [
              "{'ი': 105,\n",
              " 'ა': 99,\n",
              " 'რ': 87,\n",
              " 'ე': 79,\n",
              " 'ს': 74,\n",
              " 'ლ': 67,\n",
              " 'ნ': 63,\n",
              " 'ო': 62,\n",
              " 'other': 666}"
            ]
          },
          "metadata": {},
          "execution_count": 17
        }
      ]
    },
    {
      "cell_type": "code",
      "source": [
        "# for filePath in glob.glob(\"cropped_images_i/*.jpg\"):\n",
        "#     filePath_splitted = filePath.split('/')\n",
        "#     shutil.move(filePath, 'cropped_images/' + filePath_splitted[1])"
      ],
      "metadata": {
        "id": "TC17XhieWwFZ"
      },
      "execution_count": 134,
      "outputs": []
    },
    {
      "cell_type": "code",
      "source": [
        "base_dir = 'grouped_images'\n",
        "os.mkdir(base_dir)\n",
        "\n",
        "for letter in head_letter_dict.keys():\n",
        "    # !mkdir cropped_images_{letter}\n",
        "    os.mkdir(base_dir + '/letter_' + letter)"
      ],
      "metadata": {
        "id": "eTaWpNmEXMsZ"
      },
      "execution_count": 18,
      "outputs": []
    },
    {
      "cell_type": "code",
      "source": [
        "# distributing images with top of letters by folders\n",
        "for letter in head_letter_dict.keys():\n",
        "    fileList = [f for f in glob.glob(\"cropped_images/*.jpg\") if letter in f]\n",
        "    for filePath in fileList:\n",
        "        filePath_splitted = filePath.split('/')\n",
        "        shutil.copyfile(filePath, 'grouped_images/letter_'+letter+'/' + filePath_splitted[1])\n"
      ],
      "metadata": {
        "id": "fUMjlrLhYp1k"
      },
      "execution_count": 19,
      "outputs": []
    },
    {
      "cell_type": "code",
      "source": [
        "# and the rest:\n",
        "fileList = [f for f in glob.glob(\"cropped_images/*.jpg\") if not any(letter in f for letter in head_letter_dict.keys())]\n",
        "for filePath in fileList:\n",
        "    filePath_splitted = filePath.split('/')\n",
        "    shutil.copyfile(filePath, 'grouped_images/letter_other/' + filePath_splitted[1])\n"
      ],
      "metadata": {
        "id": "23P2NiLpZ0M7"
      },
      "execution_count": 20,
      "outputs": []
    },
    {
      "cell_type": "code",
      "source": [
        "# files = glob.glob('grouped_images/letter_other/*.jpg')\n",
        "# for f in files:\n",
        "#     os.remove(f)"
      ],
      "metadata": {
        "id": "nWi7_il1jUKO"
      },
      "execution_count": 25,
      "outputs": []
    },
    {
      "cell_type": "code",
      "source": [],
      "metadata": {
        "id": "7C94LwevmNS6"
      },
      "execution_count": null,
      "outputs": []
    },
    {
      "cell_type": "markdown",
      "source": [
        "# **Step 4. To distribute images by test, validation and train folders for each letter**\n",
        "\n",
        "based on https://www.analyticsvidhya.com/blog/2022/07/training-cnn-from-scratch-using-the-custom-dataset/"
      ],
      "metadata": {
        "id": "Lm9M4FUhaKbn"
      }
    },
    {
      "cell_type": "code",
      "source": [
        "base_dir = 'grouped_images'\n",
        "dataset_types = [\"train\", \"validation\", \"test\"]"
      ],
      "metadata": {
        "id": "BSd_gAfFZ8oC"
      },
      "execution_count": 21,
      "outputs": []
    },
    {
      "cell_type": "code",
      "source": [
        "for t in dataset_types:\n",
        "    t_dir = os.path.join(base_dir, t)\n",
        "    os.mkdir(t_dir)\n",
        "    for letter in head_letter_dict.keys():\n",
        "        t_letter_dir = os.path.join(t_dir, letter)\n",
        "        os.mkdir(t_letter_dir)\n"
      ],
      "metadata": {
        "id": "WA5YXfw0lNEO"
      },
      "execution_count": 22,
      "outputs": []
    },
    {
      "cell_type": "code",
      "source": [
        "letter_sizes = {}\n",
        "\n",
        "for letter, amount in head_letter_dict.items():\n",
        "    letter_sizes[letter] = {}\n",
        "    letter_sizes[letter]['test'] = int(np.floor(amount * 0.2))\n",
        "    letter_sizes[letter]['validation'] = int(np.floor((amount - letter_sizes[letter]['test']) * 0.2))\n",
        "    letter_sizes[letter]['train'] = amount - (letter_sizes[letter]['test'] + letter_sizes[letter]['validation'])\n",
        "    # print(head_letter_dict[letter])\n",
        "\n",
        "letter_sizes"
      ],
      "metadata": {
        "colab": {
          "base_uri": "https://localhost:8080/"
        },
        "id": "Tyz-g7mtr47Y",
        "outputId": "b1ec8eac-c621-4f44-fedb-636e1d8c3449"
      },
      "execution_count": 23,
      "outputs": [
        {
          "output_type": "execute_result",
          "data": {
            "text/plain": [
              "{'ი': {'test': 21, 'validation': 16, 'train': 68},\n",
              " 'ა': {'test': 19, 'validation': 16, 'train': 64},\n",
              " 'რ': {'test': 17, 'validation': 14, 'train': 56},\n",
              " 'ე': {'test': 15, 'validation': 12, 'train': 52},\n",
              " 'ს': {'test': 14, 'validation': 12, 'train': 48},\n",
              " 'ლ': {'test': 13, 'validation': 10, 'train': 44},\n",
              " 'ნ': {'test': 12, 'validation': 10, 'train': 41},\n",
              " 'ო': {'test': 12, 'validation': 10, 'train': 40},\n",
              " 'other': {'test': 133, 'validation': 106, 'train': 427}}"
            ]
          },
          "metadata": {},
          "execution_count": 23
        }
      ]
    },
    {
      "cell_type": "code",
      "source": [
        "'''\n",
        "TO DELETE OTHER LETTERS\n",
        "'''\n",
        "\n",
        "files = glob.glob('grouped_images/letter_other/*')\n",
        "for f in files:\n",
        "    os.remove(f)\n",
        "\n",
        "!rmdir grouped_images/letter_other"
      ],
      "metadata": {
        "id": "lS0RMw-Bfmh9"
      },
      "execution_count": 24,
      "outputs": []
    },
    {
      "cell_type": "code",
      "source": [
        "# head_letter_dict.keys()\n",
        "del head_letter_dict['other']"
      ],
      "metadata": {
        "id": "d09IIiZygK8q"
      },
      "execution_count": 29,
      "outputs": []
    },
    {
      "cell_type": "code",
      "source": [
        "head_letter_dict.keys()"
      ],
      "metadata": {
        "colab": {
          "base_uri": "https://localhost:8080/"
        },
        "id": "oM7VOHpog1s5",
        "outputId": "dfa4fd14-10e3-401b-c824-6ec11138df61"
      },
      "execution_count": 31,
      "outputs": [
        {
          "output_type": "execute_result",
          "data": {
            "text/plain": [
              "dict_keys(['ი', 'ა', 'რ', 'ე', 'ს', 'ლ', 'ნ', 'ო'])"
            ]
          },
          "metadata": {},
          "execution_count": 31
        }
      ]
    },
    {
      "cell_type": "code",
      "source": [
        "for letter in head_letter_dict.keys():\n",
        "    file_names = [f.split('/')[-1] for f in os.listdir('grouped_images/letter_' + letter)]\n",
        "\n",
        "    test_names = file_names[:letter_sizes[letter]['test']]\n",
        "    validation_names = file_names[letter_sizes[letter]['test']:letter_sizes[letter]['test']+letter_sizes[letter]['validation']]\n",
        "    train_names = file_names[-letter_sizes[letter]['train']:]\n",
        "\n",
        "    original_dir = 'grouped_images/letter_' + letter\n",
        "\n",
        "    for f in test_names:\n",
        "        target_dir = 'grouped_images/test/' + letter\n",
        "        src = os.path.join(original_dir, f)\n",
        "        dst = os.path.join(target_dir, f)\n",
        "        shutil.copyfile(src, dst)\n",
        "\n",
        "    for f in validation_names:\n",
        "        target_dir = 'grouped_images/validation/' + letter\n",
        "        src = os.path.join(original_dir, f)\n",
        "        dst = os.path.join(target_dir, f)\n",
        "        shutil.copyfile(src, dst)\n",
        "\n",
        "    for f in train_names:\n",
        "        target_dir = 'grouped_images/train/' + letter\n",
        "        src = os.path.join(original_dir, f)\n",
        "        dst = os.path.join(target_dir, f)\n",
        "        shutil.copyfile(src, dst)\n"
      ],
      "metadata": {
        "id": "CFQ95cLalNHD"
      },
      "execution_count": 30,
      "outputs": []
    },
    {
      "cell_type": "markdown",
      "source": [
        "# **Step 5. Training CNN**\n",
        "\n",
        "based on https://www.analyticsvidhya.com/blog/2022/07/training-cnn-from-scratch-using-the-custom-dataset/"
      ],
      "metadata": {
        "id": "Obv1JRdCwqCd"
      }
    },
    {
      "cell_type": "markdown",
      "source": [
        "about handwritten letters: https://data-flair.training/blogs/handwritten-character-recognition-neural-network/"
      ],
      "metadata": {
        "id": "pOewm31STKp6"
      }
    },
    {
      "cell_type": "code",
      "source": [
        "# ??????\n",
        "\n",
        "# import tensorflow as tf\n",
        "# import tensorflow_datasets as tfds\n",
        "\n",
        "# # tf.enable_eager_execution()\n",
        "\n",
        "# from keras.layers.core import Dense, Activation, Dropout, Flatten\n",
        "# from keras.layers.convolutional import Convolution2D, MaxPooling2D\n",
        "# from keras.optimizers import SGD, RMSprop, Adam\n",
        "# from keras.utils import np_utils\n",
        "# from keras.models import Sequential\n",
        "\n",
        "# from sklearn.tree import DecisionTreeClassifier # Import Decision Tree Classifier\n",
        "# from sklearn import metrics\n",
        "# from sklearn.utils import shuffle\n",
        "# from sklearn.model_selection import train_test_split\n",
        "\n",
        "# import matplotlib.image as mpimg\n",
        "# import matplotlib.pyplot as plt\n",
        "# import random\n",
        "# # from numpy import *\n",
        "# from PIL import Image\n",
        "# import theano"
      ],
      "metadata": {
        "id": "VOzMnLmEeZZ0"
      },
      "execution_count": null,
      "outputs": []
    },
    {
      "cell_type": "code",
      "source": [
        "# based on: https://medium.com/artificialis/get-started-with-computer-vision-by-building-a-digit-recognition-model-with-tensorflow-b2216823b90a\n",
        "\n",
        "from keras.models import Sequential\n",
        "from keras.layers import Dense, Flatten, Conv2D, MaxPool2D, Dropout\n",
        "from keras.optimizers import SGD, Adam\n",
        "\n",
        "model = Sequential()\n",
        "\n",
        "model.add(Conv2D(16, (3, 3), activation='relu', input_shape=(150, 100, 1)))\n",
        "model.add(Conv2D(16, (3, 3), activation='relu')) # , padding='same'\n",
        "# model.add(MaxPool2D((2, 2), strides=2))\n",
        "model.add(MaxPool2D(pool_size=(2, 2)))\n",
        "# model.add(Dropout(0.25))\n",
        "\n",
        "model.add(Conv2D(16, (3, 3), activation='relu'))\n",
        "model.add(Conv2D(16, (3, 3), activation='relu'))\n",
        "# model.add(MaxPool2D((2, 2), strides=2))\n",
        "model.add(MaxPool2D(pool_size=(2, 2)))\n",
        "# model.add(Dropout(0.25))\n",
        "\n",
        "# model.add(Conv2D(16, (3, 3), activation='relu', padding='valid'))\n",
        "# model.add(MaxPool2D((2, 2), strides=2))\n",
        "# model.add(Dropout(0.25))\n",
        "\n",
        "model.add(Flatten())\n",
        "# model.add(Dense(512, activation='relu'))\n",
        "# model.add(Dropout(0.5))\n",
        "# model.add(Dense(64, activation='relu'))\n",
        "\n",
        "model.add(Dense(9, activation='softmax')) # sigmoid # 1\n",
        "# == num_classes 9 8 ?\n",
        "model.summary()\n"
      ],
      "metadata": {
        "colab": {
          "base_uri": "https://localhost:8080/"
        },
        "id": "mLDoKwt_hR_j",
        "outputId": "3b8e6e41-c51f-4ff5-cca9-878ee720f350"
      },
      "execution_count": 98,
      "outputs": [
        {
          "output_type": "stream",
          "name": "stdout",
          "text": [
            "Model: \"sequential_12\"\n",
            "_________________________________________________________________\n",
            " Layer (type)                Output Shape              Param #   \n",
            "=================================================================\n",
            " conv2d_48 (Conv2D)          (None, 148, 98, 16)       160       \n",
            "                                                                 \n",
            " conv2d_49 (Conv2D)          (None, 146, 96, 16)       2320      \n",
            "                                                                 \n",
            " max_pooling2d_24 (MaxPoolin  (None, 73, 48, 16)       0         \n",
            " g2D)                                                            \n",
            "                                                                 \n",
            " conv2d_50 (Conv2D)          (None, 71, 46, 16)        2320      \n",
            "                                                                 \n",
            " conv2d_51 (Conv2D)          (None, 69, 44, 16)        2320      \n",
            "                                                                 \n",
            " max_pooling2d_25 (MaxPoolin  (None, 34, 22, 16)       0         \n",
            " g2D)                                                            \n",
            "                                                                 \n",
            " flatten_12 (Flatten)        (None, 11968)             0         \n",
            "                                                                 \n",
            " dense_12 (Dense)            (None, 9)                 107721    \n",
            "                                                                 \n",
            "=================================================================\n",
            "Total params: 114,841\n",
            "Trainable params: 114,841\n",
            "Non-trainable params: 0\n",
            "_________________________________________________________________\n"
          ]
        }
      ]
    },
    {
      "cell_type": "code",
      "source": [
        "# '''\n",
        "# OLD VERSION\n",
        "# '''\n",
        "\n",
        "# ###-----Build Your Model------###\n",
        "# # from keras import layers\n",
        "# # from keras import models\n",
        "\n",
        "# # from keras.models import Sequential\n",
        "# # from keras.layers.core import Dense, Activation, Dropout, Flatten\n",
        "# # from keras.layers.convolutional import Convolution2D, MaxPooling2D, AveragePooling2D\n",
        "\n",
        "# from keras.models import Sequential\n",
        "# from keras.layers import Dense, Flatten, Conv2D, MaxPool2D, Dropout\n",
        "# from keras.optimizers import SGD, Adam\n",
        "\n",
        "# model = Sequential()\n",
        "\n",
        "# model.add(Conv2D(32, (3, 3), activation='relu', input_shape=(150, 100, 1)))\n",
        "# # model.add(Conv2D(16, (3, 3), activation='relu', padding='same'))\n",
        "# model.add(MaxPool2D((2, 2), strides=2))\n",
        "# model.add(Dropout(0.25))\n",
        "\n",
        "# # model.add(Conv2D(32, (3, 3), activation='relu', padding='same'))\n",
        "# # model.add(Conv2D(32, (3, 3), activation='relu', padding='same'))\n",
        "# # model.add(MaxPool2D((2, 2), strides=2))\n",
        "# # model.add(Dropout(0.25))\n",
        "\n",
        "# model.add(Conv2D(64, (3, 3), activation='relu', padding='same'))\n",
        "# # model.add(Conv2D(64, (3, 3), activation='relu', padding='same'))\n",
        "# model.add(MaxPool2D((2, 2), strides=2))\n",
        "# model.add(Dropout(0.25))\n",
        "\n",
        "# model.add(Conv2D(128, (3, 3), activation='relu', padding='valid'))\n",
        "# # model.add(Conv2D(128, (3, 3), activation='relu', padding='same'))\n",
        "# model.add(MaxPool2D((2, 2), strides=2))\n",
        "# model.add(Dropout(0.25))\n",
        "\n",
        "# # model.add(Conv2D(256, (3, 3), activation='relu', padding='same'))\n",
        "# # model.add(Conv2D(256, (3, 3), activation='relu', padding='same'))\n",
        "# # model.add(MaxPool2D((2, 2), strides=(2,2)))\n",
        "# # model.add(Dropout(0.25))\n",
        "\n",
        "# model.add(Flatten())\n",
        "# model.add(Dense(512, activation='relu'))\n",
        "# model.add(Dropout(0.5))\n",
        "# model.add(Dense(64, activation='relu'))\n",
        "\n",
        "# model.add(Dense(1, activation='softmax')) # sigmoid # 1\n",
        "# # == num_classes\n",
        "# # 9 ?\n",
        "# model.summary()\n"
      ],
      "metadata": {
        "id": "bwBdOgUxxx9X"
      },
      "execution_count": 65,
      "outputs": []
    },
    {
      "cell_type": "code",
      "source": [
        "####----Configuring the model for training-----####\n",
        "from tensorflow import keras\n",
        "from keras import optimizers\n",
        "\n",
        "model.compile(loss='sparse_categorical_crossentropy', # binary_crossentropy\n",
        "              optimizer=keras.optimizers.Adam(), \n",
        "              # optimizer=keras.optimizers.RMSprop(learning_rate=1e-4), \n",
        "              metrics=['accuracy'])\n"
      ],
      "metadata": {
        "id": "JizRDsi7xyAP"
      },
      "execution_count": 99,
      "outputs": []
    },
    {
      "cell_type": "code",
      "source": [
        "train_dir = os.path.join(base_dir, 'train')\n",
        "validation_dir = os.path.join(base_dir, 'validation')"
      ],
      "metadata": {
        "id": "Eee371TNzy2Q"
      },
      "execution_count": 100,
      "outputs": []
    },
    {
      "cell_type": "code",
      "source": [
        "#####-----Data Preprocessing-----######\n",
        "\n",
        "from keras.preprocessing.image import ImageDataGenerator\n",
        "\n",
        "train_datagen = ImageDataGenerator(rescale=1./255)\n",
        "test_datagen = ImageDataGenerator(rescale=1./255)\n",
        "\n",
        "train_generator = train_datagen.flow_from_directory(train_dir, target_size=(150, 100), batch_size=20, class_mode='binary', color_mode = 'grayscale')\n",
        "validation_generator = test_datagen.flow_from_directory(validation_dir, target_size=(150, 100), batch_size=20, class_mode='binary', color_mode = 'grayscale')\n",
        "\n",
        "for data_batch, labels_batch in train_generator:\n",
        "    print('data batch shape:', data_batch.shape)\n",
        "    print('labels batch shape:', labels_batch.shape)\n",
        "    break"
      ],
      "metadata": {
        "colab": {
          "base_uri": "https://localhost:8080/"
        },
        "id": "Ii4oX3l8wwiE",
        "outputId": "6f0b1393-174a-4184-d527-4ba9d2a8f59a"
      },
      "execution_count": 101,
      "outputs": [
        {
          "output_type": "stream",
          "name": "stdout",
          "text": [
            "Found 413 images belonging to 9 classes.\n",
            "Found 100 images belonging to 9 classes.\n",
            "data batch shape: (20, 150, 100, 1)\n",
            "labels batch shape: (20,)\n"
          ]
        }
      ]
    },
    {
      "cell_type": "code",
      "source": [
        "####----Fit the Model----####\n",
        "history = model.fit_generator(train_generator, steps_per_epoch=10, epochs=4, validation_data=validation_generator, validation_steps=50)\n",
        "\n",
        "######-----Save the Model-------######\n",
        "model.save('geo_letters_top8.h5')"
      ],
      "metadata": {
        "colab": {
          "base_uri": "https://localhost:8080/"
        },
        "id": "ym9Dfbnuwwkp",
        "outputId": "05b428b7-1dc3-4228-eaa8-ba066db4b89b"
      },
      "execution_count": 102,
      "outputs": [
        {
          "output_type": "stream",
          "name": "stdout",
          "text": [
            "Epoch 1/4\n"
          ]
        },
        {
          "output_type": "stream",
          "name": "stderr",
          "text": [
            "<ipython-input-102-92869bb22ea1>:2: UserWarning: `Model.fit_generator` is deprecated and will be removed in a future version. Please use `Model.fit`, which supports generators.\n",
            "  history = model.fit_generator(train_generator, steps_per_epoch=10, epochs=4, validation_data=validation_generator, validation_steps=50)\n"
          ]
        },
        {
          "output_type": "stream",
          "name": "stdout",
          "text": [
            "10/10 [==============================] - ETA: 0s - loss: 2.1171 - accuracy: 0.2487"
          ]
        },
        {
          "output_type": "stream",
          "name": "stderr",
          "text": [
            "WARNING:tensorflow:Your input ran out of data; interrupting training. Make sure that your dataset or generator can generate at least `steps_per_epoch * epochs` batches (in this case, 50 batches). You may need to use the repeat() function when building your dataset.\n"
          ]
        },
        {
          "output_type": "stream",
          "name": "stdout",
          "text": [
            "\b\b\b\b\b\b\b\b\b\b\b\b\b\b\b\b\b\b\b\b\b\b\b\b\b\b\b\b\b\b\b\b\b\b\b\b\b\b\b\b\b\b\b\b\b\b\b\b\b\b\b\b\b\b\b\b\b\b\b\b\b\b\b\b\b\b\b\b\b\b\b\b\b\b\b\b\b\b\b\b\b\b\r10/10 [==============================] - 7s 543ms/step - loss: 2.1171 - accuracy: 0.2487 - val_loss: 1.9878 - val_accuracy: 0.3500\n",
            "Epoch 2/4\n",
            "10/10 [==============================] - 5s 475ms/step - loss: 1.7438 - accuracy: 0.4663\n",
            "Epoch 3/4\n",
            "10/10 [==============================] - 5s 476ms/step - loss: 1.0037 - accuracy: 0.6900\n",
            "Epoch 4/4\n",
            "10/10 [==============================] - 6s 659ms/step - loss: 0.7292 - accuracy: 0.7565\n"
          ]
        }
      ]
    },
    {
      "cell_type": "code",
      "source": [],
      "metadata": {
        "id": "64PMXG1P4vLq"
      },
      "execution_count": null,
      "outputs": []
    },
    {
      "cell_type": "code",
      "source": [
        "######-----Displaying curves of loss and accuracy during training-------######\n",
        "import matplotlib.pyplot as plt\n",
        "\n",
        "acc = history.history['accuracy']\n",
        "val_acc = history.history['val_accuracy']\n",
        "loss = history.history['loss']\n",
        "val_loss = history.history['val_loss']\n",
        "epochs = range(1, len(acc) + 1)\n",
        "\n",
        "plt.plot(epochs, acc, 'r', label='Training acc')\n",
        "# plt.plot(epochs, val_acc, 'b', label='Validation acc')\n",
        "plt.title('Training and validation accuracy')\n",
        "plt.legend()\n",
        "plt.figure()\n",
        "plt.plot(epochs, loss, 'r', label='Training loss')\n",
        "# plt.plot(epochs, val_loss, 'b', label='Validation loss')\n",
        "plt.title('Training and validation loss')\n",
        "plt.legend()\n",
        "plt.show()"
      ],
      "metadata": {
        "colab": {
          "base_uri": "https://localhost:8080/",
          "height": 545
        },
        "id": "xAERDIJawwr-",
        "outputId": "97706c5c-7457-4b8a-e40b-179f7d89d874"
      },
      "execution_count": 106,
      "outputs": [
        {
          "output_type": "display_data",
          "data": {
            "text/plain": [
              "<Figure size 432x288 with 1 Axes>"
            ],
            "image/png": "[encoded data removed]"
          },
          "metadata": {
            "needs_background": "light"
          }
        },
        {
          "output_type": "display_data",
          "data": {
            "text/plain": [
              "<Figure size 432x288 with 1 Axes>"
            ],
            "image/png": "[encoded data removed]"
          },
          "metadata": {
            "needs_background": "light"
          }
        }
      ]
    },
    {
      "cell_type": "code",
      "source": [],
      "metadata": {
        "id": "dUD5oRR8Z84s"
      },
      "execution_count": null,
      "outputs": []
    },
    {
      "cell_type": "markdown",
      "source": [
        "The next conditions make better results (**accuracy = 76%**) than previous:\n",
        "\n",
        "- Only Top-8 letters, without other\n",
        "- 9 in the last layer (Dense)\n",
        "- Small numbers of filters (16)\n",
        "- sparse_categorical_crossentropy and Adam"
      ],
      "metadata": {
        "id": "utZXRmCTkAes"
      }
    },
    {
      "cell_type": "markdown",
      "source": [
        "**NEXT:**\n",
        "  - **TO CHECK ALL THE LABELS ON ALL THE PHOTOS -- THERE ARE MISTAKES**\n",
        "  - to top up the dataset"
      ],
      "metadata": {
        "id": "1CVGqX5TwlcK"
      }
    },
    {
      "cell_type": "code",
      "source": [],
      "metadata": {
        "id": "HqaW4O7dkkML"
      },
      "execution_count": null,
      "outputs": []
    },
    {
      "cell_type": "code",
      "source": [],
      "metadata": {
        "id": "WETnC5TbjLSo"
      },
      "execution_count": null,
      "outputs": []
    },
    {
      "cell_type": "code",
      "source": [],
      "metadata": {
        "id": "0RnkwTFXjLVp"
      },
      "execution_count": null,
      "outputs": []
    },
    {
      "cell_type": "code",
      "source": [],
      "metadata": {
        "id": "pno_IfxokkOh"
      },
      "execution_count": null,
      "outputs": []
    },
    {
      "cell_type": "markdown",
      "source": [
        "# **===== DRAFTS =====**"
      ],
      "metadata": {
        "id": "DlZSXLP3ukHA"
      }
    },
    {
      "cell_type": "code",
      "source": [
        "from google.colab.patches import cv2_imshow\n"
      ],
      "metadata": {
        "id": "1t5w_Wmsu8bw"
      },
      "execution_count": 79,
      "outputs": []
    },
    {
      "cell_type": "code",
      "source": [
        "img_test = cv2.imread(\"/content/cropped_images/IMG_20230212_163114_ე_1.jpg\")\n",
        "\n",
        "cv2_imshow(img_test)\n"
      ],
      "metadata": {
        "colab": {
          "base_uri": "https://localhost:8080/",
          "height": 317
        },
        "id": "d0GzP-O3kkQ5",
        "outputId": "8070a790-8295-44cc-a2d5-5e820d996e38"
      },
      "execution_count": 51,
      "outputs": [
        {
          "output_type": "display_data",
          "data": {
            "text/plain": [
              "<PIL.Image.Image image mode=RGB size=200x300 at 0x7F267C697B50>"
            ],
            "image/png": "[encoded data removed]"
          },
          "metadata": {}
        }
      ]
    },
    {
      "cell_type": "code",
      "source": [
        "cv2_imshow(invert_image(img_test))\n"
      ],
      "metadata": {
        "colab": {
          "base_uri": "https://localhost:8080/",
          "height": 317
        },
        "id": "eiTwFUytqNzC",
        "outputId": "c6bc3560-261c-4b1f-c11e-7323ebd0df21"
      },
      "execution_count": 75,
      "outputs": [
        {
          "output_type": "display_data",
          "data": {
            "text/plain": [
              "<PIL.Image.Image image mode=RGB size=200x300 at 0x7F266C2838E0>"
            ],
            "image/png": "[encoded data removed]"
          },
          "metadata": {}
        }
      ]
    },
    {
      "cell_type": "code",
      "source": [],
      "metadata": {
        "id": "pRgw_FE_qN1m"
      },
      "execution_count": null,
      "outputs": []
    },
    {
      "cell_type": "code",
      "source": [
        "x = []\n",
        "img = Image.open('grouped_images/train/ა/IMG_20220404_150259_ა_1.jpg')\n",
        "img.load()\n",
        "data = np.asarray(img, dtype=\"int32\")\n",
        "x.append(data)\n",
        "x = np.array(x)\n",
        "print(x.shape)"
      ],
      "metadata": {
        "colab": {
          "base_uri": "https://localhost:8080/"
        },
        "id": "vAfGMKkTnCy3",
        "outputId": "e11147eb-f040-4db3-deb5-088a6f33ed26"
      },
      "execution_count": 226,
      "outputs": [
        {
          "output_type": "stream",
          "name": "stdout",
          "text": [
            "(1, 150, 100)\n"
          ]
        }
      ]
    },
    {
      "cell_type": "code",
      "source": [],
      "metadata": {
        "id": "bZQ1v9VCTyZ8"
      },
      "execution_count": null,
      "outputs": []
    },
    {
      "cell_type": "code",
      "source": [],
      "metadata": {
        "id": "YWxRwNLmTyct"
      },
      "execution_count": null,
      "outputs": []
    },
    {
      "cell_type": "code",
      "source": [],
      "metadata": {
        "id": "7JgVdtT7Tyfl"
      },
      "execution_count": null,
      "outputs": []
    },
    {
      "cell_type": "code",
      "source": [
        "# threshold\n",
        "thresh = cv2.threshold(img_test, 180, 255, cv2.THRESH_BINARY)[1]\n",
        "\n",
        "# count number of white pixels\n",
        "mean = np.mean(img_test)\n",
        "print(\"mean =\", mean)\n",
        "\n",
        "mean_masked = np.mean(img_test[np.where(thresh == 255)])\n",
        "print(\"masked mean =\", mean_masked)\n"
      ],
      "metadata": {
        "colab": {
          "base_uri": "https://localhost:8080/"
        },
        "id": "MZuc0YOOl0yd",
        "outputId": "30a19f3e-2864-4b0d-ce2c-9a6f45541f5d"
      },
      "execution_count": 53,
      "outputs": [
        {
          "output_type": "stream",
          "name": "stdout",
          "text": [
            "mean = 136.24663333333334\n",
            "masked mean = 215.07470801449858\n"
          ]
        }
      ]
    },
    {
      "cell_type": "code",
      "source": [
        "# write thresh to disk\n",
        "cv2.imwrite(\"gray_with_spots_thresh.png\", thresh)\n",
        "\n",
        "# display it\n",
        "cv2_imshow(thresh)\n",
        "cv2.waitKey(0)"
      ],
      "metadata": {
        "colab": {
          "base_uri": "https://localhost:8080/",
          "height": 335
        },
        "id": "3o2WpDdEl000",
        "outputId": "db92e099-5c80-438e-e6a1-64986a3cbcbe"
      },
      "execution_count": 56,
      "outputs": [
        {
          "output_type": "display_data",
          "data": {
            "text/plain": [
              "<PIL.Image.Image image mode=RGB size=200x300 at 0x7F267C5F9D00>"
            ],
            "image/png": "[encoded data removed]"
          },
          "metadata": {}
        },
        {
          "output_type": "execute_result",
          "data": {
            "text/plain": [
              "-1"
            ]
          },
          "metadata": {},
          "execution_count": 56
        }
      ]
    },
    {
      "cell_type": "code",
      "source": [],
      "metadata": {
        "id": "WpaFN_QlkkVV"
      },
      "execution_count": null,
      "outputs": []
    },
    {
      "cell_type": "code",
      "source": [],
      "metadata": {
        "id": "FNpK3qTTkkX6"
      },
      "execution_count": null,
      "outputs": []
    },
    {
      "cell_type": "code",
      "source": [],
      "metadata": {
        "id": "tmPdQLNbK_kq"
      },
      "execution_count": null,
      "outputs": []
    },
    {
      "cell_type": "code",
      "source": [],
      "metadata": {
        "id": "uBSgKcaPK_nC"
      },
      "execution_count": null,
      "outputs": []
    },
    {
      "cell_type": "code",
      "source": [
        "# #creating two dir for training and testing\n",
        "# !mkdir test_labels train_labels\n",
        "\n",
        "# # lists the files inside 'annotations' in a random order (not really random, by their hash value instead)\n",
        "# # Moves the first 274/1370 labels (20% of the labels) to the testing dir: `test_labels`\n",
        "# !ls annotations/* | sort -R | head -274 | xargs -I{} mv {} test_labels/\n",
        "\n",
        "# # Moves the rest of the labels ( 1096 labels ) to the training dir: `train_labels`\n",
        "# !ls annotations/* | xargs -I{} mv {} train_labels/"
      ],
      "metadata": {
        "id": "6SMfjBANv-XZ"
      },
      "execution_count": null,
      "outputs": []
    },
    {
      "cell_type": "code",
      "source": [
        "#creating two dir for training and testing\n",
        "!mkdir test_labels train_labels"
      ],
      "metadata": {
        "id": "yzNsH5fzv-Ze"
      },
      "execution_count": 6,
      "outputs": []
    },
    {
      "cell_type": "code",
      "source": [
        "#creating two dir for training and testing\n",
        "!mkdir test train"
      ],
      "metadata": {
        "id": "iwCz_3jv_CGq"
      },
      "execution_count": 11,
      "outputs": []
    },
    {
      "cell_type": "code",
      "source": [
        "# 86 * 0.2"
      ],
      "metadata": {
        "colab": {
          "base_uri": "https://localhost:8080/"
        },
        "id": "YFaH4GwC7X8M",
        "outputId": "157973a2-cd8a-4a3c-bee2-6a716fa5fdb0"
      },
      "execution_count": 7,
      "outputs": [
        {
          "output_type": "execute_result",
          "data": {
            "text/plain": [
              "17.2"
            ]
          },
          "metadata": {},
          "execution_count": 7
        }
      ]
    },
    {
      "cell_type": "code",
      "source": [
        "# Moves the first 51/86 labels (20% of the labels) to the testing dir: `test_labels`\n",
        "!ls georgian-letters-photo-database/* | head -51 | xargs -I{} mv {} test/\n",
        "\n",
        "# to cancel:\n",
        "# !ls test/* | xargs -I{} mv {} georgian-letters-photo-database/"
      ],
      "metadata": {
        "id": "MpBOQJ08v-b0"
      },
      "execution_count": 10,
      "outputs": []
    },
    {
      "cell_type": "code",
      "source": [
        "!ls georgian-letters-photo-database/* | xargs -I{} mv {} train/"
      ],
      "metadata": {
        "id": "scSR7lhx_KRX"
      },
      "execution_count": 13,
      "outputs": []
    },
    {
      "cell_type": "code",
      "source": [],
      "metadata": {
        "id": "tECCjx5j_PvM"
      },
      "execution_count": null,
      "outputs": []
    },
    {
      "cell_type": "code",
      "source": [],
      "metadata": {
        "id": "0Ikp3Vjw_SeA"
      },
      "execution_count": null,
      "outputs": []
    },
    {
      "cell_type": "code",
      "source": [],
      "metadata": {
        "id": "N6sKIEzW_Sgl"
      },
      "execution_count": null,
      "outputs": []
    },
    {
      "cell_type": "code",
      "source": [],
      "metadata": {
        "id": "wSMQjAma_Si7"
      },
      "execution_count": null,
      "outputs": []
    },
    {
      "cell_type": "code",
      "source": [],
      "metadata": {
        "id": "EKMTxQLi_SlR"
      },
      "execution_count": null,
      "outputs": []
    }
  ]
}