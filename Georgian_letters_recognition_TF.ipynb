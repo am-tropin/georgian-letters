{
  "nbformat": 4,
  "nbformat_minor": 0,
  "metadata": {
    "colab": {
      "provenance": [],
      "authorship_tag": "ABX9TyPY+VIvOBnnjSZoNjbii0vG",
      "include_colab_link": true
    },
    "kernelspec": {
      "name": "python3",
      "display_name": "Python 3"
    },
    "language_info": {
      "name": "python"
    }
  },
  "cells": [
    {
      "cell_type": "markdown",
      "metadata": {
        "id": "view-in-github",
        "colab_type": "text"
      },
      "source": [
        "<a href=\"https://colab.research.google.com/github/am-tropin/georgian-letters-trainer/blob/main/Georgian_letters_recognition_TF.ipynb\" target=\"_parent\"><img src=\"https://colab.research.google.com/assets/colab-badge.svg\" alt=\"Open In Colab\"/></a>"
      ]
    },
    {
      "cell_type": "code",
      "execution_count": null,
      "metadata": {
        "id": "2eo1-747dOUA"
      },
      "outputs": [],
      "source": []
    },
    {
      "cell_type": "markdown",
      "source": [
        "**Step 0. Libraries**"
      ],
      "metadata": {
        "id": "9aFUoZDG7bT_"
      }
    },
    {
      "cell_type": "code",
      "source": [
        "from keras.models import Sequential\n"
      ],
      "metadata": {
        "id": "WgTeSDKkyXmj"
      },
      "execution_count": 15,
      "outputs": []
    },
    {
      "cell_type": "code",
      "source": [
        "import tensorflow as tf\n",
        "\n",
        "import tensorflow_datasets as tfds\n",
        "\n",
        "# tf.enable_eager_execution()"
      ],
      "metadata": {
        "id": "bQcvLxaJyXpA"
      },
      "execution_count": 16,
      "outputs": []
    },
    {
      "cell_type": "code",
      "source": [
        "from keras.layers.core import Dense, Activation, Dropout, Flatten\n",
        "from keras.layers.convolutional import Convolution2D, MaxPooling2D\n",
        "from keras.optimizers import SGD, RMSprop, Adam\n",
        "from keras.utils import np_utils\n",
        "from sklearn.tree import DecisionTreeClassifier # Import Decision Tree Classifier\n",
        "from sklearn import metrics\n",
        "from sklearn.utils import shuffle\n",
        "from sklearn.model_selection import train_test_split\n",
        "import matplotlib.image as mpimg\n",
        "import matplotlib.pyplot as plt\n",
        "import numpy as np\n",
        "import os\n",
        "import cv2\n",
        "import random\n",
        "from numpy import *\n",
        "from PIL import Image\n",
        "# import theano"
      ],
      "metadata": {
        "id": "c3GnyLILyXti"
      },
      "execution_count": 17,
      "outputs": []
    },
    {
      "cell_type": "markdown",
      "source": [
        "**Step 1. Choose a dataset**"
      ],
      "metadata": {
        "id": "RKMZJmvx7grN"
      }
    },
    {
      "cell_type": "code",
      "source": [],
      "metadata": {
        "id": "F28Dt8HEyXwI"
      },
      "execution_count": null,
      "outputs": []
    },
    {
      "cell_type": "code",
      "source": [
        "!pip install pandas"
      ],
      "metadata": {
        "colab": {
          "base_uri": "https://localhost:8080/"
        },
        "id": "foT7cCnQv-N1",
        "outputId": "d70ae4ec-6e83-4226-948e-fecbaee1bfae"
      },
      "execution_count": 18,
      "outputs": [
        {
          "output_type": "stream",
          "name": "stdout",
          "text": [
            "Looking in indexes: https://pypi.org/simple, https://us-python.pkg.dev/colab-wheels/public/simple/\n",
            "Requirement already satisfied: pandas in /usr/local/lib/python3.8/dist-packages (1.3.5)\n",
            "Requirement already satisfied: numpy>=1.17.3 in /usr/local/lib/python3.8/dist-packages (from pandas) (1.21.6)\n",
            "Requirement already satisfied: pytz>=2017.3 in /usr/local/lib/python3.8/dist-packages (from pandas) (2022.7.1)\n",
            "Requirement already satisfied: python-dateutil>=2.7.3 in /usr/local/lib/python3.8/dist-packages (from pandas) (2.8.2)\n",
            "Requirement already satisfied: six>=1.5 in /usr/local/lib/python3.8/dist-packages (from python-dateutil>=2.7.3->pandas) (1.15.0)\n"
          ]
        }
      ]
    },
    {
      "cell_type": "code",
      "source": [
        "!pip install opendatasets"
      ],
      "metadata": {
        "colab": {
          "base_uri": "https://localhost:8080/"
        },
        "id": "1u1vpkQdwJix",
        "outputId": "66b9017e-e156-45f7-db2c-5daae9eaad84"
      },
      "execution_count": 19,
      "outputs": [
        {
          "output_type": "stream",
          "name": "stdout",
          "text": [
            "Looking in indexes: https://pypi.org/simple, https://us-python.pkg.dev/colab-wheels/public/simple/\n",
            "Requirement already satisfied: opendatasets in /usr/local/lib/python3.8/dist-packages (0.1.22)\n",
            "Requirement already satisfied: tqdm in /usr/local/lib/python3.8/dist-packages (from opendatasets) (4.64.1)\n",
            "Requirement already satisfied: kaggle in /usr/local/lib/python3.8/dist-packages (from opendatasets) (1.5.12)\n",
            "Requirement already satisfied: click in /usr/local/lib/python3.8/dist-packages (from opendatasets) (7.1.2)\n",
            "Requirement already satisfied: six>=1.10 in /usr/local/lib/python3.8/dist-packages (from kaggle->opendatasets) (1.15.0)\n",
            "Requirement already satisfied: python-slugify in /usr/local/lib/python3.8/dist-packages (from kaggle->opendatasets) (8.0.0)\n",
            "Requirement already satisfied: python-dateutil in /usr/local/lib/python3.8/dist-packages (from kaggle->opendatasets) (2.8.2)\n",
            "Requirement already satisfied: certifi in /usr/local/lib/python3.8/dist-packages (from kaggle->opendatasets) (2022.12.7)\n",
            "Requirement already satisfied: requests in /usr/local/lib/python3.8/dist-packages (from kaggle->opendatasets) (2.25.1)\n",
            "Requirement already satisfied: urllib3 in /usr/local/lib/python3.8/dist-packages (from kaggle->opendatasets) (1.24.3)\n",
            "Requirement already satisfied: text-unidecode>=1.3 in /usr/local/lib/python3.8/dist-packages (from python-slugify->kaggle->opendatasets) (1.3)\n",
            "Requirement already satisfied: chardet<5,>=3.0.2 in /usr/local/lib/python3.8/dist-packages (from requests->kaggle->opendatasets) (4.0.0)\n",
            "Requirement already satisfied: idna<3,>=2.5 in /usr/local/lib/python3.8/dist-packages (from requests->kaggle->opendatasets) (2.10)\n"
          ]
        }
      ]
    },
    {
      "cell_type": "code",
      "source": [
        "import opendatasets as od\n",
        "import pandas"
      ],
      "metadata": {
        "id": "JDzZklaZv-QX"
      },
      "execution_count": 20,
      "outputs": []
    },
    {
      "cell_type": "code",
      "source": [
        "od.download(\"https://www.kaggle.com/datasets/alexandertropin/georgian-letters-photo-database\")"
      ],
      "metadata": {
        "colab": {
          "base_uri": "https://localhost:8080/"
        },
        "id": "dqcyk4Qpv-S9",
        "outputId": "ab0d967f-8305-4636-c81f-1a37e87751f4"
      },
      "execution_count": 21,
      "outputs": [
        {
          "output_type": "stream",
          "name": "stdout",
          "text": [
            "Skipping, found downloaded files in \"./georgian-letters-photo-database\" (use force=True to force download)\n"
          ]
        }
      ]
    },
    {
      "cell_type": "code",
      "source": [
        "# remove all .txt files\n",
        "\n",
        "import os\n",
        "import glob\n",
        "fileList = glob.glob('georgian-letters-photo-database/*.txt')\n",
        "\n",
        "for filePath in fileList:\n",
        "    os.remove(filePath)"
      ],
      "metadata": {
        "id": "us7nztY1v-VG"
      },
      "execution_count": 22,
      "outputs": []
    },
    {
      "cell_type": "code",
      "source": [],
      "metadata": {
        "id": "D2sk9ayGayOF"
      },
      "execution_count": null,
      "outputs": []
    },
    {
      "cell_type": "markdown",
      "source": [
        "**Step 2. To chop up the letters**"
      ],
      "metadata": {
        "id": "XoCKOv8B1Ptv"
      }
    },
    {
      "cell_type": "code",
      "source": [
        "import os, sys, random\n",
        "import xml.etree.ElementTree as ET\n",
        "from glob import glob\n",
        "import pandas as pd\n",
        "from shutil import copyfile\n"
      ],
      "metadata": {
        "id": "XSEATm2i1FW-"
      },
      "execution_count": 23,
      "outputs": []
    },
    {
      "cell_type": "code",
      "source": [
        "# https://github.com/Shenggan/BCCD_Dataset/blob/master/export.py\n",
        "\n",
        "annotations = glob('georgian-letters-photo-database/*.xml')\n",
        "\n",
        "df = []\n",
        "cnt = 0\n",
        "\n",
        "for file in annotations:\n",
        "    filename = file.split('/')[-1].split('.')[0] + '.jpg'\n",
        "    row = []\n",
        "    parsedXML = ET.parse(file)\n",
        "    for node in parsedXML.getroot().iter('object'):\n",
        "        letters = node.find('name').text\n",
        "        xmin = int(node.find('bndbox/xmin').text)\n",
        "        xmax = int(node.find('bndbox/xmax').text)\n",
        "        ymin = int(node.find('bndbox/ymin').text)\n",
        "        ymax = int(node.find('bndbox/ymax').text)\n",
        "\n",
        "        row = [filename, letters, xmin, xmax, ymin, ymax]\n",
        "        df.append(row)\n",
        "        cnt += 1\n",
        "\n",
        "data = pd.DataFrame(df, columns=['filename', 'letter_name', 'xmin', 'xmax', 'ymin', 'ymax'])\n",
        "\n",
        "data[['filename', 'letter_name', 'xmin', 'xmax', 'ymin', 'ymax']].to_csv('test.csv', index=False)"
      ],
      "metadata": {
        "id": "TkTurZgm18uu"
      },
      "execution_count": 24,
      "outputs": []
    },
    {
      "cell_type": "code",
      "source": [
        "df = pd.read_csv('test.csv')\n",
        "df.head()"
      ],
      "metadata": {
        "colab": {
          "base_uri": "https://localhost:8080/",
          "height": 206
        },
        "id": "pUvgWbgt1FZ4",
        "outputId": "3ce7a218-f56c-482b-acfc-bc60c2bcb2f3"
      },
      "execution_count": 25,
      "outputs": [
        {
          "output_type": "execute_result",
          "data": {
            "text/plain": [
              "                  filename letter_name  xmin  xmax  ymin  ymax\n",
              "0  IMG_20230213_212214.jpg         18ტ   578   841  1167  1520\n",
              "1  IMG_20230213_212214.jpg         19უ   812  1029  1187  1475\n",
              "2  IMG_20230213_212214.jpg         16რ  1006  1220  1187  1501\n",
              "3  IMG_20230213_212214.jpg          1ბ  1197  1401  1190  1498\n",
              "4  IMG_20230213_212214.jpg         13ო  1385  1689  1206  1511"
            ],
            "text/html": [
              "\n",
              "  <div id=\"df-e09bbad7-ac9b-4aa1-b843-80876e04e738\">\n",
              "    <div class=\"colab-df-container\">\n",
              "      <div>\n",
              "<style scoped>\n",
              "    .dataframe tbody tr th:only-of-type {\n",
              "        vertical-align: middle;\n",
              "    }\n",
              "\n",
              "    .dataframe tbody tr th {\n",
              "        vertical-align: top;\n",
              "    }\n",
              "\n",
              "    .dataframe thead th {\n",
              "        text-align: right;\n",
              "    }\n",
              "</style>\n",
              "<table border=\"1\" class=\"dataframe\">\n",
              "  <thead>\n",
              "    <tr style=\"text-align: right;\">\n",
              "      <th></th>\n",
              "      <th>filename</th>\n",
              "      <th>letter_name</th>\n",
              "      <th>xmin</th>\n",
              "      <th>xmax</th>\n",
              "      <th>ymin</th>\n",
              "      <th>ymax</th>\n",
              "    </tr>\n",
              "  </thead>\n",
              "  <tbody>\n",
              "    <tr>\n",
              "      <th>0</th>\n",
              "      <td>IMG_20230213_212214.jpg</td>\n",
              "      <td>18ტ</td>\n",
              "      <td>578</td>\n",
              "      <td>841</td>\n",
              "      <td>1167</td>\n",
              "      <td>1520</td>\n",
              "    </tr>\n",
              "    <tr>\n",
              "      <th>1</th>\n",
              "      <td>IMG_20230213_212214.jpg</td>\n",
              "      <td>19უ</td>\n",
              "      <td>812</td>\n",
              "      <td>1029</td>\n",
              "      <td>1187</td>\n",
              "      <td>1475</td>\n",
              "    </tr>\n",
              "    <tr>\n",
              "      <th>2</th>\n",
              "      <td>IMG_20230213_212214.jpg</td>\n",
              "      <td>16რ</td>\n",
              "      <td>1006</td>\n",
              "      <td>1220</td>\n",
              "      <td>1187</td>\n",
              "      <td>1501</td>\n",
              "    </tr>\n",
              "    <tr>\n",
              "      <th>3</th>\n",
              "      <td>IMG_20230213_212214.jpg</td>\n",
              "      <td>1ბ</td>\n",
              "      <td>1197</td>\n",
              "      <td>1401</td>\n",
              "      <td>1190</td>\n",
              "      <td>1498</td>\n",
              "    </tr>\n",
              "    <tr>\n",
              "      <th>4</th>\n",
              "      <td>IMG_20230213_212214.jpg</td>\n",
              "      <td>13ო</td>\n",
              "      <td>1385</td>\n",
              "      <td>1689</td>\n",
              "      <td>1206</td>\n",
              "      <td>1511</td>\n",
              "    </tr>\n",
              "  </tbody>\n",
              "</table>\n",
              "</div>\n",
              "      <button class=\"colab-df-convert\" onclick=\"convertToInteractive('df-e09bbad7-ac9b-4aa1-b843-80876e04e738')\"\n",
              "              title=\"Convert this dataframe to an interactive table.\"\n",
              "              style=\"display:none;\">\n",
              "        \n",
              "  <svg xmlns=\"http://www.w3.org/2000/svg\" height=\"24px\"viewBox=\"0 0 24 24\"\n",
              "       width=\"24px\">\n",
              "    <path d=\"M0 0h24v24H0V0z\" fill=\"none\"/>\n",
              "    <path d=\"M18.56 5.44l.94 2.06.94-2.06 2.06-.94-2.06-.94-.94-2.06-.94 2.06-2.06.94zm-11 1L8.5 8.5l.94-2.06 2.06-.94-2.06-.94L8.5 2.5l-.94 2.06-2.06.94zm10 10l.94 2.06.94-2.06 2.06-.94-2.06-.94-.94-2.06-.94 2.06-2.06.94z\"/><path d=\"M17.41 7.96l-1.37-1.37c-.4-.4-.92-.59-1.43-.59-.52 0-1.04.2-1.43.59L10.3 9.45l-7.72 7.72c-.78.78-.78 2.05 0 2.83L4 21.41c.39.39.9.59 1.41.59.51 0 1.02-.2 1.41-.59l7.78-7.78 2.81-2.81c.8-.78.8-2.07 0-2.86zM5.41 20L4 18.59l7.72-7.72 1.47 1.35L5.41 20z\"/>\n",
              "  </svg>\n",
              "      </button>\n",
              "      \n",
              "  <style>\n",
              "    .colab-df-container {\n",
              "      display:flex;\n",
              "      flex-wrap:wrap;\n",
              "      gap: 12px;\n",
              "    }\n",
              "\n",
              "    .colab-df-convert {\n",
              "      background-color: #E8F0FE;\n",
              "      border: none;\n",
              "      border-radius: 50%;\n",
              "      cursor: pointer;\n",
              "      display: none;\n",
              "      fill: #1967D2;\n",
              "      height: 32px;\n",
              "      padding: 0 0 0 0;\n",
              "      width: 32px;\n",
              "    }\n",
              "\n",
              "    .colab-df-convert:hover {\n",
              "      background-color: #E2EBFA;\n",
              "      box-shadow: 0px 1px 2px rgba(60, 64, 67, 0.3), 0px 1px 3px 1px rgba(60, 64, 67, 0.15);\n",
              "      fill: #174EA6;\n",
              "    }\n",
              "\n",
              "    [theme=dark] .colab-df-convert {\n",
              "      background-color: #3B4455;\n",
              "      fill: #D2E3FC;\n",
              "    }\n",
              "\n",
              "    [theme=dark] .colab-df-convert:hover {\n",
              "      background-color: #434B5C;\n",
              "      box-shadow: 0px 1px 3px 1px rgba(0, 0, 0, 0.15);\n",
              "      filter: drop-shadow(0px 1px 2px rgba(0, 0, 0, 0.3));\n",
              "      fill: #FFFFFF;\n",
              "    }\n",
              "  </style>\n",
              "\n",
              "      <script>\n",
              "        const buttonEl =\n",
              "          document.querySelector('#df-e09bbad7-ac9b-4aa1-b843-80876e04e738 button.colab-df-convert');\n",
              "        buttonEl.style.display =\n",
              "          google.colab.kernel.accessAllowed ? 'block' : 'none';\n",
              "\n",
              "        async function convertToInteractive(key) {\n",
              "          const element = document.querySelector('#df-e09bbad7-ac9b-4aa1-b843-80876e04e738');\n",
              "          const dataTable =\n",
              "            await google.colab.kernel.invokeFunction('convertToInteractive',\n",
              "                                                     [key], {});\n",
              "          if (!dataTable) return;\n",
              "\n",
              "          const docLinkHtml = 'Like what you see? Visit the ' +\n",
              "            '<a target=\"_blank\" href=https://colab.research.google.com/notebooks/data_table.ipynb>data table notebook</a>'\n",
              "            + ' to learn more about interactive tables.';\n",
              "          element.innerHTML = '';\n",
              "          dataTable['output_type'] = 'display_data';\n",
              "          await google.colab.output.renderOutput(dataTable, element);\n",
              "          const docLink = document.createElement('div');\n",
              "          docLink.innerHTML = docLinkHtml;\n",
              "          element.appendChild(docLink);\n",
              "        }\n",
              "      </script>\n",
              "    </div>\n",
              "  </div>\n",
              "  "
            ]
          },
          "metadata": {},
          "execution_count": 25
        }
      ]
    },
    {
      "cell_type": "code",
      "source": [
        "# for index, row in df.iterrows():\n",
        "#     print(row['letter_name'], row['xmin'])"
      ],
      "metadata": {
        "id": "FUyuHnWV5Fhf"
      },
      "execution_count": 27,
      "outputs": []
    },
    {
      "cell_type": "code",
      "source": [
        "import cv2\n",
        "from google.colab.patches import cv2_imshow\n"
      ],
      "metadata": {
        "id": "ltjK_PUcahAP"
      },
      "execution_count": 28,
      "outputs": []
    },
    {
      "cell_type": "code",
      "source": [
        "!mkdir cropped_images"
      ],
      "metadata": {
        "id": "DyFE-6yeb74l"
      },
      "execution_count": 32,
      "outputs": []
    },
    {
      "cell_type": "code",
      "source": [
        "letter_names = set(list(df['letter_name']))\n",
        "# letter_names"
      ],
      "metadata": {
        "id": "3qgya8upcOAe"
      },
      "execution_count": 30,
      "outputs": []
    },
    {
      "cell_type": "code",
      "source": [
        "def reverse_image(img_test):\n",
        "    height, width = img_test.shape[:2]\n",
        "    border_delta = 0.02\n",
        "\n",
        "    # mean grayscale value\n",
        "    mean_image = np.mean(img_test)\n",
        "\n",
        "    # grayscale values near the borders\n",
        "    mean_left_border = np.mean(img_test[:, int(width*(1-border_delta)):width])\n",
        "    mean_right_border = np.mean(img_test[:, 0:int(width*border_delta)])\n",
        "    mean_upper_border = np.mean(img_test[0:int(height*border_delta), :])\n",
        "    mean_lower_border = np.mean(img_test[int(height*(1-border_delta)):height, :])\n",
        "\n",
        "    if mean_image > np.mean(np.array([mean_left_border, mean_right_border, mean_upper_border, mean_lower_border])):\n",
        "        return cv2.bitwise_not(img_test)\n",
        "    else:\n",
        "        return img_test\n"
      ],
      "metadata": {
        "id": "HI5VYgzWsP0L"
      },
      "execution_count": 76,
      "outputs": []
    },
    {
      "cell_type": "code",
      "source": [
        "df_short = df.head(30)"
      ],
      "metadata": {
        "id": "rIclof9wd6tB"
      },
      "execution_count": 43,
      "outputs": []
    },
    {
      "cell_type": "code",
      "source": [
        "# REPLACE BACK df_short WITH df\n",
        "\n",
        "'''\n",
        "Creating a new dataset of images with singular letters.\n",
        "Grayscale. \n",
        "Resized to 200x300.\n",
        "Inverted (black <-> white) if the borders are darker than the image on the average\n",
        "'''\n",
        "\n",
        "for index, row in df_short.iterrows():\n",
        "    img = cv2.imread(\"georgian-letters-photo-database/\" + row['filename'])\n",
        "    crop_img = img[row['ymin']:row['ymax'], row['xmin']:row['xmax']]\n",
        "    letter_counter = {}\n",
        "    for letter_name in letter_names:\n",
        "        letter_counter[letter_name] = 0\n",
        "    letter_counter[row['letter_name']] += 1\n",
        "    crop_resize_img = cv2.resize(crop_img, (200, 300))\n",
        "    gray_crop_resize_img = cv2.cvtColor(crop_resize_img, cv2.COLOR_BGR2GRAY)\n",
        "    cv2.imwrite('cropped_images/' + row['filename'][:-4] + '_' + row['letter_name'][-1] + '_' + str(letter_counter[row['letter_name']]) + '.jpg', reverse_image(gray_crop_resize_img))\n"
      ],
      "metadata": {
        "id": "qk1VbcwFahCj"
      },
      "execution_count": 77,
      "outputs": []
    },
    {
      "cell_type": "code",
      "source": [
        "# import os\n",
        "# import glob\n",
        "\n",
        "# files = glob.glob('cropped_images/*')\n",
        "# for f in files:\n",
        "#     os.remove(f)"
      ],
      "metadata": {
        "id": "CHwDbnNDahFK"
      },
      "execution_count": 45,
      "outputs": []
    },
    {
      "cell_type": "code",
      "source": [
        "# !rmdir croped_images"
      ],
      "metadata": {
        "id": "hwDXQRUOhz46"
      },
      "execution_count": 47,
      "outputs": []
    },
    {
      "cell_type": "code",
      "source": [],
      "metadata": {
        "id": "F04Rm_G0kkJp"
      },
      "execution_count": null,
      "outputs": []
    },
    {
      "cell_type": "code",
      "source": [],
      "metadata": {
        "id": "HqaW4O7dkkML"
      },
      "execution_count": null,
      "outputs": []
    },
    {
      "cell_type": "code",
      "source": [],
      "metadata": {
        "id": "pno_IfxokkOh"
      },
      "execution_count": null,
      "outputs": []
    },
    {
      "cell_type": "code",
      "source": [
        "img_test = cv2.imread(\"/content/cropped_images/IMG_20230212_163114_ე_1.jpg\")\n",
        "\n",
        "cv2_imshow(img_test)\n"
      ],
      "metadata": {
        "colab": {
          "base_uri": "https://localhost:8080/",
          "height": 317
        },
        "id": "d0GzP-O3kkQ5",
        "outputId": "8070a790-8295-44cc-a2d5-5e820d996e38"
      },
      "execution_count": 51,
      "outputs": [
        {
          "output_type": "display_data",
          "data": {
            "text/plain": [
              "<PIL.Image.Image image mode=RGB size=200x300 at 0x7F267C697B50>"
            ],
            "image/png": "[encoded data removed]"
          },
          "metadata": {}
        }
      ]
    },
    {
      "cell_type": "code",
      "source": [
        "cv2_imshow(reverse_image(img_test))\n"
      ],
      "metadata": {
        "colab": {
          "base_uri": "https://localhost:8080/",
          "height": 317
        },
        "id": "eiTwFUytqNzC",
        "outputId": "c6bc3560-261c-4b1f-c11e-7323ebd0df21"
      },
      "execution_count": 75,
      "outputs": [
        {
          "output_type": "display_data",
          "data": {
            "text/plain": [
              "<PIL.Image.Image image mode=RGB size=200x300 at 0x7F266C2838E0>"
            ],
            "image/png": "[encoded data removed]"
          },
          "metadata": {}
        }
      ]
    },
    {
      "cell_type": "code",
      "source": [],
      "metadata": {
        "id": "pRgw_FE_qN1m"
      },
      "execution_count": null,
      "outputs": []
    },
    {
      "cell_type": "code",
      "source": [],
      "metadata": {
        "id": "vAfGMKkTnCy3"
      },
      "execution_count": null,
      "outputs": []
    },
    {
      "cell_type": "code",
      "source": [
        "# threshold\n",
        "thresh = cv2.threshold(img_test, 180, 255, cv2.THRESH_BINARY)[1]\n",
        "\n",
        "# count number of white pixels\n",
        "mean = np.mean(img_test)\n",
        "print(\"mean =\", mean)\n",
        "\n",
        "mean_masked = np.mean(img_test[np.where(thresh == 255)])\n",
        "print(\"masked mean =\", mean_masked)\n"
      ],
      "metadata": {
        "colab": {
          "base_uri": "https://localhost:8080/"
        },
        "id": "MZuc0YOOl0yd",
        "outputId": "30a19f3e-2864-4b0d-ce2c-9a6f45541f5d"
      },
      "execution_count": 53,
      "outputs": [
        {
          "output_type": "stream",
          "name": "stdout",
          "text": [
            "mean = 136.24663333333334\n",
            "masked mean = 215.07470801449858\n"
          ]
        }
      ]
    },
    {
      "cell_type": "code",
      "source": [
        "# write thresh to disk\n",
        "cv2.imwrite(\"gray_with_spots_thresh.png\", thresh)\n",
        "\n",
        "# display it\n",
        "cv2_imshow(thresh)\n",
        "cv2.waitKey(0)"
      ],
      "metadata": {
        "colab": {
          "base_uri": "https://localhost:8080/",
          "height": 335
        },
        "id": "3o2WpDdEl000",
        "outputId": "db92e099-5c80-438e-e6a1-64986a3cbcbe"
      },
      "execution_count": 56,
      "outputs": [
        {
          "output_type": "display_data",
          "data": {
            "text/plain": [
              "<PIL.Image.Image image mode=RGB size=200x300 at 0x7F267C5F9D00>"
            ],
            "image/png": "[encoded data removed]"
          },
          "metadata": {}
        },
        {
          "output_type": "execute_result",
          "data": {
            "text/plain": [
              "-1"
            ]
          },
          "metadata": {},
          "execution_count": 56
        }
      ]
    },
    {
      "cell_type": "code",
      "source": [],
      "metadata": {
        "id": "WpaFN_QlkkVV"
      },
      "execution_count": null,
      "outputs": []
    },
    {
      "cell_type": "code",
      "source": [],
      "metadata": {
        "id": "FNpK3qTTkkX6"
      },
      "execution_count": null,
      "outputs": []
    },
    {
      "cell_type": "code",
      "source": [
        "\n",
        "# img = cv2.imread(\"georgian-letters-photo-database/IMG_20230213_212214.jpg\")\n",
        "# crop_img = img[1167:1520, 578:841]\n",
        "# # cv2.imshow(\"cropped\", crop_img) \n",
        "# # cv2.imshow() is disabled in Colab, because it causes Jupyter sessions\n",
        "# # to crash; see https://github.com/jupyter/notebook/issues/3935.\n",
        "# # As a substitution, consider using\n",
        "# #   from google.colab.patches import cv2_imshow\n",
        "# cv2_imshow(crop_img)\n",
        "# cv2.waitKey(0)"
      ],
      "metadata": {
        "id": "JyaD4vnVLRoL"
      },
      "execution_count": 49,
      "outputs": []
    },
    {
      "cell_type": "code",
      "source": [],
      "metadata": {
        "id": "fyv67cWcPFWa"
      },
      "execution_count": 13,
      "outputs": []
    },
    {
      "cell_type": "code",
      "source": [],
      "metadata": {
        "id": "u57IHeLnLRtJ"
      },
      "execution_count": null,
      "outputs": []
    },
    {
      "cell_type": "code",
      "source": [],
      "metadata": {
        "id": "s9vVQ_8aK_d5"
      },
      "execution_count": null,
      "outputs": []
    },
    {
      "cell_type": "code",
      "source": [],
      "metadata": {
        "id": "vCKaoFMbK_gP"
      },
      "execution_count": null,
      "outputs": []
    },
    {
      "cell_type": "code",
      "source": [],
      "metadata": {
        "id": "IkYjKY2oK_im"
      },
      "execution_count": null,
      "outputs": []
    },
    {
      "cell_type": "code",
      "source": [],
      "metadata": {
        "id": "tmPdQLNbK_kq"
      },
      "execution_count": null,
      "outputs": []
    },
    {
      "cell_type": "code",
      "source": [],
      "metadata": {
        "id": "uBSgKcaPK_nC"
      },
      "execution_count": null,
      "outputs": []
    },
    {
      "cell_type": "code",
      "source": [],
      "metadata": {
        "id": "BISK6aVr5FkB"
      },
      "execution_count": null,
      "outputs": []
    },
    {
      "cell_type": "markdown",
      "source": [
        "**======= DRAFTS =======**\n",
        "\n",
        "**======= DRAFTS =======**\n",
        "\n",
        "**======= DRAFTS =======**"
      ],
      "metadata": {
        "id": "2Dq2QG0WKnnI"
      }
    },
    {
      "cell_type": "code",
      "source": [],
      "metadata": {
        "id": "lHCZNC9g5Fmp"
      },
      "execution_count": null,
      "outputs": []
    },
    {
      "cell_type": "markdown",
      "source": [
        "**Step 3. To create copies of images with rectangles of letters**"
      ],
      "metadata": {
        "id": "jjVnZRbQ6gOq"
      }
    },
    {
      "cell_type": "code",
      "source": [
        "import pandas as pd\n",
        "import matplotlib.pyplot as plt\n",
        "from matplotlib import patches\n",
        "import os\n"
      ],
      "metadata": {
        "id": "aM_0C_AU2oor"
      },
      "execution_count": 13,
      "outputs": []
    },
    {
      "cell_type": "code",
      "source": [
        "# https://github.com/Shenggan/BCCD_Dataset/blob/master/plot.py\n",
        "\n",
        "def filterFiles(directoryPath, extension):\n",
        "    \"\"\"\n",
        "        This function filters the format files with the selected extension in the directory\n",
        "        \n",
        "        Args:\n",
        "            directoryPath (str): relative path of the directory that contains text files\n",
        "            extension (str): extension file\n",
        "        Returns:\n",
        "            The list of filtered files with the selected extension\n",
        "    \"\"\"    \n",
        "    relevant_path = directoryPath\n",
        "    included_extensions = [extension]\n",
        "    file_names = [file1 for file1 in os.listdir(relevant_path) if any(file1.endswith(ext) for ext in included_extensions)]\n",
        "    numberOfFiles = len(file_names)\n",
        "    listParams = [file_names, numberOfFiles]\n",
        "    return listParams"
      ],
      "metadata": {
        "id": "Owj5bnKZ2orf"
      },
      "execution_count": 14,
      "outputs": []
    },
    {
      "cell_type": "code",
      "source": [
        "[image_names, numberOfFiles] = filterFiles(\"georgian-letters-photo-database\", \"jpg\")    \n",
        "\n",
        "trainRCNN = pd.read_csv('test.csv', sep=\",\", header=None)\n",
        "trainRCNN.columns = ['filename', 'letter_name', 'xmin', 'xmax', 'ymin', 'ymax']\n",
        "trainRCNN.head()\n",
        "\n",
        "for imageFileName in image_names:    \n",
        "    fig = plt.figure()\n",
        "    #add axes to the image\n",
        "    ax = fig.add_axes([0,0,1,1]) #adding X and Y axes from 0 to 1 for each direction \n",
        "    plt.axis('off')\n",
        "\n",
        "    # read and plot the image\n",
        "    image = plt.imread('georgian-letters-photo-database/' + imageFileName)\n",
        "    plt.imshow(image)\n",
        "    # iterating over the image for different objects\n",
        "    for _, row in trainRCNN[trainRCNN.filename == imageFileName].iterrows():\n",
        "        xmin = float(row.xmin)\n",
        "        xmax = float(row.xmax)\n",
        "        ymin = float(row.ymin)\n",
        "        ymax = float(row.ymax)\n",
        "        \n",
        "        width = xmax - xmin\n",
        "        height = ymax - ymin\n",
        "        ClassName = row.letter_name\n",
        "\n",
        "        ax.annotate(ClassName, xy=(xmax-40, ymin+20))\n",
        "        rect = patches.Rectangle((xmin,ymin), width, height, edgecolor = 'r', facecolor = 'none')\n",
        "\n",
        "        # assign different color to different classes of objects\n",
        "        # if row.letter_name == 'RBC':\n",
        "        #     ax.annotate('RBC', xy=(xmax-40,ymin+20))\n",
        "        #     rect = patches.Rectangle((xmin,ymin), width, height, edgecolor = 'r', facecolor = 'none')\n",
        "        # elif row.letter_name == 'WBC':\n",
        "        #     ax.annotate('WBC', xy=(xmax-40,ymin+20))\n",
        "        #     rect = patches.Rectangle((xmin,ymin), width, height, edgecolor = 'b', facecolor = 'none')\n",
        "        # elif row.letter_name == 'Platelets':\n",
        "        #     ax.annotate('Platelets', xy=(xmax-40,ymin+20))\n",
        "        #     rect = patches.Rectangle((xmin,ymin), width, height, edgecolor = 'g', facecolor = 'none')        \n",
        "        # else:\n",
        "        #     print(\"nothing\")\n",
        "    \n",
        "        ax.add_patch(rect)   \n",
        "        if not os.path.exists(\"imagesBox\"):\n",
        "            os.makedirs(\"imagesBox\")\n",
        "\n",
        "        fig.savefig('imagesBox/' + imageFileName, dpi=90, bbox_inches='tight')\n",
        "    plt.close()\n",
        "    print(\"ImageName: \" + imageFileName + \" is saved in imagesBox folder\")\n",
        "        \n",
        "print(\"PLOTBOX COMPLETED!\")"
      ],
      "metadata": {
        "colab": {
          "base_uri": "https://localhost:8080/",
          "height": 816
        },
        "id": "aFu_-87R2ovI",
        "outputId": "8cb13d50-ceb0-4ea2-8c15-9464742d866e"
      },
      "execution_count": 19,
      "outputs": [
        {
          "output_type": "stream",
          "name": "stdout",
          "text": [
            "ImageName: IMG_20230205_132210.jpg is saved in imagesBox folder\n",
            "ImageName: IMG_20230215_140933 (1).jpg is saved in imagesBox folder\n"
          ]
        },
        {
          "output_type": "error",
          "ename": "UnidentifiedImageError",
          "evalue": "ignored",
          "traceback": [
            "\u001b[0;31m---------------------------------------------------------------------------\u001b[0m",
            "\u001b[0;31mUnidentifiedImageError\u001b[0m                    Traceback (most recent call last)",
            "\u001b[0;32m<ipython-input-19-1f300a7d1f13>\u001b[0m in \u001b[0;36m<module>\u001b[0;34m\u001b[0m\n\u001b[1;32m     12\u001b[0m \u001b[0;34m\u001b[0m\u001b[0m\n\u001b[1;32m     13\u001b[0m     \u001b[0;31m# read and plot the image\u001b[0m\u001b[0;34m\u001b[0m\u001b[0;34m\u001b[0m\u001b[0;34m\u001b[0m\u001b[0m\n\u001b[0;32m---> 14\u001b[0;31m     \u001b[0mimage\u001b[0m \u001b[0;34m=\u001b[0m \u001b[0mplt\u001b[0m\u001b[0;34m.\u001b[0m\u001b[0mimread\u001b[0m\u001b[0;34m(\u001b[0m\u001b[0;34m'georgian-letters-photo-database/'\u001b[0m \u001b[0;34m+\u001b[0m \u001b[0mimageFileName\u001b[0m\u001b[0;34m)\u001b[0m\u001b[0;34m\u001b[0m\u001b[0;34m\u001b[0m\u001b[0m\n\u001b[0m\u001b[1;32m     15\u001b[0m     \u001b[0mplt\u001b[0m\u001b[0;34m.\u001b[0m\u001b[0mimshow\u001b[0m\u001b[0;34m(\u001b[0m\u001b[0mimage\u001b[0m\u001b[0;34m)\u001b[0m\u001b[0;34m\u001b[0m\u001b[0;34m\u001b[0m\u001b[0m\n\u001b[1;32m     16\u001b[0m     \u001b[0;31m# iterating over the image for different objects\u001b[0m\u001b[0;34m\u001b[0m\u001b[0;34m\u001b[0m\u001b[0;34m\u001b[0m\u001b[0m\n",
            "\u001b[0;32m/usr/local/lib/python3.8/dist-packages/matplotlib/pyplot.py\u001b[0m in \u001b[0;36mimread\u001b[0;34m(fname, format)\u001b[0m\n\u001b[1;32m   2059\u001b[0m \u001b[0;34m@\u001b[0m\u001b[0mdocstring\u001b[0m\u001b[0;34m.\u001b[0m\u001b[0mcopy\u001b[0m\u001b[0;34m(\u001b[0m\u001b[0mmatplotlib\u001b[0m\u001b[0;34m.\u001b[0m\u001b[0mimage\u001b[0m\u001b[0;34m.\u001b[0m\u001b[0mimread\u001b[0m\u001b[0;34m)\u001b[0m\u001b[0;34m\u001b[0m\u001b[0;34m\u001b[0m\u001b[0m\n\u001b[1;32m   2060\u001b[0m \u001b[0;32mdef\u001b[0m \u001b[0mimread\u001b[0m\u001b[0;34m(\u001b[0m\u001b[0mfname\u001b[0m\u001b[0;34m,\u001b[0m \u001b[0mformat\u001b[0m\u001b[0;34m=\u001b[0m\u001b[0;32mNone\u001b[0m\u001b[0;34m)\u001b[0m\u001b[0;34m:\u001b[0m\u001b[0;34m\u001b[0m\u001b[0;34m\u001b[0m\u001b[0m\n\u001b[0;32m-> 2061\u001b[0;31m     \u001b[0;32mreturn\u001b[0m \u001b[0mmatplotlib\u001b[0m\u001b[0;34m.\u001b[0m\u001b[0mimage\u001b[0m\u001b[0;34m.\u001b[0m\u001b[0mimread\u001b[0m\u001b[0;34m(\u001b[0m\u001b[0mfname\u001b[0m\u001b[0;34m,\u001b[0m \u001b[0mformat\u001b[0m\u001b[0;34m)\u001b[0m\u001b[0;34m\u001b[0m\u001b[0;34m\u001b[0m\u001b[0m\n\u001b[0m\u001b[1;32m   2062\u001b[0m \u001b[0;34m\u001b[0m\u001b[0m\n\u001b[1;32m   2063\u001b[0m \u001b[0;34m\u001b[0m\u001b[0m\n",
            "\u001b[0;32m/usr/local/lib/python3.8/dist-packages/matplotlib/image.py\u001b[0m in \u001b[0;36mimread\u001b[0;34m(fname, format)\u001b[0m\n\u001b[1;32m   1462\u001b[0m             raise ValueError('Only know how to handle PNG; with Pillow '\n\u001b[1;32m   1463\u001b[0m                              'installed, Matplotlib can handle more images')\n\u001b[0;32m-> 1464\u001b[0;31m         \u001b[0;32mwith\u001b[0m \u001b[0mImage\u001b[0m\u001b[0;34m.\u001b[0m\u001b[0mopen\u001b[0m\u001b[0;34m(\u001b[0m\u001b[0mfname\u001b[0m\u001b[0;34m)\u001b[0m \u001b[0;32mas\u001b[0m \u001b[0mimage\u001b[0m\u001b[0;34m:\u001b[0m\u001b[0;34m\u001b[0m\u001b[0;34m\u001b[0m\u001b[0m\n\u001b[0m\u001b[1;32m   1465\u001b[0m             \u001b[0;32mreturn\u001b[0m \u001b[0mpil_to_array\u001b[0m\u001b[0;34m(\u001b[0m\u001b[0mimage\u001b[0m\u001b[0;34m)\u001b[0m\u001b[0;34m\u001b[0m\u001b[0;34m\u001b[0m\u001b[0m\n\u001b[1;32m   1466\u001b[0m     \u001b[0;32mfrom\u001b[0m \u001b[0mmatplotlib\u001b[0m \u001b[0;32mimport\u001b[0m \u001b[0m_png\u001b[0m\u001b[0;34m\u001b[0m\u001b[0;34m\u001b[0m\u001b[0m\n",
            "\u001b[0;32m/usr/local/lib/python3.8/dist-packages/PIL/Image.py\u001b[0m in \u001b[0;36mopen\u001b[0;34m(fp, mode)\u001b[0m\n\u001b[1;32m   2893\u001b[0m     \u001b[0;32mfor\u001b[0m \u001b[0mmessage\u001b[0m \u001b[0;32min\u001b[0m \u001b[0maccept_warnings\u001b[0m\u001b[0;34m:\u001b[0m\u001b[0;34m\u001b[0m\u001b[0;34m\u001b[0m\u001b[0m\n\u001b[1;32m   2894\u001b[0m         \u001b[0mwarnings\u001b[0m\u001b[0;34m.\u001b[0m\u001b[0mwarn\u001b[0m\u001b[0;34m(\u001b[0m\u001b[0mmessage\u001b[0m\u001b[0;34m)\u001b[0m\u001b[0;34m\u001b[0m\u001b[0;34m\u001b[0m\u001b[0m\n\u001b[0;32m-> 2895\u001b[0;31m     raise UnidentifiedImageError(\n\u001b[0m\u001b[1;32m   2896\u001b[0m         \u001b[0;34m\"cannot identify image file %r\"\u001b[0m \u001b[0;34m%\u001b[0m \u001b[0;34m(\u001b[0m\u001b[0mfilename\u001b[0m \u001b[0;32mif\u001b[0m \u001b[0mfilename\u001b[0m \u001b[0;32melse\u001b[0m \u001b[0mfp\u001b[0m\u001b[0;34m)\u001b[0m\u001b[0;34m\u001b[0m\u001b[0;34m\u001b[0m\u001b[0m\n\u001b[1;32m   2897\u001b[0m     )\n",
            "\u001b[0;31mUnidentifiedImageError\u001b[0m: cannot identify image file 'georgian-letters-photo-database/IMG_20230213_212214.xml'"
          ]
        },
        {
          "output_type": "display_data",
          "data": {
            "text/plain": [
              "<Figure size 432x288 with 1 Axes>"
            ],
            "image/png": "[encoded data removed]"
          },
          "metadata": {
            "needs_background": "light"
          }
        }
      ]
    },
    {
      "cell_type": "code",
      "source": [],
      "metadata": {
        "id": "ZJQMOayu6oXd"
      },
      "execution_count": null,
      "outputs": []
    },
    {
      "cell_type": "code",
      "source": [],
      "metadata": {
        "id": "_t9cTwyyCnTQ"
      },
      "execution_count": null,
      "outputs": []
    },
    {
      "cell_type": "code",
      "source": [],
      "metadata": {
        "id": "xSX9z2EQCnWT"
      },
      "execution_count": null,
      "outputs": []
    },
    {
      "cell_type": "code",
      "source": [],
      "metadata": {
        "id": "s4VOFjxG6oZe"
      },
      "execution_count": null,
      "outputs": []
    },
    {
      "cell_type": "markdown",
      "source": [],
      "metadata": {
        "id": "K_78gGeDKUR5"
      }
    },
    {
      "cell_type": "code",
      "source": [],
      "metadata": {
        "id": "qTYBm1Qy6ob1"
      },
      "execution_count": null,
      "outputs": []
    },
    {
      "cell_type": "markdown",
      "source": [
        "**Step 1. Splitting on train (80%) and test sets**\n",
        "\n",
        "..."
      ],
      "metadata": {
        "id": "0MgCow9Jy6C7"
      }
    },
    {
      "cell_type": "code",
      "source": [
        "# #creating two dir for training and testing\n",
        "# !mkdir test_labels train_labels\n",
        "\n",
        "# # lists the files inside 'annotations' in a random order (not really random, by their hash value instead)\n",
        "# # Moves the first 274/1370 labels (20% of the labels) to the testing dir: `test_labels`\n",
        "# !ls annotations/* | sort -R | head -274 | xargs -I{} mv {} test_labels/\n",
        "\n",
        "# # Moves the rest of the labels ( 1096 labels ) to the training dir: `train_labels`\n",
        "# !ls annotations/* | xargs -I{} mv {} train_labels/"
      ],
      "metadata": {
        "id": "6SMfjBANv-XZ"
      },
      "execution_count": null,
      "outputs": []
    },
    {
      "cell_type": "code",
      "source": [
        "#creating two dir for training and testing\n",
        "!mkdir test_labels train_labels"
      ],
      "metadata": {
        "id": "yzNsH5fzv-Ze"
      },
      "execution_count": 6,
      "outputs": []
    },
    {
      "cell_type": "code",
      "source": [
        "#creating two dir for training and testing\n",
        "!mkdir test train"
      ],
      "metadata": {
        "id": "iwCz_3jv_CGq"
      },
      "execution_count": 11,
      "outputs": []
    },
    {
      "cell_type": "code",
      "source": [
        "# 86 * 0.2"
      ],
      "metadata": {
        "colab": {
          "base_uri": "https://localhost:8080/"
        },
        "id": "YFaH4GwC7X8M",
        "outputId": "157973a2-cd8a-4a3c-bee2-6a716fa5fdb0"
      },
      "execution_count": 7,
      "outputs": [
        {
          "output_type": "execute_result",
          "data": {
            "text/plain": [
              "17.2"
            ]
          },
          "metadata": {},
          "execution_count": 7
        }
      ]
    },
    {
      "cell_type": "code",
      "source": [
        "# Moves the first 51/86 labels (20% of the labels) to the testing dir: `test_labels`\n",
        "!ls georgian-letters-photo-database/* | head -51 | xargs -I{} mv {} test/\n",
        "\n",
        "# to cancel:\n",
        "# !ls test/* | xargs -I{} mv {} georgian-letters-photo-database/"
      ],
      "metadata": {
        "id": "MpBOQJ08v-b0"
      },
      "execution_count": 10,
      "outputs": []
    },
    {
      "cell_type": "code",
      "source": [
        "!ls georgian-letters-photo-database/* | xargs -I{} mv {} train/"
      ],
      "metadata": {
        "id": "scSR7lhx_KRX"
      },
      "execution_count": 13,
      "outputs": []
    },
    {
      "cell_type": "code",
      "source": [],
      "metadata": {
        "id": "tECCjx5j_PvM"
      },
      "execution_count": null,
      "outputs": []
    },
    {
      "cell_type": "code",
      "source": [],
      "metadata": {
        "id": "0Ikp3Vjw_SeA"
      },
      "execution_count": null,
      "outputs": []
    },
    {
      "cell_type": "code",
      "source": [],
      "metadata": {
        "id": "N6sKIEzW_Sgl"
      },
      "execution_count": null,
      "outputs": []
    },
    {
      "cell_type": "code",
      "source": [],
      "metadata": {
        "id": "wSMQjAma_Si7"
      },
      "execution_count": null,
      "outputs": []
    },
    {
      "cell_type": "code",
      "source": [],
      "metadata": {
        "id": "EKMTxQLi_SlR"
      },
      "execution_count": null,
      "outputs": []
    }
  ]
}