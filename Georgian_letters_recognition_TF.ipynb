{
  "nbformat": 4,
  "nbformat_minor": 0,
  "metadata": {
    "colab": {
      "provenance": [],
      "authorship_tag": "ABX9TyMXOZ9ZkJAl7h6ApGJslVsH",
      "include_colab_link": true
    },
    "kernelspec": {
      "name": "python3",
      "display_name": "Python 3"
    },
    "language_info": {
      "name": "python"
    }
  },
  "cells": [
    {
      "cell_type": "markdown",
      "metadata": {
        "id": "view-in-github",
        "colab_type": "text"
      },
      "source": [
        "<a href=\"https://colab.research.google.com/github/am-tropin/georgian-letters-trainer/blob/main/Georgian_letters_recognition_TF.ipynb\" target=\"_parent\"><img src=\"https://colab.research.google.com/assets/colab-badge.svg\" alt=\"Open In Colab\"/></a>"
      ]
    },
    {
      "cell_type": "code",
      "execution_count": null,
      "metadata": {
        "id": "2eo1-747dOUA"
      },
      "outputs": [],
      "source": []
    },
    {
      "cell_type": "markdown",
      "source": [
        "**Step 0. Libraries**"
      ],
      "metadata": {
        "id": "9aFUoZDG7bT_"
      }
    },
    {
      "cell_type": "code",
      "source": [
        "from keras.models import Sequential\n"
      ],
      "metadata": {
        "id": "WgTeSDKkyXmj"
      },
      "execution_count": 1,
      "outputs": []
    },
    {
      "cell_type": "code",
      "source": [
        "import tensorflow as tf\n",
        "\n",
        "import tensorflow_datasets as tfds\n",
        "\n",
        "# tf.enable_eager_execution()"
      ],
      "metadata": {
        "id": "bQcvLxaJyXpA"
      },
      "execution_count": 2,
      "outputs": []
    },
    {
      "cell_type": "code",
      "source": [
        "from keras.layers.core import Dense, Activation, Dropout, Flatten\n",
        "from keras.layers.convolutional import Convolution2D, MaxPooling2D\n",
        "from keras.optimizers import SGD, RMSprop, Adam\n",
        "from keras.utils import np_utils\n",
        "from sklearn.tree import DecisionTreeClassifier # Import Decision Tree Classifier\n",
        "from sklearn import metrics\n",
        "from sklearn.utils import shuffle\n",
        "from sklearn.model_selection import train_test_split\n",
        "import matplotlib.image as mpimg\n",
        "import matplotlib.pyplot as plt\n",
        "import numpy as np\n",
        "import os\n",
        "import cv2\n",
        "import random\n",
        "from numpy import *\n",
        "from PIL import Image\n",
        "# import theano"
      ],
      "metadata": {
        "id": "c3GnyLILyXti"
      },
      "execution_count": 3,
      "outputs": []
    },
    {
      "cell_type": "markdown",
      "source": [
        "**Step 1. Choose a dataset**"
      ],
      "metadata": {
        "id": "RKMZJmvx7grN"
      }
    },
    {
      "cell_type": "code",
      "source": [],
      "metadata": {
        "id": "F28Dt8HEyXwI"
      },
      "execution_count": null,
      "outputs": []
    },
    {
      "cell_type": "code",
      "source": [
        "!pip install pandas"
      ],
      "metadata": {
        "colab": {
          "base_uri": "https://localhost:8080/"
        },
        "id": "foT7cCnQv-N1",
        "outputId": "965d215a-0724-4599-a572-1bb75359f0f6"
      },
      "execution_count": 4,
      "outputs": [
        {
          "output_type": "stream",
          "name": "stdout",
          "text": [
            "Looking in indexes: https://pypi.org/simple, https://us-python.pkg.dev/colab-wheels/public/simple/\n",
            "Requirement already satisfied: pandas in /usr/local/lib/python3.8/dist-packages (1.3.5)\n",
            "Requirement already satisfied: python-dateutil>=2.7.3 in /usr/local/lib/python3.8/dist-packages (from pandas) (2.8.2)\n",
            "Requirement already satisfied: numpy>=1.17.3 in /usr/local/lib/python3.8/dist-packages (from pandas) (1.21.6)\n",
            "Requirement already satisfied: pytz>=2017.3 in /usr/local/lib/python3.8/dist-packages (from pandas) (2022.7.1)\n",
            "Requirement already satisfied: six>=1.5 in /usr/local/lib/python3.8/dist-packages (from python-dateutil>=2.7.3->pandas) (1.15.0)\n"
          ]
        }
      ]
    },
    {
      "cell_type": "code",
      "source": [
        "!pip install opendatasets"
      ],
      "metadata": {
        "colab": {
          "base_uri": "https://localhost:8080/"
        },
        "id": "1u1vpkQdwJix",
        "outputId": "c71df557-51b6-4ec6-d88d-8f0e06009f8c"
      },
      "execution_count": 5,
      "outputs": [
        {
          "output_type": "stream",
          "name": "stdout",
          "text": [
            "Looking in indexes: https://pypi.org/simple, https://us-python.pkg.dev/colab-wheels/public/simple/\n",
            "Collecting opendatasets\n",
            "  Downloading opendatasets-0.1.22-py3-none-any.whl (15 kB)\n",
            "Requirement already satisfied: click in /usr/local/lib/python3.8/dist-packages (from opendatasets) (7.1.2)\n",
            "Requirement already satisfied: tqdm in /usr/local/lib/python3.8/dist-packages (from opendatasets) (4.64.1)\n",
            "Requirement already satisfied: kaggle in /usr/local/lib/python3.8/dist-packages (from opendatasets) (1.5.12)\n",
            "Requirement already satisfied: urllib3 in /usr/local/lib/python3.8/dist-packages (from kaggle->opendatasets) (1.24.3)\n",
            "Requirement already satisfied: requests in /usr/local/lib/python3.8/dist-packages (from kaggle->opendatasets) (2.25.1)\n",
            "Requirement already satisfied: six>=1.10 in /usr/local/lib/python3.8/dist-packages (from kaggle->opendatasets) (1.15.0)\n",
            "Requirement already satisfied: certifi in /usr/local/lib/python3.8/dist-packages (from kaggle->opendatasets) (2022.12.7)\n",
            "Requirement already satisfied: python-dateutil in /usr/local/lib/python3.8/dist-packages (from kaggle->opendatasets) (2.8.2)\n",
            "Requirement already satisfied: python-slugify in /usr/local/lib/python3.8/dist-packages (from kaggle->opendatasets) (8.0.0)\n",
            "Requirement already satisfied: text-unidecode>=1.3 in /usr/local/lib/python3.8/dist-packages (from python-slugify->kaggle->opendatasets) (1.3)\n",
            "Requirement already satisfied: chardet<5,>=3.0.2 in /usr/local/lib/python3.8/dist-packages (from requests->kaggle->opendatasets) (4.0.0)\n",
            "Requirement already satisfied: idna<3,>=2.5 in /usr/local/lib/python3.8/dist-packages (from requests->kaggle->opendatasets) (2.10)\n",
            "Installing collected packages: opendatasets\n",
            "Successfully installed opendatasets-0.1.22\n"
          ]
        }
      ]
    },
    {
      "cell_type": "code",
      "source": [
        "import opendatasets as od\n",
        "import pandas"
      ],
      "metadata": {
        "id": "JDzZklaZv-QX"
      },
      "execution_count": 6,
      "outputs": []
    },
    {
      "cell_type": "code",
      "source": [
        "od.download(\"https://www.kaggle.com/datasets/alexandertropin/georgian-letters-photo-database\")"
      ],
      "metadata": {
        "colab": {
          "base_uri": "https://localhost:8080/"
        },
        "id": "dqcyk4Qpv-S9",
        "outputId": "1e60f7b3-b4ab-477f-8fa8-188a39d954f2"
      },
      "execution_count": 7,
      "outputs": [
        {
          "output_type": "stream",
          "name": "stdout",
          "text": [
            "Please provide your Kaggle credentials to download this dataset. Learn more: http://bit.ly/kaggle-creds\n",
            "Your Kaggle username: alexandertropin\n",
            "Your Kaggle Key: ··········\n",
            "Downloading georgian-letters-photo-database.zip to ./georgian-letters-photo-database\n"
          ]
        },
        {
          "output_type": "stream",
          "name": "stderr",
          "text": [
            "100%|██████████| 333M/333M [00:04<00:00, 75.7MB/s]\n"
          ]
        },
        {
          "output_type": "stream",
          "name": "stdout",
          "text": [
            "\n"
          ]
        }
      ]
    },
    {
      "cell_type": "code",
      "source": [],
      "metadata": {
        "id": "us7nztY1v-VG"
      },
      "execution_count": null,
      "outputs": []
    },
    {
      "cell_type": "markdown",
      "source": [
        "**Step 2. Export**"
      ],
      "metadata": {
        "id": "XoCKOv8B1Ptv"
      }
    },
    {
      "cell_type": "code",
      "source": [
        "import os, sys, random\n",
        "import xml.etree.ElementTree as ET\n",
        "from glob import glob\n",
        "import pandas as pd\n",
        "from shutil import copyfile\n"
      ],
      "metadata": {
        "id": "XSEATm2i1FW-"
      },
      "execution_count": 8,
      "outputs": []
    },
    {
      "cell_type": "code",
      "source": [
        "annotations = glob('georgian-letters-photo-database/*.xml')"
      ],
      "metadata": {
        "id": "0dzkTSP_18sq"
      },
      "execution_count": 9,
      "outputs": []
    },
    {
      "cell_type": "code",
      "source": [
        "# https://github.com/Shenggan/BCCD_Dataset/blob/master/export.py\n",
        "\n",
        "df = []\n",
        "cnt = 0\n",
        "\n",
        "for file in annotations:\n",
        "    filename = file.split('/')[-1].split('.')[0] + '.jpg'\n",
        "    row = []\n",
        "    parsedXML = ET.parse(file)\n",
        "    for node in parsedXML.getroot().iter('object'):\n",
        "        letters = node.find('name').text\n",
        "        xmin = int(node.find('bndbox/xmin').text)\n",
        "        xmax = int(node.find('bndbox/xmax').text)\n",
        "        ymin = int(node.find('bndbox/ymin').text)\n",
        "        ymax = int(node.find('bndbox/ymax').text)\n",
        "\n",
        "        row = [filename, letters, xmin, xmax, ymin, ymax]\n",
        "        df.append(row)\n",
        "        cnt += 1\n",
        "\n",
        "data = pd.DataFrame(df, columns=['filename', 'letter_name', 'xmin', 'xmax', 'ymin', 'ymax'])\n",
        "\n",
        "data[['filename', 'letter_name', 'xmin', 'xmax', 'ymin', 'ymax']].to_csv('test.csv', index=False)"
      ],
      "metadata": {
        "id": "TkTurZgm18uu"
      },
      "execution_count": 12,
      "outputs": []
    },
    {
      "cell_type": "code",
      "source": [],
      "metadata": {
        "id": "pUvgWbgt1FZ4"
      },
      "execution_count": null,
      "outputs": []
    },
    {
      "cell_type": "markdown",
      "source": [
        "**Step 3. ????**"
      ],
      "metadata": {
        "id": "jjVnZRbQ6gOq"
      }
    },
    {
      "cell_type": "code",
      "source": [
        "import pandas as pd\n",
        "import matplotlib.pyplot as plt\n",
        "from matplotlib import patches\n",
        "import os\n"
      ],
      "metadata": {
        "id": "aM_0C_AU2oor"
      },
      "execution_count": 13,
      "outputs": []
    },
    {
      "cell_type": "code",
      "source": [
        "# remove all .txt files\n",
        "\n",
        "import os\n",
        "import glob\n",
        "fileList = glob.glob('georgian-letters-photo-database/*.txt')\n",
        "\n",
        "for filePath in fileList:\n",
        "    os.remove(filePath)"
      ],
      "metadata": {
        "id": "XDyPbrdS7qkj"
      },
      "execution_count": 16,
      "outputs": []
    },
    {
      "cell_type": "code",
      "source": [
        "# https://github.com/Shenggan/BCCD_Dataset/blob/master/plot.py\n",
        "\n",
        "def filterFiles(directoryPath, extension):\n",
        "    \"\"\"\n",
        "        This function filters the format files with the selected extension in the directory\n",
        "        \n",
        "        Args:\n",
        "            directoryPath (str): relative path of the directory that contains text files\n",
        "            extension (str): extension file\n",
        "        Returns:\n",
        "            The list of filtered files with the selected extension\n",
        "    \"\"\"    \n",
        "    relevant_path = directoryPath\n",
        "    included_extensions = [extension]\n",
        "    file_names = [file1 for file1 in os.listdir(relevant_path) if any(file1.endswith(ext) for ext in included_extensions)]\n",
        "    numberOfFiles = len(file_names)\n",
        "    listParams = [file_names, numberOfFiles]\n",
        "    return listParams"
      ],
      "metadata": {
        "id": "Owj5bnKZ2orf"
      },
      "execution_count": 14,
      "outputs": []
    },
    {
      "cell_type": "code",
      "source": [
        "[image_names, numberOfFiles] = filterFiles(\"georgian-letters-photo-database\", \"jpg\")    \n",
        "\n",
        "trainRCNN = pd.read_csv('test.csv', sep=\",\", header=None)\n",
        "trainRCNN.columns = ['filename', 'letter_name', 'xmin', 'xmax', 'ymin', 'ymax']\n",
        "trainRCNN.head()\n",
        "\n",
        "for imageFileName in image_names:    \n",
        "    fig = plt.figure()\n",
        "    #add axes to the image\n",
        "    ax = fig.add_axes([0,0,1,1]) #adding X and Y axes from 0 to 1 for each direction \n",
        "    plt.axis('off')\n",
        "\n",
        "    # read and plot the image\n",
        "    image = plt.imread('georgian-letters-photo-database/' + imageFileName)\n",
        "    plt.imshow(image)\n",
        "    # iterating over the image for different objects\n",
        "    for _, row in trainRCNN[trainRCNN.filename == imageFileName].iterrows():\n",
        "        xmin = float(row.xmin)\n",
        "        xmax = float(row.xmax)\n",
        "        ymin = float(row.ymin)\n",
        "        ymax = float(row.ymax)\n",
        "        \n",
        "        width = xmax - xmin\n",
        "        height = ymax - ymin\n",
        "        ClassName = row.letter_name\n",
        "\n",
        "        ax.annotate(ClassName, xy=(xmax-40, ymin+20))\n",
        "        rect = patches.Rectangle((xmin,ymin), width, height, edgecolor = 'r', facecolor = 'none')\n",
        "\n",
        "        # assign different color to different classes of objects\n",
        "        # if row.letter_name == 'RBC':\n",
        "        #     ax.annotate('RBC', xy=(xmax-40,ymin+20))\n",
        "        #     rect = patches.Rectangle((xmin,ymin), width, height, edgecolor = 'r', facecolor = 'none')\n",
        "        # elif row.letter_name == 'WBC':\n",
        "        #     ax.annotate('WBC', xy=(xmax-40,ymin+20))\n",
        "        #     rect = patches.Rectangle((xmin,ymin), width, height, edgecolor = 'b', facecolor = 'none')\n",
        "        # elif row.letter_name == 'Platelets':\n",
        "        #     ax.annotate('Platelets', xy=(xmax-40,ymin+20))\n",
        "        #     rect = patches.Rectangle((xmin,ymin), width, height, edgecolor = 'g', facecolor = 'none')        \n",
        "        # else:\n",
        "        #     print(\"nothing\")\n",
        "    \n",
        "        ax.add_patch(rect)   \n",
        "        if not os.path.exists(\"imagesBox\"):\n",
        "            os.makedirs(\"imagesBox\")\n",
        "\n",
        "        fig.savefig('imagesBox/' + imageFileName, dpi=90, bbox_inches='tight')\n",
        "    plt.close()\n",
        "    print(\"ImageName: \" + imageFileName + \" is saved in imagesBox folder\")\n",
        "        \n",
        "print(\"PLOTBOX COMPLETED!\")"
      ],
      "metadata": {
        "colab": {
          "base_uri": "https://localhost:8080/",
          "height": 816
        },
        "id": "aFu_-87R2ovI",
        "outputId": "8cb13d50-ceb0-4ea2-8c15-9464742d866e"
      },
      "execution_count": 19,
      "outputs": [
        {
          "output_type": "stream",
          "name": "stdout",
          "text": [
            "ImageName: IMG_20230205_132210.jpg is saved in imagesBox folder\n",
            "ImageName: IMG_20230215_140933 (1).jpg is saved in imagesBox folder\n"
          ]
        },
        {
          "output_type": "error",
          "ename": "UnidentifiedImageError",
          "evalue": "ignored",
          "traceback": [
            "\u001b[0;31m---------------------------------------------------------------------------\u001b[0m",
            "\u001b[0;31mUnidentifiedImageError\u001b[0m                    Traceback (most recent call last)",
            "\u001b[0;32m<ipython-input-19-1f300a7d1f13>\u001b[0m in \u001b[0;36m<module>\u001b[0;34m\u001b[0m\n\u001b[1;32m     12\u001b[0m \u001b[0;34m\u001b[0m\u001b[0m\n\u001b[1;32m     13\u001b[0m     \u001b[0;31m# read and plot the image\u001b[0m\u001b[0;34m\u001b[0m\u001b[0;34m\u001b[0m\u001b[0;34m\u001b[0m\u001b[0m\n\u001b[0;32m---> 14\u001b[0;31m     \u001b[0mimage\u001b[0m \u001b[0;34m=\u001b[0m \u001b[0mplt\u001b[0m\u001b[0;34m.\u001b[0m\u001b[0mimread\u001b[0m\u001b[0;34m(\u001b[0m\u001b[0;34m'georgian-letters-photo-database/'\u001b[0m \u001b[0;34m+\u001b[0m \u001b[0mimageFileName\u001b[0m\u001b[0;34m)\u001b[0m\u001b[0;34m\u001b[0m\u001b[0;34m\u001b[0m\u001b[0m\n\u001b[0m\u001b[1;32m     15\u001b[0m     \u001b[0mplt\u001b[0m\u001b[0;34m.\u001b[0m\u001b[0mimshow\u001b[0m\u001b[0;34m(\u001b[0m\u001b[0mimage\u001b[0m\u001b[0;34m)\u001b[0m\u001b[0;34m\u001b[0m\u001b[0;34m\u001b[0m\u001b[0m\n\u001b[1;32m     16\u001b[0m     \u001b[0;31m# iterating over the image for different objects\u001b[0m\u001b[0;34m\u001b[0m\u001b[0;34m\u001b[0m\u001b[0;34m\u001b[0m\u001b[0m\n",
            "\u001b[0;32m/usr/local/lib/python3.8/dist-packages/matplotlib/pyplot.py\u001b[0m in \u001b[0;36mimread\u001b[0;34m(fname, format)\u001b[0m\n\u001b[1;32m   2059\u001b[0m \u001b[0;34m@\u001b[0m\u001b[0mdocstring\u001b[0m\u001b[0;34m.\u001b[0m\u001b[0mcopy\u001b[0m\u001b[0;34m(\u001b[0m\u001b[0mmatplotlib\u001b[0m\u001b[0;34m.\u001b[0m\u001b[0mimage\u001b[0m\u001b[0;34m.\u001b[0m\u001b[0mimread\u001b[0m\u001b[0;34m)\u001b[0m\u001b[0;34m\u001b[0m\u001b[0;34m\u001b[0m\u001b[0m\n\u001b[1;32m   2060\u001b[0m \u001b[0;32mdef\u001b[0m \u001b[0mimread\u001b[0m\u001b[0;34m(\u001b[0m\u001b[0mfname\u001b[0m\u001b[0;34m,\u001b[0m \u001b[0mformat\u001b[0m\u001b[0;34m=\u001b[0m\u001b[0;32mNone\u001b[0m\u001b[0;34m)\u001b[0m\u001b[0;34m:\u001b[0m\u001b[0;34m\u001b[0m\u001b[0;34m\u001b[0m\u001b[0m\n\u001b[0;32m-> 2061\u001b[0;31m     \u001b[0;32mreturn\u001b[0m \u001b[0mmatplotlib\u001b[0m\u001b[0;34m.\u001b[0m\u001b[0mimage\u001b[0m\u001b[0;34m.\u001b[0m\u001b[0mimread\u001b[0m\u001b[0;34m(\u001b[0m\u001b[0mfname\u001b[0m\u001b[0;34m,\u001b[0m \u001b[0mformat\u001b[0m\u001b[0;34m)\u001b[0m\u001b[0;34m\u001b[0m\u001b[0;34m\u001b[0m\u001b[0m\n\u001b[0m\u001b[1;32m   2062\u001b[0m \u001b[0;34m\u001b[0m\u001b[0m\n\u001b[1;32m   2063\u001b[0m \u001b[0;34m\u001b[0m\u001b[0m\n",
            "\u001b[0;32m/usr/local/lib/python3.8/dist-packages/matplotlib/image.py\u001b[0m in \u001b[0;36mimread\u001b[0;34m(fname, format)\u001b[0m\n\u001b[1;32m   1462\u001b[0m             raise ValueError('Only know how to handle PNG; with Pillow '\n\u001b[1;32m   1463\u001b[0m                              'installed, Matplotlib can handle more images')\n\u001b[0;32m-> 1464\u001b[0;31m         \u001b[0;32mwith\u001b[0m \u001b[0mImage\u001b[0m\u001b[0;34m.\u001b[0m\u001b[0mopen\u001b[0m\u001b[0;34m(\u001b[0m\u001b[0mfname\u001b[0m\u001b[0;34m)\u001b[0m \u001b[0;32mas\u001b[0m \u001b[0mimage\u001b[0m\u001b[0;34m:\u001b[0m\u001b[0;34m\u001b[0m\u001b[0;34m\u001b[0m\u001b[0m\n\u001b[0m\u001b[1;32m   1465\u001b[0m             \u001b[0;32mreturn\u001b[0m \u001b[0mpil_to_array\u001b[0m\u001b[0;34m(\u001b[0m\u001b[0mimage\u001b[0m\u001b[0;34m)\u001b[0m\u001b[0;34m\u001b[0m\u001b[0;34m\u001b[0m\u001b[0m\n\u001b[1;32m   1466\u001b[0m     \u001b[0;32mfrom\u001b[0m \u001b[0mmatplotlib\u001b[0m \u001b[0;32mimport\u001b[0m \u001b[0m_png\u001b[0m\u001b[0;34m\u001b[0m\u001b[0;34m\u001b[0m\u001b[0m\n",
            "\u001b[0;32m/usr/local/lib/python3.8/dist-packages/PIL/Image.py\u001b[0m in \u001b[0;36mopen\u001b[0;34m(fp, mode)\u001b[0m\n\u001b[1;32m   2893\u001b[0m     \u001b[0;32mfor\u001b[0m \u001b[0mmessage\u001b[0m \u001b[0;32min\u001b[0m \u001b[0maccept_warnings\u001b[0m\u001b[0;34m:\u001b[0m\u001b[0;34m\u001b[0m\u001b[0;34m\u001b[0m\u001b[0m\n\u001b[1;32m   2894\u001b[0m         \u001b[0mwarnings\u001b[0m\u001b[0;34m.\u001b[0m\u001b[0mwarn\u001b[0m\u001b[0;34m(\u001b[0m\u001b[0mmessage\u001b[0m\u001b[0;34m)\u001b[0m\u001b[0;34m\u001b[0m\u001b[0;34m\u001b[0m\u001b[0m\n\u001b[0;32m-> 2895\u001b[0;31m     raise UnidentifiedImageError(\n\u001b[0m\u001b[1;32m   2896\u001b[0m         \u001b[0;34m\"cannot identify image file %r\"\u001b[0m \u001b[0;34m%\u001b[0m \u001b[0;34m(\u001b[0m\u001b[0mfilename\u001b[0m \u001b[0;32mif\u001b[0m \u001b[0mfilename\u001b[0m \u001b[0;32melse\u001b[0m \u001b[0mfp\u001b[0m\u001b[0;34m)\u001b[0m\u001b[0;34m\u001b[0m\u001b[0;34m\u001b[0m\u001b[0m\n\u001b[1;32m   2897\u001b[0m     )\n",
            "\u001b[0;31mUnidentifiedImageError\u001b[0m: cannot identify image file 'georgian-letters-photo-database/IMG_20230213_212214.xml'"
          ]
        },
        {
          "output_type": "display_data",
          "data": {
            "text/plain": [
              "<Figure size 432x288 with 1 Axes>"
            ],
            "image/png": "[encoded data removed]"
          },
          "metadata": {
            "needs_background": "light"
          }
        }
      ]
    },
    {
      "cell_type": "code",
      "source": [],
      "metadata": {
        "id": "ZJQMOayu6oXd"
      },
      "execution_count": null,
      "outputs": []
    },
    {
      "cell_type": "code",
      "source": [],
      "metadata": {
        "id": "s4VOFjxG6oZe"
      },
      "execution_count": null,
      "outputs": []
    },
    {
      "cell_type": "code",
      "source": [],
      "metadata": {
        "id": "qTYBm1Qy6ob1"
      },
      "execution_count": null,
      "outputs": []
    },
    {
      "cell_type": "markdown",
      "source": [
        "**Step 1. Splitting on train (80%) and test sets**\n",
        "\n",
        "..."
      ],
      "metadata": {
        "id": "0MgCow9Jy6C7"
      }
    },
    {
      "cell_type": "code",
      "source": [
        "# #creating two dir for training and testing\n",
        "# !mkdir test_labels train_labels\n",
        "\n",
        "# # lists the files inside 'annotations' in a random order (not really random, by their hash value instead)\n",
        "# # Moves the first 274/1370 labels (20% of the labels) to the testing dir: `test_labels`\n",
        "# !ls annotations/* | sort -R | head -274 | xargs -I{} mv {} test_labels/\n",
        "\n",
        "# # Moves the rest of the labels ( 1096 labels ) to the training dir: `train_labels`\n",
        "# !ls annotations/* | xargs -I{} mv {} train_labels/"
      ],
      "metadata": {
        "id": "6SMfjBANv-XZ"
      },
      "execution_count": null,
      "outputs": []
    },
    {
      "cell_type": "code",
      "source": [
        "#creating two dir for training and testing\n",
        "!mkdir test_labels train_labels"
      ],
      "metadata": {
        "id": "yzNsH5fzv-Ze"
      },
      "execution_count": 6,
      "outputs": []
    },
    {
      "cell_type": "code",
      "source": [
        "#creating two dir for training and testing\n",
        "!mkdir test train"
      ],
      "metadata": {
        "id": "iwCz_3jv_CGq"
      },
      "execution_count": 11,
      "outputs": []
    },
    {
      "cell_type": "code",
      "source": [
        "# 86 * 0.2"
      ],
      "metadata": {
        "colab": {
          "base_uri": "https://localhost:8080/"
        },
        "id": "YFaH4GwC7X8M",
        "outputId": "157973a2-cd8a-4a3c-bee2-6a716fa5fdb0"
      },
      "execution_count": 7,
      "outputs": [
        {
          "output_type": "execute_result",
          "data": {
            "text/plain": [
              "17.2"
            ]
          },
          "metadata": {},
          "execution_count": 7
        }
      ]
    },
    {
      "cell_type": "code",
      "source": [
        "# Moves the first 51/86 labels (20% of the labels) to the testing dir: `test_labels`\n",
        "!ls georgian-letters-photo-database/* | head -51 | xargs -I{} mv {} test/\n",
        "\n",
        "# to cancel:\n",
        "# !ls test/* | xargs -I{} mv {} georgian-letters-photo-database/"
      ],
      "metadata": {
        "id": "MpBOQJ08v-b0"
      },
      "execution_count": 10,
      "outputs": []
    },
    {
      "cell_type": "code",
      "source": [
        "!ls georgian-letters-photo-database/* | xargs -I{} mv {} train/"
      ],
      "metadata": {
        "id": "scSR7lhx_KRX"
      },
      "execution_count": 13,
      "outputs": []
    },
    {
      "cell_type": "code",
      "source": [],
      "metadata": {
        "id": "tECCjx5j_PvM"
      },
      "execution_count": null,
      "outputs": []
    },
    {
      "cell_type": "code",
      "source": [],
      "metadata": {
        "id": "0Ikp3Vjw_SeA"
      },
      "execution_count": null,
      "outputs": []
    },
    {
      "cell_type": "code",
      "source": [],
      "metadata": {
        "id": "N6sKIEzW_Sgl"
      },
      "execution_count": null,
      "outputs": []
    },
    {
      "cell_type": "code",
      "source": [],
      "metadata": {
        "id": "wSMQjAma_Si7"
      },
      "execution_count": null,
      "outputs": []
    },
    {
      "cell_type": "code",
      "source": [],
      "metadata": {
        "id": "EKMTxQLi_SlR"
      },
      "execution_count": null,
      "outputs": []
    }
  ]
}