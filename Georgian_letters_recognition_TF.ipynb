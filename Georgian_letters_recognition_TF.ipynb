{
  "nbformat": 4,
  "nbformat_minor": 0,
  "metadata": {
    "colab": {
      "provenance": [],
      "authorship_tag": "ABX9TyOqSLAjBUKi1rX+SHh25opJ",
      "include_colab_link": true
    },
    "kernelspec": {
      "name": "python3",
      "display_name": "Python 3"
    },
    "language_info": {
      "name": "python"
    }
  },
  "cells": [
    {
      "cell_type": "markdown",
      "metadata": {
        "id": "view-in-github",
        "colab_type": "text"
      },
      "source": [
        "<a href=\"https://colab.research.google.com/github/am-tropin/georgian-letters-trainer/blob/main/Georgian_letters_recognition_TF.ipynb\" target=\"_parent\"><img src=\"https://colab.research.google.com/assets/colab-badge.svg\" alt=\"Open In Colab\"/></a>"
      ]
    },
    {
      "cell_type": "code",
      "execution_count": null,
      "metadata": {
        "id": "2eo1-747dOUA"
      },
      "outputs": [],
      "source": []
    },
    {
      "cell_type": "markdown",
      "source": [
        "# **Step 1. Choose a dataset**"
      ],
      "metadata": {
        "id": "RKMZJmvx7grN"
      }
    },
    {
      "cell_type": "code",
      "source": [
        "!pip install pandas"
      ],
      "metadata": {
        "colab": {
          "base_uri": "https://localhost:8080/"
        },
        "id": "foT7cCnQv-N1",
        "outputId": "e4f79044-2d7c-4d79-ebf8-7d26090d984a"
      },
      "execution_count": 1,
      "outputs": [
        {
          "output_type": "stream",
          "name": "stdout",
          "text": [
            "Looking in indexes: https://pypi.org/simple, https://us-python.pkg.dev/colab-wheels/public/simple/\n",
            "Requirement already satisfied: pandas in /usr/local/lib/python3.8/dist-packages (1.3.5)\n",
            "Requirement already satisfied: numpy>=1.17.3 in /usr/local/lib/python3.8/dist-packages (from pandas) (1.22.4)\n",
            "Requirement already satisfied: pytz>=2017.3 in /usr/local/lib/python3.8/dist-packages (from pandas) (2022.7.1)\n",
            "Requirement already satisfied: python-dateutil>=2.7.3 in /usr/local/lib/python3.8/dist-packages (from pandas) (2.8.2)\n",
            "Requirement already satisfied: six>=1.5 in /usr/local/lib/python3.8/dist-packages (from python-dateutil>=2.7.3->pandas) (1.15.0)\n"
          ]
        }
      ]
    },
    {
      "cell_type": "code",
      "source": [
        "!pip install opendatasets"
      ],
      "metadata": {
        "colab": {
          "base_uri": "https://localhost:8080/"
        },
        "id": "1u1vpkQdwJix",
        "outputId": "5943e803-6d0a-464a-d6c8-cbbbf16a94da"
      },
      "execution_count": 2,
      "outputs": [
        {
          "output_type": "stream",
          "name": "stdout",
          "text": [
            "Looking in indexes: https://pypi.org/simple, https://us-python.pkg.dev/colab-wheels/public/simple/\n",
            "Collecting opendatasets\n",
            "  Downloading opendatasets-0.1.22-py3-none-any.whl (15 kB)\n",
            "Requirement already satisfied: click in /usr/local/lib/python3.8/dist-packages (from opendatasets) (7.1.2)\n",
            "Requirement already satisfied: tqdm in /usr/local/lib/python3.8/dist-packages (from opendatasets) (4.64.1)\n",
            "Requirement already satisfied: kaggle in /usr/local/lib/python3.8/dist-packages (from opendatasets) (1.5.12)\n",
            "Requirement already satisfied: requests in /usr/local/lib/python3.8/dist-packages (from kaggle->opendatasets) (2.25.1)\n",
            "Requirement already satisfied: six>=1.10 in /usr/local/lib/python3.8/dist-packages (from kaggle->opendatasets) (1.15.0)\n",
            "Requirement already satisfied: python-dateutil in /usr/local/lib/python3.8/dist-packages (from kaggle->opendatasets) (2.8.2)\n",
            "Requirement already satisfied: urllib3 in /usr/local/lib/python3.8/dist-packages (from kaggle->opendatasets) (1.24.3)\n",
            "Requirement already satisfied: certifi in /usr/local/lib/python3.8/dist-packages (from kaggle->opendatasets) (2022.12.7)\n",
            "Requirement already satisfied: python-slugify in /usr/local/lib/python3.8/dist-packages (from kaggle->opendatasets) (8.0.0)\n",
            "Requirement already satisfied: text-unidecode>=1.3 in /usr/local/lib/python3.8/dist-packages (from python-slugify->kaggle->opendatasets) (1.3)\n",
            "Requirement already satisfied: chardet<5,>=3.0.2 in /usr/local/lib/python3.8/dist-packages (from requests->kaggle->opendatasets) (4.0.0)\n",
            "Requirement already satisfied: idna<3,>=2.5 in /usr/local/lib/python3.8/dist-packages (from requests->kaggle->opendatasets) (2.10)\n",
            "Installing collected packages: opendatasets\n",
            "Successfully installed opendatasets-0.1.22\n"
          ]
        }
      ]
    },
    {
      "cell_type": "code",
      "source": [
        "import opendatasets as od\n",
        "\n",
        "od.download(\"https://www.kaggle.com/datasets/alexandertropin/georgian-letters-photo-database\")"
      ],
      "metadata": {
        "colab": {
          "base_uri": "https://localhost:8080/"
        },
        "id": "dqcyk4Qpv-S9",
        "outputId": "5c25a4e0-aec9-4066-d4b8-96e4b44774aa"
      },
      "execution_count": 3,
      "outputs": [
        {
          "output_type": "stream",
          "name": "stdout",
          "text": [
            "Please provide your Kaggle credentials to download this dataset. Learn more: http://bit.ly/kaggle-creds\n",
            "Your Kaggle username: alexandertropin\n",
            "Your Kaggle Key: ··········\n",
            "Downloading georgian-letters-photo-database.zip to ./georgian-letters-photo-database\n"
          ]
        },
        {
          "output_type": "stream",
          "name": "stderr",
          "text": [
            "100%|██████████| 337M/337M [00:05<00:00, 68.1MB/s]\n"
          ]
        },
        {
          "output_type": "stream",
          "name": "stdout",
          "text": [
            "\n"
          ]
        }
      ]
    },
    {
      "cell_type": "code",
      "source": [
        "# remove all .txt files\n",
        "\n",
        "# import os\n",
        "# import glob\n",
        "\n",
        "# fileList = glob.glob('/content/georgian-letters-photo-database/georgian_letters_image_database/dataset/yolo/*') # .txt\n",
        "# fileList = glob.glob('/content/georgian-letters-photo-database/georgian_letters_image_database/dataset/*') # .txt\n",
        "# fileList = glob.glob('/content/georgian-letters-photo-database/georgian_letters_image_database/for_prediction/*') # .txt\n",
        "# fileList = glob.glob('/content/georgian-letters-photo-database/georgian_letters_image_database/dataset/*') # .txt\n",
        "# fileList = glob.glob('/content/georgian-letters-photo-database/georgian_letters_image_database/dataset/*') # .txt\n",
        "\n",
        "# for filePath in fileList:\n",
        "#     os.remove(filePath)"
      ],
      "metadata": {
        "id": "us7nztY1v-VG"
      },
      "execution_count": 57,
      "outputs": []
    },
    {
      "cell_type": "code",
      "source": [],
      "metadata": {
        "id": "D2sk9ayGayOF"
      },
      "execution_count": null,
      "outputs": []
    },
    {
      "cell_type": "markdown",
      "source": [
        "# **Step 2. To chop up the letters**"
      ],
      "metadata": {
        "id": "_5h7ZP70uVP8"
      }
    },
    {
      "cell_type": "code",
      "source": [
        "import cv2\n",
        "import pandas as pd\n",
        "import numpy as np\n",
        "import xml.etree.ElementTree as ET\n",
        "\n",
        "import glob\n",
        "import os\n",
        "\n",
        "# import sys, random\n",
        "# from shutil import copyfile"
      ],
      "metadata": {
        "id": "XSEATm2i1FW-"
      },
      "execution_count": 15,
      "outputs": []
    },
    {
      "cell_type": "code",
      "source": [
        "# https://github.com/Shenggan/BCCD_Dataset/blob/master/export.py\n",
        "\n",
        "\n",
        "def to_extract_coordinates(source_folder, target_name):\n",
        "    annotations = glob.glob(source_folder + '*.xml')\n",
        "\n",
        "    df = []\n",
        "    cnt = 0\n",
        "\n",
        "    for file in annotations:\n",
        "        filename = file.split('/')[-1].split('.')[0] + '.jpg'\n",
        "        row = []\n",
        "        parsedXML = ET.parse(file)\n",
        "        for node in parsedXML.getroot().iter('object'):\n",
        "            letters = node.find('name').text\n",
        "            xmin = int(node.find('bndbox/xmin').text)\n",
        "            xmax = int(node.find('bndbox/xmax').text)\n",
        "            ymin = int(node.find('bndbox/ymin').text)\n",
        "            ymax = int(node.find('bndbox/ymax').text)\n",
        "\n",
        "            row = [filename, letters, xmin, xmax, ymin, ymax]\n",
        "            df.append(row)\n",
        "            cnt += 1\n",
        "\n",
        "    data = pd.DataFrame(df, columns=['filename', 'letter_name', 'xmin', 'xmax', 'ymin', 'ymax'])\n",
        "\n",
        "    data[['filename', 'letter_name', 'xmin', 'xmax', 'ymin', 'ymax']].to_csv(target_name + '.csv', index=False)\n",
        "    return 1"
      ],
      "metadata": {
        "id": "TkTurZgm18uu"
      },
      "execution_count": 7,
      "outputs": []
    },
    {
      "cell_type": "code",
      "source": [
        "source_folder = 'georgian-letters-photo-database/georgian_letters_image_database/dataset/'\n",
        "target_name = 'label_coordinates'\n",
        "\n",
        "to_extract_coordinates(source_folder, target_name)"
      ],
      "metadata": {
        "colab": {
          "base_uri": "https://localhost:8080/"
        },
        "id": "KYQtkVoCgD9k",
        "outputId": "669378a3-e358-47b0-e93b-f9e5cefd23f7"
      },
      "execution_count": 8,
      "outputs": [
        {
          "output_type": "execute_result",
          "data": {
            "text/plain": [
              "1"
            ]
          },
          "metadata": {},
          "execution_count": 8
        }
      ]
    },
    {
      "cell_type": "code",
      "source": [
        "df = pd.read_csv('label_coordinates.csv')\n",
        "df.head()"
      ],
      "metadata": {
        "colab": {
          "base_uri": "https://localhost:8080/",
          "height": 206
        },
        "id": "pUvgWbgt1FZ4",
        "outputId": "c85b37dd-066d-44a4-a1b3-2a396e4e89c0"
      },
      "execution_count": 9,
      "outputs": [
        {
          "output_type": "execute_result",
          "data": {
            "text/plain": [
              "                  filename letter_name  xmin  xmax  ymin  ymax\n",
              "0  IMG_20230213_213058.jpg         30ხ   912  1048    92   420\n",
              "1  IMG_20230213_213058.jpg         25ჩ  1502  1703    92   442\n",
              "2  IMG_20230213_213058.jpg          7თ  1673  1808   752   918\n",
              "3  IMG_20230213_213058.jpg          7თ   545   733  1071  1229\n",
              "4  IMG_20230213_213058.jpg          1ბ   659   794  1561  1911"
            ],
            "text/html": [
              "\n",
              "  <div id=\"df-9c003abf-52f7-4901-aac9-260adc82cd2b\">\n",
              "    <div class=\"colab-df-container\">\n",
              "      <div>\n",
              "<style scoped>\n",
              "    .dataframe tbody tr th:only-of-type {\n",
              "        vertical-align: middle;\n",
              "    }\n",
              "\n",
              "    .dataframe tbody tr th {\n",
              "        vertical-align: top;\n",
              "    }\n",
              "\n",
              "    .dataframe thead th {\n",
              "        text-align: right;\n",
              "    }\n",
              "</style>\n",
              "<table border=\"1\" class=\"dataframe\">\n",
              "  <thead>\n",
              "    <tr style=\"text-align: right;\">\n",
              "      <th></th>\n",
              "      <th>filename</th>\n",
              "      <th>letter_name</th>\n",
              "      <th>xmin</th>\n",
              "      <th>xmax</th>\n",
              "      <th>ymin</th>\n",
              "      <th>ymax</th>\n",
              "    </tr>\n",
              "  </thead>\n",
              "  <tbody>\n",
              "    <tr>\n",
              "      <th>0</th>\n",
              "      <td>IMG_20230213_213058.jpg</td>\n",
              "      <td>30ხ</td>\n",
              "      <td>912</td>\n",
              "      <td>1048</td>\n",
              "      <td>92</td>\n",
              "      <td>420</td>\n",
              "    </tr>\n",
              "    <tr>\n",
              "      <th>1</th>\n",
              "      <td>IMG_20230213_213058.jpg</td>\n",
              "      <td>25ჩ</td>\n",
              "      <td>1502</td>\n",
              "      <td>1703</td>\n",
              "      <td>92</td>\n",
              "      <td>442</td>\n",
              "    </tr>\n",
              "    <tr>\n",
              "      <th>2</th>\n",
              "      <td>IMG_20230213_213058.jpg</td>\n",
              "      <td>7თ</td>\n",
              "      <td>1673</td>\n",
              "      <td>1808</td>\n",
              "      <td>752</td>\n",
              "      <td>918</td>\n",
              "    </tr>\n",
              "    <tr>\n",
              "      <th>3</th>\n",
              "      <td>IMG_20230213_213058.jpg</td>\n",
              "      <td>7თ</td>\n",
              "      <td>545</td>\n",
              "      <td>733</td>\n",
              "      <td>1071</td>\n",
              "      <td>1229</td>\n",
              "    </tr>\n",
              "    <tr>\n",
              "      <th>4</th>\n",
              "      <td>IMG_20230213_213058.jpg</td>\n",
              "      <td>1ბ</td>\n",
              "      <td>659</td>\n",
              "      <td>794</td>\n",
              "      <td>1561</td>\n",
              "      <td>1911</td>\n",
              "    </tr>\n",
              "  </tbody>\n",
              "</table>\n",
              "</div>\n",
              "      <button class=\"colab-df-convert\" onclick=\"convertToInteractive('df-9c003abf-52f7-4901-aac9-260adc82cd2b')\"\n",
              "              title=\"Convert this dataframe to an interactive table.\"\n",
              "              style=\"display:none;\">\n",
              "        \n",
              "  <svg xmlns=\"http://www.w3.org/2000/svg\" height=\"24px\"viewBox=\"0 0 24 24\"\n",
              "       width=\"24px\">\n",
              "    <path d=\"M0 0h24v24H0V0z\" fill=\"none\"/>\n",
              "    <path d=\"M18.56 5.44l.94 2.06.94-2.06 2.06-.94-2.06-.94-.94-2.06-.94 2.06-2.06.94zm-11 1L8.5 8.5l.94-2.06 2.06-.94-2.06-.94L8.5 2.5l-.94 2.06-2.06.94zm10 10l.94 2.06.94-2.06 2.06-.94-2.06-.94-.94-2.06-.94 2.06-2.06.94z\"/><path d=\"M17.41 7.96l-1.37-1.37c-.4-.4-.92-.59-1.43-.59-.52 0-1.04.2-1.43.59L10.3 9.45l-7.72 7.72c-.78.78-.78 2.05 0 2.83L4 21.41c.39.39.9.59 1.41.59.51 0 1.02-.2 1.41-.59l7.78-7.78 2.81-2.81c.8-.78.8-2.07 0-2.86zM5.41 20L4 18.59l7.72-7.72 1.47 1.35L5.41 20z\"/>\n",
              "  </svg>\n",
              "      </button>\n",
              "      \n",
              "  <style>\n",
              "    .colab-df-container {\n",
              "      display:flex;\n",
              "      flex-wrap:wrap;\n",
              "      gap: 12px;\n",
              "    }\n",
              "\n",
              "    .colab-df-convert {\n",
              "      background-color: #E8F0FE;\n",
              "      border: none;\n",
              "      border-radius: 50%;\n",
              "      cursor: pointer;\n",
              "      display: none;\n",
              "      fill: #1967D2;\n",
              "      height: 32px;\n",
              "      padding: 0 0 0 0;\n",
              "      width: 32px;\n",
              "    }\n",
              "\n",
              "    .colab-df-convert:hover {\n",
              "      background-color: #E2EBFA;\n",
              "      box-shadow: 0px 1px 2px rgba(60, 64, 67, 0.3), 0px 1px 3px 1px rgba(60, 64, 67, 0.15);\n",
              "      fill: #174EA6;\n",
              "    }\n",
              "\n",
              "    [theme=dark] .colab-df-convert {\n",
              "      background-color: #3B4455;\n",
              "      fill: #D2E3FC;\n",
              "    }\n",
              "\n",
              "    [theme=dark] .colab-df-convert:hover {\n",
              "      background-color: #434B5C;\n",
              "      box-shadow: 0px 1px 3px 1px rgba(0, 0, 0, 0.15);\n",
              "      filter: drop-shadow(0px 1px 2px rgba(0, 0, 0, 0.3));\n",
              "      fill: #FFFFFF;\n",
              "    }\n",
              "  </style>\n",
              "\n",
              "      <script>\n",
              "        const buttonEl =\n",
              "          document.querySelector('#df-9c003abf-52f7-4901-aac9-260adc82cd2b button.colab-df-convert');\n",
              "        buttonEl.style.display =\n",
              "          google.colab.kernel.accessAllowed ? 'block' : 'none';\n",
              "\n",
              "        async function convertToInteractive(key) {\n",
              "          const element = document.querySelector('#df-9c003abf-52f7-4901-aac9-260adc82cd2b');\n",
              "          const dataTable =\n",
              "            await google.colab.kernel.invokeFunction('convertToInteractive',\n",
              "                                                     [key], {});\n",
              "          if (!dataTable) return;\n",
              "\n",
              "          const docLinkHtml = 'Like what you see? Visit the ' +\n",
              "            '<a target=\"_blank\" href=https://colab.research.google.com/notebooks/data_table.ipynb>data table notebook</a>'\n",
              "            + ' to learn more about interactive tables.';\n",
              "          element.innerHTML = '';\n",
              "          dataTable['output_type'] = 'display_data';\n",
              "          await google.colab.output.renderOutput(dataTable, element);\n",
              "          const docLink = document.createElement('div');\n",
              "          docLink.innerHTML = docLinkHtml;\n",
              "          element.appendChild(docLink);\n",
              "        }\n",
              "      </script>\n",
              "    </div>\n",
              "  </div>\n",
              "  "
            ]
          },
          "metadata": {},
          "execution_count": 9
        }
      ]
    },
    {
      "cell_type": "code",
      "source": [
        "def invert_image(img_test):\n",
        "    height, width = img_test.shape[:2]\n",
        "    border_delta = 0.02\n",
        "\n",
        "    # mean grayscale value\n",
        "    mean_image = np.mean(img_test)\n",
        "\n",
        "    # grayscale values near the borders\n",
        "    mean_left_border = np.mean(img_test[:, int(width*(1-border_delta)):width])\n",
        "    mean_right_border = np.mean(img_test[:, 0:int(width*border_delta)])\n",
        "    mean_upper_border = np.mean(img_test[0:int(height*border_delta), :])\n",
        "    mean_lower_border = np.mean(img_test[int(height*(1-border_delta)):height, :])\n",
        "\n",
        "    if mean_image > np.mean(np.array([mean_left_border, mean_right_border, mean_upper_border, mean_lower_border])):\n",
        "        return cv2.bitwise_not(img_test)\n",
        "    else:\n",
        "        return img_test\n"
      ],
      "metadata": {
        "id": "HI5VYgzWsP0L"
      },
      "execution_count": 10,
      "outputs": []
    },
    {
      "cell_type": "code",
      "source": [
        "!mkdir cropped_images\n"
      ],
      "metadata": {
        "id": "Auzxq0UB3eQ_"
      },
      "execution_count": 11,
      "outputs": []
    },
    {
      "cell_type": "code",
      "source": [
        "# df_short = df[df['filename'] == 'IMG_20230212_163927.jpg']\n",
        "# df_short = df[df['filename'] == 'IMG_20230215_140350 (1).jpg']\n"
      ],
      "metadata": {
        "id": "NpCsxDgOMiLJ"
      },
      "execution_count": 12,
      "outputs": []
    },
    {
      "cell_type": "code",
      "source": [
        "def to_crop_letters(df, source_folder, target_folder):\n",
        "    letter_names = set(list(df['letter_name']))\n",
        "\n",
        "    # a counter of letters within each image\n",
        "    letter_counter = {}\n",
        "\n",
        "    for index, row in df.iterrows():\n",
        "        if row['filename'] in letter_counter.keys():\n",
        "            if row['letter_name'] in letter_counter[row['filename']].keys():\n",
        "                letter_counter[row['filename']][row['letter_name']] += 1\n",
        "            else:\n",
        "                letter_counter[row['filename']][row['letter_name']] = 1\n",
        "        else:\n",
        "            letter_counter[row['filename']] = {}\n",
        "            letter_counter[row['filename']][row['letter_name']] = 1\n",
        "\n",
        "        img = cv2.imread(source_folder + row['filename'])\n",
        "        crop_img = img[row['ymin']:row['ymax'], row['xmin']:row['xmax']]\n",
        "        crop_resize_img = cv2.resize(crop_img, (100, 150))\n",
        "        gray_crop_resize_img = cv2.cvtColor(crop_resize_img, cv2.COLOR_BGR2GRAY)\n",
        "        invert_img = invert_image(gray_crop_resize_img)\n",
        "        # thresh_img = invert_img\n",
        "        thresh_img = cv2.threshold(invert_img, np.mean(invert_img), 255, cv2.THRESH_BINARY)[1]\n",
        "        # thresh_img = cv2.threshold(invert_img, (np.amin(invert_img) + np.amax(invert_img))//2, 255, cv2.THRESH_BINARY)[1]\n",
        "        # 127, 255\n",
        "        # cv2.THRESH_BINARY: If pixel intensity is greater than the set threshold, value set to 255, else set to 0 (black).\n",
        "        cv2.imwrite(target_folder + row['filename'][:-4] + '_' + row['letter_name'][-1] + '_' + str(letter_counter[row['filename']][row['letter_name']]) + '.jpg', thresh_img)\n",
        "    return 1"
      ],
      "metadata": {
        "id": "k_mLzmWVZ3AW"
      },
      "execution_count": 12,
      "outputs": []
    },
    {
      "cell_type": "code",
      "source": [
        "'''\n",
        "Creating a new dataset of images with singular letters.\n",
        "Grayscale. \n",
        "Resized to 100x150.\n",
        "Inverted (black <-> white) if the borders are darker than the image on the average\n",
        "'''\n",
        "\n",
        "\n",
        "'''\n",
        "4.5 minutes for processing of a full dataset (86 images / 1302 letters)\n",
        "'''\n",
        "\n",
        "df_short = df #.head(100)\n",
        "\n",
        "# the folder where images locate\n",
        "source_folder = 'georgian-letters-photo-database/georgian_letters_image_database/dataset/'\n",
        "\n",
        "# the folder where cropped images will be saved\n",
        "target_folder = 'cropped_images/'\n",
        "\n",
        "to_crop_letters(df_short, source_folder, target_folder)"
      ],
      "metadata": {
        "colab": {
          "base_uri": "https://localhost:8080/"
        },
        "id": "qk1VbcwFahCj",
        "outputId": "bee685d9-f589-418a-f14b-a28c25b2af84"
      },
      "execution_count": 13,
      "outputs": [
        {
          "output_type": "execute_result",
          "data": {
            "text/plain": [
              "1"
            ]
          },
          "metadata": {},
          "execution_count": 13
        }
      ]
    },
    {
      "cell_type": "code",
      "source": [
        "# files = glob.glob('cropped_images/*')\n",
        "# for f in files:\n",
        "#     os.remove(f)"
      ],
      "metadata": {
        "id": "CHwDbnNDahFK"
      },
      "execution_count": 18,
      "outputs": []
    },
    {
      "cell_type": "code",
      "source": [
        "# !rmdir croped_images"
      ],
      "metadata": {
        "id": "hwDXQRUOhz46"
      },
      "execution_count": 47,
      "outputs": []
    },
    {
      "cell_type": "markdown",
      "source": [
        "Downloading the cropped images:"
      ],
      "metadata": {
        "id": "V-r_-PZwSxt7"
      }
    },
    {
      "cell_type": "code",
      "source": [
        "# !zip -r /content/cropped_images.zip /content/cropped_images\n",
        "\n",
        "# from google.colab import files\n",
        "# files.download(\"/content/cropped_images.zip\")"
      ],
      "metadata": {
        "id": "Rz-ToLseQ8bk"
      },
      "execution_count": 26,
      "outputs": []
    },
    {
      "cell_type": "code",
      "source": [],
      "metadata": {
        "id": "Kk1PzCuPM7n-"
      },
      "execution_count": null,
      "outputs": []
    },
    {
      "cell_type": "code",
      "source": [
        "import re\n",
        "\n",
        "# path = \"cropped_images/\"\n",
        "dir_list = os.listdir(\"cropped_images/\")\n",
        "# ა_list = [d for d in dir_list if \"ა\" in d]\n",
        "letter_list = [re.findall(\"\\_(.)\\_\", d)[0] for d in dir_list if re.findall(\"\\_(.)\\_\", d)]\n"
      ],
      "metadata": {
        "id": "F04Rm_G0kkJp"
      },
      "execution_count": 16,
      "outputs": []
    },
    {
      "cell_type": "code",
      "source": [
        "# to detect the most frequent letters\n",
        "\n",
        "from collections import Counter\n",
        "\n",
        "letter_counter = Counter(letter_list)\n",
        "letter_counter.most_common()"
      ],
      "metadata": {
        "colab": {
          "base_uri": "https://localhost:8080/"
        },
        "id": "MIAIW9r2_QwS",
        "outputId": "2b6b87d2-a581-48b4-964e-0a3108a57d2f"
      },
      "execution_count": 17,
      "outputs": [
        {
          "output_type": "execute_result",
          "data": {
            "text/plain": [
              "[('ი', 105),\n",
              " ('ა', 99),\n",
              " ('რ', 87),\n",
              " ('ე', 79),\n",
              " ('ს', 74),\n",
              " ('ლ', 67),\n",
              " ('ნ', 63),\n",
              " ('ო', 62),\n",
              " ('ბ', 58),\n",
              " ('უ', 56),\n",
              " ('დ', 53),\n",
              " ('ვ', 50),\n",
              " ('მ', 50),\n",
              " ('ტ', 46),\n",
              " ('თ', 41),\n",
              " ('კ', 37),\n",
              " ('ფ', 35),\n",
              " ('გ', 34),\n",
              " ('ქ', 32),\n",
              " ('ხ', 26),\n",
              " ('შ', 22),\n",
              " ('ზ', 20),\n",
              " ('პ', 18),\n",
              " ('წ', 17),\n",
              " ('ც', 17),\n",
              " ('ჩ', 12),\n",
              " ('ყ', 11),\n",
              " ('ძ', 10),\n",
              " ('ღ', 9),\n",
              " ('ჟ', 5),\n",
              " ('ჯ', 4),\n",
              " ('ჭ', 2),\n",
              " ('ჰ', 1)]"
            ]
          },
          "metadata": {},
          "execution_count": 17
        }
      ]
    },
    {
      "cell_type": "markdown",
      "source": [
        "# **Step 3. To distribute the top of letters by separate folders**\n",
        "\n",
        "I will create folders for 8 most frequent letters and another one for the others."
      ],
      "metadata": {
        "id": "9eocgUva5YcE"
      }
    },
    {
      "cell_type": "code",
      "source": [
        "import shutil\n",
        "\n",
        "# src_path = r\"E:\\pynative\\reports\\sales.txt\" # source\n",
        "# dst_path = r\"E:\\pynative\\account\\sales.txt\" # destination\n",
        "# shutil.move(src_path, dst_path) # move\n",
        "# shutil.copyfile(src_path, dst_path) # copy"
      ],
      "metadata": {
        "id": "EryQj87EW28e"
      },
      "execution_count": 18,
      "outputs": []
    },
    {
      "cell_type": "code",
      "source": [
        "treshold = 60"
      ],
      "metadata": {
        "id": "wzlOpG5jV9EF"
      },
      "execution_count": 19,
      "outputs": []
    },
    {
      "cell_type": "code",
      "source": [
        "head_letter_dict = {x: count for x, count in Counter(letter_list).items() if count >= treshold}\n",
        "head_letter_dict = {k: v for k, v in sorted(head_letter_dict.items(), key=lambda item: item[1], reverse=True)}\n",
        "head_letter_dict"
      ],
      "metadata": {
        "colab": {
          "base_uri": "https://localhost:8080/"
        },
        "id": "H3efCTNZWBi_",
        "outputId": "c7a4e594-d6dc-4b46-9306-f3dbe7f4c145"
      },
      "execution_count": 20,
      "outputs": [
        {
          "output_type": "execute_result",
          "data": {
            "text/plain": [
              "{'ი': 105, 'ა': 99, 'რ': 87, 'ე': 79, 'ს': 74, 'ლ': 67, 'ნ': 63, 'ო': 62}"
            ]
          },
          "metadata": {},
          "execution_count": 20
        }
      ]
    },
    {
      "cell_type": "code",
      "source": [
        "tail_letter_dict = {x: count for x, count in Counter(letter_list).items() if count < treshold}\n",
        "tail_letter_dict = {k: v for k, v in sorted(tail_letter_dict.items(), key=lambda item: item[1], reverse=True)}\n",
        "# tail_letter_dict"
      ],
      "metadata": {
        "id": "gwzpI93GWBmW"
      },
      "execution_count": 21,
      "outputs": []
    },
    {
      "cell_type": "code",
      "source": [
        "head_letter_dict['other'] = np.sum([v for v in tail_letter_dict.values()])\n",
        "head_letter_dict"
      ],
      "metadata": {
        "colab": {
          "base_uri": "https://localhost:8080/"
        },
        "id": "_Ge2FLzsWct7",
        "outputId": "c21ab0b7-9bb2-41f0-ebfd-1b3fa96b4e2d"
      },
      "execution_count": 22,
      "outputs": [
        {
          "output_type": "execute_result",
          "data": {
            "text/plain": [
              "{'ი': 105,\n",
              " 'ა': 99,\n",
              " 'რ': 87,\n",
              " 'ე': 79,\n",
              " 'ს': 74,\n",
              " 'ლ': 67,\n",
              " 'ნ': 63,\n",
              " 'ო': 62,\n",
              " 'other': 666}"
            ]
          },
          "metadata": {},
          "execution_count": 22
        }
      ]
    },
    {
      "cell_type": "code",
      "source": [
        "# for filePath in glob.glob(\"cropped_images_i/*.jpg\"):\n",
        "#     filePath_splitted = filePath.split('/')\n",
        "#     shutil.move(filePath, 'cropped_images/' + filePath_splitted[1])"
      ],
      "metadata": {
        "id": "TC17XhieWwFZ"
      },
      "execution_count": 134,
      "outputs": []
    },
    {
      "cell_type": "code",
      "source": [
        "del head_letter_dict['other']"
      ],
      "metadata": {
        "id": "cLfajQ7gc8fA"
      },
      "execution_count": 23,
      "outputs": []
    },
    {
      "cell_type": "code",
      "source": [
        "base_dir = 'grouped_images'\n",
        "os.mkdir(base_dir)\n",
        "\n",
        "for letter in head_letter_dict.keys():\n",
        "    os.mkdir(base_dir + '/letter_' + letter)"
      ],
      "metadata": {
        "id": "eTaWpNmEXMsZ"
      },
      "execution_count": 24,
      "outputs": []
    },
    {
      "cell_type": "code",
      "source": [
        "# distributing images with top of letters by folders\n",
        "for letter in head_letter_dict.keys():\n",
        "    fileList = [f for f in glob.glob(\"cropped_images/*.jpg\") if letter in f]\n",
        "    for filePath in fileList:\n",
        "        filePath_splitted = filePath.split('/')\n",
        "        shutil.copyfile(filePath, 'grouped_images/letter_'+letter+'/' + filePath_splitted[1])\n"
      ],
      "metadata": {
        "id": "fUMjlrLhYp1k"
      },
      "execution_count": 25,
      "outputs": []
    },
    {
      "cell_type": "code",
      "source": [
        "# and the rest:\n",
        "# fileList = [f for f in glob.glob(\"cropped_images/*.jpg\") if not any(letter in f for letter in head_letter_dict.keys())]\n",
        "# for filePath in fileList:\n",
        "#     filePath_splitted = filePath.split('/')\n",
        "#     shutil.copyfile(filePath, 'grouped_images/letter_other/' + filePath_splitted[1])\n"
      ],
      "metadata": {
        "id": "23P2NiLpZ0M7"
      },
      "execution_count": 20,
      "outputs": []
    },
    {
      "cell_type": "code",
      "source": [],
      "metadata": {
        "id": "7C94LwevmNS6"
      },
      "execution_count": null,
      "outputs": []
    },
    {
      "cell_type": "markdown",
      "source": [
        "# **Step 4. To distribute images by test, validation and train folders for each letter**\n",
        "\n",
        "based on https://www.analyticsvidhya.com/blog/2022/07/training-cnn-from-scratch-using-the-custom-dataset/"
      ],
      "metadata": {
        "id": "Lm9M4FUhaKbn"
      }
    },
    {
      "cell_type": "code",
      "source": [
        "base_dir = 'grouped_images'\n",
        "dataset_types = [\"train\", \"validation\", \"test\"]"
      ],
      "metadata": {
        "id": "BSd_gAfFZ8oC"
      },
      "execution_count": 26,
      "outputs": []
    },
    {
      "cell_type": "code",
      "source": [
        "for t in dataset_types:\n",
        "    t_dir = os.path.join(base_dir, t)\n",
        "    os.mkdir(t_dir)\n",
        "    for letter in head_letter_dict.keys():\n",
        "        t_letter_dir = os.path.join(t_dir, letter)\n",
        "        os.mkdir(t_letter_dir)\n"
      ],
      "metadata": {
        "id": "WA5YXfw0lNEO"
      },
      "execution_count": 27,
      "outputs": []
    },
    {
      "cell_type": "code",
      "source": [
        "letter_sizes = {}\n",
        "\n",
        "for letter, amount in head_letter_dict.items():\n",
        "    letter_sizes[letter] = {}\n",
        "    letter_sizes[letter]['test'] = int(np.floor(amount * 0.2))\n",
        "    letter_sizes[letter]['validation'] = int(np.floor((amount - letter_sizes[letter]['test']) * 0.2))\n",
        "    letter_sizes[letter]['train'] = amount - (letter_sizes[letter]['test'] + letter_sizes[letter]['validation'])\n",
        "    # print(head_letter_dict[letter])\n",
        "\n",
        "letter_sizes"
      ],
      "metadata": {
        "colab": {
          "base_uri": "https://localhost:8080/"
        },
        "id": "Tyz-g7mtr47Y",
        "outputId": "588e4c05-4ece-468c-d551-6d0b16d39de8"
      },
      "execution_count": 28,
      "outputs": [
        {
          "output_type": "execute_result",
          "data": {
            "text/plain": [
              "{'ი': {'test': 21, 'validation': 16, 'train': 68},\n",
              " 'ა': {'test': 19, 'validation': 16, 'train': 64},\n",
              " 'რ': {'test': 17, 'validation': 14, 'train': 56},\n",
              " 'ე': {'test': 15, 'validation': 12, 'train': 52},\n",
              " 'ს': {'test': 14, 'validation': 12, 'train': 48},\n",
              " 'ლ': {'test': 13, 'validation': 10, 'train': 44},\n",
              " 'ნ': {'test': 12, 'validation': 10, 'train': 41},\n",
              " 'ო': {'test': 12, 'validation': 10, 'train': 40}}"
            ]
          },
          "metadata": {},
          "execution_count": 28
        }
      ]
    },
    {
      "cell_type": "code",
      "source": [
        "# '''\n",
        "# TO DELETE OTHER LETTERS\n",
        "# '''\n",
        "\n",
        "# files = glob.glob('grouped_images/letter_other/*')\n",
        "# for f in files:\n",
        "#     os.remove(f)\n",
        "\n",
        "# !rmdir grouped_images/letter_other"
      ],
      "metadata": {
        "id": "lS0RMw-Bfmh9"
      },
      "execution_count": 24,
      "outputs": []
    },
    {
      "cell_type": "code",
      "source": [
        "# del head_letter_dict['other']"
      ],
      "metadata": {
        "id": "d09IIiZygK8q"
      },
      "execution_count": 29,
      "outputs": []
    },
    {
      "cell_type": "code",
      "source": [
        "for letter in head_letter_dict.keys():\n",
        "    file_names = [f.split('/')[-1] for f in os.listdir('grouped_images/letter_' + letter)]\n",
        "\n",
        "    test_names = file_names[:letter_sizes[letter]['test']]\n",
        "    validation_names = file_names[letter_sizes[letter]['test']:letter_sizes[letter]['test']+letter_sizes[letter]['validation']]\n",
        "    train_names = file_names[-letter_sizes[letter]['train']:]\n",
        "\n",
        "    original_dir = 'grouped_images/letter_' + letter\n",
        "\n",
        "    for f in test_names:\n",
        "        target_dir = 'grouped_images/test/' + letter\n",
        "        src = os.path.join(original_dir, f)\n",
        "        dst = os.path.join(target_dir, f)\n",
        "        shutil.copyfile(src, dst)\n",
        "\n",
        "    for f in validation_names:\n",
        "        target_dir = 'grouped_images/validation/' + letter\n",
        "        src = os.path.join(original_dir, f)\n",
        "        dst = os.path.join(target_dir, f)\n",
        "        shutil.copyfile(src, dst)\n",
        "\n",
        "    for f in train_names:\n",
        "        target_dir = 'grouped_images/train/' + letter\n",
        "        src = os.path.join(original_dir, f)\n",
        "        dst = os.path.join(target_dir, f)\n",
        "        shutil.copyfile(src, dst)\n"
      ],
      "metadata": {
        "id": "CFQ95cLalNHD"
      },
      "execution_count": 29,
      "outputs": []
    },
    {
      "cell_type": "markdown",
      "source": [
        "# **Step 5. Training CNN**\n",
        "\n",
        "based on https://www.analyticsvidhya.com/blog/2022/07/training-cnn-from-scratch-using-the-custom-dataset/"
      ],
      "metadata": {
        "id": "Obv1JRdCwqCd"
      }
    },
    {
      "cell_type": "markdown",
      "source": [
        "about handwritten letters: https://data-flair.training/blogs/handwritten-character-recognition-neural-network/"
      ],
      "metadata": {
        "id": "pOewm31STKp6"
      }
    },
    {
      "cell_type": "code",
      "source": [
        "# ??????\n",
        "\n",
        "# import tensorflow as tf\n",
        "# import tensorflow_datasets as tfds\n",
        "\n",
        "# # tf.enable_eager_execution()\n",
        "\n",
        "# from keras.layers.core import Dense, Activation, Dropout, Flatten\n",
        "# from keras.layers.convolutional import Convolution2D, MaxPooling2D\n",
        "# from keras.optimizers import SGD, RMSprop, Adam\n",
        "# from keras.utils import np_utils\n",
        "# from keras.models import Sequential\n",
        "\n",
        "# from sklearn.tree import DecisionTreeClassifier # Import Decision Tree Classifier\n",
        "# from sklearn import metrics\n",
        "# from sklearn.utils import shuffle\n",
        "# from sklearn.model_selection import train_test_split\n",
        "\n",
        "# import matplotlib.image as mpimg\n",
        "# import matplotlib.pyplot as plt\n",
        "# import random\n",
        "# # from numpy import *\n",
        "# from PIL import Image\n",
        "# import theano"
      ],
      "metadata": {
        "id": "VOzMnLmEeZZ0"
      },
      "execution_count": null,
      "outputs": []
    },
    {
      "cell_type": "code",
      "source": [
        "# based on: https://medium.com/artificialis/get-started-with-computer-vision-by-building-a-digit-recognition-model-with-tensorflow-b2216823b90a\n",
        "\n",
        "from keras.models import Sequential\n",
        "from keras.layers import Dense, Flatten, Conv2D, MaxPool2D, Dropout\n",
        "from keras.optimizers import SGD, Adam\n",
        "\n",
        "model = Sequential()\n",
        "\n",
        "model.add(Conv2D(16, (3, 3), activation='relu', input_shape=(150, 100, 1)))\n",
        "model.add(Conv2D(16, (3, 3), activation='relu')) # , padding='same'\n",
        "# model.add(MaxPool2D((2, 2), strides=2))\n",
        "model.add(MaxPool2D(pool_size=(2, 2)))\n",
        "# model.add(Dropout(0.25))\n",
        "\n",
        "model.add(Conv2D(16, (3, 3), activation='relu'))\n",
        "model.add(Conv2D(16, (3, 3), activation='relu'))\n",
        "# model.add(MaxPool2D((2, 2), strides=2))\n",
        "model.add(MaxPool2D(pool_size=(2, 2)))\n",
        "# model.add(Dropout(0.25))\n",
        "\n",
        "# model.add(Conv2D(16, (3, 3), activation='relu', padding='valid'))\n",
        "# model.add(MaxPool2D((2, 2), strides=2))\n",
        "# model.add(Dropout(0.25))\n",
        "\n",
        "model.add(Flatten())\n",
        "# model.add(Dense(512, activation='relu'))\n",
        "# model.add(Dropout(0.5))\n",
        "# model.add(Dense(64, activation='relu'))\n",
        "\n",
        "model.add(Dense(8, activation='softmax')) # sigmoid # 1\n",
        "# == num_classes 9 8 ?\n",
        "model.summary()\n"
      ],
      "metadata": {
        "colab": {
          "base_uri": "https://localhost:8080/"
        },
        "id": "mLDoKwt_hR_j",
        "outputId": "e5bc07b8-677c-400c-ab53-ea99e6a25d16"
      },
      "execution_count": 30,
      "outputs": [
        {
          "output_type": "stream",
          "name": "stdout",
          "text": [
            "Model: \"sequential\"\n",
            "_________________________________________________________________\n",
            " Layer (type)                Output Shape              Param #   \n",
            "=================================================================\n",
            " conv2d (Conv2D)             (None, 148, 98, 16)       160       \n",
            "                                                                 \n",
            " conv2d_1 (Conv2D)           (None, 146, 96, 16)       2320      \n",
            "                                                                 \n",
            " max_pooling2d (MaxPooling2D  (None, 73, 48, 16)       0         \n",
            " )                                                               \n",
            "                                                                 \n",
            " conv2d_2 (Conv2D)           (None, 71, 46, 16)        2320      \n",
            "                                                                 \n",
            " conv2d_3 (Conv2D)           (None, 69, 44, 16)        2320      \n",
            "                                                                 \n",
            " max_pooling2d_1 (MaxPooling  (None, 34, 22, 16)       0         \n",
            " 2D)                                                             \n",
            "                                                                 \n",
            " flatten (Flatten)           (None, 11968)             0         \n",
            "                                                                 \n",
            " dense (Dense)               (None, 8)                 95752     \n",
            "                                                                 \n",
            "=================================================================\n",
            "Total params: 102,872\n",
            "Trainable params: 102,872\n",
            "Non-trainable params: 0\n",
            "_________________________________________________________________\n"
          ]
        }
      ]
    },
    {
      "cell_type": "code",
      "source": [
        "# '''\n",
        "# OLD VERSION\n",
        "# '''\n",
        "\n",
        "# ###-----Build Your Model------###\n",
        "# # from keras import layers\n",
        "# # from keras import models\n",
        "\n",
        "# # from keras.models import Sequential\n",
        "# # from keras.layers.core import Dense, Activation, Dropout, Flatten\n",
        "# # from keras.layers.convolutional import Convolution2D, MaxPooling2D, AveragePooling2D\n",
        "\n",
        "# from keras.models import Sequential\n",
        "# from keras.layers import Dense, Flatten, Conv2D, MaxPool2D, Dropout\n",
        "# from keras.optimizers import SGD, Adam\n",
        "\n",
        "# model = Sequential()\n",
        "\n",
        "# model.add(Conv2D(32, (3, 3), activation='relu', input_shape=(150, 100, 1)))\n",
        "# # model.add(Conv2D(16, (3, 3), activation='relu', padding='same'))\n",
        "# model.add(MaxPool2D((2, 2), strides=2))\n",
        "# model.add(Dropout(0.25))\n",
        "\n",
        "# # model.add(Conv2D(32, (3, 3), activation='relu', padding='same'))\n",
        "# # model.add(Conv2D(32, (3, 3), activation='relu', padding='same'))\n",
        "# # model.add(MaxPool2D((2, 2), strides=2))\n",
        "# # model.add(Dropout(0.25))\n",
        "\n",
        "# model.add(Conv2D(64, (3, 3), activation='relu', padding='same'))\n",
        "# # model.add(Conv2D(64, (3, 3), activation='relu', padding='same'))\n",
        "# model.add(MaxPool2D((2, 2), strides=2))\n",
        "# model.add(Dropout(0.25))\n",
        "\n",
        "# model.add(Conv2D(128, (3, 3), activation='relu', padding='valid'))\n",
        "# # model.add(Conv2D(128, (3, 3), activation='relu', padding='same'))\n",
        "# model.add(MaxPool2D((2, 2), strides=2))\n",
        "# model.add(Dropout(0.25))\n",
        "\n",
        "# # model.add(Conv2D(256, (3, 3), activation='relu', padding='same'))\n",
        "# # model.add(Conv2D(256, (3, 3), activation='relu', padding='same'))\n",
        "# # model.add(MaxPool2D((2, 2), strides=(2,2)))\n",
        "# # model.add(Dropout(0.25))\n",
        "\n",
        "# model.add(Flatten())\n",
        "# model.add(Dense(512, activation='relu'))\n",
        "# model.add(Dropout(0.5))\n",
        "# model.add(Dense(64, activation='relu'))\n",
        "\n",
        "# model.add(Dense(1, activation='softmax')) # sigmoid # 1\n",
        "# # == num_classes\n",
        "# # 9 ?\n",
        "# model.summary()\n"
      ],
      "metadata": {
        "id": "bwBdOgUxxx9X"
      },
      "execution_count": 65,
      "outputs": []
    },
    {
      "cell_type": "code",
      "source": [
        "####----Configuring the model for training-----####\n",
        "from tensorflow import keras\n",
        "from keras import optimizers\n",
        "\n",
        "model.compile(loss='categorical_crossentropy', # binary_crossentropy \n",
        "              # sparse_categorical_crossentropy - 9 classes\n",
        "              # categorical_crossentropy - 8 classes\n",
        "              optimizer=keras.optimizers.Adam(), \n",
        "              # optimizer=keras.optimizers.RMSprop(learning_rate=1e-4), \n",
        "              metrics=['accuracy'])\n"
      ],
      "metadata": {
        "id": "JizRDsi7xyAP"
      },
      "execution_count": 31,
      "outputs": []
    },
    {
      "cell_type": "code",
      "source": [
        "train_dir = os.path.join(base_dir, 'train')\n",
        "validation_dir = os.path.join(base_dir, 'validation')"
      ],
      "metadata": {
        "id": "Eee371TNzy2Q"
      },
      "execution_count": 32,
      "outputs": []
    },
    {
      "cell_type": "code",
      "source": [
        "#####-----Data Preprocessing-----######\n",
        "\n",
        "from keras.preprocessing.image import ImageDataGenerator\n",
        "\n",
        "train_datagen = ImageDataGenerator(rescale=1./255)\n",
        "test_datagen = ImageDataGenerator(rescale=1./255)\n",
        "\n",
        "# about .flow_from_directory: https://vijayabhaskar96.medium.com/tutorial-image-classification-with-keras-flow-from-directory-and-generators-95f75ebe5720\n",
        "train_generator = train_datagen.flow_from_directory(train_dir, target_size=(150, 100), batch_size=5, class_mode='categorical', color_mode = 'grayscale') # was: 'binary'\n",
        "validation_generator = test_datagen.flow_from_directory(validation_dir, target_size=(150, 100), batch_size=5, class_mode='categorical', color_mode = 'grayscale') # was: batch_size=20\n",
        "\n",
        "for data_batch, labels_batch in train_generator:\n",
        "    print('data batch shape:', data_batch.shape)\n",
        "    print('labels batch shape:', labels_batch.shape)\n",
        "    break"
      ],
      "metadata": {
        "colab": {
          "base_uri": "https://localhost:8080/"
        },
        "id": "Ii4oX3l8wwiE",
        "outputId": "400df1d8-2694-42a9-cb4f-a81beec789ba"
      },
      "execution_count": 33,
      "outputs": [
        {
          "output_type": "stream",
          "name": "stdout",
          "text": [
            "Found 413 images belonging to 8 classes.\n",
            "Found 100 images belonging to 8 classes.\n",
            "data batch shape: (5, 150, 100, 1)\n",
            "labels batch shape: (5, 8)\n"
          ]
        }
      ]
    },
    {
      "cell_type": "code",
      "source": [
        "####----Fit the Model----####\n",
        "history = model.fit(train_generator, epochs=4, validation_data=validation_generator)\n",
        "# 10 4 \n",
        "# steps_per_epoch=5, \n",
        "# , validation_steps=50\n",
        "# about parameters: https://datascience.stackexchange.com/questions/29719/how-to-set-batch-size-steps-per-epoch-and-validation-steps\n",
        "\n",
        "######-----Save the Model-------######\n",
        "model.save('geo_letters_top8.h5')"
      ],
      "metadata": {
        "colab": {
          "base_uri": "https://localhost:8080/"
        },
        "id": "ym9Dfbnuwwkp",
        "outputId": "6d18e720-a0e6-44ae-807e-57869b0e7a01"
      },
      "execution_count": 34,
      "outputs": [
        {
          "output_type": "stream",
          "name": "stdout",
          "text": [
            "Epoch 1/4\n",
            "83/83 [==============================] - 15s 156ms/step - loss: 1.3417 - accuracy: 0.5375 - val_loss: 0.5390 - val_accuracy: 0.8800\n",
            "Epoch 2/4\n",
            "83/83 [==============================] - 12s 142ms/step - loss: 0.3607 - accuracy: 0.9007 - val_loss: 0.4420 - val_accuracy: 0.8600\n",
            "Epoch 3/4\n",
            "83/83 [==============================] - 12s 143ms/step - loss: 0.1280 - accuracy: 0.9637 - val_loss: 0.4941 - val_accuracy: 0.8800\n",
            "Epoch 4/4\n",
            "83/83 [==============================] - 12s 138ms/step - loss: 0.0347 - accuracy: 0.9903 - val_loss: 0.4475 - val_accuracy: 0.9000\n"
          ]
        }
      ]
    },
    {
      "cell_type": "code",
      "source": [],
      "metadata": {
        "id": "64PMXG1P4vLq"
      },
      "execution_count": null,
      "outputs": []
    },
    {
      "cell_type": "code",
      "source": [
        "######-----Displaying curves of loss and accuracy during training-------######\n",
        "import matplotlib.pyplot as plt\n",
        "\n",
        "acc = history.history['accuracy']\n",
        "val_acc = history.history['val_accuracy']\n",
        "loss = history.history['loss']\n",
        "val_loss = history.history['val_loss']\n",
        "epochs = range(1, len(acc) + 1)\n",
        "\n",
        "plt.plot(epochs, acc, 'r', label='Training acc')\n",
        "plt.plot(epochs, val_acc, 'b', label='Validation acc')\n",
        "plt.title('Training and validation accuracy')\n",
        "plt.legend()\n",
        "plt.figure()\n",
        "plt.plot(epochs, loss, 'r', label='Training loss')\n",
        "plt.plot(epochs, val_loss, 'b', label='Validation loss')\n",
        "plt.title('Training and validation loss')\n",
        "plt.legend()\n",
        "plt.show()"
      ],
      "metadata": {
        "colab": {
          "base_uri": "https://localhost:8080/",
          "height": 545
        },
        "id": "xAERDIJawwr-",
        "outputId": "69cae7b2-26c3-4121-9884-4402f6d02e4a"
      },
      "execution_count": 35,
      "outputs": [
        {
          "output_type": "display_data",
          "data": {
            "text/plain": [
              "<Figure size 432x288 with 1 Axes>"
            ],
            "image/png": "[encoded data removed]"
          },
          "metadata": {
            "needs_background": "light"
          }
        },
        {
          "output_type": "display_data",
          "data": {
            "text/plain": [
              "<Figure size 432x288 with 1 Axes>"
            ],
            "image/png": "[encoded data removed]"
          },
          "metadata": {
            "needs_background": "light"
          }
        }
      ]
    },
    {
      "cell_type": "code",
      "source": [
        "history.history"
      ],
      "metadata": {
        "colab": {
          "base_uri": "https://localhost:8080/"
        },
        "id": "2Y8O4v39fkqb",
        "outputId": "cb59e931-f716-410c-f223-132a97d290b4"
      },
      "execution_count": 36,
      "outputs": [
        {
          "output_type": "execute_result",
          "data": {
            "text/plain": [
              "{'loss': [1.3416625261306763,\n",
              "  0.3607424199581146,\n",
              "  0.12802785634994507,\n",
              "  0.03465598076581955],\n",
              " 'accuracy': [0.537530243396759,\n",
              "  0.9007263779640198,\n",
              "  0.9636803865432739,\n",
              "  0.990314781665802],\n",
              " 'val_loss': [0.5390323400497437,\n",
              "  0.4419527053833008,\n",
              "  0.49407655000686646,\n",
              "  0.4475483000278473],\n",
              " 'val_accuracy': [0.8799999952316284,\n",
              "  0.8600000143051147,\n",
              "  0.8799999952316284,\n",
              "  0.8999999761581421]}"
            ]
          },
          "metadata": {},
          "execution_count": 36
        }
      ]
    },
    {
      "cell_type": "markdown",
      "source": [
        "comment\n",
        "<!-- BECAUSE val_loss and val_accuracy were only after first Epoch\n",
        "**BUT WHY?**\n",
        "\n",
        "Epoch 1/4\n",
        "10/10 [==============================] - ETA: 0s - loss: 2.0863 - accuracy: 0.2642WARNING:tensorflow:Your input ran out of data; interrupting training. Make sure that your dataset or generator can generate at least `steps_per_epoch * epochs` batches (in this case, 50 batches). You may need to use the repeat() function when building your dataset.\n",
        "10/10 [==============================] - 5s 385ms/step - loss: 2.0863 - accuracy: 0.2642 - val_loss: 1.9104 - val_accuracy: 0.3700\n",
        "\n",
        "Epoch 2/4\n",
        "\n",
        "10/10 [==============================] - 3s 342ms/step - loss: 1.5920 - accuracy: 0.5050\n",
        "\n",
        "Epoch 3/4\n",
        "\n",
        "10/10 [==============================] - 3s 290ms/step - loss: 0.6316 - accuracy: 0.7824\n",
        "\n",
        "Epoch 4/4\n",
        "\n",
        "10/10 [==============================] - 3s 305ms/step - loss: 0.5871 - accuracy: 0.8200 -->\n"
      ],
      "metadata": {
        "id": "c03IxEy9hlyl"
      }
    },
    {
      "cell_type": "code",
      "source": [],
      "metadata": {
        "id": "gj4lyQDGfktM"
      },
      "execution_count": null,
      "outputs": []
    },
    {
      "cell_type": "markdown",
      "source": [
        "# **Conclusion**"
      ],
      "metadata": {
        "id": "tmqBP8pYxh1K"
      }
    },
    {
      "cell_type": "markdown",
      "source": [
        "The next conditions make better results (**accuracy = 87%**) than previous:\n",
        "\n",
        "- Only Top-8 letters, without other\n",
        "- 9 in the last layer (Dense)\n",
        "- Small numbers of filters (16)\n",
        "- 'sparse_categorical_crossentropy' and Adam\n",
        "- validation_steps = 40 (**WHY?**)"
      ],
      "metadata": {
        "id": "utZXRmCTkAes"
      }
    },
    {
      "cell_type": "markdown",
      "source": [
        "# **Step 6. Prediction for an external image**"
      ],
      "metadata": {
        "id": "IjVTr9Ig6eef"
      }
    },
    {
      "cell_type": "code",
      "source": [
        "predict_img = cv2.imread(\"/content/georgian-letters-photo-database/georgian_letters_image_database/for_prediction/IMG_20230219_144541.jpg\")\n",
        "\n",
        "# predict_labels_df = pd.read_csv(\"/content/georgian-letters-photo-database/georgian_letters_image_database/for_prediction/IMG_20230219_144541.csv\")\n",
        "# predict_labels_df"
      ],
      "metadata": {
        "id": "GiGAvdBz-Nhx"
      },
      "execution_count": 38,
      "outputs": []
    },
    {
      "cell_type": "code",
      "source": [
        "!mkdir cropped_images_for_prediction"
      ],
      "metadata": {
        "id": "SSftwZD5-0-r"
      },
      "execution_count": 39,
      "outputs": []
    },
    {
      "cell_type": "code",
      "source": [
        "source_folder = 'georgian-letters-photo-database/georgian_letters_image_database/for_prediction/'\n",
        "target_name = 'label_coordinates_pred'\n",
        "\n",
        "to_extract_coordinates(source_folder, target_name)\n",
        "df_pred = pd.read_csv(target_name + '.csv')\n"
      ],
      "metadata": {
        "id": "IJYb4noe-1BT"
      },
      "execution_count": 40,
      "outputs": []
    },
    {
      "cell_type": "code",
      "source": [
        "# the folder where images locate\n",
        "source_folder_pred = 'georgian-letters-photo-database/georgian_letters_image_database/for_prediction/'\n",
        "\n",
        "# the folder where cropped images will be saved\n",
        "target_folder_pred = 'cropped_images_for_prediction/'\n",
        "\n",
        "to_crop_letters(df_pred, source_folder_pred, target_folder_pred)"
      ],
      "metadata": {
        "colab": {
          "base_uri": "https://localhost:8080/"
        },
        "id": "-u0FSsEV-1D1",
        "outputId": "27be59e9-0695-4d14-b028-57db107ede2a"
      },
      "execution_count": 41,
      "outputs": [
        {
          "output_type": "execute_result",
          "data": {
            "text/plain": [
              "1"
            ]
          },
          "metadata": {},
          "execution_count": 41
        }
      ]
    },
    {
      "cell_type": "code",
      "source": [],
      "metadata": {
        "id": "Qd180CuE-1GO"
      },
      "execution_count": null,
      "outputs": []
    },
    {
      "cell_type": "code",
      "source": [
        "# dictionary of Georgian alphabet\n",
        "\n",
        "df = pd.read_csv('label_coordinates.csv')\n",
        "letter_names = list(set(list(df['letter_name'])))\n",
        "\n",
        "geo_dict = {}\n",
        "for letter_name in letter_names:\n",
        "    geo_dict[int(letter_name[:-1])] = letter_name[-1]\n",
        "\n",
        "# print(geo_dict)"
      ],
      "metadata": {
        "id": "hlGZGt1oiyFv"
      },
      "execution_count": 42,
      "outputs": []
    },
    {
      "cell_type": "code",
      "source": [],
      "metadata": {
        "id": "qZLm2JCniyIb"
      },
      "execution_count": null,
      "outputs": []
    },
    {
      "cell_type": "markdown",
      "source": [
        "based on: https://data-flair.training/blogs/handwritten-character-recognition-neural-network/"
      ],
      "metadata": {
        "id": "OS2G0zkuhe_T"
      }
    },
    {
      "cell_type": "code",
      "source": [
        "# example for 'ა'\n",
        "\n",
        "# img_url = '/content/cropped_images_for_prediction/IMG_20230219_144541_ა_1.jpg'\n",
        "# ok\n",
        "# img_url = '/content/cropped_images_for_prediction/IMG_20230219_144541_ი_1.jpg'\n",
        "# not ok\n",
        "# img_url = '/content/cropped_images_for_prediction/IMG_20230219_144541_ი_2.jpg'\n",
        "# not ok\n",
        "# img_url = '/content/cropped_images_for_prediction/IMG_20230219_144541_კ_1.jpg'\n",
        "# not ok\n",
        "# img_url = '/content/cropped_images_for_prediction/IMG_20230219_144541_ლ_1.jpg'\n",
        "# not ok\n",
        "# img_url = '/content/cropped_images_for_prediction/IMG_20230219_144541_ნ_1.jpg'\n",
        "# not ok\n",
        "# img_url = '/content/cropped_images_for_prediction/IMG_20230219_144541_ხ_1.jpg'\n",
        "# not ok\n",
        "\n",
        "# pred_img = cv2.imread(img_url)\n",
        "# img_final = np.reshape(pred_img, (3,150,100,1))\n",
        "\n",
        "# print(\"The letter on the image is {0}\".format(geo_dict[np.argmax(model.predict(img_final))]))\n"
      ],
      "metadata": {
        "colab": {
          "base_uri": "https://localhost:8080/"
        },
        "id": "QLWh3PjQhOyd",
        "outputId": "77f14099-c0d2-4de7-f993-8434d0edd8e2"
      },
      "execution_count": 90,
      "outputs": [
        {
          "output_type": "stream",
          "name": "stdout",
          "text": [
            "1/1 [==============================] - 0s 97ms/step\n",
            "The letter on the image is ა\n"
          ]
        }
      ]
    },
    {
      "cell_type": "code",
      "source": [
        "head_letter_dict.keys()"
      ],
      "metadata": {
        "colab": {
          "base_uri": "https://localhost:8080/"
        },
        "id": "rXAc0WKIwOZR",
        "outputId": "dafe984c-9d94-4e58-efaa-f7d56739199b"
      },
      "execution_count": 43,
      "outputs": [
        {
          "output_type": "execute_result",
          "data": {
            "text/plain": [
              "dict_keys(['ი', 'ა', 'რ', 'ე', 'ს', 'ლ', 'ნ', 'ო'])"
            ]
          },
          "metadata": {},
          "execution_count": 43
        }
      ]
    },
    {
      "cell_type": "code",
      "source": [
        "import re\n",
        "\n",
        "pred_folder = \"cropped_images_for_prediction/\"\n",
        "\n",
        "pred_dir_list = os.listdir(pred_folder)\n",
        "# ა_list = [d for d in dir_list if \"ა\" in d]\n",
        "pred_letter_list = [re.findall(\"\\_(.)\\_\", d)[0] for d in pred_dir_list if re.findall(\"\\_(.)\\_\", d)]\n",
        "\n",
        "# if letter in head_letter_dict.keys()\n",
        "\n",
        "for img_url in pred_dir_list:\n",
        "    letter = re.findall(\"\\_(.)\\_\", img_url)[0]\n",
        "    if letter in head_letter_dict.keys():\n",
        "        print()\n",
        "        print()\n",
        "        pred_img = cv2.imread(pred_folder+img_url)\n",
        "        img_final = np.reshape(pred_img, (3,150,100,1))\n",
        "        # recognized_letter = geo_dict[np.argmax(model.predict(img_final))] # NO RELATED TO geo_dict !!!\n",
        "        print(img_url, letter, np.argmax(model.predict(img_final)))\n",
        "        print(model.predict(img_final))\n",
        "        # if recognized_letter == letter:\n",
        "        #     print(\"RECOGNIZED CORRECTLY:\", letter)\n",
        "        # else:\n",
        "        #     print(\"RECOGNIZED INCORRECTLY: real - {}, recognized - {}\".format(letter, recognized_letter))\n"
      ],
      "metadata": {
        "colab": {
          "base_uri": "https://localhost:8080/"
        },
        "id": "BDpnetWWqQWz",
        "outputId": "78ad8afa-b49e-4f78-b14b-c34988a642eb"
      },
      "execution_count": 44,
      "outputs": [
        {
          "output_type": "stream",
          "name": "stdout",
          "text": [
            "\n",
            "\n",
            "1/1 [==============================] - 0s 147ms/step\n",
            "IMG_20230219_144541_ლ_1.jpg ლ 0\n",
            "1/1 [==============================] - 0s 38ms/step\n",
            "[[1. 0. 0. 0. 0. 0. 0. 0.]\n",
            " [0. 0. 0. 1. 0. 0. 0. 0.]\n",
            " [1. 0. 0. 0. 0. 0. 0. 0.]]\n",
            "\n",
            "\n",
            "1/1 [==============================] - 0s 38ms/step\n",
            "IMG_20230219_144541_ა_1.jpg ა 7\n",
            "1/1 [==============================] - 0s 38ms/step\n",
            "[[0. 0. 0. 0. 0. 0. 0. 1.]\n",
            " [0. 0. 0. 0. 0. 0. 0. 1.]\n",
            " [0. 0. 0. 0. 0. 0. 1. 0.]]\n",
            "\n",
            "\n",
            "1/1 [==============================] - 0s 42ms/step\n",
            "IMG_20230219_144541_ნ_1.jpg ნ 5\n",
            "1/1 [==============================] - 0s 45ms/step\n",
            "[[0. 0. 0. 0. 0. 1. 0. 0.]\n",
            " [1. 0. 0. 0. 0. 0. 0. 0.]\n",
            " [1. 0. 0. 0. 0. 0. 0. 0.]]\n",
            "\n",
            "\n",
            "1/1 [==============================] - 0s 48ms/step\n",
            "IMG_20230219_144541_ი_2.jpg ი 0\n",
            "1/1 [==============================] - 0s 44ms/step\n",
            "[[1. 0. 0. 0. 0. 0. 0. 0.]\n",
            " [1. 0. 0. 0. 0. 0. 0. 0.]\n",
            " [1. 0. 0. 0. 0. 0. 0. 0.]]\n",
            "\n",
            "\n",
            "1/1 [==============================] - 0s 39ms/step\n",
            "IMG_20230219_144541_ი_1.jpg ი 8\n",
            "1/1 [==============================] - 0s 46ms/step\n",
            "[[0.00185826 0.         0.         0.99814177 0.         0.\n",
            "  0.         0.        ]\n",
            " [1.         0.         0.         0.         0.         0.\n",
            "  0.         0.        ]\n",
            " [0.         0.         0.         0.         0.         0.\n",
            "  0.         1.        ]]\n"
          ]
        }
      ]
    },
    {
      "cell_type": "code",
      "source": [
        "from google.colab.patches import cv2_imshow\n",
        "\n",
        "img_final = np.reshape(pred_img, (3,150,100,1))\n",
        "\n",
        "img_pred = geo_dict[np.argmax(model.predict(img_final))]\n",
        "\n",
        "# # cv2.putText(img, \"Dataflair _ _ _ \", (20,25), cv2.FONT_HERSHEY_TRIPLEX, 0.7, color = (0,0,230))\n",
        "cv2.putText(pred_img, \"Prediction: \" + img_pred, (20,410), cv2.FONT_HERSHEY_DUPLEX, 1.3, color = (255,0,30))\n",
        "cv2_imshow(pred_img)\n"
      ],
      "metadata": {
        "colab": {
          "base_uri": "https://localhost:8080/",
          "height": 185
        },
        "id": "kwwcAhxehO1O",
        "outputId": "a6e1c470-8766-4699-98b3-c9dedc47cec8"
      },
      "execution_count": 45,
      "outputs": [
        {
          "output_type": "stream",
          "name": "stdout",
          "text": [
            "1/1 [==============================] - 0s 38ms/step\n"
          ]
        },
        {
          "output_type": "display_data",
          "data": {
            "text/plain": [
              "<PIL.Image.Image image mode=RGB size=100x150 at 0x7F7AFC5E57C0>"
            ],
            "image/png": "[encoded data removed]"
          },
          "metadata": {}
        }
      ]
    },
    {
      "cell_type": "code",
      "source": [],
      "metadata": {
        "id": "hSg_WUhp-1IR"
      },
      "execution_count": null,
      "outputs": []
    },
    {
      "cell_type": "markdown",
      "source": [
        "# **What to do next:**"
      ],
      "metadata": {
        "id": "fKxhzaeDxl5G"
      }
    },
    {
      "cell_type": "markdown",
      "source": [
        "\n",
        "  - **TO CHECK ALL THE LABELS ON ALL THE PHOTOS -- THERE ARE MISTAKES**\n",
        "  <!-- - to view the cropped dataset and remove noisy images (totally black and so on) or maybe to change threshold for black/white masking -->\n",
        "  - to top up the dataset\n",
        "  - TO TRY **scipy.ndimage as ndi** and **smoothing** or sharping (DataCamp, biomedical, chapter 2, lesson 3)\n",
        "  - to fix validation curves on graphics\n",
        "  - **TO VISUALIZE A PREDICTION**"
      ],
      "metadata": {
        "id": "1CVGqX5TwlcK"
      }
    },
    {
      "cell_type": "code",
      "source": [],
      "metadata": {
        "id": "HqaW4O7dkkML"
      },
      "execution_count": null,
      "outputs": []
    },
    {
      "cell_type": "code",
      "source": [],
      "metadata": {
        "id": "WETnC5TbjLSo"
      },
      "execution_count": null,
      "outputs": []
    },
    {
      "cell_type": "markdown",
      "source": [
        "Downloading the cropped images:"
      ],
      "metadata": {
        "id": "oOwi3tzUyQpB"
      }
    },
    {
      "cell_type": "code",
      "source": [
        "# Downloading the cropped images:\n",
        "\n",
        "# !zip -r /content/cropped_images.zip /content/cropped_images\n",
        "\n",
        "# from google.colab import files\n",
        "# files.download(\"/content/cropped_images.zip\")"
      ],
      "metadata": {
        "id": "0RnkwTFXjLVp"
      },
      "execution_count": 108,
      "outputs": []
    },
    {
      "cell_type": "code",
      "source": [
        "# !zip -r /content/grouped_images.zip /content/grouped_images\n",
        "\n",
        "# from google.colab import files\n",
        "# files.download(\"/content/grouped_images.zip\")"
      ],
      "metadata": {
        "id": "pno_IfxokkOh"
      },
      "execution_count": null,
      "outputs": []
    },
    {
      "cell_type": "code",
      "source": [],
      "metadata": {
        "id": "dEn4Xsr_ybO2"
      },
      "execution_count": null,
      "outputs": []
    },
    {
      "cell_type": "code",
      "source": [],
      "metadata": {
        "id": "CEuEi_mLybRc"
      },
      "execution_count": null,
      "outputs": []
    },
    {
      "cell_type": "markdown",
      "source": [
        "# **===== DRAFTS =====**"
      ],
      "metadata": {
        "id": "DlZSXLP3ukHA"
      }
    },
    {
      "cell_type": "code",
      "source": [
        "from google.colab.patches import cv2_imshow\n"
      ],
      "metadata": {
        "id": "1t5w_Wmsu8bw"
      },
      "execution_count": 79,
      "outputs": []
    },
    {
      "cell_type": "code",
      "source": [
        "img_test = cv2.imread(\"/content/cropped_images/IMG_20230212_163114_ე_1.jpg\")\n",
        "\n",
        "cv2_imshow(img_test)\n"
      ],
      "metadata": {
        "colab": {
          "base_uri": "https://localhost:8080/",
          "height": 317
        },
        "id": "d0GzP-O3kkQ5",
        "outputId": "8070a790-8295-44cc-a2d5-5e820d996e38"
      },
      "execution_count": 51,
      "outputs": [
        {
          "output_type": "display_data",
          "data": {
            "text/plain": [
              "<PIL.Image.Image image mode=RGB size=200x300 at 0x7F267C697B50>"
            ],
            "image/png": "[encoded data removed]"
          },
          "metadata": {}
        }
      ]
    },
    {
      "cell_type": "code",
      "source": [
        "cv2_imshow(invert_image(img_test))\n"
      ],
      "metadata": {
        "colab": {
          "base_uri": "https://localhost:8080/",
          "height": 317
        },
        "id": "eiTwFUytqNzC",
        "outputId": "c6bc3560-261c-4b1f-c11e-7323ebd0df21"
      },
      "execution_count": 75,
      "outputs": [
        {
          "output_type": "display_data",
          "data": {
            "text/plain": [
              "<PIL.Image.Image image mode=RGB size=200x300 at 0x7F266C2838E0>"
            ],
            "image/png": "[encoded data removed]"
          },
          "metadata": {}
        }
      ]
    },
    {
      "cell_type": "code",
      "source": [],
      "metadata": {
        "id": "pRgw_FE_qN1m"
      },
      "execution_count": null,
      "outputs": []
    },
    {
      "cell_type": "code",
      "source": [
        "x = []\n",
        "img = Image.open('grouped_images/train/ა/IMG_20220404_150259_ა_1.jpg')\n",
        "img.load()\n",
        "data = np.asarray(img, dtype=\"int32\")\n",
        "x.append(data)\n",
        "x = np.array(x)\n",
        "print(x.shape)"
      ],
      "metadata": {
        "colab": {
          "base_uri": "https://localhost:8080/"
        },
        "id": "vAfGMKkTnCy3",
        "outputId": "e11147eb-f040-4db3-deb5-088a6f33ed26"
      },
      "execution_count": 226,
      "outputs": [
        {
          "output_type": "stream",
          "name": "stdout",
          "text": [
            "(1, 150, 100)\n"
          ]
        }
      ]
    },
    {
      "cell_type": "code",
      "source": [],
      "metadata": {
        "id": "bZQ1v9VCTyZ8"
      },
      "execution_count": null,
      "outputs": []
    },
    {
      "cell_type": "code",
      "source": [],
      "metadata": {
        "id": "YWxRwNLmTyct"
      },
      "execution_count": null,
      "outputs": []
    },
    {
      "cell_type": "code",
      "source": [],
      "metadata": {
        "id": "7JgVdtT7Tyfl"
      },
      "execution_count": null,
      "outputs": []
    },
    {
      "cell_type": "code",
      "source": [
        "# threshold\n",
        "thresh = cv2.threshold(img_test, 180, 255, cv2.THRESH_BINARY)[1]\n",
        "\n",
        "# count number of white pixels\n",
        "mean = np.mean(img_test)\n",
        "print(\"mean =\", mean)\n",
        "\n",
        "mean_masked = np.mean(img_test[np.where(thresh == 255)])\n",
        "print(\"masked mean =\", mean_masked)\n"
      ],
      "metadata": {
        "colab": {
          "base_uri": "https://localhost:8080/"
        },
        "id": "MZuc0YOOl0yd",
        "outputId": "30a19f3e-2864-4b0d-ce2c-9a6f45541f5d"
      },
      "execution_count": 53,
      "outputs": [
        {
          "output_type": "stream",
          "name": "stdout",
          "text": [
            "mean = 136.24663333333334\n",
            "masked mean = 215.07470801449858\n"
          ]
        }
      ]
    },
    {
      "cell_type": "code",
      "source": [
        "# write thresh to disk\n",
        "cv2.imwrite(\"gray_with_spots_thresh.png\", thresh)\n",
        "\n",
        "# display it\n",
        "cv2_imshow(thresh)\n",
        "cv2.waitKey(0)"
      ],
      "metadata": {
        "colab": {
          "base_uri": "https://localhost:8080/",
          "height": 335
        },
        "id": "3o2WpDdEl000",
        "outputId": "db92e099-5c80-438e-e6a1-64986a3cbcbe"
      },
      "execution_count": 56,
      "outputs": [
        {
          "output_type": "display_data",
          "data": {
            "text/plain": [
              "<PIL.Image.Image image mode=RGB size=200x300 at 0x7F267C5F9D00>"
            ],
            "image/png": "[encoded data removed]"
          },
          "metadata": {}
        },
        {
          "output_type": "execute_result",
          "data": {
            "text/plain": [
              "-1"
            ]
          },
          "metadata": {},
          "execution_count": 56
        }
      ]
    },
    {
      "cell_type": "code",
      "source": [],
      "metadata": {
        "id": "WpaFN_QlkkVV"
      },
      "execution_count": null,
      "outputs": []
    },
    {
      "cell_type": "code",
      "source": [],
      "metadata": {
        "id": "FNpK3qTTkkX6"
      },
      "execution_count": null,
      "outputs": []
    },
    {
      "cell_type": "code",
      "source": [],
      "metadata": {
        "id": "tmPdQLNbK_kq"
      },
      "execution_count": null,
      "outputs": []
    },
    {
      "cell_type": "code",
      "source": [],
      "metadata": {
        "id": "uBSgKcaPK_nC"
      },
      "execution_count": null,
      "outputs": []
    },
    {
      "cell_type": "code",
      "source": [
        "# #creating two dir for training and testing\n",
        "# !mkdir test_labels train_labels\n",
        "\n",
        "# # lists the files inside 'annotations' in a random order (not really random, by their hash value instead)\n",
        "# # Moves the first 274/1370 labels (20% of the labels) to the testing dir: `test_labels`\n",
        "# !ls annotations/* | sort -R | head -274 | xargs -I{} mv {} test_labels/\n",
        "\n",
        "# # Moves the rest of the labels ( 1096 labels ) to the training dir: `train_labels`\n",
        "# !ls annotations/* | xargs -I{} mv {} train_labels/"
      ],
      "metadata": {
        "id": "6SMfjBANv-XZ"
      },
      "execution_count": null,
      "outputs": []
    },
    {
      "cell_type": "code",
      "source": [
        "#creating two dir for training and testing\n",
        "!mkdir test_labels train_labels"
      ],
      "metadata": {
        "id": "yzNsH5fzv-Ze"
      },
      "execution_count": 6,
      "outputs": []
    },
    {
      "cell_type": "code",
      "source": [
        "#creating two dir for training and testing\n",
        "!mkdir test train"
      ],
      "metadata": {
        "id": "iwCz_3jv_CGq"
      },
      "execution_count": 11,
      "outputs": []
    },
    {
      "cell_type": "code",
      "source": [
        "# 86 * 0.2"
      ],
      "metadata": {
        "colab": {
          "base_uri": "https://localhost:8080/"
        },
        "id": "YFaH4GwC7X8M",
        "outputId": "157973a2-cd8a-4a3c-bee2-6a716fa5fdb0"
      },
      "execution_count": 7,
      "outputs": [
        {
          "output_type": "execute_result",
          "data": {
            "text/plain": [
              "17.2"
            ]
          },
          "metadata": {},
          "execution_count": 7
        }
      ]
    },
    {
      "cell_type": "code",
      "source": [
        "# Moves the first 51/86 labels (20% of the labels) to the testing dir: `test_labels`\n",
        "!ls georgian-letters-photo-database/* | head -51 | xargs -I{} mv {} test/\n",
        "\n",
        "# to cancel:\n",
        "# !ls test/* | xargs -I{} mv {} georgian-letters-photo-database/"
      ],
      "metadata": {
        "id": "MpBOQJ08v-b0"
      },
      "execution_count": 10,
      "outputs": []
    },
    {
      "cell_type": "code",
      "source": [
        "!ls georgian-letters-photo-database/* | xargs -I{} mv {} train/"
      ],
      "metadata": {
        "id": "scSR7lhx_KRX"
      },
      "execution_count": 13,
      "outputs": []
    },
    {
      "cell_type": "code",
      "source": [],
      "metadata": {
        "id": "tECCjx5j_PvM"
      },
      "execution_count": null,
      "outputs": []
    }
  ]
}