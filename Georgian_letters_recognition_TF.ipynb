{
  "nbformat": 4,
  "nbformat_minor": 0,
  "metadata": {
    "colab": {
      "provenance": [],
      "authorship_tag": "ABX9TyOrd8likQzg74jqlBS/wLBK",
      "include_colab_link": true
    },
    "kernelspec": {
      "name": "python3",
      "display_name": "Python 3"
    },
    "language_info": {
      "name": "python"
    }
  },
  "cells": [
    {
      "cell_type": "markdown",
      "metadata": {
        "id": "view-in-github",
        "colab_type": "text"
      },
      "source": [
        "<a href=\"https://colab.research.google.com/github/am-tropin/georgian-letters-trainer/blob/main/Georgian_letters_recognition_TF.ipynb\" target=\"_parent\"><img src=\"https://colab.research.google.com/assets/colab-badge.svg\" alt=\"Open In Colab\"/></a>"
      ]
    },
    {
      "cell_type": "code",
      "execution_count": null,
      "metadata": {
        "id": "2eo1-747dOUA"
      },
      "outputs": [],
      "source": []
    },
    {
      "cell_type": "markdown",
      "source": [
        "# **1. Downloading the dataset**"
      ],
      "metadata": {
        "id": "RKMZJmvx7grN"
      }
    },
    {
      "cell_type": "code",
      "source": [
        "!pip install pandas"
      ],
      "metadata": {
        "colab": {
          "base_uri": "https://localhost:8080/"
        },
        "id": "foT7cCnQv-N1",
        "outputId": "35322d85-28bc-48e9-ed4c-19bc2ee046c7"
      },
      "execution_count": 1,
      "outputs": [
        {
          "output_type": "stream",
          "name": "stdout",
          "text": [
            "Looking in indexes: https://pypi.org/simple, https://us-python.pkg.dev/colab-wheels/public/simple/\n",
            "Requirement already satisfied: pandas in /usr/local/lib/python3.9/dist-packages (1.5.3)\n",
            "Requirement already satisfied: python-dateutil>=2.8.1 in /usr/local/lib/python3.9/dist-packages (from pandas) (2.8.2)\n",
            "Requirement already satisfied: pytz>=2020.1 in /usr/local/lib/python3.9/dist-packages (from pandas) (2022.7.1)\n",
            "Requirement already satisfied: numpy>=1.20.3 in /usr/local/lib/python3.9/dist-packages (from pandas) (1.22.4)\n",
            "Requirement already satisfied: six>=1.5 in /usr/local/lib/python3.9/dist-packages (from python-dateutil>=2.8.1->pandas) (1.16.0)\n"
          ]
        }
      ]
    },
    {
      "cell_type": "code",
      "source": [
        "!pip install opendatasets"
      ],
      "metadata": {
        "colab": {
          "base_uri": "https://localhost:8080/"
        },
        "id": "1u1vpkQdwJix",
        "outputId": "7e258eae-8ca3-430b-a3a3-46b883582ef7"
      },
      "execution_count": 2,
      "outputs": [
        {
          "output_type": "stream",
          "name": "stdout",
          "text": [
            "Looking in indexes: https://pypi.org/simple, https://us-python.pkg.dev/colab-wheels/public/simple/\n",
            "Collecting opendatasets\n",
            "  Downloading opendatasets-0.1.22-py3-none-any.whl (15 kB)\n",
            "Requirement already satisfied: kaggle in /usr/local/lib/python3.9/dist-packages (from opendatasets) (1.5.13)\n",
            "Requirement already satisfied: tqdm in /usr/local/lib/python3.9/dist-packages (from opendatasets) (4.65.0)\n",
            "Requirement already satisfied: click in /usr/local/lib/python3.9/dist-packages (from opendatasets) (8.1.3)\n",
            "Requirement already satisfied: python-slugify in /usr/local/lib/python3.9/dist-packages (from kaggle->opendatasets) (8.0.1)\n",
            "Requirement already satisfied: certifi in /usr/local/lib/python3.9/dist-packages (from kaggle->opendatasets) (2022.12.7)\n",
            "Requirement already satisfied: urllib3 in /usr/local/lib/python3.9/dist-packages (from kaggle->opendatasets) (1.26.15)\n",
            "Requirement already satisfied: requests in /usr/local/lib/python3.9/dist-packages (from kaggle->opendatasets) (2.27.1)\n",
            "Requirement already satisfied: python-dateutil in /usr/local/lib/python3.9/dist-packages (from kaggle->opendatasets) (2.8.2)\n",
            "Requirement already satisfied: six>=1.10 in /usr/local/lib/python3.9/dist-packages (from kaggle->opendatasets) (1.16.0)\n",
            "Requirement already satisfied: text-unidecode>=1.3 in /usr/local/lib/python3.9/dist-packages (from python-slugify->kaggle->opendatasets) (1.3)\n",
            "Requirement already satisfied: idna<4,>=2.5 in /usr/local/lib/python3.9/dist-packages (from requests->kaggle->opendatasets) (3.4)\n",
            "Requirement already satisfied: charset-normalizer~=2.0.0 in /usr/local/lib/python3.9/dist-packages (from requests->kaggle->opendatasets) (2.0.12)\n",
            "Installing collected packages: opendatasets\n",
            "Successfully installed opendatasets-0.1.22\n"
          ]
        }
      ]
    },
    {
      "cell_type": "code",
      "source": [
        "import opendatasets as od\n",
        "\n",
        "od.download(\"https://www.kaggle.com/datasets/alexandertropin/georgian-letters-photo-database\")"
      ],
      "metadata": {
        "colab": {
          "base_uri": "https://localhost:8080/"
        },
        "id": "dqcyk4Qpv-S9",
        "outputId": "c11180b0-bc50-4b40-924e-da47e09e53bb"
      },
      "execution_count": 3,
      "outputs": [
        {
          "output_type": "stream",
          "name": "stdout",
          "text": [
            "Please provide your Kaggle credentials to download this dataset. Learn more: http://bit.ly/kaggle-creds\n",
            "Your Kaggle username: alexandertropin\n",
            "Your Kaggle Key: ··········\n",
            "Downloading georgian-letters-photo-database.zip to ./georgian-letters-photo-database\n"
          ]
        },
        {
          "output_type": "stream",
          "name": "stderr",
          "text": [
            "100%|██████████| 416M/416M [00:04<00:00, 96.2MB/s]\n"
          ]
        },
        {
          "output_type": "stream",
          "name": "stdout",
          "text": [
            "\n"
          ]
        }
      ]
    },
    {
      "cell_type": "code",
      "source": [
        "# remove all .txt files\n",
        "\n",
        "# import os\n",
        "# import glob\n",
        "\n",
        "# fileList = glob.glob('/content/georgian-letters-photo-database/georgian_letters_image_database/dataset/yolo/*') # .txt\n",
        "# fileList = glob.glob('/content/georgian-letters-photo-database/georgian_letters_image_database/dataset/*') # .txt\n",
        "# fileList = glob.glob('/content/georgian-letters-photo-database/georgian_letters_image_database/for_prediction/*') # .txt\n",
        "# fileList = glob.glob('/content/georgian-letters-photo-database/georgian_letters_image_database/dataset/*') # .txt\n",
        "# fileList = glob.glob('/content/georgian-letters-photo-database/georgian_letters_image_database/dataset/*') # .txt\n",
        "\n",
        "# for filePath in fileList:\n",
        "#     os.remove(filePath)"
      ],
      "metadata": {
        "id": "us7nztY1v-VG"
      },
      "execution_count": null,
      "outputs": []
    },
    {
      "cell_type": "code",
      "source": [],
      "metadata": {
        "id": "D2sk9ayGayOF"
      },
      "execution_count": null,
      "outputs": []
    },
    {
      "cell_type": "markdown",
      "source": [
        "# **2. Cutting images into letters**"
      ],
      "metadata": {
        "id": "_5h7ZP70uVP8"
      }
    },
    {
      "cell_type": "code",
      "source": [
        "import cv2\n",
        "import pandas as pd\n",
        "import numpy as np\n",
        "import xml.etree.ElementTree as ET\n",
        "\n",
        "import glob\n",
        "import os\n",
        "\n",
        "import re\n",
        "from collections import Counter\n",
        "\n",
        "# import sys, random\n",
        "# from shutil import copyfile"
      ],
      "metadata": {
        "id": "XSEATm2i1FW-"
      },
      "execution_count": 4,
      "outputs": []
    },
    {
      "cell_type": "code",
      "source": [
        "# https://github.com/Shenggan/BCCD_Dataset/blob/master/export.py\n",
        "\n",
        "\n",
        "def to_extract_coordinates(source_folder, target_name):\n",
        "    annotations = glob.glob(source_folder + '*.xml')\n",
        "\n",
        "    df = []\n",
        "    cnt = 0\n",
        "\n",
        "    for file in annotations:\n",
        "        filename = file.split('/')[-1].split('.')[0] + '.jpg'\n",
        "        row = []\n",
        "        parsedXML = ET.parse(file)\n",
        "        for node in parsedXML.getroot().iter('object'):\n",
        "            letters = node.find('name').text\n",
        "            xmin = int(node.find('bndbox/xmin').text)\n",
        "            xmax = int(node.find('bndbox/xmax').text)\n",
        "            ymin = int(node.find('bndbox/ymin').text)\n",
        "            ymax = int(node.find('bndbox/ymax').text)\n",
        "\n",
        "            row = [filename, letters, xmin, xmax, ymin, ymax]\n",
        "            df.append(row)\n",
        "            cnt += 1\n",
        "\n",
        "    data = pd.DataFrame(df, columns=['filename', 'letter_name', 'xmin', 'xmax', 'ymin', 'ymax'])\n",
        "\n",
        "    data[['filename', 'letter_name', 'xmin', 'xmax', 'ymin', 'ymax']].to_csv(target_name + '.csv', index=False)\n",
        "    return 1"
      ],
      "metadata": {
        "id": "TkTurZgm18uu"
      },
      "execution_count": 5,
      "outputs": []
    },
    {
      "cell_type": "code",
      "source": [
        "source_folder = 'georgian-letters-photo-database/georgian_letters_image_database/dataset/'\n",
        "target_name = 'label_coordinates'\n",
        "\n",
        "to_extract_coordinates(source_folder, target_name)"
      ],
      "metadata": {
        "colab": {
          "base_uri": "https://localhost:8080/"
        },
        "id": "KYQtkVoCgD9k",
        "outputId": "52848654-afa5-4bcc-bddb-c0ed2bdeff5a"
      },
      "execution_count": 6,
      "outputs": [
        {
          "output_type": "execute_result",
          "data": {
            "text/plain": [
              "1"
            ]
          },
          "metadata": {},
          "execution_count": 6
        }
      ]
    },
    {
      "cell_type": "code",
      "source": [
        "df = pd.read_csv('label_coordinates.csv')\n",
        "df.head()"
      ],
      "metadata": {
        "colab": {
          "base_uri": "https://localhost:8080/",
          "height": 206
        },
        "id": "pUvgWbgt1FZ4",
        "outputId": "b74b7437-926e-41c3-ad6c-211876feb547"
      },
      "execution_count": 7,
      "outputs": [
        {
          "output_type": "execute_result",
          "data": {
            "text/plain": [
              "                      filename letter_name  xmin  xmax  ymin  ymax\n",
              "0  IMG_20230215_134808 (1).jpg         17ს   668   911   971  1336\n",
              "1  IMG_20230215_134808 (1).jpg          8ი   884  1074  1112  1359\n",
              "2  IMG_20230215_134808 (1).jpg         10ლ  1052  1424  1120  1492\n",
              "3  IMG_20230215_134808 (1).jpg          0ა  1405  1580  1101  1355\n",
              "4  IMG_20230215_134808 (1).jpg         11მ  1561  1763   990  1348"
            ],
            "text/html": [
              "\n",
              "  <div id=\"df-ad4f2cb9-1727-4ec2-a761-b54dac2c1e88\">\n",
              "    <div class=\"colab-df-container\">\n",
              "      <div>\n",
              "<style scoped>\n",
              "    .dataframe tbody tr th:only-of-type {\n",
              "        vertical-align: middle;\n",
              "    }\n",
              "\n",
              "    .dataframe tbody tr th {\n",
              "        vertical-align: top;\n",
              "    }\n",
              "\n",
              "    .dataframe thead th {\n",
              "        text-align: right;\n",
              "    }\n",
              "</style>\n",
              "<table border=\"1\" class=\"dataframe\">\n",
              "  <thead>\n",
              "    <tr style=\"text-align: right;\">\n",
              "      <th></th>\n",
              "      <th>filename</th>\n",
              "      <th>letter_name</th>\n",
              "      <th>xmin</th>\n",
              "      <th>xmax</th>\n",
              "      <th>ymin</th>\n",
              "      <th>ymax</th>\n",
              "    </tr>\n",
              "  </thead>\n",
              "  <tbody>\n",
              "    <tr>\n",
              "      <th>0</th>\n",
              "      <td>IMG_20230215_134808 (1).jpg</td>\n",
              "      <td>17ს</td>\n",
              "      <td>668</td>\n",
              "      <td>911</td>\n",
              "      <td>971</td>\n",
              "      <td>1336</td>\n",
              "    </tr>\n",
              "    <tr>\n",
              "      <th>1</th>\n",
              "      <td>IMG_20230215_134808 (1).jpg</td>\n",
              "      <td>8ი</td>\n",
              "      <td>884</td>\n",
              "      <td>1074</td>\n",
              "      <td>1112</td>\n",
              "      <td>1359</td>\n",
              "    </tr>\n",
              "    <tr>\n",
              "      <th>2</th>\n",
              "      <td>IMG_20230215_134808 (1).jpg</td>\n",
              "      <td>10ლ</td>\n",
              "      <td>1052</td>\n",
              "      <td>1424</td>\n",
              "      <td>1120</td>\n",
              "      <td>1492</td>\n",
              "    </tr>\n",
              "    <tr>\n",
              "      <th>3</th>\n",
              "      <td>IMG_20230215_134808 (1).jpg</td>\n",
              "      <td>0ა</td>\n",
              "      <td>1405</td>\n",
              "      <td>1580</td>\n",
              "      <td>1101</td>\n",
              "      <td>1355</td>\n",
              "    </tr>\n",
              "    <tr>\n",
              "      <th>4</th>\n",
              "      <td>IMG_20230215_134808 (1).jpg</td>\n",
              "      <td>11მ</td>\n",
              "      <td>1561</td>\n",
              "      <td>1763</td>\n",
              "      <td>990</td>\n",
              "      <td>1348</td>\n",
              "    </tr>\n",
              "  </tbody>\n",
              "</table>\n",
              "</div>\n",
              "      <button class=\"colab-df-convert\" onclick=\"convertToInteractive('df-ad4f2cb9-1727-4ec2-a761-b54dac2c1e88')\"\n",
              "              title=\"Convert this dataframe to an interactive table.\"\n",
              "              style=\"display:none;\">\n",
              "        \n",
              "  <svg xmlns=\"http://www.w3.org/2000/svg\" height=\"24px\"viewBox=\"0 0 24 24\"\n",
              "       width=\"24px\">\n",
              "    <path d=\"M0 0h24v24H0V0z\" fill=\"none\"/>\n",
              "    <path d=\"M18.56 5.44l.94 2.06.94-2.06 2.06-.94-2.06-.94-.94-2.06-.94 2.06-2.06.94zm-11 1L8.5 8.5l.94-2.06 2.06-.94-2.06-.94L8.5 2.5l-.94 2.06-2.06.94zm10 10l.94 2.06.94-2.06 2.06-.94-2.06-.94-.94-2.06-.94 2.06-2.06.94z\"/><path d=\"M17.41 7.96l-1.37-1.37c-.4-.4-.92-.59-1.43-.59-.52 0-1.04.2-1.43.59L10.3 9.45l-7.72 7.72c-.78.78-.78 2.05 0 2.83L4 21.41c.39.39.9.59 1.41.59.51 0 1.02-.2 1.41-.59l7.78-7.78 2.81-2.81c.8-.78.8-2.07 0-2.86zM5.41 20L4 18.59l7.72-7.72 1.47 1.35L5.41 20z\"/>\n",
              "  </svg>\n",
              "      </button>\n",
              "      \n",
              "  <style>\n",
              "    .colab-df-container {\n",
              "      display:flex;\n",
              "      flex-wrap:wrap;\n",
              "      gap: 12px;\n",
              "    }\n",
              "\n",
              "    .colab-df-convert {\n",
              "      background-color: #E8F0FE;\n",
              "      border: none;\n",
              "      border-radius: 50%;\n",
              "      cursor: pointer;\n",
              "      display: none;\n",
              "      fill: #1967D2;\n",
              "      height: 32px;\n",
              "      padding: 0 0 0 0;\n",
              "      width: 32px;\n",
              "    }\n",
              "\n",
              "    .colab-df-convert:hover {\n",
              "      background-color: #E2EBFA;\n",
              "      box-shadow: 0px 1px 2px rgba(60, 64, 67, 0.3), 0px 1px 3px 1px rgba(60, 64, 67, 0.15);\n",
              "      fill: #174EA6;\n",
              "    }\n",
              "\n",
              "    [theme=dark] .colab-df-convert {\n",
              "      background-color: #3B4455;\n",
              "      fill: #D2E3FC;\n",
              "    }\n",
              "\n",
              "    [theme=dark] .colab-df-convert:hover {\n",
              "      background-color: #434B5C;\n",
              "      box-shadow: 0px 1px 3px 1px rgba(0, 0, 0, 0.15);\n",
              "      filter: drop-shadow(0px 1px 2px rgba(0, 0, 0, 0.3));\n",
              "      fill: #FFFFFF;\n",
              "    }\n",
              "  </style>\n",
              "\n",
              "      <script>\n",
              "        const buttonEl =\n",
              "          document.querySelector('#df-ad4f2cb9-1727-4ec2-a761-b54dac2c1e88 button.colab-df-convert');\n",
              "        buttonEl.style.display =\n",
              "          google.colab.kernel.accessAllowed ? 'block' : 'none';\n",
              "\n",
              "        async function convertToInteractive(key) {\n",
              "          const element = document.querySelector('#df-ad4f2cb9-1727-4ec2-a761-b54dac2c1e88');\n",
              "          const dataTable =\n",
              "            await google.colab.kernel.invokeFunction('convertToInteractive',\n",
              "                                                     [key], {});\n",
              "          if (!dataTable) return;\n",
              "\n",
              "          const docLinkHtml = 'Like what you see? Visit the ' +\n",
              "            '<a target=\"_blank\" href=https://colab.research.google.com/notebooks/data_table.ipynb>data table notebook</a>'\n",
              "            + ' to learn more about interactive tables.';\n",
              "          element.innerHTML = '';\n",
              "          dataTable['output_type'] = 'display_data';\n",
              "          await google.colab.output.renderOutput(dataTable, element);\n",
              "          const docLink = document.createElement('div');\n",
              "          docLink.innerHTML = docLinkHtml;\n",
              "          element.appendChild(docLink);\n",
              "        }\n",
              "      </script>\n",
              "    </div>\n",
              "  </div>\n",
              "  "
            ]
          },
          "metadata": {},
          "execution_count": 7
        }
      ]
    },
    {
      "cell_type": "code",
      "source": [
        "def invert_image(img_test):\n",
        "    height, width = img_test.shape[:2]\n",
        "    border_delta = 0.02\n",
        "\n",
        "    # mean grayscale value\n",
        "    mean_image = np.mean(img_test)\n",
        "\n",
        "    # grayscale values near the borders\n",
        "    mean_left_border = np.mean(img_test[:, int(width*(1-border_delta)):width])\n",
        "    mean_right_border = np.mean(img_test[:, 0:int(width*border_delta)])\n",
        "    mean_upper_border = np.mean(img_test[0:int(height*border_delta), :])\n",
        "    mean_lower_border = np.mean(img_test[int(height*(1-border_delta)):height, :])\n",
        "\n",
        "    if mean_image > np.mean(np.array([mean_left_border, mean_right_border, mean_upper_border, mean_lower_border])):\n",
        "        return cv2.bitwise_not(img_test)\n",
        "    else:\n",
        "        return img_test\n"
      ],
      "metadata": {
        "id": "HI5VYgzWsP0L"
      },
      "execution_count": 8,
      "outputs": []
    },
    {
      "cell_type": "code",
      "source": [
        "!mkdir cropped_images\n"
      ],
      "metadata": {
        "id": "Auzxq0UB3eQ_"
      },
      "execution_count": 9,
      "outputs": []
    },
    {
      "cell_type": "code",
      "source": [
        "# df_short = df[df['filename'] == 'IMG_20230212_163927.jpg']\n",
        "# df_short = df[df['filename'] == 'IMG_20230215_140350 (1).jpg']\n"
      ],
      "metadata": {
        "id": "NpCsxDgOMiLJ"
      },
      "execution_count": 10,
      "outputs": []
    },
    {
      "cell_type": "code",
      "source": [
        "def to_crop_letters(df, source_folder, target_folder):\n",
        "    '''\n",
        "    This function is for processing the letters.\n",
        "    '''\n",
        "    letter_names = set(list(df['letter_name']))\n",
        "\n",
        "    # a counter of letters within each image\n",
        "    letter_counter = {}\n",
        "\n",
        "    for index, row in df.iterrows():\n",
        "        if row['filename'] in letter_counter.keys():\n",
        "            if row['letter_name'] in letter_counter[row['filename']].keys():\n",
        "                letter_counter[row['filename']][row['letter_name']] += 1\n",
        "            else:\n",
        "                letter_counter[row['filename']][row['letter_name']] = 1\n",
        "        else:\n",
        "            letter_counter[row['filename']] = {}\n",
        "            letter_counter[row['filename']][row['letter_name']] = 1\n",
        "\n",
        "        img = cv2.imread(source_folder + row['filename'])\n",
        "        crop_img = img[row['ymin']:row['ymax'], row['xmin']:row['xmax']]\n",
        "        crop_resize_img = cv2.resize(crop_img, (100, 150))\n",
        "        gray_crop_resize_img = cv2.cvtColor(crop_resize_img, cv2.COLOR_BGR2GRAY)\n",
        "        invert_img = invert_image(gray_crop_resize_img)\n",
        "        # thresh_img = invert_img\n",
        "        thresh_img = cv2.threshold(invert_img, np.mean(invert_img), 255, cv2.THRESH_BINARY)[1]\n",
        "        # thresh_img = cv2.threshold(invert_img, (np.amin(invert_img) + np.amax(invert_img))//2, 255, cv2.THRESH_BINARY)[1]\n",
        "        # 127, 255\n",
        "        # cv2.THRESH_BINARY: If pixel intensity is greater than the set threshold, value set to 255, else set to 0 (black).\n",
        "        cv2.imwrite(target_folder + row['filename'][:-4] + '_' + row['letter_name'][-1] + '_' + str(letter_counter[row['filename']][row['letter_name']]) + '.jpg', thresh_img)\n",
        "    return 1"
      ],
      "metadata": {
        "id": "k_mLzmWVZ3AW"
      },
      "execution_count": 11,
      "outputs": []
    },
    {
      "cell_type": "code",
      "source": [
        "'''\n",
        "Creating a new dataset of images with singular letters.\n",
        "Grayscale. \n",
        "Resized to 100x150.\n",
        "Inverted (black <-> white) if the borders are darker than the image on the average\n",
        "'''\n",
        "\n",
        "\n",
        "'''\n",
        "4.5 minutes for processing of a full dataset (86 images / 1302 letters)\n",
        "'''\n",
        "\n",
        "df_short = df #.head(100)\n",
        "\n",
        "# the folder where images locate\n",
        "source_folder = 'georgian-letters-photo-database/georgian_letters_image_database/dataset/'\n",
        "\n",
        "# the folder where cropped images will be saved\n",
        "target_folder = 'cropped_images/'\n",
        "\n",
        "to_crop_letters(df_short, source_folder, target_folder)"
      ],
      "metadata": {
        "colab": {
          "base_uri": "https://localhost:8080/"
        },
        "id": "qk1VbcwFahCj",
        "outputId": "a7144614-4bae-474f-ede6-348951805797"
      },
      "execution_count": 12,
      "outputs": [
        {
          "output_type": "execute_result",
          "data": {
            "text/plain": [
              "1"
            ]
          },
          "metadata": {},
          "execution_count": 12
        }
      ]
    },
    {
      "cell_type": "code",
      "source": [
        "# files = glob.glob('cropped_images/*')\n",
        "# for f in files:\n",
        "#     os.remove(f)"
      ],
      "metadata": {
        "id": "CHwDbnNDahFK"
      },
      "execution_count": null,
      "outputs": []
    },
    {
      "cell_type": "code",
      "source": [
        "# !rmdir croped_images"
      ],
      "metadata": {
        "id": "hwDXQRUOhz46"
      },
      "execution_count": null,
      "outputs": []
    },
    {
      "cell_type": "markdown",
      "source": [
        "Downloading the cropped images:"
      ],
      "metadata": {
        "id": "V-r_-PZwSxt7"
      }
    },
    {
      "cell_type": "code",
      "source": [
        "!zip -r /content/cropped_images.zip /content/cropped_images\n",
        "\n",
        "from google.colab import files\n",
        "files.download(\"/content/cropped_images.zip\")"
      ],
      "metadata": {
        "id": "Rz-ToLseQ8bk",
        "colab": {
          "base_uri": "https://localhost:8080/",
          "height": 1000
        },
        "outputId": "8cf30684-f1a7-49be-f74c-fc7fb55bbdbf"
      },
      "execution_count": 13,
      "outputs": [
        {
          "output_type": "stream",
          "name": "stdout",
          "text": [
            "  adding: content/cropped_images/ (stored 0%)\n",
            "  adding: content/cropped_images/IMG_20230312_233457_დ_1.jpg (deflated 3%)\n",
            "  adding: content/cropped_images/IMG_20230215_135550 (1)_ლ_1.jpg (deflated 2%)\n",
            "  adding: content/cropped_images/IMG_20230205_132210_ბ_1.jpg (deflated 3%)\n",
            "  adding: content/cropped_images/IMG_20230215_140110 (1)_ს_1.jpg (deflated 4%)\n",
            "  adding: content/cropped_images/IMG_20230213_174613_კ_1.jpg (deflated 4%)\n",
            "  adding: content/cropped_images/IMG_20230306_173755_უ_2.jpg (deflated 4%)\n",
            "  adding: content/cropped_images/IMG_20221231_143556_კ_1.jpg (deflated 3%)\n",
            "  adding: content/cropped_images/IMG_20230219_144541_ნ_1.jpg (deflated 5%)\n",
            "  adding: content/cropped_images/IMG_20230213_201624 (1)_ა_1.jpg (deflated 7%)\n",
            "  adding: content/cropped_images/IMG_20230215_132741 (1)_ბ_1.jpg (deflated 3%)\n",
            "  adding: content/cropped_images/IMG_20230123_122233_რ_2.jpg (deflated 4%)\n",
            "  adding: content/cropped_images/IMG_20230215_135005 (1)_წ_1.jpg (deflated 3%)\n",
            "  adding: content/cropped_images/IMG_20221205_142933_ბ_2.jpg (deflated 3%)\n",
            "  adding: content/cropped_images/IMG_20221205_142933_ნ_1.jpg (deflated 3%)\n",
            "  adding: content/cropped_images/IMG_20230215_132923 (1)_ბ_2.jpg (deflated 3%)\n",
            "  adding: content/cropped_images/IMG_20230219_144541_ა_1.jpg (deflated 6%)\n",
            "  adding: content/cropped_images/IMG_20230215_140350 (1)_კ_2.jpg (deflated 4%)\n",
            "  adding: content/cropped_images/IMG_20230213_212214_უ_1.jpg (deflated 7%)\n",
            "  adding: content/cropped_images/IMG_20230226_123842_ე_1.jpg (deflated 4%)\n",
            "  adding: content/cropped_images/IMG_20230213_201213 (1)_ო_1.jpg (deflated 3%)\n",
            "  adding: content/cropped_images/IMG_20230226_145042_რ_1.jpg (deflated 3%)\n",
            "  adding: content/cropped_images/IMG_20230213_174337_ნ_1.jpg (deflated 3%)\n",
            "  adding: content/cropped_images/IMG_20230215_140110 (1)_ყ_1.jpg (deflated 4%)\n",
            "  adding: content/cropped_images/IMG_20230215_134920 (1)_ც_1.jpg (deflated 4%)\n",
            "  adding: content/cropped_images/IMG_20230215_134823 (1)_ლ_1.jpg (deflated 3%)\n",
            "  adding: content/cropped_images/IMG_20230213_201913 (1)_ი_1.jpg (deflated 8%)\n",
            "  adding: content/cropped_images/IMG_20230213_212214_ე_1.jpg (deflated 11%)\n",
            "  adding: content/cropped_images/IMG_20230213_174631_ი_1.jpg (deflated 3%)\n",
            "  adding: content/cropped_images/IMG_20220526_123129_რ_1.jpg (deflated 3%)\n",
            "  adding: content/cropped_images/IMG_20230213_212935_ლ_1.jpg (deflated 3%)\n",
            "  adding: content/cropped_images/IMG_20230125_173540_ჩ_1.jpg (deflated 3%)\n",
            "  adding: content/cropped_images/IMG_20230215_134920 (1)_ო_2.jpg (deflated 6%)\n",
            "  adding: content/cropped_images/IMG_20230123_122233_ვ_2.jpg (deflated 3%)\n",
            "  adding: content/cropped_images/IMG_20230213_194526 (1)_უ_2.jpg (deflated 3%)\n",
            "  adding: content/cropped_images/IMG_20230215_132858 (1)_ი_1.jpg (deflated 3%)\n",
            "  adding: content/cropped_images/IMG_20230215_135259 (1)_ი_1.jpg (deflated 3%)\n",
            "  adding: content/cropped_images/IMG_20230213_174613_ნ_1.jpg (deflated 5%)\n",
            "  adding: content/cropped_images/IMG_20230215_135005 (1)_ე_1.jpg (deflated 4%)\n",
            "  adding: content/cropped_images/IMG_20230213_195012 (1)_რ_1.jpg (deflated 3%)\n",
            "  adding: content/cropped_images/IMG_20230215_133817 (1)_პ_1.jpg (deflated 4%)\n",
            "  adding: content/cropped_images/IMG_20230226_125208_ვ_2.jpg (deflated 3%)\n",
            "  adding: content/cropped_images/IMG_20230213_212214_ჰ_1.jpg (deflated 3%)\n",
            "  adding: content/cropped_images/IMG_20230226_123842_ფ_1.jpg (deflated 3%)\n",
            "  adding: content/cropped_images/IMG_20230312_233457_ა_4.jpg (deflated 4%)\n",
            "  adding: content/cropped_images/IMG_20220404_150259_ღ_1.jpg (deflated 4%)\n",
            "  adding: content/cropped_images/IMG_20230215_135005 (1)_ო_2.jpg (deflated 3%)\n",
            "  adding: content/cropped_images/IMG_20230213_201624 (1)_კ_1.jpg (deflated 4%)\n",
            "  adding: content/cropped_images/IMG_20230213_212935_ბ_1.jpg (deflated 2%)\n",
            "  adding: content/cropped_images/IMG_20230125_173540_ძ_1.jpg (deflated 4%)\n",
            "  adding: content/cropped_images/IMG_20230215_140350 (1)_უ_1.jpg (deflated 5%)\n",
            "  adding: content/cropped_images/IMG_20230125_173540_რ_1.jpg (deflated 5%)\n",
            "  adding: content/cropped_images/IMG_20230212_163114_უ_1.jpg (deflated 3%)\n",
            "  adding: content/cropped_images/IMG_20221210_205824_თ_1.jpg (deflated 5%)\n",
            "  adding: content/cropped_images/IMG_20230216_185740 (1)_ფ_1.jpg (deflated 4%)\n",
            "  adding: content/cropped_images/IMG_20230215_132858 (1)_ნ_2.jpg (deflated 3%)\n",
            "  adding: content/cropped_images/IMG_20230212_163927_პ_1.jpg (deflated 3%)\n",
            "  adding: content/cropped_images/IMG_20230212_163814_ა_1.jpg (deflated 4%)\n",
            "  adding: content/cropped_images/IMG_20230226_125208_ი_1.jpg (deflated 3%)\n",
            "  adding: content/cropped_images/IMG_20230212_163204_ო_1.jpg (deflated 3%)\n",
            "  adding: content/cropped_images/IMG_20230312_103208_ლ_3.jpg (deflated 3%)\n",
            "  adding: content/cropped_images/IMG_20230216_182829_რ_1.jpg (deflated 2%)\n",
            "  adding: content/cropped_images/IMG_20230228_202054_ხ_1.jpg (deflated 5%)\n",
            "  adding: content/cropped_images/IMG_20230125_173540_ვ_1.jpg (deflated 2%)\n",
            "  adding: content/cropped_images/IMG_20230213_201913 (1)_დ_1.jpg (deflated 2%)\n",
            "  adding: content/cropped_images/IMG_20230215_140350 (1)_თ_2.jpg (deflated 11%)\n",
            "  adding: content/cropped_images/IMG_20230213_212214_რ_1.jpg (deflated 8%)\n",
            "  adding: content/cropped_images/IMG_20230302_132126_რ_2.jpg (deflated 9%)\n",
            "  adding: content/cropped_images/IMG_20230302_132126_ღ_2.jpg (deflated 2%)\n",
            "  adding: content/cropped_images/IMG_20230213_033113_ა_1.jpg (deflated 4%)\n",
            "  adding: content/cropped_images/IMG_20220612_160637_რ_1.jpg (deflated 4%)\n",
            "  adding: content/cropped_images/IMG_20230212_163114_ი_1.jpg (deflated 3%)\n",
            "  adding: content/cropped_images/IMG_20230215_133603 (1)_ბ_1.jpg (deflated 4%)\n",
            "  adding: content/cropped_images/IMG_20221205_142933_ლ_1.jpg (deflated 5%)\n",
            "  adding: content/cropped_images/IMG_20230226_145042_ა_1.jpg (deflated 3%)\n",
            "  adding: content/cropped_images/IMG_20230215_134920 (1)_დ_3.jpg (deflated 4%)\n",
            "  adding: content/cropped_images/IMG_20230315_003205_ქ_1.jpg (deflated 2%)\n",
            "  adding: content/cropped_images/IMG_20230213_033113_ნ_2.jpg (deflated 3%)\n",
            "  adding: content/cropped_images/IMG_20230205_140607_ე_1.jpg (deflated 3%)\n",
            "  adding: content/cropped_images/IMG_20230215_132923 (1)_გ_1.jpg (deflated 4%)\n",
            "  adding: content/cropped_images/IMG_20230212_162216_მ_1.jpg (deflated 2%)\n",
            "  adding: content/cropped_images/IMG_20230220_135524(1)_ნ_1.jpg (deflated 3%)\n",
            "  adding: content/cropped_images/IMG_20230212_163114_ა_2.jpg (deflated 3%)\n",
            "  adding: content/cropped_images/IMG_20230215_134808 (1)_ო_1.jpg (deflated 4%)\n",
            "  adding: content/cropped_images/IMG_20230213_194526 (1)_ქ_1.jpg (deflated 5%)\n",
            "  adding: content/cropped_images/IMG_20230215_140933 (1)_უ_1.jpg (deflated 3%)\n",
            "  adding: content/cropped_images/IMG_20230213_221040_თ_1.jpg (deflated 13%)\n",
            "  adding: content/cropped_images/IMG_20230215_140350 (1)_წ_1.jpg (deflated 4%)\n",
            "  adding: content/cropped_images/IMG_20230215_133817 (1)_ნ_2.jpg (deflated 5%)\n",
            "  adding: content/cropped_images/IMG_20230215_135757 (1)_კ_2.jpg (deflated 2%)\n",
            "  adding: content/cropped_images/IMG_20230213_212214_მ_1.jpg (deflated 7%)\n",
            "  adding: content/cropped_images/IMG_20230302_132126_ს_1.jpg (deflated 7%)\n",
            "  adding: content/cropped_images/IMG_20230212_184734_ი_2.jpg (deflated 2%)\n",
            "  adding: content/cropped_images/IMG_20230302_132126_ა_1.jpg (deflated 4%)\n",
            "  adding: content/cropped_images/IMG_20230212_163743_ლ_1.jpg (deflated 5%)\n",
            "  adding: content/cropped_images/IMG_20230213_033119_ტ_1.jpg (deflated 4%)\n",
            "  adding: content/cropped_images/IMG_20230306_174837_ე_1.jpg (deflated 4%)\n",
            "  adding: content/cropped_images/IMG_20230215_135550 (1)_ე_2.jpg (deflated 3%)\n",
            "  adding: content/cropped_images/IMG_20230123_122233_გ_1.jpg (deflated 2%)\n",
            "  adding: content/cropped_images/IMG_20230215_135649 (1)_ს_1.jpg (deflated 3%)\n",
            "  adding: content/cropped_images/IMG_20230213_174613_ქ_2.jpg (deflated 3%)\n",
            "  adding: content/cropped_images/IMG_20230215_135757 (1)_ს_1.jpg (deflated 2%)\n",
            "  adding: content/cropped_images/IMG_20230123_122233_პ_2.jpg (deflated 3%)\n",
            "  adding: content/cropped_images/IMG_20230212_162304_ე_1.jpg (deflated 4%)\n",
            "  adding: content/cropped_images/IMG_20230205_132210_ც_1.jpg (deflated 7%)\n",
            "  adding: content/cropped_images/IMG_20230212_162744_ვ_1.jpg (deflated 3%)\n",
            "  adding: content/cropped_images/IMG_20230215_133817 (1)_ბ_1.jpg (deflated 5%)\n",
            "  adding: content/cropped_images/IMG_20230212_163951_ი_1.jpg (deflated 4%)\n",
            "  adding: content/cropped_images/IMG_20230220_134736_ა_1.jpg (deflated 8%)\n",
            "  adding: content/cropped_images/IMG_20220612_160637_კ_1.jpg (deflated 4%)\n",
            "  adding: content/cropped_images/IMG_20230215_135722 (1)_ღ_1.jpg (deflated 3%)\n",
            "  adding: content/cropped_images/IMG_20230213_213058_ნ_1.jpg (deflated 2%)\n",
            "  adding: content/cropped_images/IMG_20230213_201624 (1)_ქ_1.jpg (deflated 6%)\n",
            "  adding: content/cropped_images/IMG_20230220_134736_შ_2.jpg (deflated 8%)\n",
            "  adding: content/cropped_images/IMG_20230213_215351_ო_1.jpg (deflated 6%)\n",
            "  adding: content/cropped_images/IMG_20230213_033119_წ_1.jpg (deflated 3%)\n",
            "  adding: content/cropped_images/IMG_20230125_173540_ვ_2.jpg (deflated 5%)\n",
            "  adding: content/cropped_images/IMG_20230213_201213 (1)_ნ_1.jpg (deflated 3%)\n",
            "  adding: content/cropped_images/IMG_20230123_122233_დ_1.jpg (deflated 3%)\n",
            "  adding: content/cropped_images/IMG_20230215_132923 (1)_ვ_2.jpg (deflated 2%)\n",
            "  adding: content/cropped_images/IMG_20230226_125208_გ_1.jpg (deflated 3%)\n",
            "  adding: content/cropped_images/IMG_20230220_135524(1)_ე_1.jpg (deflated 4%)\n",
            "  adding: content/cropped_images/IMG_20230212_163951_პ_1.jpg (deflated 3%)\n",
            "  adding: content/cropped_images/IMG_20230226_125208_ს_1.jpg (deflated 3%)\n",
            "  adding: content/cropped_images/IMG_20230213_033113_გ_1.jpg (deflated 10%)\n",
            "  adding: content/cropped_images/IMG_20230312_144621_ც_1.jpg (deflated 3%)\n",
            "  adding: content/cropped_images/IMG_20230123_122233_ვ_1.jpg (deflated 4%)\n",
            "  adding: content/cropped_images/IMG_20220404_150259_შ_1.jpg (deflated 3%)\n",
            "  adding: content/cropped_images/IMG_20221210_205824_ა_1.jpg (deflated 4%)\n",
            "  adding: content/cropped_images/IMG_20230215_134920 (1)_ვ_2.jpg (deflated 2%)\n",
            "  adding: content/cropped_images/IMG_20230213_174337_რ_1.jpg (deflated 3%)\n",
            "  adding: content/cropped_images/IMG_20230220_134736_ე_1.jpg (deflated 11%)\n",
            "  adding: content/cropped_images/IMG_20230215_135005 (1)_მ_1.jpg (deflated 5%)\n",
            "  adding: content/cropped_images/IMG_20230306_174837_ყ_1.jpg (deflated 4%)\n",
            "  adding: content/cropped_images/IMG_20230215_133625 (1)_ე_1.jpg (deflated 5%)\n",
            "  adding: content/cropped_images/IMG_20230215_135550 (1)_რ_1.jpg (deflated 2%)\n",
            "  adding: content/cropped_images/IMG_20230215_135757 (1)_ნ_1.jpg (deflated 3%)\n",
            "  adding: content/cropped_images/IMG_20220404_150259_უ_1.jpg (deflated 4%)\n",
            "  adding: content/cropped_images/IMG_20230312_144621_უ_1.jpg (deflated 6%)\n",
            "  adding: content/cropped_images/IMG_20230312_144621_ს_1.jpg (deflated 6%)\n",
            "  adding: content/cropped_images/IMG_20230213_221040_კ_1.jpg (deflated 6%)\n",
            "  adding: content/cropped_images/IMG_20230213_174613_ლ_1.jpg (deflated 4%)\n",
            "  adding: content/cropped_images/IMG_20230212_163951_ე_1.jpg (deflated 6%)\n",
            "  adding: content/cropped_images/IMG_20230213_213008_ფ_1.jpg (deflated 2%)\n",
            "  adding: content/cropped_images/IMG_20230212_163940_ჩ_1.jpg (deflated 5%)\n",
            "  adding: content/cropped_images/IMG_20230215_135649 (1)_ი_1.jpg (deflated 10%)\n",
            "  adding: content/cropped_images/IMG_20230213_195012 (1)_ი_1.jpg (deflated 4%)\n",
            "  adding: content/cropped_images/IMG_20230213_213058_თ_2.jpg (deflated 3%)\n",
            "  adding: content/cropped_images/IMG_20220404_150259_ს_1.jpg (deflated 4%)\n",
            "  adding: content/cropped_images/IMG_20230215_140454 (1)_გ_1.jpg (deflated 4%)\n",
            "  adding: content/cropped_images/IMG_20230125_173540_რ_2.jpg (deflated 5%)\n",
            "  adding: content/cropped_images/IMG_20230220_135524(1)_დ_1.jpg (deflated 4%)\n",
            "  adding: content/cropped_images/IMG_20230215_134823 (1)_დ_1.jpg (deflated 3%)\n",
            "  adding: content/cropped_images/IMG_20230302_132126_ქ_1.jpg (deflated 6%)\n",
            "  adding: content/cropped_images/IMG_20230213_212935_თ_1.jpg (deflated 2%)\n",
            "  adding: content/cropped_images/IMG_20230213_201356 (1)_უ_1.jpg (deflated 3%)\n",
            "  adding: content/cropped_images/IMG_20230205_132210_ვ_1.jpg (deflated 6%)\n",
            "  adding: content/cropped_images/IMG_20230213_221040_ქ_1.jpg (deflated 7%)\n",
            "  adding: content/cropped_images/IMG_20230213_213008_ტ_2.jpg (deflated 2%)\n",
            "  adding: content/cropped_images/IMG_20220404_150259_ზ_1.jpg (deflated 3%)\n",
            "  adding: content/cropped_images/IMG_20230213_201213 (1)_უ_1.jpg (deflated 3%)\n",
            "  adding: content/cropped_images/IMG_20230215_132741 (1)_რ_1.jpg (deflated 2%)\n",
            "  adding: content/cropped_images/IMG_20221231_143556_ე_2.jpg (deflated 4%)\n",
            "  adding: content/cropped_images/IMG_20230215_135105 (1)_პ_1.jpg (deflated 3%)\n",
            "  adding: content/cropped_images/IMG_20230312_144621_ა_1.jpg (deflated 3%)\n",
            "  adding: content/cropped_images/IMG_20230215_140350 (1)_ხ_1.jpg (deflated 5%)\n",
            "  adding: content/cropped_images/IMG_20230225_204704_ნ_2.jpg (deflated 2%)\n",
            "  adding: content/cropped_images/IMG_20220404_150259_ვ_1.jpg (deflated 3%)\n",
            "  adding: content/cropped_images/IMG_20230212_163951_მ_1.jpg (deflated 3%)\n",
            "  adding: content/cropped_images/IMG_20230213_212214_ნ_1.jpg (deflated 4%)\n",
            "  adding: content/cropped_images/IMG_20230226_125208_ა_1.jpg (deflated 5%)\n",
            "  adding: content/cropped_images/IMG_20230216_185740 (1)_უ_1.jpg (deflated 4%)\n",
            "  adding: content/cropped_images/IMG_20230215_134823 (1)_ჟ_1.jpg (deflated 5%)\n",
            "  adding: content/cropped_images/IMG_20230220_135524(1)_ო_1.jpg (deflated 7%)\n",
            "  adding: content/cropped_images/IMG_20230312_233457_ტ_2.jpg (deflated 3%)\n",
            "  adding: content/cropped_images/IMG_20230213_212214_ქ_1.jpg (deflated 4%)\n",
            "  adding: content/cropped_images/IMG_20230215_133625 (1)_ა_1.jpg (deflated 4%)\n",
            "  adding: content/cropped_images/IMG_20230213_221040_შ_1.jpg (deflated 4%)\n",
            "  adding: content/cropped_images/IMG_20230213_174346_ნ_1.jpg (deflated 3%)\n",
            "  adding: content/cropped_images/IMG_20230215_133625 (1)_ო_1.jpg (deflated 12%)\n",
            "  adding: content/cropped_images/IMG_20230212_162135_ვ_1.jpg (deflated 2%)\n",
            "  adding: content/cropped_images/IMG_20230212_163000_ი_1.jpg (deflated 7%)\n",
            "  adding: content/cropped_images/IMG_20230312_144621_დ_1.jpg (deflated 3%)\n",
            "  adding: content/cropped_images/IMG_20230215_133817 (1)_გ_1.jpg (deflated 2%)\n",
            "  adding: content/cropped_images/IMG_20230125_173540_ქ_3.jpg (deflated 5%)\n",
            "  adding: content/cropped_images/IMG_20230215_135259 (1)_ა_1.jpg (deflated 3%)\n",
            "  adding: content/cropped_images/IMG_20230213_174613_ტ_1.jpg (deflated 4%)\n",
            "  adding: content/cropped_images/IMG_20230212_162135_ლ_1.jpg (deflated 3%)\n",
            "  adding: content/cropped_images/IMG_20230215_140350 (1)_ა_1.jpg (deflated 3%)\n",
            "  adding: content/cropped_images/IMG_20230228_202054_ბ_1.jpg (deflated 3%)\n",
            "  adding: content/cropped_images/IMG_20220612_160637_ა_1.jpg (deflated 2%)\n",
            "  adding: content/cropped_images/IMG_20230215_140454 (1)_წ_1.jpg (deflated 4%)\n",
            "  adding: content/cropped_images/IMG_20230226_135514_მ_1.jpg (deflated 2%)\n",
            "  adding: content/cropped_images/IMG_20230312_103208_ნ_2.jpg (deflated 3%)\n",
            "  adding: content/cropped_images/IMG_20230213_195100 (1)_ა_1.jpg (deflated 3%)\n",
            "  adding: content/cropped_images/IMG_20230220_135524(1)_უ_1.jpg (deflated 7%)\n",
            "  adding: content/cropped_images/IMG_20221205_142933_ო_1.jpg (deflated 4%)\n",
            "  adding: content/cropped_images/IMG_20230213_174337_ი_1.jpg (deflated 4%)\n",
            "  adding: content/cropped_images/IMG_20230215_140110 (1)_ხ_1.jpg (deflated 3%)\n",
            "  adding: content/cropped_images/IMG_20230216_185644 (1)_დ_1.jpg (deflated 3%)\n",
            "  adding: content/cropped_images/IMG_20230306_173755_ტ_1.jpg (deflated 6%)\n",
            "  adding: content/cropped_images/IMG_20230226_145042_მ_1.jpg (deflated 3%)\n",
            "  adding: content/cropped_images/IMG_20230123_122233_რ_1.jpg (deflated 3%)\n",
            "  adding: content/cropped_images/IMG_20230216_185644 (1)_ს_1.jpg (deflated 3%)\n",
            "  adding: content/cropped_images/IMG_20230213_215351_ტ_1.jpg (deflated 5%)\n",
            "  adding: content/cropped_images/IMG_20230213_201624 (1)_ი_1.jpg (deflated 8%)\n",
            "  adding: content/cropped_images/IMG_20230213_033128_ზ_2.jpg (deflated 3%)\n",
            "  adding: content/cropped_images/IMG_20230215_135550 (1)_ყ_1.jpg (deflated 2%)\n",
            "  adding: content/cropped_images/IMG_20230215_140350 (1)_ჩ_1.jpg (deflated 4%)\n",
            "  adding: content/cropped_images/IMG_20230315_003205_ს_1.jpg (deflated 3%)\n",
            "  adding: content/cropped_images/IMG_20230212_162744_ა_1.jpg (deflated 3%)\n",
            "  adding: content/cropped_images/IMG_20230212_191424_ხ_1.jpg (deflated 3%)\n",
            "  adding: content/cropped_images/IMG_20230315_003205_ნ_1.jpg (deflated 2%)\n",
            "  adding: content/cropped_images/IMG_20230215_132741 (1)_ფ_1.jpg (deflated 2%)\n",
            "  adding: content/cropped_images/IMG_20221231_143556_წ_2.jpg (deflated 3%)\n",
            "  adding: content/cropped_images/IMG_20230213_212935_ქ_1.jpg (deflated 2%)\n",
            "  adding: content/cropped_images/IMG_20230213_033113_მ_1.jpg (deflated 4%)\n",
            "  adding: content/cropped_images/IMG_20230215_134823 (1)_ტ_1.jpg (deflated 3%)\n",
            "  adding: content/cropped_images/IMG_20230213_212238_დ_2.jpg (deflated 3%)\n",
            "  adding: content/cropped_images/IMG_20230205_140607_ი_1.jpg (deflated 4%)\n",
            "  adding: content/cropped_images/IMG_20230213_212238_ა_3.jpg (deflated 2%)\n",
            "  adding: content/cropped_images/IMG_20230215_132741 (1)_ღ_1.jpg (deflated 2%)\n",
            "  adding: content/cropped_images/IMG_20230215_132858 (1)_გ_1.jpg (deflated 3%)\n",
            "  adding: content/cropped_images/IMG_20230125_173540_ი_2.jpg (deflated 3%)\n",
            "  adding: content/cropped_images/IMG_20230215_133603 (1)_ტ_1.jpg (deflated 2%)\n",
            "  adding: content/cropped_images/IMG_20230213_214906_უ_1.jpg (deflated 3%)\n",
            "  adding: content/cropped_images/IMG_20230228_202054_შ_1.jpg (deflated 3%)\n",
            "  adding: content/cropped_images/IMG_20230125_173540_დ_2.jpg (deflated 3%)\n",
            "  adding: content/cropped_images/IMG_20230213_174613_ფ_1.jpg (deflated 4%)\n",
            "  adding: content/cropped_images/IMG_20230212_191424_ლ_1.jpg (deflated 2%)\n",
            "  adding: content/cropped_images/IMG_20230216_184020 (1)_ი_1.jpg (deflated 3%)\n",
            "  adding: content/cropped_images/IMG_20230215_133603 (1)_ს_1.jpg (deflated 4%)\n",
            "  adding: content/cropped_images/IMG_20230213_212238_უ_1.jpg (deflated 4%)\n",
            "  adding: content/cropped_images/IMG_20230213_201356 (1)_ქ_1.jpg (deflated 4%)\n",
            "  adding: content/cropped_images/IMG_20230302_132126_ა_3.jpg (deflated 3%)\n",
            "  adding: content/cropped_images/IMG_20230315_001116_ი_1.jpg (deflated 4%)\n",
            "  adding: content/cropped_images/IMG_20230213_213008_ე_2.jpg (deflated 3%)\n",
            "  adding: content/cropped_images/IMG_20230213_212238_მ_1.jpg (deflated 4%)\n",
            "  adding: content/cropped_images/IMG_20230306_173755_ბ_1.jpg (deflated 3%)\n",
            "  adding: content/cropped_images/IMG_20230213_174631_ბ_3.jpg (deflated 3%)\n",
            "  adding: content/cropped_images/IMG_20221210_205824_რ_1.jpg (deflated 3%)\n",
            "  adding: content/cropped_images/IMG_20230213_174613_ს_1.jpg (deflated 6%)\n",
            "  adding: content/cropped_images/IMG_20230228_202054_ც_1.jpg (deflated 3%)\n",
            "  adding: content/cropped_images/IMG_20230213_213008_ტ_3.jpg (deflated 3%)\n",
            "  adding: content/cropped_images/IMG_20230215_135333 (1)_კ_1.jpg (deflated 2%)\n",
            "  adding: content/cropped_images/IMG_20230216_184020 (1)_ო_1.jpg (deflated 3%)\n",
            "  adding: content/cropped_images/IMG_20230213_212448_ტ_1.jpg (deflated 9%)\n",
            "  adding: content/cropped_images/IMG_20230306_173755_ე_3.jpg (deflated 5%)\n",
            "  adding: content/cropped_images/IMG_20230215_134920 (1)_ბ_2.jpg (deflated 3%)\n",
            "  adding: content/cropped_images/IMG_20230212_163743_ი_1.jpg (deflated 3%)\n",
            "  adding: content/cropped_images/IMG_20230226_123842_უ_1.jpg (deflated 3%)\n",
            "  adding: content/cropped_images/IMG_20230315_001116_ტ_1.jpg (deflated 3%)\n",
            "  adding: content/cropped_images/IMG_20230220_135524(1)_ზ_1.jpg (deflated 2%)\n",
            "  adding: content/cropped_images/IMG_20230216_185740 (1)_ი_1.jpg (deflated 6%)\n",
            "  adding: content/cropped_images/IMG_20230215_135005 (1)_დ_1.jpg (deflated 2%)\n",
            "  adding: content/cropped_images/IMG_20230220_135524(1)_ც_1.jpg (deflated 5%)\n",
            "  adding: content/cropped_images/IMG_20230123_122233_ა_1.jpg (deflated 4%)\n",
            "  adding: content/cropped_images/IMG_20230212_163717_ტ_1.jpg (deflated 2%)\n",
            "  adding: content/cropped_images/IMG_20230215_135757 (1)_დ_2.jpg (deflated 2%)\n",
            "  adding: content/cropped_images/IMG_20230306_173755_ი_4.jpg (deflated 5%)\n",
            "  adding: content/cropped_images/IMG_20230123_122233_ლ_2.jpg (deflated 4%)\n",
            "  adding: content/cropped_images/IMG_20230306_173755_მ_2.jpg (deflated 3%)\n",
            "  adding: content/cropped_images/IMG_20230215_135757 (1)_ი_2.jpg (deflated 4%)\n",
            "  adding: content/cropped_images/IMG_20230213_201213 (1)_ს_1.jpg (deflated 3%)\n",
            "  adding: content/cropped_images/IMG_20230213_213008_ვ_1.jpg (deflated 2%)\n",
            "  adding: content/cropped_images/IMG_20230212_162135_ი_2.jpg (deflated 4%)\n",
            "  adding: content/cropped_images/IMG_20230213_201624 (1)_რ_1.jpg (deflated 8%)\n",
            "  adding: content/cropped_images/IMG_20230220_135524(1)_ი_1.jpg (deflated 4%)\n",
            "  adding: content/cropped_images/IMG_20230215_132741 (1)_თ_1.jpg (deflated 2%)\n",
            "  adding: content/cropped_images/IMG_20230215_132858 (1)_თ_1.jpg (deflated 3%)\n",
            "  adding: content/cropped_images/IMG_20230215_132923 (1)_ვ_1.jpg (deflated 3%)\n",
            "  adding: content/cropped_images/IMG_20230213_212448_ო_1.jpg (deflated 29%)\n",
            "  adding: content/cropped_images/IMG_20230215_140350 (1)_ლ_2.jpg (deflated 4%)\n",
            "  adding: content/cropped_images/IMG_20230228_202054_ი_2.jpg (deflated 5%)\n",
            "  adding: content/cropped_images/IMG_20230302_132126_ნ_1.jpg (deflated 2%)\n",
            "  adding: content/cropped_images/IMG_20230213_212214_უ_2.jpg (deflated 5%)\n",
            "  adding: content/cropped_images/IMG_20230306_174837_გ_1.jpg (deflated 3%)\n",
            "  adding: content/cropped_images/IMG_20221210_205824_ე_1.jpg (deflated 3%)\n",
            "  adding: content/cropped_images/IMG_20230312_233457_უ_1.jpg (deflated 4%)\n",
            "  adding: content/cropped_images/IMG_20230215_135757 (1)_ი_1.jpg (deflated 3%)\n",
            "  adding: content/cropped_images/IMG_20230215_135259 (1)_მ_1.jpg (deflated 3%)\n",
            "  adding: content/cropped_images/IMG_20230213_174613_რ_2.jpg (deflated 3%)\n",
            "  adding: content/cropped_images/IMG_20230213_201624 (1)_წ_1.jpg (deflated 4%)\n",
            "  adding: content/cropped_images/IMG_20230228_202054_ო_2.jpg (deflated 3%)\n",
            "  adding: content/cropped_images/IMG_20220404_150259_ე_1.jpg (deflated 4%)\n",
            "  adding: content/cropped_images/IMG_20230226_135514_ს_1.jpg (deflated 4%)\n",
            "  adding: content/cropped_images/IMG_20230220_135524(1)_ჯ_1.jpg (deflated 4%)\n",
            "  adding: content/cropped_images/IMG_20230125_173540_ზ_1.jpg (deflated 2%)\n",
            "  adding: content/cropped_images/IMG_20230213_194526 (1)_ლ_2.jpg (deflated 4%)\n",
            "  adding: content/cropped_images/IMG_20230213_201213 (1)_ჯ_1.jpg (deflated 3%)\n",
            "  adding: content/cropped_images/IMG_20220612_160637_უ_1.jpg (deflated 3%)\n",
            "  adding: content/cropped_images/IMG_20230215_134920 (1)_ბ_1.jpg (deflated 3%)\n",
            "  adding: content/cropped_images/IMG_20230205_132210_ი_1.jpg (deflated 9%)\n",
            "  adding: content/cropped_images/IMG_20230312_103208_ნ_1.jpg (deflated 3%)\n",
            "  adding: content/cropped_images/IMG_20230213_213008_ა_2.jpg (deflated 4%)\n",
            "  adding: content/cropped_images/IMG_20230215_134920 (1)_ი_2.jpg (deflated 3%)\n",
            "  adding: content/cropped_images/IMG_20230215_134823 (1)_უ_1.jpg (deflated 4%)\n",
            "  adding: content/cropped_images/IMG_20230212_163844_უ_1.jpg (deflated 3%)\n",
            "  adding: content/cropped_images/IMG_20230213_212214_რ_2.jpg (deflated 3%)\n",
            "  adding: content/cropped_images/IMG_20230215_133603 (1)_ნ_1.jpg (deflated 2%)\n",
            "  adding: content/cropped_images/IMG_20230226_123842_ი_1.jpg (deflated 3%)\n",
            "  adding: content/cropped_images/IMG_20230306_173755_ზ_1.jpg (deflated 3%)\n",
            "  adding: content/cropped_images/IMG_20230212_163951_ა_1.jpg (deflated 3%)\n",
            "  adding: content/cropped_images/IMG_20230212_163844_ე_1.jpg (deflated 3%)\n",
            "  adding: content/cropped_images/IMG_20230219_144541_ლ_1.jpg (deflated 5%)\n",
            "  adding: content/cropped_images/IMG_20230216_182829_შ_1.jpg (deflated 5%)\n",
            "  adding: content/cropped_images/IMG_20230213_201213 (1)_ქ_1.jpg (deflated 2%)\n",
            "  adding: content/cropped_images/IMG_20230213_215351_ლ_1.jpg (deflated 5%)\n",
            "  adding: content/cropped_images/IMG_20230213_195100 (1)_რ_1.jpg (deflated 3%)\n",
            "  adding: content/cropped_images/IMG_20230226_135514_ე_1.jpg (deflated 3%)\n",
            "  adding: content/cropped_images/IMG_20230212_162744_ი_1.jpg (deflated 3%)\n",
            "  adding: content/cropped_images/IMG_20230216_184020 (1)_ლ_1.jpg (deflated 3%)\n",
            "  adding: content/cropped_images/IMG_20230215_135005 (1)_ვ_1.jpg (deflated 3%)\n",
            "  adding: content/cropped_images/IMG_20230315_003205_ვ_1.jpg (deflated 2%)\n",
            "  adding: content/cropped_images/IMG_20230216_185740 (1)_შ_1.jpg (deflated 3%)\n",
            "  adding: content/cropped_images/IMG_20230216_185644 (1)_ი_1.jpg (deflated 2%)\n",
            "  adding: content/cropped_images/IMG_20230213_213058_ც_1.jpg (deflated 2%)\n",
            "  adding: content/cropped_images/IMG_20230302_132126_ვ_1.jpg (deflated 3%)\n",
            "  adding: content/cropped_images/IMG_20230213_213853_ე_1.jpg (deflated 2%)\n",
            "  adding: content/cropped_images/IMG_20230302_132126_ზ_1.jpg (deflated 4%)\n",
            "  adding: content/cropped_images/IMG_20230213_201624 (1)_ნ_1.jpg (deflated 7%)\n",
            "  adding: content/cropped_images/IMG_20230125_173540_ც_1.jpg (deflated 3%)\n",
            "  adding: content/cropped_images/IMG_20230213_033128_უ_1.jpg (deflated 6%)\n",
            "  adding: content/cropped_images/IMG_20221231_143556_ფ_1.jpg (deflated 3%)\n",
            "  adding: content/cropped_images/IMG_20230215_134808 (1)_ზ_1.jpg (deflated 4%)\n",
            "  adding: content/cropped_images/IMG_20230212_163016_რ_1.jpg (deflated 3%)\n",
            "  adding: content/cropped_images/IMG_20230215_135757 (1)_რ_2.jpg (deflated 3%)\n",
            "  adding: content/cropped_images/IMG_20230213_033119_დ_2.jpg (deflated 4%)\n",
            "  adding: content/cropped_images/IMG_20230212_163951_ბ_1.jpg (deflated 3%)\n",
            "  adding: content/cropped_images/IMG_20230215_140350 (1)_ზ_1.jpg (deflated 4%)\n",
            "  adding: content/cropped_images/IMG_20230215_135757 (1)_დ_1.jpg (deflated 2%)\n",
            "  adding: content/cropped_images/IMG_20230213_201356 (1)_ფ_1.jpg (deflated 3%)\n",
            "  adding: content/cropped_images/IMG_20230312_233457_ო_1.jpg (deflated 7%)\n",
            "  adding: content/cropped_images/IMG_20230213_213058_ს_1.jpg (deflated 2%)\n",
            "  adding: content/cropped_images/IMG_20230213_213058_ხ_1.jpg (deflated 2%)\n",
            "  adding: content/cropped_images/IMG_20230213_221040_რ_1.jpg (deflated 5%)\n",
            "  adding: content/cropped_images/IMG_20230212_163743_ტ_1.jpg (deflated 4%)\n",
            "  adding: content/cropped_images/IMG_20230215_135757 (1)_ე_2.jpg (deflated 3%)\n",
            "  adding: content/cropped_images/IMG_20230216_184020 (1)_ჩ_1.jpg (deflated 5%)\n",
            "  adding: content/cropped_images/IMG_20230225_204704_კ_1.jpg (deflated 3%)\n",
            "  adding: content/cropped_images/IMG_20230213_213008_ი_1.jpg (deflated 3%)\n",
            "  adding: content/cropped_images/IMG_20230213_194526 (1)_თ_1.jpg (deflated 6%)\n",
            "  adding: content/cropped_images/IMG_20230212_191424_რ_1.jpg (deflated 2%)\n",
            "  adding: content/cropped_images/IMG_20230306_174837_ტ_1.jpg (deflated 3%)\n",
            "  adding: content/cropped_images/IMG_20230212_162108_ა_2.jpg (deflated 1%)\n",
            "  adding: content/cropped_images/IMG_20230312_233457_ი_1.jpg (deflated 4%)\n",
            "  adding: content/cropped_images/IMG_20230213_213008_ძ_1.jpg (deflated 3%)\n",
            "  adding: content/cropped_images/IMG_20230212_163717_ო_1.jpg (deflated 2%)\n",
            "  adding: content/cropped_images/IMG_20230215_133817 (1)_ტ_1.jpg (deflated 3%)\n",
            "  adding: content/cropped_images/IMG_20230215_134920 (1)_ე_1.jpg (deflated 4%)\n",
            "  adding: content/cropped_images/IMG_20230215_135005 (1)_ნ_2.jpg (deflated 3%)\n",
            "  adding: content/cropped_images/IMG_20230212_163927_ჩ_1.jpg (deflated 3%)\n",
            "  adding: content/cropped_images/IMG_20230212_191424_ძ_1.jpg (deflated 2%)\n",
            "  adding: content/cropped_images/IMG_20230312_233457_მ_2.jpg (deflated 2%)\n",
            "  adding: content/cropped_images/IMG_20230215_134920 (1)_დ_2.jpg (deflated 2%)\n",
            "  adding: content/cropped_images/IMG_20230312_103208_ე_1.jpg (deflated 3%)\n",
            "  adding: content/cropped_images/IMG_20230215_140350 (1)_ნ_1.jpg (deflated 6%)\n",
            "  adding: content/cropped_images/IMG_20230213_195012 (1)_ფ_1.jpg (deflated 4%)\n",
            "  adding: content/cropped_images/IMG_20230212_163315_ა_1.jpg (deflated 3%)\n",
            "  adding: content/cropped_images/IMG_20230213_213058_ე_1.jpg (deflated 2%)\n",
            "  adding: content/cropped_images/IMG_20230213_195100 (1)_პ_1.jpg (deflated 3%)\n",
            "  adding: content/cropped_images/IMG_20230215_135757 (1)_რ_3.jpg (deflated 2%)\n",
            "  adding: content/cropped_images/IMG_20230213_213008_რ_3.jpg (deflated 2%)\n",
            "  adding: content/cropped_images/IMG_20230306_173755_ქ_1.jpg (deflated 6%)\n",
            "  adding: content/cropped_images/IMG_20230216_185644 (1)_ზ_1.jpg (deflated 3%)\n",
            "  adding: content/cropped_images/IMG_20220526_123129_ი_1.jpg (deflated 3%)\n",
            "  adding: content/cropped_images/IMG_20230212_163844_ნ_1.jpg (deflated 5%)\n",
            "  adding: content/cropped_images/IMG_20230213_174631_ს_1.jpg (deflated 3%)\n",
            "  adding: content/cropped_images/IMG_20220526_123129_კ_1.jpg (deflated 3%)\n",
            "  adding: content/cropped_images/IMG_20230213_033119_უ_1.jpg (deflated 4%)\n",
            "  adding: content/cropped_images/IMG_20230212_191424_ზ_1.jpg (deflated 2%)\n",
            "  adding: content/cropped_images/IMG_20230213_201213 (1)_დ_1.jpg (deflated 4%)\n",
            "  adding: content/cropped_images/IMG_20230228_202054_ი_1.jpg (deflated 7%)\n",
            "  adding: content/cropped_images/IMG_20230215_135005 (1)_თ_1.jpg (deflated 11%)\n",
            "  adding: content/cropped_images/IMG_20221231_143556_პ_1.jpg (deflated 4%)\n",
            "  adding: content/cropped_images/IMG_20230213_201213 (1)_ფ_1.jpg (deflated 4%)\n",
            "  adding: content/cropped_images/IMG_20230215_134808 (1)_მ_1.jpg (deflated 3%)\n",
            "  adding: content/cropped_images/IMG_20230212_162108_ჟ_1.jpg (deflated 2%)\n",
            "  adding: content/cropped_images/IMG_20230306_173755_რ_4.jpg (deflated 5%)\n",
            "  adding: content/cropped_images/IMG_20230213_174346_ი_2.jpg (deflated 2%)\n",
            "  adding: content/cropped_images/IMG_20221205_142933_ვ_2.jpg (deflated 3%)\n",
            "  adding: content/cropped_images/IMG_20230213_033113_ყ_2.jpg (deflated 9%)\n",
            "  adding: content/cropped_images/IMG_20230213_201213 (1)_ბ_1.jpg (deflated 2%)\n",
            "  adding: content/cropped_images/IMG_20230215_132741 (1)_ნ_1.jpg (deflated 2%)\n",
            "  adding: content/cropped_images/IMG_20230215_134920 (1)_ე_2.jpg (deflated 3%)\n",
            "  adding: content/cropped_images/IMG_20230215_133817 (1)_ს_1.jpg (deflated 10%)\n",
            "  adding: content/cropped_images/IMG_20230213_201913 (1)_ბ_1.jpg (deflated 3%)\n",
            "  adding: content/cropped_images/IMG_20230312_233457_ა_3.jpg (deflated 4%)\n",
            "  adding: content/cropped_images/IMG_20230226_135514_ჟ_1.jpg (deflated 3%)\n",
            "  adding: content/cropped_images/IMG_20221231_143556_ლ_2.jpg (deflated 4%)\n",
            "  adding: content/cropped_images/IMG_20230213_212448_ი_1.jpg (deflated 15%)\n",
            "  adding: content/cropped_images/IMG_20230212_162216_ტ_1.jpg (deflated 4%)\n",
            "  adding: content/cropped_images/IMG_20230215_134920 (1)_ლ_1.jpg (deflated 2%)\n",
            "  adding: content/cropped_images/IMG_20230226_125208_ლ_1.jpg (deflated 3%)\n",
            "  adding: content/cropped_images/IMG_20230215_135550 (1)_მ_1.jpg (deflated 2%)\n",
            "  adding: content/cropped_images/IMG_20220526_123129_ს_1.jpg (deflated 10%)\n",
            "  adding: content/cropped_images/IMG_20230213_195012 (1)_ა_1.jpg (deflated 4%)\n",
            "  adding: content/cropped_images/IMG_20230212_163315_ი_1.jpg (deflated 5%)\n",
            "  adding: content/cropped_images/IMG_20221231_143556_ნ_1.jpg (deflated 3%)\n",
            "  adding: content/cropped_images/IMG_20230125_173540_ნ_2.jpg (deflated 4%)\n",
            "  adding: content/cropped_images/IMG_20230213_194526 (1)_ლ_1.jpg (deflated 4%)\n",
            "  adding: content/cropped_images/IMG_20221231_143556_უ_1.jpg (deflated 3%)\n",
            "  adding: content/cropped_images/IMG_20221205_142933_ტ_1.jpg (deflated 4%)\n",
            "  adding: content/cropped_images/IMG_20230213_194526 (1)_ე_2.jpg (deflated 4%)\n",
            "  adding: content/cropped_images/IMG_20230212_191424_ა_1.jpg (deflated 1%)\n",
            "  adding: content/cropped_images/IMG_20230215_135649 (1)_ა_1.jpg (deflated 5%)\n",
            "  adding: content/cropped_images/IMG_20230220_135524(1)_ყ_1.jpg (deflated 4%)\n",
            "  adding: content/cropped_images/IMG_20230302_132126_მ_2.jpg (deflated 3%)\n",
            "  adding: content/cropped_images/IMG_20230216_182829_ლ_1.jpg (deflated 2%)\n",
            "  adding: content/cropped_images/IMG_20230213_212935_რ_1.jpg (deflated 2%)\n",
            "  adding: content/cropped_images/IMG_20230212_163814_ი_1.jpg (deflated 3%)\n",
            "  adding: content/cropped_images/IMG_20230212_162211_ს_1.jpg (deflated 3%)\n",
            "  adding: content/cropped_images/IMG_20230213_033113_ლ_1.jpg (deflated 9%)\n",
            "  adding: content/cropped_images/IMG_20230213_212238_ი_2.jpg (deflated 5%)\n",
            "  adding: content/cropped_images/IMG_20230302_132126_ი_3.jpg (deflated 3%)\n",
            "  adding: content/cropped_images/IMG_20230215_135259 (1)_ნ_1.jpg (deflated 2%)\n",
            "  adding: content/cropped_images/IMG_20230302_132126_ტ_1.jpg (deflated 4%)\n",
            "  adding: content/cropped_images/IMG_20230213_213008_ლ_1.jpg (deflated 3%)\n",
            "  adding: content/cropped_images/IMG_20230312_233457_რ_3.jpg (deflated 2%)\n",
            "  adding: content/cropped_images/IMG_20230226_125208_ა_3.jpg (deflated 2%)\n",
            "  adding: content/cropped_images/IMG_20230226_145042_უ_1.jpg (deflated 3%)\n",
            "  adding: content/cropped_images/IMG_20220526_123129_ე_1.jpg (deflated 3%)\n",
            "  adding: content/cropped_images/IMG_20230215_132741 (1)_გ_1.jpg (deflated 2%)\n",
            "  adding: content/cropped_images/IMG_20230315_003205_წ_1.jpg (deflated 4%)\n",
            "  adding: content/cropped_images/IMG_20230213_201624 (1)_ლ_1.jpg (deflated 6%)\n",
            "  adding: content/cropped_images/IMG_20230212_163814_ო_1.jpg (deflated 8%)\n",
            "  adding: content/cropped_images/IMG_20230213_213008_ს_1.jpg (deflated 2%)\n",
            "  adding: content/cropped_images/IMG_20230216_185740 (1)_ა_1.jpg (deflated 3%)\n",
            "  adding: content/cropped_images/IMG_20230215_135333 (1)_რ_1.jpg (deflated 4%)\n",
            "  adding: content/cropped_images/IMG_20230215_135259 (1)_უ_1.jpg (deflated 4%)\n",
            "  adding: content/cropped_images/IMG_20230213_215351_ა_1.jpg (deflated 4%)\n",
            "  adding: content/cropped_images/IMG_20230213_215351_ს_1.jpg (deflated 3%)\n",
            "  adding: content/cropped_images/IMG_20230216_182829_ბ_1.jpg (deflated 3%)\n",
            "  adding: content/cropped_images/IMG_20230220_135524(1)_შ_1.jpg (deflated 3%)\n",
            "  adding: content/cropped_images/IMG_20230228_202054_ა_2.jpg (deflated 3%)\n",
            "  adding: content/cropped_images/IMG_20230215_135550 (1)_შ_1.jpg (deflated 2%)\n",
            "  adding: content/cropped_images/IMG_20230215_134920 (1)_ნ_1.jpg (deflated 2%)\n",
            "  adding: content/cropped_images/IMG_20230312_144621_ო_1.jpg (deflated 9%)\n",
            "  adding: content/cropped_images/IMG_20230312_233457_პ_1.jpg (deflated 3%)\n",
            "  adding: content/cropped_images/IMG_20230315_003205_მ_1.jpg (deflated 4%)\n",
            "  adding: content/cropped_images/IMG_20230213_194526 (1)_დ_1.jpg (deflated 3%)\n",
            "  adding: content/cropped_images/IMG_20230213_194526 (1)_ო_1.jpg (deflated 2%)\n",
            "  adding: content/cropped_images/IMG_20230215_135757 (1)_შ_1.jpg (deflated 3%)\n",
            "  adding: content/cropped_images/IMG_20230213_212238_ე_2.jpg (deflated 3%)\n",
            "  adding: content/cropped_images/IMG_20230226_125208_ბ_1.jpg (deflated 4%)\n",
            "  adding: content/cropped_images/IMG_20230215_135722 (1)_ა_1.jpg (deflated 3%)\n",
            "  adding: content/cropped_images/IMG_20230220_134736_ხ_1.jpg (deflated 15%)\n",
            "  adding: content/cropped_images/IMG_20230306_173755_ბ_2.jpg (deflated 3%)\n",
            "  adding: content/cropped_images/IMG_20230306_173755_ა_2.jpg (deflated 4%)\n",
            "  adding: content/cropped_images/IMG_20230215_135757 (1)_ო_1.jpg (deflated 2%)\n",
            "  adding: content/cropped_images/IMG_20230312_103208_მ_1.jpg (deflated 2%)\n",
            "  adding: content/cropped_images/IMG_20230306_173755_ლ_1.jpg (deflated 7%)\n",
            "  adding: content/cropped_images/IMG_20230215_135550 (1)_ე_1.jpg (deflated 3%)\n",
            "  adding: content/cropped_images/IMG_20230220_134736_რ_1.jpg (deflated 10%)\n",
            "  adding: content/cropped_images/IMG_20230213_214906_ტ_1.jpg (deflated 3%)\n",
            "  adding: content/cropped_images/IMG_20230213_174425_ბ_1.jpg (deflated 3%)\n",
            "  adding: content/cropped_images/IMG_20230212_163000_უ_1.jpg (deflated 3%)\n",
            "  adding: content/cropped_images/IMG_20230213_174337_ფ_2.jpg (deflated 3%)\n",
            "  adding: content/cropped_images/IMG_20230212_191424_უ_1.jpg (deflated 1%)\n",
            "  adding: content/cropped_images/IMG_20230213_174425_ლ_1.jpg (deflated 4%)\n",
            "  adding: content/cropped_images/IMG_20230306_173755_პ_3.jpg (deflated 4%)\n",
            "  adding: content/cropped_images/IMG_20230226_123842_ა_1.jpg (deflated 3%)\n",
            "  adding: content/cropped_images/IMG_20230205_132210_ლ_1.jpg (deflated 11%)\n",
            "  adding: content/cropped_images/IMG_20230213_174631_პ_1.jpg (deflated 3%)\n",
            "  adding: content/cropped_images/IMG_20230306_174837_ჭ_1.jpg (deflated 3%)\n",
            "  adding: content/cropped_images/IMG_20230215_133603 (1)_ც_1.jpg (deflated 3%)\n",
            "  adding: content/cropped_images/IMG_20230213_214906_ა_2.jpg (deflated 4%)\n",
            "  adding: content/cropped_images/IMG_20230213_215351_ლ_2.jpg (deflated 6%)\n",
            "  adding: content/cropped_images/IMG_20221210_205824_ო_1.jpg (deflated 5%)\n",
            "  adding: content/cropped_images/IMG_20230215_135757 (1)_შ_2.jpg (deflated 2%)\n",
            "  adding: content/cropped_images/IMG_20230215_132858 (1)_უ_1.jpg (deflated 5%)\n",
            "  adding: content/cropped_images/IMG_20230306_174837_დ_1.jpg (deflated 4%)\n",
            "  adding: content/cropped_images/IMG_20230212_163000_ი_2.jpg (deflated 2%)\n",
            "  adding: content/cropped_images/IMG_20230215_134920 (1)_ს_1.jpg (deflated 4%)\n",
            "  adding: content/cropped_images/IMG_20230213_213008_ქ_1.jpg (deflated 3%)\n",
            "  adding: content/cropped_images/IMG_20230213_201213 (1)_თ_1.jpg (deflated 4%)\n",
            "  adding: content/cropped_images/IMG_20230226_123842_ე_2.jpg (deflated 3%)\n",
            "  adding: content/cropped_images/IMG_20230213_195100 (1)_მ_1.jpg (deflated 3%)\n",
            "  adding: content/cropped_images/IMG_20230213_212448_ხ_1.jpg (deflated 12%)\n",
            "  adding: content/cropped_images/IMG_20230302_132126_ხ_1.jpg (deflated 3%)\n",
            "  adding: content/cropped_images/IMG_20230213_212238_დ_1.jpg (deflated 3%)\n",
            "  adding: content/cropped_images/IMG_20230212_163940_ნ_2.jpg (deflated 2%)\n",
            "  adding: content/cropped_images/IMG_20230216_184020 (1)_მ_1.jpg (deflated 3%)\n",
            "  adding: content/cropped_images/IMG_20230213_201624 (1)_მ_1.jpg (deflated 8%)\n",
            "  adding: content/cropped_images/IMG_20230312_103208_კ_1.jpg (deflated 3%)\n",
            "  adding: content/cropped_images/IMG_20230212_191424_შ_1.jpg (deflated 2%)\n",
            "  adding: content/cropped_images/IMG_20230216_184020 (1)_ს_1.jpg (deflated 3%)\n",
            "  adding: content/cropped_images/IMG_20230212_163000_ა_1.jpg (deflated 3%)\n",
            "  adding: content/cropped_images/IMG_20230215_132923 (1)_თ_1.jpg (deflated 3%)\n",
            "  adding: content/cropped_images/IMG_20230213_033113_ო_1.jpg (deflated 4%)\n",
            "  adding: content/cropped_images/IMG_20230215_134823 (1)_ბ_1.jpg (deflated 3%)\n",
            "  adding: content/cropped_images/IMG_20230213_212935_ზ_1.jpg (deflated 2%)\n",
            "  adding: content/cropped_images/IMG_20230213_201624 (1)_დ_1.jpg (deflated 6%)\n",
            "  adding: content/cropped_images/IMG_20230205_140607_ბ_1.jpg (deflated 2%)\n",
            "  adding: content/cropped_images/IMG_20230213_214906_ლ_1.jpg (deflated 3%)\n",
            "  adding: content/cropped_images/IMG_20230302_132126_ძ_1.jpg (deflated 5%)\n",
            "  adding: content/cropped_images/IMG_20221210_205824_კ_1.jpg (deflated 2%)\n",
            "  adding: content/cropped_images/IMG_20230312_144621_ი_1.jpg (deflated 4%)\n",
            "  adding: content/cropped_images/IMG_20230215_134823 (1)_მ_1.jpg (deflated 3%)\n",
            "  adding: content/cropped_images/IMG_20230315_001116_ლ_1.jpg (deflated 2%)\n",
            "  adding: content/cropped_images/IMG_20230315_001116_რ_1.jpg (deflated 2%)\n",
            "  adding: content/cropped_images/IMG_20230312_144621_ქ_2.jpg (deflated 6%)\n",
            "  adding: content/cropped_images/IMG_20220404_150259_რ_1.jpg (deflated 3%)\n",
            "  adding: content/cropped_images/IMG_20230213_033128_ე_1.jpg (deflated 5%)\n",
            "  adding: content/cropped_images/IMG_20230212_191424_ე_2.jpg (deflated 3%)\n",
            "  adding: content/cropped_images/IMG_20230212_162135_ა_3.jpg (deflated 4%)\n",
            "  adding: content/cropped_images/IMG_20220612_160637_ე_1.jpg (deflated 3%)\n",
            "  adding: content/cropped_images/IMG_20230215_140110 (1)_ი_1.jpg (deflated 4%)\n",
            "  adding: content/cropped_images/IMG_20230212_163114_ლ_1.jpg (deflated 2%)\n",
            "  adding: content/cropped_images/IMG_20230213_212238_ბ_2.jpg (deflated 3%)\n",
            "  adding: content/cropped_images/IMG_20230123_122233_ჩ_1.jpg (deflated 4%)\n",
            "  adding: content/cropped_images/IMG_20230216_185740 (1)_ბ_1.jpg (deflated 2%)\n",
            "  adding: content/cropped_images/IMG_20230213_174631_ქ_1.jpg (deflated 3%)\n",
            "  adding: content/cropped_images/IMG_20230213_195012 (1)_კ_1.jpg (deflated 3%)\n",
            "  adding: content/cropped_images/IMG_20230215_140350 (1)_ტ_2.jpg (deflated 6%)\n",
            "  adding: content/cropped_images/IMG_20220404_150259_ი_1.jpg (deflated 5%)\n",
            "  adding: content/cropped_images/IMG_20221210_205824_ვ_2.jpg (deflated 4%)\n",
            "  adding: content/cropped_images/IMG_20230215_135550 (1)_ქ_1.jpg (deflated 2%)\n",
            "  adding: content/cropped_images/IMG_20230212_163000_ა_2.jpg (deflated 4%)\n",
            "  adding: content/cropped_images/IMG_20230213_201624 (1)_უ_1.jpg (deflated 7%)\n",
            "  adding: content/cropped_images/IMG_20230312_103208_ო_2.jpg (deflated 3%)\n",
            "  adding: content/cropped_images/IMG_20230226_125208_ღ_1.jpg (deflated 3%)\n",
            "  adding: content/cropped_images/IMG_20230215_132923 (1)_ს_2.jpg (deflated 3%)\n",
            "  adding: content/cropped_images/IMG_20230123_122233_უ_1.jpg (deflated 5%)\n",
            "  adding: content/cropped_images/IMG_20220404_150259_გ_1.jpg (deflated 5%)\n",
            "  adding: content/cropped_images/IMG_20230213_174346_ლ_2.jpg (deflated 2%)\n",
            "  adding: content/cropped_images/IMG_20230212_191424_ფ_1.jpg (deflated 2%)\n",
            "  adding: content/cropped_images/IMG_20230216_182829_ა_1.jpg (deflated 3%)\n",
            "  adding: content/cropped_images/IMG_20230226_135514_კ_1.jpg (deflated 4%)\n",
            "  adding: content/cropped_images/IMG_20220404_150259_ც_1.jpg (deflated 4%)\n",
            "  adding: content/cropped_images/IMG_20230212_162108_ლ_1.jpg (deflated 2%)\n",
            "  adding: content/cropped_images/IMG_20230213_201356 (1)_მ_1.jpg (deflated 5%)\n",
            "  adding: content/cropped_images/IMG_20230228_202054_ვ_1.jpg (deflated 4%)\n",
            "  adding: content/cropped_images/IMG_20230213_174631_ე_2.jpg (deflated 3%)\n",
            "  adding: content/cropped_images/IMG_20230213_033113_ს_1.jpg (deflated 5%)\n",
            "  adding: content/cropped_images/IMG_20230213_174631_ლ_1.jpg (deflated 4%)\n",
            "  adding: content/cropped_images/IMG_20230306_173755_რ_3.jpg (deflated 8%)\n",
            "  adding: content/cropped_images/IMG_20230213_213008_ბ_2.jpg (deflated 3%)\n",
            "  adding: content/cropped_images/IMG_20220526_123129_ო_1.jpg (deflated 6%)\n",
            "  adding: content/cropped_images/IMG_20230213_212214_კ_2.jpg (deflated 3%)\n",
            "  adding: content/cropped_images/IMG_20230125_173540_წ_1.jpg (deflated 3%)\n",
            "  adding: content/cropped_images/IMG_20230212_162304_ვ_1.jpg (deflated 2%)\n",
            "  adding: content/cropped_images/IMG_20230215_135649 (1)_რ_1.jpg (deflated 6%)\n",
            "  adding: content/cropped_images/IMG_20230219_144541_ი_1.jpg (deflated 3%)\n",
            "  adding: content/cropped_images/IMG_20230215_140350 (1)_ე_1.jpg (deflated 3%)\n",
            "  adding: content/cropped_images/IMG_20230226_145042_ს_1.jpg (deflated 4%)\n",
            "  adding: content/cropped_images/IMG_20230312_144621_კ_1.jpg (deflated 4%)\n",
            "  adding: content/cropped_images/IMG_20230213_174337_უ_1.jpg (deflated 4%)\n",
            "  adding: content/cropped_images/IMG_20230220_135524(1)_ხ_1.jpg (deflated 6%)\n",
            "  adding: content/cropped_images/IMG_20230215_140350 (1)_ა_2.jpg (deflated 5%)\n",
            "  adding: content/cropped_images/IMG_20230213_213008_ტ_1.jpg (deflated 3%)\n",
            "  adding: content/cropped_images/IMG_20230215_134920 (1)_ა_3.jpg (deflated 3%)\n",
            "  adding: content/cropped_images/IMG_20230306_174837_ლ_1.jpg (deflated 3%)\n",
            "  adding: content/cropped_images/IMG_20230213_174613_ო_2.jpg (deflated 4%)\n",
            "  adding: content/cropped_images/IMG_20230215_132858 (1)_დ_1.jpg (deflated 3%)\n",
            "  adding: content/cropped_images/IMG_20230306_173755_უ_1.jpg (deflated 4%)\n",
            "  adding: content/cropped_images/IMG_20230312_144621_მ_2.jpg (deflated 4%)\n",
            "  adding: content/cropped_images/IMG_20230215_134823 (1)_ღ_1.jpg (deflated 3%)\n",
            "  adding: content/cropped_images/IMG_20230215_132858 (1)_ტ_1.jpg (deflated 3%)\n",
            "  adding: content/cropped_images/IMG_20230213_174425_დ_1.jpg (deflated 4%)\n",
            "  adding: content/cropped_images/IMG_20230215_140454 (1)_მ_1.jpg (deflated 3%)\n",
            "  adding: content/cropped_images/IMG_20220526_123129_ა_1.jpg (deflated 3%)\n",
            "  adding: content/cropped_images/IMG_20230215_135550 (1)_ჩ_1.jpg (deflated 2%)\n",
            "  adding: content/cropped_images/IMG_20230212_163844_ძ_1.jpg (deflated 6%)\n",
            "  adding: content/cropped_images/IMG_20230306_173755_კ_4.jpg (deflated 3%)\n",
            "  adding: content/cropped_images/IMG_20230212_163940_უ_1.jpg (deflated 5%)\n",
            "  adding: content/cropped_images/IMG_20230215_132741 (1)_ვ_1.jpg (deflated 2%)\n",
            "  adding: content/cropped_images/IMG_20230215_134920 (1)_უ_2.jpg (deflated 3%)\n",
            "  adding: content/cropped_images/IMG_20230213_212238_თ_1.jpg (deflated 4%)\n",
            "  adding: content/cropped_images/IMG_20230215_134920 (1)_ტ_2.jpg (deflated 3%)\n",
            "  adding: content/cropped_images/IMG_20230215_135333 (1)_ე_1.jpg (deflated 4%)\n",
            "  adding: content/cropped_images/IMG_20230306_174837_ვ_1.jpg (deflated 2%)\n",
            "  adding: content/cropped_images/IMG_20230125_173540_ე_3.jpg (deflated 4%)\n",
            "  adding: content/cropped_images/IMG_20230213_033113_თ_1.jpg (deflated 3%)\n",
            "  adding: content/cropped_images/IMG_20230213_213058_თ_1.jpg (deflated 3%)\n",
            "  adding: content/cropped_images/IMG_20230312_233457_ფ_2.jpg (deflated 5%)\n",
            "  adding: content/cropped_images/IMG_20230215_135005 (1)_გ_1.jpg (deflated 2%)\n",
            "  adding: content/cropped_images/IMG_20230212_163743_ვ_1.jpg (deflated 3%)\n",
            "  adding: content/cropped_images/IMG_20230212_163315_რ_1.jpg (deflated 2%)\n",
            "  adding: content/cropped_images/IMG_20230312_144621_ტ_1.jpg (deflated 5%)\n",
            "  adding: content/cropped_images/IMG_20230123_122233_გ_2.jpg (deflated 2%)\n",
            "  adding: content/cropped_images/IMG_20230225_204704_ყ_1.jpg (deflated 3%)\n",
            "  adding: content/cropped_images/IMG_20230123_122233_ლ_1.jpg (deflated 3%)\n",
            "  adding: content/cropped_images/IMG_20221205_142933_კ_1.jpg (deflated 3%)\n",
            "  adding: content/cropped_images/IMG_20230315_001116_ე_1.jpg (deflated 3%)\n",
            "  adding: content/cropped_images/IMG_20230306_174837_ფ_1.jpg (deflated 4%)\n",
            "  adding: content/cropped_images/IMG_20230212_162304_ნ_1.jpg (deflated 3%)\n",
            "  adding: content/cropped_images/IMG_20230215_135722 (1)_ე_1.jpg (deflated 4%)\n",
            "  adding: content/cropped_images/IMG_20230215_135722 (1)_ქ_1.jpg (deflated 11%)\n",
            "  adding: content/cropped_images/IMG_20230212_163114_რ_2.jpg (deflated 3%)\n",
            "  adding: content/cropped_images/IMG_20230215_135722 (1)_მ_1.jpg (deflated 5%)\n",
            "  adding: content/cropped_images/IMG_20230215_132858 (1)_ბ_1.jpg (deflated 2%)\n",
            "  adding: content/cropped_images/IMG_20230213_194526 (1)_რ_2.jpg (deflated 3%)\n",
            "  adding: content/cropped_images/IMG_20230213_213008_თ_2.jpg (deflated 5%)\n",
            "  adding: content/cropped_images/IMG_20230213_221040_ვ_1.jpg (deflated 5%)\n",
            "  adding: content/cropped_images/IMG_20230213_212238_ტ_2.jpg (deflated 3%)\n",
            "  adding: content/cropped_images/IMG_20230212_162211_დ_1.jpg (deflated 2%)\n",
            "  adding: content/cropped_images/IMG_20230312_233457_ს_1.jpg (deflated 4%)\n",
            "  adding: content/cropped_images/IMG_20230213_213853_ი_1.jpg (deflated 2%)\n",
            "  adding: content/cropped_images/IMG_20230216_182829_ს_1.jpg (deflated 4%)\n",
            "  adding: content/cropped_images/IMG_20230226_125208_ს_2.jpg (deflated 3%)\n",
            "  adding: content/cropped_images/IMG_20230212_163114_ქ_1.jpg (deflated 3%)\n",
            "  adding: content/cropped_images/IMG_20230212_163000_ე_1.jpg (deflated 3%)\n",
            "  adding: content/cropped_images/IMG_20230212_162304_ლ_1.jpg (deflated 5%)\n",
            "  adding: content/cropped_images/IMG_20230212_162744_ს_1.jpg (deflated 2%)\n",
            "  adding: content/cropped_images/IMG_20230216_185740 (1)_ქ_1.jpg (deflated 6%)\n",
            "  adding: content/cropped_images/IMG_20230215_135259 (1)_რ_1.jpg (deflated 4%)\n",
            "  adding: content/cropped_images/IMG_20230215_132741 (1)_ო_1.jpg (deflated 2%)\n",
            "  adding: content/cropped_images/IMG_20230213_212325_ა_1.jpg (deflated 2%)\n",
            "  adding: content/cropped_images/IMG_20230215_135722 (1)_ლ_1.jpg (deflated 5%)\n",
            "  adding: content/cropped_images/IMG_20230215_134920 (1)_ა_2.jpg (deflated 4%)\n",
            "  adding: content/cropped_images/IMG_20230125_173540_ფ_2.jpg (deflated 3%)\n",
            "  adding: content/cropped_images/IMG_20230213_174613_ე_1.jpg (deflated 4%)\n",
            "  adding: content/cropped_images/IMG_20230213_194526 (1)_ბ_1.jpg (deflated 3%)\n",
            "  adding: content/cropped_images/IMG_20230306_173755_ე_2.jpg (deflated 3%)\n",
            "  adding: content/cropped_images/IMG_20230225_204704_ლ_1.jpg (deflated 4%)\n",
            "  adding: content/cropped_images/IMG_20230212_162108_ო_1.jpg (deflated 2%)\n",
            "  adding: content/cropped_images/IMG_20230212_163927_ა_1.jpg (deflated 2%)\n",
            "  adding: content/cropped_images/IMG_20230215_140350 (1)_გ_1.jpg (deflated 4%)\n",
            "  adding: content/cropped_images/IMG_20230213_033119_პ_1.jpg (deflated 3%)\n",
            "  adding: content/cropped_images/IMG_20230220_135524(1)_გ_1.jpg (deflated 2%)\n",
            "  adding: content/cropped_images/IMG_20230215_140350 (1)_ტ_1.jpg (deflated 4%)\n",
            "  adding: content/cropped_images/IMG_20230215_135005 (1)_რ_2.jpg (deflated 5%)\n",
            "  adding: content/cropped_images/IMG_20230212_162216_კ_1.jpg (deflated 2%)\n",
            "  adding: content/cropped_images/IMG_20230213_221040_ო_1.jpg (deflated 18%)\n",
            "  adding: content/cropped_images/IMG_20230215_135005 (1)_ე_2.jpg (deflated 4%)\n",
            "  adding: content/cropped_images/IMG_20230215_135005 (1)_ტ_1.jpg (deflated 3%)\n",
            "  adding: content/cropped_images/IMG_20230213_212448_ნ_1.jpg (deflated 6%)\n",
            "  adding: content/cropped_images/IMG_20230123_122233_ტ_1.jpg (deflated 4%)\n",
            "  adding: content/cropped_images/IMG_20230225_204704_ო_2.jpg (deflated 3%)\n",
            "  adding: content/cropped_images/IMG_20230315_003205_ხ_1.jpg (deflated 3%)\n",
            "  adding: content/cropped_images/IMG_20230215_132858 (1)_ლ_1.jpg (deflated 3%)\n",
            "  adding: content/cropped_images/IMG_20230226_125208_ი_2.jpg (deflated 3%)\n",
            "  adding: content/cropped_images/IMG_20230213_194526 (1)_რ_1.jpg (deflated 4%)\n",
            "  adding: content/cropped_images/IMG_20230225_204704_ს_1.jpg (deflated 3%)\n",
            "  adding: content/cropped_images/IMG_20230213_195100 (1)_ო_1.jpg (deflated 5%)\n",
            "  adding: content/cropped_images/IMG_20230215_135722 (1)_ო_1.jpg (deflated 7%)\n",
            "  adding: content/cropped_images/IMG_20230212_163743_რ_1.jpg (deflated 4%)\n",
            "  adding: content/cropped_images/IMG_20230312_233457_ბ_2.jpg (deflated 3%)\n",
            "  adding: content/cropped_images/IMG_20230212_162804_გ_1.jpg (deflated 3%)\n",
            "  adding: content/cropped_images/IMG_20230212_163940_ლ_1.jpg (deflated 5%)\n",
            "  adding: content/cropped_images/IMG_20230215_140933 (1)_ფ_1.jpg (deflated 3%)\n",
            "  adding: content/cropped_images/IMG_20230226_123842_კ_2.jpg (deflated 3%)\n",
            "  adding: content/cropped_images/IMG_20230205_132210_ს_1.jpg (deflated 8%)\n",
            "  adding: content/cropped_images/IMG_20230315_003205_ზ_1.jpg (deflated 3%)\n",
            "  adding: content/cropped_images/IMG_20230213_195012 (1)_ქ_1.jpg (deflated 3%)\n",
            "  adding: content/cropped_images/IMG_20230125_173540_შ_1.jpg (deflated 2%)\n",
            "  adding: content/cropped_images/IMG_20230125_173540_ი_1.jpg (deflated 3%)\n",
            "  adding: content/cropped_images/IMG_20230215_135005 (1)_ა_1.jpg (deflated 2%)\n",
            "  adding: content/cropped_images/IMG_20230306_173755_ნ_1.jpg (deflated 4%)\n",
            "  adding: content/cropped_images/IMG_20230215_133817 (1)_დ_1.jpg (deflated 2%)\n",
            "  adding: content/cropped_images/IMG_20230125_173540_ნ_1.jpg (deflated 3%)\n",
            "  adding: content/cropped_images/IMG_20230213_194526 (1)_უ_3.jpg (deflated 4%)\n",
            "  adding: content/cropped_images/IMG_20230302_132126_თ_1.jpg (deflated 10%)\n",
            "  adding: content/cropped_images/IMG_20230212_162304_ა_1.jpg (deflated 2%)\n",
            "  adding: content/cropped_images/IMG_20230306_173755_ნ_2.jpg (deflated 5%)\n",
            "  adding: content/cropped_images/IMG_20230312_144621_ძ_1.jpg (deflated 5%)\n",
            "  adding: content/cropped_images/IMG_20230125_173540_მ_1.jpg (deflated 5%)\n",
            "  adding: content/cropped_images/IMG_20230212_162108_ი_1.jpg (deflated 2%)\n",
            "  adding: content/cropped_images/IMG_20230213_212214_ო_1.jpg (deflated 12%)\n",
            "  adding: content/cropped_images/IMG_20220526_123129_ყ_1.jpg (deflated 6%)\n",
            "  adding: content/cropped_images/IMG_20230212_163814_ბ_1.jpg (deflated 3%)\n",
            "  adding: content/cropped_images/IMG_20230215_132923 (1)_უ_1.jpg (deflated 3%)\n",
            "  adding: content/cropped_images/IMG_20230216_185740 (1)_ც_1.jpg (deflated 4%)\n",
            "  adding: content/cropped_images/IMG_20230228_202054_ა_1.jpg (deflated 3%)\n",
            "  adding: content/cropped_images/IMG_20230215_133603 (1)_მ_1.jpg (deflated 2%)\n",
            "  adding: content/cropped_images/IMG_20230312_144621_გ_1.jpg (deflated 3%)\n",
            "  adding: content/cropped_images/IMG_20220404_150259_ო_1.jpg (deflated 4%)\n",
            "  adding: content/cropped_images/IMG_20230220_134901_მ_1.jpg (deflated 3%)\n",
            "  adding: content/cropped_images/IMG_20230215_135722 (1)_ძ_1.jpg (deflated 3%)\n",
            "  adding: content/cropped_images/IMG_20230212_163114_ო_2.jpg (deflated 3%)\n",
            "  adding: content/cropped_images/IMG_20230215_135005 (1)_ო_1.jpg (deflated 6%)\n",
            "  adding: content/cropped_images/IMG_20230213_201356 (1)_ა_1.jpg (deflated 4%)\n",
            "  adding: content/cropped_images/IMG_20230213_212238_ა_2.jpg (deflated 3%)\n",
            "  adding: content/cropped_images/IMG_20230220_135524(1)_პ_1.jpg (deflated 3%)\n",
            "  adding: content/cropped_images/IMG_20230212_162108_გ_1.jpg (deflated 1%)\n",
            "  adding: content/cropped_images/IMG_20230226_125208_ო_1.jpg (deflated 2%)\n",
            "  adding: content/cropped_images/IMG_20230215_133625 (1)_თ_1.jpg (deflated 4%)\n",
            "  adding: content/cropped_images/IMG_20230212_163717_ე_1.jpg (deflated 2%)\n",
            "  adding: content/cropped_images/IMG_20230125_173540_ტ_1.jpg (deflated 4%)\n",
            "  adding: content/cropped_images/IMG_20230216_184020 (1)_ნ_1.jpg (deflated 4%)\n",
            "  adding: content/cropped_images/IMG_20230216_182829_ზ_2.jpg (deflated 2%)\n",
            "  adding: content/cropped_images/IMG_20230213_212935_მ_2.jpg (deflated 2%)\n",
            "  adding: content/cropped_images/IMG_20230215_134920 (1)_ლ_3.jpg (deflated 7%)\n",
            "  adding: content/cropped_images/IMG_20230212_163000_ო_1.jpg (deflated 4%)\n",
            "  adding: content/cropped_images/IMG_20230312_233457_რ_1.jpg (deflated 3%)\n",
            "  adding: content/cropped_images/IMG_20230212_163717_ს_1.jpg (deflated 1%)\n",
            "  adding: content/cropped_images/IMG_20230216_185740 (1)_ე_1.jpg (deflated 3%)\n",
            "  adding: content/cropped_images/IMG_20230212_191424_ი_1.jpg (deflated 2%)\n",
            "  adding: content/cropped_images/IMG_20230213_174631_ნ_1.jpg (deflated 3%)\n",
            "  adding: content/cropped_images/IMG_20230213_174425_ხ_1.jpg (deflated 4%)\n",
            "  adding: content/cropped_images/IMG_20230123_122233_ბ_2.jpg (deflated 3%)\n",
            "  adding: content/cropped_images/IMG_20230312_103208_უ_1.jpg (deflated 3%)\n",
            "  adding: content/cropped_images/IMG_20230215_133625 (1)_ფ_1.jpg (deflated 4%)\n",
            "  adding: content/cropped_images/IMG_20220526_123129_ი_3.jpg (deflated 4%)\n",
            "  adding: content/cropped_images/IMG_20230205_140607_ა_1.jpg (deflated 3%)\n",
            "  adding: content/cropped_images/IMG_20230306_173755_რ_1.jpg (deflated 3%)\n",
            "  adding: content/cropped_images/IMG_20230306_173755_ი_2.jpg (deflated 7%)\n",
            "  adding: content/cropped_images/IMG_20230215_140350 (1)_ი_2.jpg (deflated 4%)\n",
            "  adding: content/cropped_images/IMG_20230213_033128_ვ_1.jpg (deflated 4%)\n",
            "  adding: content/cropped_images/IMG_20230315_001116_ბ_1.jpg (deflated 3%)\n",
            "  adding: content/cropped_images/IMG_20230226_135514_ნ_1.jpg (deflated 3%)\n",
            "  adding: content/cropped_images/IMG_20230226_125208_თ_1.jpg (deflated 4%)\n",
            "  adding: content/cropped_images/IMG_20230213_221040_ი_1.jpg (deflated 13%)\n",
            "  adding: content/cropped_images/IMG_20230212_163000_შ_1.jpg (deflated 2%)\n",
            "  adding: content/cropped_images/IMG_20230213_212935_ფ_2.jpg (deflated 2%)\n",
            "  adding: content/cropped_images/IMG_20230213_221040_ლ_1.jpg (deflated 6%)\n",
            "  adding: content/cropped_images/IMG_20230212_163016_ა_1.jpg (deflated 4%)\n",
            "  adding: content/cropped_images/IMG_20230215_134823 (1)_შ_1.jpg (deflated 3%)\n",
            "  adding: content/cropped_images/IMG_20230213_174631_ე_1.jpg (deflated 3%)\n",
            "  adding: content/cropped_images/IMG_20230215_135333 (1)_ი_1.jpg (deflated 3%)\n",
            "  adding: content/cropped_images/IMG_20230215_135550 (1)_ა_1.jpg (deflated 3%)\n",
            "  adding: content/cropped_images/IMG_20230205_140607_წ_1.jpg (deflated 3%)\n",
            "  adding: content/cropped_images/IMG_20230215_134920 (1)_ო_1.jpg (deflated 7%)\n",
            "  adding: content/cropped_images/IMG_20230212_162108_დ_1.jpg (deflated 2%)\n",
            "  adding: content/cropped_images/IMG_20230212_163927_ს_1.jpg (deflated 2%)\n",
            "  adding: content/cropped_images/IMG_20230302_132126_რ_3.jpg (deflated 3%)\n",
            "  adding: content/cropped_images/IMG_20230213_195100 (1)_ტ_1.jpg (deflated 3%)\n",
            "  adding: content/cropped_images/IMG_20220526_123129_ჟ_1.jpg (deflated 3%)\n",
            "  adding: content/cropped_images/IMG_20220526_123129_ტ_1.jpg (deflated 3%)\n",
            "  adding: content/cropped_images/IMG_20230213_212238_ფ_1.jpg (deflated 3%)\n",
            "  adding: content/cropped_images/IMG_20230213_221040_დ_1.jpg (deflated 3%)\n",
            "  adding: content/cropped_images/IMG_20230212_163717_ნ_1.jpg (deflated 2%)\n",
            "  adding: content/cropped_images/IMG_20221210_205824_უ_1.jpg (deflated 5%)\n",
            "  adding: content/cropped_images/IMG_20230215_133625 (1)_ქ_1.jpg (deflated 4%)\n",
            "  adding: content/cropped_images/IMG_20230212_162135_ნ_1.jpg (deflated 2%)\n",
            "  adding: content/cropped_images/IMG_20220526_123129_ბ_1.jpg (deflated 3%)\n",
            "  adding: content/cropped_images/IMG_20230312_233457_ნ_1.jpg (deflated 3%)\n",
            "  adding: content/cropped_images/IMG_20230215_135757 (1)_კ_1.jpg (deflated 2%)\n",
            "  adding: content/cropped_images/IMG_20230213_212238_თ_2.jpg (deflated 4%)\n",
            "  adding: content/cropped_images/IMG_20230306_173755_კ_3.jpg (deflated 3%)\n",
            "  adding: content/cropped_images/IMG_20221231_143556_ი_2.jpg (deflated 3%)\n",
            "  adding: content/cropped_images/IMG_20230213_174613_რ_1.jpg (deflated 4%)\n",
            "  adding: content/cropped_images/IMG_20230213_174337_ა_1.jpg (deflated 3%)\n",
            "  adding: content/cropped_images/IMG_20230212_162135_ნ_2.jpg (deflated 3%)\n",
            "  adding: content/cropped_images/IMG_20230312_103208_ი_1.jpg (deflated 3%)\n",
            "  adding: content/cropped_images/IMG_20230212_162216_პ_1.jpg (deflated 2%)\n",
            "  adding: content/cropped_images/IMG_20230306_173755_კ_1.jpg (deflated 3%)\n",
            "  adding: content/cropped_images/IMG_20230213_212935_უ_1.jpg (deflated 3%)\n",
            "  adding: content/cropped_images/IMG_20230213_212238_ი_3.jpg (deflated 4%)\n",
            "  adding: content/cropped_images/IMG_20230215_134920 (1)_ა_1.jpg (deflated 2%)\n",
            "  adding: content/cropped_images/IMG_20230212_163844_ა_1.jpg (deflated 3%)\n",
            "  adding: content/cropped_images/IMG_20230215_135757 (1)_თ_1.jpg (deflated 5%)\n",
            "  adding: content/cropped_images/IMG_20230312_103208_ე_2.jpg (deflated 3%)\n",
            "  adding: content/cropped_images/IMG_20230226_123842_ბ_1.jpg (deflated 4%)\n",
            "  adding: content/cropped_images/IMG_20230213_174631_ღ_1.jpg (deflated 2%)\n",
            "  adding: content/cropped_images/IMG_20230215_133603 (1)_ა_1.jpg (deflated 5%)\n",
            "  adding: content/cropped_images/IMG_20230220_135524(1)_ა_1.jpg (deflated 3%)\n",
            "  adding: content/cropped_images/IMG_20230213_174613_ქ_1.jpg (deflated 7%)\n",
            "  adding: content/cropped_images/IMG_20230213_194526 (1)_ე_1.jpg (deflated 2%)\n",
            "  adding: content/cropped_images/IMG_20230215_140350 (1)_ც_1.jpg (deflated 5%)\n",
            "  adding: content/cropped_images/IMG_20230215_135722 (1)_ი_1.jpg (deflated 4%)\n",
            "  adding: content/cropped_images/IMG_20230213_213008_წ_1.jpg (deflated 2%)\n",
            "  adding: content/cropped_images/IMG_20230216_185740 (1)_ჭ_1.jpg (deflated 4%)\n",
            "  adding: content/cropped_images/IMG_20230306_173755_ო_1.jpg (deflated 17%)\n",
            "  adding: content/cropped_images/IMG_20221210_205824_ხ_1.jpg (deflated 3%)\n",
            "  adding: content/cropped_images/IMG_20221231_143556_ს_1.jpg (deflated 2%)\n",
            "  adding: content/cropped_images/IMG_20230215_135757 (1)_დ_4.jpg (deflated 2%)\n",
            "  adding: content/cropped_images/IMG_20230306_173755_პ_2.jpg (deflated 3%)\n",
            "  adding: content/cropped_images/IMG_20230312_144621_ფ_1.jpg (deflated 7%)\n",
            "  adding: content/cropped_images/IMG_20230315_001116_ს_1.jpg (deflated 6%)\n",
            "  adding: content/cropped_images/IMG_20230213_033128_ნ_1.jpg (deflated 3%)\n",
            "  adding: content/cropped_images/IMG_20230212_163844_ბ_1.jpg (deflated 3%)\n",
            "  adding: content/cropped_images/IMG_20230205_140607_ო_1.jpg (deflated 3%)\n",
            "  adding: content/cropped_images/IMG_20230213_033113_ლ_2.jpg (deflated 5%)\n",
            "  adding: content/cropped_images/IMG_20230220_134901_კ_1.jpg (deflated 4%)\n",
            "  adding: content/cropped_images/IMG_20230213_174613_ც_1.jpg (deflated 3%)\n",
            "  adding: content/cropped_images/IMG_20230212_163315_ჟ_1.jpg (deflated 4%)\n",
            "  adding: content/cropped_images/IMG_20230312_233457_ლ_3.jpg (deflated 4%)\n",
            "  adding: content/cropped_images/IMG_20230213_194526 (1)_ვ_1.jpg (deflated 2%)\n",
            "  adding: content/cropped_images/IMG_20230213_221040_ს_1.jpg (deflated 10%)\n",
            "  adding: content/cropped_images/IMG_20230205_132210_ღ_1.jpg (deflated 12%)\n",
            "  adding: content/cropped_images/IMG_20230215_133603 (1)_ი_1.jpg (deflated 4%)\n",
            "  adding: content/cropped_images/IMG_20230213_195100 (1)_ე_1.jpg (deflated 4%)\n",
            "  adding: content/cropped_images/IMG_20230226_135514_რ_1.jpg (deflated 3%)\n",
            "  adding: content/cropped_images/IMG_20230213_174613_ი_1.jpg (deflated 4%)\n",
            "  adding: content/cropped_images/IMG_20230306_173755_მ_1.jpg (deflated 3%)\n",
            "  adding: content/cropped_images/IMG_20230215_135757 (1)_ტ_1.jpg (deflated 3%)\n",
            "  adding: content/cropped_images/IMG_20230215_132741 (1)_პ_1.jpg (deflated 2%)\n",
            "  adding: content/cropped_images/IMG_20230215_132858 (1)_რ_1.jpg (deflated 2%)\n",
            "  adding: content/cropped_images/IMG_20230215_135649 (1)_ე_1.jpg (deflated 4%)\n",
            "  adding: content/cropped_images/IMG_20230225_204704_ო_1.jpg (deflated 8%)\n",
            "  adding: content/cropped_images/IMG_20230212_163940_ი_1.jpg (deflated 4%)\n",
            "  adding: content/cropped_images/IMG_20230312_103208_ლ_2.jpg (deflated 4%)\n",
            "  adding: content/cropped_images/IMG_20230213_033128_უ_2.jpg (deflated 4%)\n",
            "  adding: content/cropped_images/IMG_20230213_213058_უ_2.jpg (deflated 3%)\n",
            "  adding: content/cropped_images/IMG_20230226_145042_ო_1.jpg (deflated 3%)\n",
            "  adding: content/cropped_images/IMG_20230212_162759_თ_1.jpg (deflated 4%)\n",
            "  adding: content/cropped_images/IMG_20230213_213058_ა_1.jpg (deflated 2%)\n",
            "  adding: content/cropped_images/IMG_20230213_212325_ი_1.jpg (deflated 3%)\n",
            "  adding: content/cropped_images/IMG_20230226_123842_ვ_1.jpg (deflated 4%)\n",
            "  adding: content/cropped_images/IMG_20230226_135514_ი_1.jpg (deflated 6%)\n",
            "  adding: content/cropped_images/IMG_20230213_194526 (1)_ს_1.jpg (deflated 5%)\n",
            "  adding: content/cropped_images/IMG_20230226_135514_ლ_1.jpg (deflated 2%)\n",
            "  adding: content/cropped_images/IMG_20230312_233457_ლ_2.jpg (deflated 5%)\n",
            "  adding: content/cropped_images/IMG_20230213_174337_ც_1.jpg (deflated 7%)\n",
            "  adding: content/cropped_images/IMG_20230215_140454 (1)_რ_1.jpg (deflated 4%)\n",
            "  adding: content/cropped_images/IMG_20230212_163000_ლ_2.jpg (deflated 6%)\n",
            "  adding: content/cropped_images/IMG_20230215_132741 (1)_დ_1.jpg (deflated 2%)\n",
            "  adding: content/cropped_images/IMG_20230215_133603 (1)_რ_1.jpg (deflated 3%)\n",
            "  adding: content/cropped_images/IMG_20230215_133817 (1)_ა_1.jpg (deflated 5%)\n",
            "  adding: content/cropped_images/IMG_20230213_213008_ხ_1.jpg (deflated 3%)\n",
            "  adding: content/cropped_images/IMG_20230216_184020 (1)_ა_1.jpg (deflated 4%)\n",
            "  adding: content/cropped_images/IMG_20230306_173755_ი_3.jpg (deflated 5%)\n",
            "  adding: content/cropped_images/IMG_20230212_163927_ნ_2.jpg (deflated 2%)\n",
            "  adding: content/cropped_images/IMG_20230213_212238_რ_2.jpg (deflated 3%)\n",
            "  adding: content/cropped_images/IMG_20230306_173755_ლ_2.jpg (deflated 5%)\n",
            "  adding: content/cropped_images/IMG_20230306_174837_ნ_1.jpg (deflated 5%)\n",
            "  adding: content/cropped_images/IMG_20230215_135722 (1)_უ_1.jpg (deflated 5%)\n",
            "  adding: content/cropped_images/IMG_20230213_212448_ლ_1.jpg (deflated 12%)\n",
            "  adding: content/cropped_images/IMG_20230215_132923 (1)_თ_2.jpg (deflated 3%)\n",
            "  adding: content/cropped_images/IMG_20230216_182829_ი_1.jpg (deflated 9%)\n",
            "  adding: content/cropped_images/IMG_20230215_135550 (1)_ნ_1.jpg (deflated 3%)\n",
            "  adding: content/cropped_images/IMG_20230226_135514_ბ_1.jpg (deflated 3%)\n",
            "  adding: content/cropped_images/IMG_20230306_173755_თ_1.jpg (deflated 8%)\n",
            "  adding: content/cropped_images/IMG_20230213_033119_ბ_1.jpg (deflated 4%)\n",
            "  adding: content/cropped_images/IMG_20230213_033113_ი_2.jpg (deflated 5%)\n",
            "  adding: content/cropped_images/IMG_20230215_140350 (1)_მ_1.jpg (deflated 4%)\n",
            "  adding: content/cropped_images/IMG_20230219_144541_მ_1.jpg (deflated 2%)\n",
            "  adding: content/cropped_images/IMG_20230212_191424_გ_1.jpg (deflated 2%)\n",
            "  adding: content/cropped_images/IMG_20220526_123129_ლ_1.jpg (deflated 4%)\n",
            "  adding: content/cropped_images/IMG_20230215_132923 (1)_რ_2.jpg (deflated 3%)\n",
            "  adding: content/cropped_images/IMG_20230226_123842_ტ_1.jpg (deflated 3%)\n",
            "  adding: content/cropped_images/IMG_20230212_163940_წ_1.jpg (deflated 3%)\n",
            "  adding: content/cropped_images/IMG_20230213_174425_ე_1.jpg (deflated 4%)\n",
            "  adding: content/cropped_images/IMG_20230306_173755_ც_2.jpg (deflated 3%)\n",
            "  adding: content/cropped_images/IMG_20230306_174837_ძ_1.jpg (deflated 4%)\n",
            "  adding: content/cropped_images/IMG_20230312_233457_ა_1.jpg (deflated 3%)\n",
            "  adding: content/cropped_images/IMG_20230213_212448_უ_1.jpg (deflated 8%)\n",
            "  adding: content/cropped_images/IMG_20230213_212238_ა_1.jpg (deflated 2%)\n",
            "  adding: content/cropped_images/IMG_20230215_132858 (1)_ი_2.jpg (deflated 2%)\n",
            "  adding: content/cropped_images/IMG_20230219_144541_ლ_2.jpg (deflated 2%)\n",
            "  adding: content/cropped_images/IMG_20230213_033113_ა_2.jpg (deflated 5%)\n",
            "  adding: content/cropped_images/IMG_20230125_173540_კ_1.jpg (deflated 3%)\n",
            "  adding: content/cropped_images/IMG_20230125_173540_ფ_1.jpg (deflated 2%)\n",
            "  adding: content/cropped_images/IMG_20220612_160637_შ_1.jpg (deflated 4%)\n",
            "  adding: content/cropped_images/IMG_20230213_174613_ი_2.jpg (deflated 3%)\n",
            "  adding: content/cropped_images/IMG_20230213_212448_ც_1.jpg (deflated 9%)\n",
            "  adding: content/cropped_images/IMG_20230225_204704_ბ_1.jpg (deflated 3%)\n",
            "  adding: content/cropped_images/IMG_20230213_212238_ტ_1.jpg (deflated 5%)\n",
            "  adding: content/cropped_images/IMG_20230226_125208_ვ_1.jpg (deflated 3%)\n",
            "  adding: content/cropped_images/IMG_20230213_214906_ვ_1.jpg (deflated 3%)\n",
            "  adding: content/cropped_images/IMG_20220612_160637_გ_1.jpg (deflated 3%)\n",
            "  adding: content/cropped_images/IMG_20230215_135757 (1)_უ_1.jpg (deflated 2%)\n",
            "  adding: content/cropped_images/IMG_20230226_135514_ო_1.jpg (deflated 4%)\n",
            "  adding: content/cropped_images/IMG_20230215_134823 (1)_ო_1.jpg (deflated 4%)\n",
            "  adding: content/cropped_images/IMG_20230215_134920 (1)_რ_1.jpg (deflated 4%)\n",
            "  adding: content/cropped_images/IMG_20230212_162216_ო_1.jpg (deflated 3%)\n",
            "  adding: content/cropped_images/IMG_20230226_135514_გ_1.jpg (deflated 3%)\n",
            "  adding: content/cropped_images/IMG_20221231_143556_დ_1.jpg (deflated 2%)\n",
            "  adding: content/cropped_images/IMG_20230312_103208_პ_1.jpg (deflated 2%)\n",
            "  adding: content/cropped_images/IMG_20230213_174613_მ_1.jpg (deflated 4%)\n",
            "  adding: content/cropped_images/IMG_20230226_125208_ა_4.jpg (deflated 3%)\n",
            "  adding: content/cropped_images/IMG_20230125_173540_ლ_2.jpg (deflated 4%)\n",
            "  adding: content/cropped_images/IMG_20230220_134736_პ_2.jpg (deflated 6%)\n",
            "  adding: content/cropped_images/IMG_20230215_135550 (1)_თ_1.jpg (deflated 3%)\n",
            "  adding: content/cropped_images/IMG_20230213_174425_ს_1.jpg (deflated 4%)\n",
            "  adding: content/cropped_images/IMG_20230215_133817 (1)_ი_1.jpg (deflated 15%)\n",
            "  adding: content/cropped_images/IMG_20230125_173540_დ_1.jpg (deflated 3%)\n",
            "  adding: content/cropped_images/IMG_20220404_150259_მ_1.jpg (deflated 4%)\n",
            "  adding: content/cropped_images/IMG_20221231_143556_ტ_1.jpg (deflated 3%)\n",
            "  adding: content/cropped_images/IMG_20230216_182829_თ_1.jpg (deflated 8%)\n",
            "  adding: content/cropped_images/IMG_20230216_185740 (1)_ს_1.jpg (deflated 6%)\n",
            "  adding: content/cropped_images/IMG_20230216_182829_ა_2.jpg (deflated 3%)\n",
            "  adding: content/cropped_images/IMG_20230312_144621_ა_2.jpg (deflated 4%)\n",
            "  adding: content/cropped_images/IMG_20230312_233457_ტ_1.jpg (deflated 4%)\n",
            "  adding: content/cropped_images/IMG_20230213_033128_ქ_1.jpg (deflated 4%)\n",
            "  adding: content/cropped_images/IMG_20230306_173755_ა_1.jpg (deflated 3%)\n",
            "  adding: content/cropped_images/IMG_20230215_132923 (1)_ც_1.jpg (deflated 2%)\n",
            "  adding: content/cropped_images/IMG_20230212_184734_ვ_1.jpg (deflated 2%)\n",
            "  adding: content/cropped_images/IMG_20230213_201213 (1)_რ_1.jpg (deflated 2%)\n",
            "  adding: content/cropped_images/IMG_20230215_132923 (1)_ბ_1.jpg (deflated 3%)\n",
            "  adding: content/cropped_images/IMG_20230215_132923 (1)_პ_1.jpg (deflated 3%)\n",
            "  adding: content/cropped_images/IMG_20230215_133817 (1)_რ_2.jpg (deflated 5%)\n",
            "  adding: content/cropped_images/IMG_20230213_213008_ე_1.jpg (deflated 2%)\n",
            "  adding: content/cropped_images/IMG_20230215_132858 (1)_ა_2.jpg (deflated 3%)\n",
            "  adding: content/cropped_images/IMG_20220526_123129_ფ_1.jpg (deflated 3%)\n",
            "  adding: content/cropped_images/IMG_20230213_214906_ი_2.jpg (deflated 3%)\n",
            "  adding: content/cropped_images/IMG_20221210_205824_ვ_1.jpg (deflated 5%)\n",
            "  adding: content/cropped_images/IMG_20230213_213008_ბ_1.jpg (deflated 2%)\n",
            "  adding: content/cropped_images/IMG_20230213_215351_ღ_1.jpg (deflated 7%)\n",
            "  adding: content/cropped_images/IMG_20221210_205824_ე_2.jpg (deflated 4%)\n",
            "  adding: content/cropped_images/IMG_20230215_134920 (1)_ე_3.jpg (deflated 3%)\n",
            "  adding: content/cropped_images/IMG_20230213_174613_ნ_2.jpg (deflated 9%)\n",
            "  adding: content/cropped_images/IMG_20230215_135005 (1)_ნ_1.jpg (deflated 2%)\n",
            "  adding: content/cropped_images/IMG_20230226_135514_პ_1.jpg (deflated 3%)\n",
            "  adding: content/cropped_images/IMG_20230215_134823 (1)_ხ_1.jpg (deflated 3%)\n",
            "  adding: content/cropped_images/IMG_20230215_140933 (1)_კ_1.jpg (deflated 2%)\n",
            "  adding: content/cropped_images/IMG_20230212_163927_რ_1.jpg (deflated 2%)\n",
            "  adding: content/cropped_images/IMG_20230212_163000_ს_1.jpg (deflated 6%)\n",
            "  adding: content/cropped_images/IMG_20230213_221040_ტ_1.jpg (deflated 3%)\n",
            "  adding: content/cropped_images/IMG_20230213_174631_ი_2.jpg (deflated 3%)\n",
            "  adding: content/cropped_images/IMG_20230215_135757 (1)_ა_1.jpg (deflated 2%)\n",
            "  adding: content/cropped_images/IMG_20230213_174337_ფ_1.jpg (deflated 2%)\n",
            "  adding: content/cropped_images/IMG_20230125_173540_ქ_2.jpg (deflated 4%)\n",
            "  adding: content/cropped_images/IMG_20230213_174613_ო_1.jpg (deflated 4%)\n",
            "  adding: content/cropped_images/IMG_20230125_173540_ს_3.jpg (deflated 4%)\n",
            "  adding: content/cropped_images/IMG_20230215_134920 (1)_მ_2.jpg (deflated 3%)\n",
            "  adding: content/cropped_images/IMG_20230205_132210_დ_1.jpg (deflated 7%)\n",
            "  adding: content/cropped_images/IMG_20230220_135524(1)_ს_1.jpg (deflated 5%)\n",
            "  adding: content/cropped_images/IMG_20230215_135757 (1)_ბ_1.jpg (deflated 3%)\n",
            "  adding: content/cropped_images/IMG_20230312_144621_ი_2.jpg (deflated 3%)\n",
            "  adding: content/cropped_images/IMG_20221231_143556_ი_3.jpg (deflated 5%)\n",
            "  adding: content/cropped_images/IMG_20230212_163114_გ_1.jpg (deflated 4%)\n",
            "  adding: content/cropped_images/IMG_20230212_163016_ნ_1.jpg (deflated 3%)\n",
            "  adding: content/cropped_images/IMG_20230306_174837_ა_1.jpg (deflated 4%)\n",
            "  adding: content/cropped_images/IMG_20230215_133625 (1)_დ_1.jpg (deflated 3%)\n",
            "  adding: content/cropped_images/IMG_20230125_173540_ე_2.jpg (deflated 3%)\n",
            "  adding: content/cropped_images/IMG_20230213_212214_დ_1.jpg (deflated 5%)\n",
            "  adding: content/cropped_images/IMG_20230213_195012 (1)_თ_1.jpg (deflated 4%)\n",
            "  adding: content/cropped_images/IMG_20230213_194526 (1)_ნ_1.jpg (deflated 3%)\n",
            "  adding: content/cropped_images/IMG_20230215_132923 (1)_ა_1.jpg (deflated 4%)\n",
            "  adding: content/cropped_images/IMG_20230213_174613_დ_2.jpg (deflated 3%)\n",
            "  adding: content/cropped_images/IMG_20230212_162135_დ_1.jpg (deflated 3%)\n",
            "  adding: content/cropped_images/IMG_20230215_132923 (1)_ო_1.jpg (deflated 10%)\n",
            "  adding: content/cropped_images/IMG_20230215_133817 (1)_ო_2.jpg (deflated 15%)\n",
            "  adding: content/cropped_images/IMG_20230213_213853_თ_1.jpg (deflated 2%)\n",
            "  adding: content/cropped_images/IMG_20230212_163204_ფ_1.jpg (deflated 4%)\n",
            "  adding: content/cropped_images/IMG_20230226_123842_ს_1.jpg (deflated 4%)\n",
            "  adding: content/cropped_images/IMG_20230215_132923 (1)_ს_1.jpg (deflated 2%)\n",
            "  adding: content/cropped_images/IMG_20230213_194526 (1)_ა_2.jpg (deflated 3%)\n",
            "  adding: content/cropped_images/IMG_20230213_212214_კ_1.jpg (deflated 5%)\n",
            "  adding: content/cropped_images/IMG_20230213_201356 (1)_ო_1.jpg (deflated 5%)\n",
            "  adding: content/cropped_images/IMG_20230215_134920 (1)_ყ_1.jpg (deflated 3%)\n",
            "  adding: content/cropped_images/IMG_20230123_122233_ე_2.jpg (deflated 4%)\n",
            "  adding: content/cropped_images/IMG_20230220_135524(1)_თ_1.jpg (deflated 5%)\n",
            "  adding: content/cropped_images/IMG_20230205_132210_ა_1.jpg (deflated 4%)\n",
            "  adding: content/cropped_images/IMG_20230205_140607_უ_1.jpg (deflated 2%)\n",
            "  adding: content/cropped_images/IMG_20221231_143556_რ_1.jpg (deflated 3%)\n",
            "  adding: content/cropped_images/IMG_20230216_185740 (1)_ხ_1.jpg (deflated 3%)\n",
            "  adding: content/cropped_images/IMG_20230220_135524(1)_მ_1.jpg (deflated 3%)\n",
            "  adding: content/cropped_images/IMG_20230312_233457_ე_1.jpg (deflated 6%)\n",
            "  adding: content/cropped_images/IMG_20230212_163743_უ_1.jpg (deflated 4%)\n",
            "  adding: content/cropped_images/IMG_20230220_134736_ი_2.jpg (deflated 7%)\n",
            "  adding: content/cropped_images/IMG_20230213_174425_ა_1.jpg (deflated 3%)\n",
            "  adding: content/cropped_images/IMG_20230213_174631_მ_1.jpg (deflated 2%)\n",
            "  adding: content/cropped_images/IMG_20230213_212448_ბ_2.jpg (deflated 11%)\n",
            "  adding: content/cropped_images/IMG_20230215_132858 (1)_ე_1.jpg (deflated 3%)\n",
            "  adding: content/cropped_images/IMG_20230215_132741 (1)_ხ_1.jpg (deflated 2%)\n",
            "  adding: content/cropped_images/IMG_20230213_212238_დ_3.jpg (deflated 2%)\n",
            "  adding: content/cropped_images/IMG_20230213_201213 (1)_ი_2.jpg (deflated 6%)\n",
            "  adding: content/cropped_images/IMG_20230213_201213 (1)_გ_1.jpg (deflated 4%)\n",
            "  adding: content/cropped_images/IMG_20230213_212448_ქ_1.jpg (deflated 8%)\n",
            "  adding: content/cropped_images/IMG_20230215_133817 (1)_ბ_2.jpg (deflated 2%)\n",
            "  adding: content/cropped_images/IMG_20230215_140350 (1)_ი_1.jpg (deflated 8%)\n",
            "  adding: content/cropped_images/IMG_20230212_163114_ფ_1.jpg (deflated 4%)\n",
            "  adding: content/cropped_images/IMG_20230212_162108_ა_1.jpg (deflated 2%)\n",
            "  adding: content/cropped_images/IMG_20230215_132741 (1)_ა_1.jpg (deflated 2%)\n",
            "  adding: content/cropped_images/IMG_20230213_174631_ტ_1.jpg (deflated 3%)\n",
            "  adding: content/cropped_images/IMG_20230213_213008_ყ_1.jpg (deflated 2%)\n",
            "  adding: content/cropped_images/IMG_20221231_143556_ა_2.jpg (deflated 3%)\n",
            "  adding: content/cropped_images/IMG_20230213_212325_ს_1.jpg (deflated 2%)\n",
            "  adding: content/cropped_images/IMG_20230213_212448_დ_1.jpg (deflated 5%)\n",
            "  adding: content/cropped_images/IMG_20230125_173540_ქ_1.jpg (deflated 3%)\n",
            "  adding: content/cropped_images/IMG_20220526_123129_წ_1.jpg (deflated 3%)\n",
            "  adding: content/cropped_images/IMG_20230212_162135_ე_1.jpg (deflated 3%)\n",
            "  adding: content/cropped_images/IMG_20230215_135005 (1)_ბ_1.jpg (deflated 3%)\n",
            "  adding: content/cropped_images/IMG_20230213_174613_ვ_1.jpg (deflated 3%)\n",
            "  adding: content/cropped_images/IMG_20230215_133817 (1)_ტ_2.jpg (deflated 2%)\n",
            "  adding: content/cropped_images/IMG_20230123_122233_ა_2.jpg (deflated 3%)\n",
            "  adding: content/cropped_images/IMG_20230312_233457_უ_2.jpg (deflated 3%)\n",
            "  adding: content/cropped_images/IMG_20230216_185644 (1)_მ_1.jpg (deflated 2%)\n",
            "  adding: content/cropped_images/IMG_20230216_182829_ე_2.jpg (deflated 3%)\n",
            "  adding: content/cropped_images/IMG_20230215_135757 (1)_ლ_1.jpg (deflated 7%)\n",
            "  adding: content/cropped_images/IMG_20230212_163000_მ_2.jpg (deflated 4%)\n",
            "  adding: content/cropped_images/IMG_20230212_162135_ა_1.jpg (deflated 2%)\n",
            "  adding: content/cropped_images/IMG_20220526_123129_თ_1.jpg (deflated 8%)\n",
            "  adding: content/cropped_images/IMG_20230312_103208_ტ_2.jpg (deflated 2%)\n",
            "  adding: content/cropped_images/IMG_20230212_162744_ხ_1.jpg (deflated 2%)\n",
            "  adding: content/cropped_images/IMG_20230213_174631_ა_1.jpg (deflated 3%)\n",
            "  adding: content/cropped_images/IMG_20230219_144541_კ_1.jpg (deflated 2%)\n",
            "  adding: content/cropped_images/IMG_20230215_132858 (1)_ს_1.jpg (deflated 2%)\n",
            "  adding: content/cropped_images/IMG_20230213_214906_ძ_1.jpg (deflated 6%)\n",
            "  adding: content/cropped_images/IMG_20230213_212325_ნ_1.jpg (deflated 2%)\n",
            "  adding: content/cropped_images/IMG_20230213_212238_ს_1.jpg (deflated 4%)\n",
            "  adding: content/cropped_images/IMG_20221210_205824_დ_1.jpg (deflated 3%)\n",
            "  adding: content/cropped_images/IMG_20230212_184734_ა_2.jpg (deflated 4%)\n",
            "  adding: content/cropped_images/IMG_20230213_194526 (1)_ი_2.jpg (deflated 4%)\n",
            "  adding: content/cropped_images/IMG_20221210_205824_პ_1.jpg (deflated 3%)\n",
            "  adding: content/cropped_images/IMG_20220526_123129_ქ_1.jpg (deflated 5%)\n",
            "  adding: content/cropped_images/IMG_20230205_140607_ნ_1.jpg (deflated 3%)\n",
            "  adding: content/cropped_images/IMG_20230215_135722 (1)_ც_1.jpg (deflated 6%)\n",
            "  adding: content/cropped_images/IMG_20230213_033113_ა_3.jpg (deflated 5%)\n",
            "  adding: content/cropped_images/IMG_20230215_140350 (1)_ს_1.jpg (deflated 8%)\n",
            "  adding: content/cropped_images/IMG_20230215_133817 (1)_ა_2.jpg (deflated 2%)\n",
            "  adding: content/cropped_images/IMG_20230220_135524(1)_ვ_1.jpg (deflated 3%)\n",
            "  adding: content/cropped_images/IMG_20230213_174337_ო_1.jpg (deflated 3%)\n",
            "  adding: content/cropped_images/IMG_20220612_160637_მ_1.jpg (deflated 2%)\n",
            "  adding: content/cropped_images/IMG_20230215_150353_უ_1.jpg (deflated 4%)\n",
            "  adding: content/cropped_images/IMG_20220404_150259_ტ_1.jpg (deflated 3%)\n",
            "  adding: content/cropped_images/IMG_20230215_140350 (1)_ო_1.jpg (deflated 8%)\n",
            "  adding: content/cropped_images/IMG_20230220_135524(1)_ჩ_1.jpg (deflated 5%)\n",
            "  adding: content/cropped_images/IMG_20230302_132126_ა_2.jpg (deflated 4%)\n",
            "  adding: content/cropped_images/IMG_20230123_122233_მ_1.jpg (deflated 3%)\n",
            "  adding: content/cropped_images/IMG_20230215_135105 (1)_ს_1.jpg (deflated 7%)\n",
            "  adding: content/cropped_images/IMG_20230216_185740 (1)_ბ_2.jpg (deflated 3%)\n",
            "  adding: content/cropped_images/IMG_20230226_123842_რ_1.jpg (deflated 4%)\n",
            "  adding: content/cropped_images/IMG_20230213_213008_შ_1.jpg (deflated 2%)\n",
            "  adding: content/cropped_images/IMG_20230312_233457_ი_2.jpg (deflated 5%)\n",
            "  adding: content/cropped_images/IMG_20230212_162304_ბ_1.jpg (deflated 3%)\n",
            "  adding: content/cropped_images/IMG_20221210_205824_მ_1.jpg (deflated 4%)\n",
            "  adding: content/cropped_images/IMG_20230302_132126_მ_1.jpg (deflated 3%)\n",
            "  adding: content/cropped_images/IMG_20230123_122233_ყ_1.jpg (deflated 4%)\n",
            "  adding: content/cropped_images/IMG_20230312_233457_ფ_1.jpg (deflated 4%)\n",
            "  adding: content/cropped_images/IMG_20230213_201913 (1)_ე_1.jpg (deflated 3%)\n",
            "  adding: content/cropped_images/IMG_20230213_033119_ც_1.jpg (deflated 4%)\n",
            "  adding: content/cropped_images/IMG_20230306_173755_კ_2.jpg (deflated 3%)\n",
            "  adding: content/cropped_images/IMG_20230215_132923 (1)_ა_2.jpg (deflated 3%)\n",
            "  adding: content/cropped_images/IMG_20230220_135524(1)_ტ_1.jpg (deflated 5%)\n",
            "  adding: content/cropped_images/IMG_20230225_204704_თ_1.jpg (deflated 4%)\n",
            "  adding: content/cropped_images/IMG_20230215_140933 (1)_პ_1.jpg (deflated 4%)\n",
            "  adding: content/cropped_images/IMG_20230215_132923 (1)_ი_2.jpg (deflated 3%)\n",
            "  adding: content/cropped_images/IMG_20230226_123842_ტ_3.jpg (deflated 6%)\n",
            "  adding: content/cropped_images/IMG_20230213_213853_კ_1.jpg (deflated 3%)\n",
            "  adding: content/cropped_images/IMG_20230216_185740 (1)_რ_1.jpg (deflated 4%)\n",
            "  adding: content/cropped_images/IMG_20221231_143556_ბ_1.jpg (deflated 4%)\n",
            "  adding: content/cropped_images/IMG_20230213_212448_ძ_1.jpg (deflated 9%)\n",
            "  adding: content/cropped_images/IMG_20230215_134823 (1)_ც_1.jpg (deflated 3%)\n",
            "  adding: content/cropped_images/IMG_20230216_185740 (1)_ნ_1.jpg (deflated 5%)\n",
            "  adding: content/cropped_images/IMG_20230219_144541_რ_1.jpg (deflated 3%)\n",
            "  adding: content/cropped_images/IMG_20230213_195100 (1)_ნ_1.jpg (deflated 3%)\n",
            "  adding: content/cropped_images/IMG_20230213_212238_გ_1.jpg (deflated 3%)\n",
            "  adding: content/cropped_images/IMG_20230213_033113_ბ_1.jpg (deflated 3%)\n",
            "  adding: content/cropped_images/IMG_20230215_140350 (1)_თ_1.jpg (deflated 8%)\n",
            "  adding: content/cropped_images/IMG_20230213_213853_ა_1.jpg (deflated 2%)\n",
            "  adding: content/cropped_images/IMG_20230213_033113_ი_1.jpg (deflated 6%)\n",
            "  adding: content/cropped_images/IMG_20230212_163927_ი_1.jpg (deflated 2%)\n",
            "  adding: content/cropped_images/IMG_20230212_163717_ვ_1.jpg (deflated 2%)\n",
            "  adding: content/cropped_images/IMG_20230215_135005 (1)_ს_2.jpg (deflated 3%)\n",
            "  adding: content/cropped_images/IMG_20230215_140350 (1)_რ_1.jpg (deflated 5%)\n",
            "  adding: content/cropped_images/IMG_20230213_212214_ბ_2.jpg (deflated 2%)\n",
            "  adding: content/cropped_images/IMG_20230220_134901_ა_1.jpg (deflated 3%)\n",
            "  adding: content/cropped_images/IMG_20230213_212935_დ_2.jpg (deflated 3%)\n",
            "  adding: content/cropped_images/IMG_20230306_173755_რ_2.jpg (deflated 6%)\n",
            "  adding: content/cropped_images/IMG_20230215_140350 (1)_ს_2.jpg (deflated 5%)\n",
            "  adding: content/cropped_images/IMG_20221231_143556_ვ_1.jpg (deflated 3%)\n",
            "  adding: content/cropped_images/IMG_20230125_173540_ა_2.jpg (deflated 5%)\n",
            "  adding: content/cropped_images/IMG_20230212_163844_რ_1.jpg (deflated 8%)\n",
            "  adding: content/cropped_images/IMG_20230213_194526 (1)_უ_1.jpg (deflated 2%)\n",
            "  adding: content/cropped_images/IMG_20230220_134736_ლ_1.jpg (deflated 13%)\n",
            "  adding: content/cropped_images/IMG_20230215_132923 (1)_ა_3.jpg (deflated 2%)\n",
            "  adding: content/cropped_images/IMG_20230125_173540_გ_2.jpg (deflated 3%)\n",
            "  adding: content/cropped_images/IMG_20230219_144541_შ_1.jpg (deflated 3%)\n",
            "  adding: content/cropped_images/IMG_20230220_135524(1)_ბ_1.jpg (deflated 3%)\n",
            "  adding: content/cropped_images/IMG_20230226_125208_ბ_4.jpg (deflated 2%)\n",
            "  adding: content/cropped_images/IMG_20230226_123842_მ_2.jpg (deflated 4%)\n",
            "  adding: content/cropped_images/IMG_20230312_144621_ლ_1.jpg (deflated 3%)\n",
            "  adding: content/cropped_images/IMG_20230215_140110 (1)_ე_1.jpg (deflated 3%)\n",
            "  adding: content/cropped_images/IMG_20230123_122233_ბ_1.jpg (deflated 3%)\n",
            "  adding: content/cropped_images/IMG_20230213_201356 (1)_ი_1.jpg (deflated 4%)\n",
            "  adding: content/cropped_images/IMG_20230312_103208_ხ_1.jpg (deflated 4%)\n",
            "  adding: content/cropped_images/IMG_20230213_201213 (1)_ა_2.jpg (deflated 3%)\n",
            "  adding: content/cropped_images/IMG_20230213_201913 (1)_კ_1.jpg (deflated 4%)\n",
            "  adding: content/cropped_images/IMG_20230123_122233_ე_1.jpg (deflated 3%)\n",
            "  adding: content/cropped_images/IMG_20230302_132126_პ_1.jpg (deflated 3%)\n",
            "  adding: content/cropped_images/IMG_20230215_132858 (1)_ნ_1.jpg (deflated 2%)\n",
            "  adding: content/cropped_images/IMG_20230216_184020 (1)_თ_1.jpg (deflated 4%)\n",
            "  adding: content/cropped_images/IMG_20230216_185740 (1)_ვ_1.jpg (deflated 6%)\n",
            "  adding: content/cropped_images/IMG_20230215_135005 (1)_ი_1.jpg (deflated 6%)\n",
            "  adding: content/cropped_images/IMG_20230215_134823 (1)_ე_1.jpg (deflated 4%)\n",
            "  adding: content/cropped_images/IMG_20230213_212214_ი_2.jpg (deflated 7%)\n",
            "  adding: content/cropped_images/IMG_20230312_233457_რ_2.jpg (deflated 3%)\n",
            "  adding: content/cropped_images/IMG_20230213_201913 (1)_რ_1.jpg (deflated 3%)\n",
            "  adding: content/cropped_images/IMG_20230212_184734_ა_1.jpg (deflated 3%)\n",
            "  adding: content/cropped_images/IMG_20230306_173755_ფ_1.jpg (deflated 4%)\n",
            "  adding: content/cropped_images/IMG_20230212_163114_რ_1.jpg (deflated 6%)\n",
            "  adding: content/cropped_images/IMG_20230315_001116_თ_1.jpg (deflated 3%)\n",
            "  adding: content/cropped_images/IMG_20230226_125208_შ_1.jpg (deflated 3%)\n",
            "  adding: content/cropped_images/IMG_20230215_134920 (1)_ხ_1.jpg (deflated 3%)\n",
            "  adding: content/cropped_images/IMG_20230213_214906_ე_1.jpg (deflated 3%)\n",
            "  adding: content/cropped_images/IMG_20221231_143556_ი_1.jpg (deflated 2%)\n",
            "  adding: content/cropped_images/IMG_20230213_212935_წ_1.jpg (deflated 2%)\n",
            "  adding: content/cropped_images/IMG_20230212_163857_ო_1.jpg (deflated 4%)\n",
            "  adding: content/cropped_images/IMG_20230216_185740 (1)_დ_1.jpg (deflated 2%)\n",
            "  adding: content/cropped_images/IMG_20230215_134920 (1)_ფ_1.jpg (deflated 4%)\n",
            "  adding: content/cropped_images/IMG_20230215_135757 (1)_გ_1.jpg (deflated 2%)\n",
            "  adding: content/cropped_images/IMG_20220612_160637_ლ_1.jpg (deflated 3%)\n",
            "  adding: content/cropped_images/IMG_20221210_205824_ი_2.jpg (deflated 4%)\n",
            "  adding: content/cropped_images/IMG_20230302_132126_ლ_1.jpg (deflated 4%)\n",
            "  adding: content/cropped_images/IMG_20230215_132741 (1)_ქ_1.jpg (deflated 2%)\n",
            "  adding: content/cropped_images/IMG_20230226_135514_თ_1.jpg (deflated 3%)\n",
            "  adding: content/cropped_images/IMG_20230215_133817 (1)_ი_2.jpg (deflated 4%)\n",
            "  adding: content/cropped_images/IMG_20230213_174613_ვ_2.jpg (deflated 3%)\n",
            "  adding: content/cropped_images/IMG_20230215_132923 (1)_ლ_1.jpg (deflated 2%)\n",
            "  adding: content/cropped_images/IMG_20230213_221040_უ_1.jpg (deflated 5%)\n",
            "  adding: content/cropped_images/IMG_20230220_134736_ი_1.jpg (deflated 11%)\n",
            "  adding: content/cropped_images/IMG_20230306_173755_ხ_1.jpg (deflated 4%)\n",
            "  adding: content/cropped_images/IMG_20230205_132210_ო_1.jpg (deflated 12%)\n",
            "  adding: content/cropped_images/IMG_20230216_185644 (1)_ა_1.jpg (deflated 5%)\n",
            "  adding: content/cropped_images/IMG_20230125_173540_ბ_1.jpg (deflated 3%)\n",
            "  adding: content/cropped_images/IMG_20230306_174837_რ_1.jpg (deflated 4%)\n",
            "  adding: content/cropped_images/IMG_20230212_162108_ჩ_1.jpg (deflated 2%)\n",
            "  adding: content/cropped_images/IMG_20230215_135005 (1)_ბ_2.jpg (deflated 3%)\n",
            "  adding: content/cropped_images/IMG_20230213_201913 (1)_ო_1.jpg (deflated 6%)\n",
            "  adding: content/cropped_images/IMG_20220404_150259_ბ_1.jpg (deflated 3%)\n",
            "  adding: content/cropped_images/IMG_20230215_132923 (1)_ზ_1.jpg (deflated 2%)\n",
            "  adding: content/cropped_images/IMG_20230215_133625 (1)_ი_1.jpg (deflated 7%)\n",
            "  adding: content/cropped_images/IMG_20230125_173540_ა_1.jpg (deflated 3%)\n",
            "  adding: content/cropped_images/IMG_20230215_135649 (1)_კ_1.jpg (deflated 4%)\n",
            "  adding: content/cropped_images/IMG_20221231_143556_ო_1.jpg (deflated 3%)\n",
            "  adding: content/cropped_images/IMG_20230213_213853_ო_1.jpg (deflated 2%)\n",
            "  adding: content/cropped_images/IMG_20230213_215351_ი_1.jpg (deflated 4%)\n",
            "  adding: content/cropped_images/IMG_20230215_134823 (1)_რ_1.jpg (deflated 4%)\n",
            "  adding: content/cropped_images/IMG_20230213_195012 (1)_ყ_1.jpg (deflated 3%)\n",
            "  adding: content/cropped_images/IMG_20230215_134920 (1)_კ_1.jpg (deflated 4%)\n",
            "  adding: content/cropped_images/IMG_20230216_182829_რ_2.jpg (deflated 4%)\n",
            "  adding: content/cropped_images/IMG_20221231_143556_ლ_1.jpg (deflated 2%)\n",
            "  adding: content/cropped_images/IMG_20230225_204704_ე_1.jpg (deflated 3%)\n",
            "  adding: content/cropped_images/IMG_20230312_233457_ო_2.jpg (deflated 6%)\n",
            "  adding: content/cropped_images/IMG_20230225_204704_ი_1.jpg (deflated 4%)\n",
            "  adding: content/cropped_images/IMG_20230213_213008_ი_2.jpg (deflated 3%)\n",
            "  adding: content/cropped_images/IMG_20220612_160637_ს_1.jpg (deflated 7%)\n",
            "  adding: content/cropped_images/IMG_20230215_132923 (1)_ე_1.jpg (deflated 3%)\n",
            "  adding: content/cropped_images/IMG_20230215_134920 (1)_ტ_1.jpg (deflated 5%)\n",
            "  adding: content/cropped_images/IMG_20230213_213008_ქ_2.jpg (deflated 3%)\n",
            "  adding: content/cropped_images/IMG_20230213_201356 (1)_რ_1.jpg (deflated 3%)\n",
            "  adding: content/cropped_images/IMG_20230213_212448_ს_1.jpg (deflated 10%)\n",
            "  adding: content/cropped_images/IMG_20230213_174613_დ_1.jpg (deflated 4%)\n",
            "  adding: content/cropped_images/IMG_20230215_135722 (1)_ზ_1.jpg (deflated 4%)\n",
            "  adding: content/cropped_images/IMG_20230215_132858 (1)_ა_1.jpg (deflated 2%)\n",
            "  adding: content/cropped_images/IMG_20230213_174346_ლ_1.jpg (deflated 3%)\n",
            "  adding: content/cropped_images/IMG_20230213_212214_ი_1.jpg (deflated 11%)\n",
            "  adding: content/cropped_images/IMG_20230228_202054_ს_1.jpg (deflated 3%)\n",
            "  adding: content/cropped_images/IMG_20230312_233457_ნ_3.jpg (deflated 4%)\n",
            "  adding: content/cropped_images/IMG_20230302_132126_შ_1.jpg (deflated 5%)\n",
            "  adding: content/cropped_images/IMG_20230215_133603 (1)_ვ_1.jpg (deflated 3%)\n",
            "  adding: content/cropped_images/IMG_20230125_173540_ტ_2.jpg (deflated 3%)\n",
            "  adding: content/cropped_images/IMG_20230125_173540_ბ_2.jpg (deflated 5%)\n",
            "  adding: content/cropped_images/IMG_20230213_033113_ე_1.jpg (deflated 3%)\n",
            "  adding: content/cropped_images/IMG_20230225_204704_რ_1.jpg (deflated 2%)\n",
            "  adding: content/cropped_images/IMG_20230215_134823 (1)_ა_1.jpg (deflated 2%)\n",
            "  adding: content/cropped_images/IMG_20230216_185740 (1)_ლ_1.jpg (deflated 4%)\n",
            "  adding: content/cropped_images/IMG_20230312_103208_ს_2.jpg (deflated 2%)\n",
            "  adding: content/cropped_images/IMG_20230213_033119_ს_3.jpg (deflated 6%)\n",
            "  adding: content/cropped_images/IMG_20230226_135514_ქ_1.jpg (deflated 3%)\n",
            "  adding: content/cropped_images/IMG_20230226_123842_ო_2.jpg (deflated 5%)\n",
            "  adding: content/cropped_images/IMG_20230315_003205_ე_1.jpg (deflated 3%)\n",
            "  adding: content/cropped_images/IMG_20230226_123842_ტ_2.jpg (deflated 3%)\n",
            "  adding: content/cropped_images/IMG_20230213_212448_თ_1.jpg (deflated 14%)\n",
            "  adding: content/cropped_images/IMG_20230213_215351_ი_2.jpg (deflated 3%)\n",
            "  adding: content/cropped_images/IMG_20230302_132126_ი_1.jpg (deflated 7%)\n",
            "  adding: content/cropped_images/IMG_20220404_150259_დ_1.jpg (deflated 3%)\n",
            "  adding: content/cropped_images/IMG_20221231_143556_ქ_1.jpg (deflated 3%)\n",
            "  adding: content/cropped_images/IMG_20230215_134823 (1)_კ_1.jpg (deflated 3%)\n",
            "  adding: content/cropped_images/IMG_20220404_150259_ხ_1.jpg (deflated 2%)\n",
            "  adding: content/cropped_images/IMG_20230212_163016_ო_1.jpg (deflated 4%)\n",
            "  adding: content/cropped_images/IMG_20230215_135550 (1)_ი_1.jpg (deflated 2%)\n",
            "  adding: content/cropped_images/IMG_20230315_003205_ძ_1.jpg (deflated 3%)\n",
            "  adding: content/cropped_images/IMG_20230125_173540_ლ_3.jpg (deflated 5%)\n",
            "  adding: content/cropped_images/IMG_20230212_163016_კ_1.jpg (deflated 2%)\n",
            "  adding: content/cropped_images/IMG_20230215_134808 (1)_ლ_1.jpg (deflated 4%)\n",
            "  adding: content/cropped_images/IMG_20230312_233457_კ_1.jpg (deflated 3%)\n",
            "  adding: content/cropped_images/IMG_20230205_132210_თ_1.jpg (deflated 11%)\n",
            "  adding: content/cropped_images/IMG_20230216_182829_გ_1.jpg (deflated 2%)\n",
            "  adding: content/cropped_images/IMG_20230212_163204_ი_1.jpg (deflated 3%)\n",
            "  adding: content/cropped_images/IMG_20230212_163951_უ_1.jpg (deflated 5%)\n",
            "  adding: content/cropped_images/IMG_20230215_140110 (1)_ლ_1.jpg (deflated 3%)\n",
            "  adding: content/cropped_images/IMG_20230215_134808 (1)_ნ_1.jpg (deflated 3%)\n",
            "  adding: content/cropped_images/IMG_20230213_212935_ვ_1.jpg (deflated 4%)\n",
            "  adding: content/cropped_images/IMG_20230219_144541_ხ_1.jpg (deflated 2%)\n",
            "  adding: content/cropped_images/IMG_20230213_201624 (1)_ე_1.jpg (deflated 6%)\n",
            "  adding: content/cropped_images/IMG_20230213_174631_ს_2.jpg (deflated 3%)\n",
            "  adding: content/cropped_images/IMG_20230212_163114_ფ_2.jpg (deflated 2%)\n",
            "  adding: content/cropped_images/IMG_20230312_103208_ო_1.jpg (deflated 4%)\n",
            "  adding: content/cropped_images/IMG_20230306_174837_კ_1.jpg (deflated 3%)\n",
            "  adding: content/cropped_images/IMG_20230213_213058_ლ_1.jpg (deflated 2%)\n",
            "  adding: content/cropped_images/IMG_20230312_233457_ი_3.jpg (deflated 3%)\n",
            "  adding: content/cropped_images/IMG_20221205_142933_ი_1.jpg (deflated 3%)\n",
            "  adding: content/cropped_images/IMG_20230215_133603 (1)_თ_1.jpg (deflated 3%)\n",
            "  adding: content/cropped_images/IMG_20230213_033119_რ_2.jpg (deflated 4%)\n",
            "  adding: content/cropped_images/IMG_20230125_173540_ო_3.jpg (deflated 4%)\n",
            "  adding: content/cropped_images/IMG_20230213_214906_ა_1.jpg (deflated 6%)\n",
            "  adding: content/cropped_images/IMG_20230213_194526 (1)_ფ_1.jpg (deflated 5%)\n",
            "  adding: content/cropped_images/IMG_20230213_212448_კ_1.jpg (deflated 7%)\n",
            "  adding: content/cropped_images/IMG_20230215_140350 (1)_კ_1.jpg (deflated 3%)\n",
            "  adding: content/cropped_images/IMG_20230213_194526 (1)_ტ_2.jpg (deflated 4%)\n",
            "  adding: content/cropped_images/IMG_20230215_134823 (1)_ჭ_1.jpg (deflated 4%)\n",
            "  adding: content/cropped_images/IMG_20230215_150353_ტ_1.jpg (deflated 3%)\n",
            "  adding: content/cropped_images/IMG_20230213_033128_გ_1.jpg (deflated 3%)\n",
            "  adding: content/cropped_images/IMG_20230215_134920 (1)_მ_1.jpg (deflated 3%)\n",
            "  adding: content/cropped_images/IMG_20220612_160637_დ_1.jpg (deflated 3%)\n",
            "  adding: content/cropped_images/IMG_20230226_135514_ფ_1.jpg (deflated 3%)\n",
            "  adding: content/cropped_images/IMG_20230213_212448_გ_1.jpg (deflated 7%)\n",
            "  adding: content/cropped_images/IMG_20230212_162759_ფ_1.jpg (deflated 2%)\n",
            "  adding: content/cropped_images/IMG_20230212_163114_მ_1.jpg (deflated 4%)\n",
            "  adding: content/cropped_images/IMG_20230213_221040_მ_1.jpg (deflated 7%)\n",
            "  adding: content/cropped_images/IMG_20230213_174631_ბ_2.jpg (deflated 2%)\n",
            "  adding: content/cropped_images/IMG_20230213_201213 (1)_მ_1.jpg (deflated 5%)\n",
            "  adding: content/cropped_images/IMG_20230213_194526 (1)_ვ_2.jpg (deflated 3%)\n",
            "  adding: content/cropped_images/IMG_20220612_160637_კ_2.jpg (deflated 3%)\n",
            "  adding: content/cropped_images/IMG_20221210_205824_ლ_1.jpg (deflated 3%)\n",
            "  adding: content/cropped_images/IMG_20221231_143556_წ_1.jpg (deflated 4%)\n",
            "  adding: content/cropped_images/IMG_20221231_143556_ნ_2.jpg (deflated 3%)\n",
            "  adding: content/cropped_images/IMG_20230213_212238_ლ_1.jpg (deflated 4%)\n",
            "  adding: content/cropped_images/IMG_20230220_135524(1)_ფ_1.jpg (deflated 3%)\n",
            "  adding: content/cropped_images/IMG_20230226_145042_თ_1.jpg (deflated 3%)\n",
            "  adding: content/cropped_images/IMG_20230213_033119_ო_1.jpg (deflated 4%)\n",
            "  adding: content/cropped_images/IMG_20230215_133603 (1)_ლ_1.jpg (deflated 4%)\n",
            "  adding: content/cropped_images/IMG_20230306_173755_ვ_2.jpg (deflated 3%)\n",
            "  adding: content/cropped_images/IMG_20230312_144621_რ_1.jpg (deflated 4%)\n",
            "  adding: content/cropped_images/IMG_20230312_103208_ა_1.jpg (deflated 2%)\n",
            "  adding: content/cropped_images/IMG_20230213_213008_კ_2.jpg (deflated 2%)\n",
            "  adding: content/cropped_images/IMG_20230306_173755_ი_1.jpg (deflated 5%)\n",
            "  adding: content/cropped_images/IMG_20230205_132210_გ_1.jpg (deflated 8%)\n",
            "  adding: content/cropped_images/IMG_20230123_122233_ი_1.jpg (deflated 4%)\n",
            "  adding: content/cropped_images/IMG_20230315_001116_უ_1.jpg (deflated 7%)\n",
            "  adding: content/cropped_images/IMG_20230228_202054_რ_1.jpg (deflated 4%)\n",
            "  adding: content/cropped_images/IMG_20230215_132923 (1)_შ_1.jpg (deflated 3%)\n",
            "  adding: content/cropped_images/IMG_20230213_215351_კ_1.jpg (deflated 4%)\n",
            "  adding: content/cropped_images/IMG_20230215_135722 (1)_რ_1.jpg (deflated 3%)\n",
            "  adding: content/cropped_images/IMG_20230213_212238_ვ_1.jpg (deflated 3%)\n",
            "  adding: content/cropped_images/IMG_20220526_123129_ნ_1.jpg (deflated 3%)\n",
            "  adding: content/cropped_images/IMG_20230213_033113_გ_2.jpg (deflated 2%)\n",
            "  adding: content/cropped_images/IMG_20230306_173755_პ_1.jpg (deflated 4%)\n",
            "  adding: content/cropped_images/IMG_20230220_135524(1)_ჭ_1.jpg (deflated 3%)\n",
            "  adding: content/cropped_images/IMG_20230213_213008_მ_2.jpg (deflated 3%)\n",
            "  adding: content/cropped_images/IMG_20230213_213058_უ_1.jpg (deflated 2%)\n",
            "  adding: content/cropped_images/IMG_20230215_140350 (1)_დ_1.jpg (deflated 5%)\n",
            "  adding: content/cropped_images/IMG_20230212_162744_ც_1.jpg (deflated 2%)\n",
            "  adding: content/cropped_images/IMG_20230226_135514_ვ_1.jpg (deflated 3%)\n",
            "  adding: content/cropped_images/IMG_20230213_213058_ვ_1.jpg (deflated 2%)\n",
            "  adding: content/cropped_images/IMG_20230213_033119_ს_2.jpg (deflated 4%)\n",
            "  adding: content/cropped_images/IMG_20230219_144541_ი_3.jpg (deflated 3%)\n",
            "  adding: content/cropped_images/IMG_20230213_215351_რ_2.jpg (deflated 4%)\n",
            "  adding: content/cropped_images/IMG_20230213_201213 (1)_ლ_1.jpg (deflated 3%)\n",
            "  adding: content/cropped_images/IMG_20230228_202054_მ_1.jpg (deflated 2%)\n",
            "  adding: content/cropped_images/IMG_20230212_162135_ი_1.jpg (deflated 2%)\n",
            "  adding: content/cropped_images/IMG_20230215_132858 (1)_ს_2.jpg (deflated 3%)\n",
            "  adding: content/cropped_images/IMG_20230213_194526 (1)_ი_1.jpg (deflated 4%)\n",
            "  adding: content/cropped_images/IMG_20230215_134808 (1)_ს_1.jpg (deflated 3%)\n",
            "  adding: content/cropped_images/IMG_20230315_003205_ა_1.jpg (deflated 3%)\n",
            "  adding: content/cropped_images/IMG_20230226_145042_ი_1.jpg (deflated 3%)\n",
            "  adding: content/cropped_images/IMG_20230213_174613_ე_2.jpg (deflated 3%)\n",
            "  adding: content/cropped_images/IMG_20230215_132741 (1)_ე_1.jpg (deflated 2%)\n",
            "  adding: content/cropped_images/IMG_20230125_173540_ვ_3.jpg (deflated 3%)\n",
            "  adding: content/cropped_images/IMG_20230215_133817 (1)_ე_1.jpg (deflated 6%)\n",
            "  adding: content/cropped_images/IMG_20230213_212448_ზ_1.jpg (deflated 13%)\n",
            "  adding: content/cropped_images/IMG_20230215_132741 (1)_ი_1.jpg (deflated 2%)\n",
            "  adding: content/cropped_images/IMG_20230228_202054_ლ_1.jpg (deflated 4%)\n",
            "  adding: content/cropped_images/IMG_20230215_140350 (1)_რ_2.jpg (deflated 3%)\n",
            "  adding: content/cropped_images/IMG_20230226_135514_დ_1.jpg (deflated 3%)\n",
            "  adding: content/cropped_images/IMG_20230213_213008_ს_3.jpg (deflated 2%)\n",
            "  adding: content/cropped_images/IMG_20230215_135005 (1)_ი_2.jpg (deflated 3%)\n",
            "  adding: content/cropped_images/IMG_20230212_184734_ე_1.jpg (deflated 3%)\n",
            "  adding: content/cropped_images/IMG_20230213_194526 (1)_ტ_1.jpg (deflated 3%)\n",
            "  adding: content/cropped_images/IMG_20230125_173540_ს_2.jpg (deflated 9%)\n",
            "  adding: content/cropped_images/IMG_20230213_174631_ბ_1.jpg (deflated 3%)\n",
            "  adding: content/cropped_images/IMG_20230213_213058_ო_1.jpg (deflated 3%)\n",
            "  adding: content/cropped_images/IMG_20230212_163940_თ_1.jpg (deflated 7%)\n",
            "  adding: content/cropped_images/IMG_20230312_233457_თ_1.jpg (deflated 5%)\n",
            "  adding: content/cropped_images/IMG_20230215_140110 (1)_ა_1.jpg (deflated 4%)\n",
            "  adding: content/cropped_images/IMG_20230306_174837_ს_1.jpg (deflated 3%)\n",
            "  adding: content/cropped_images/IMG_20230213_212935_ფ_1.jpg (deflated 2%)\n",
            "  adding: content/cropped_images/IMG_20230212_163857_ხ_1.jpg (deflated 4%)\n",
            "  adding: content/cropped_images/IMG_20230215_133603 (1)_ზ_1.jpg (deflated 4%)\n",
            "  adding: content/cropped_images/IMG_20230215_133817 (1)_ე_2.jpg (deflated 2%)\n",
            "  adding: content/cropped_images/IMG_20230213_212214_ტ_2.jpg (deflated 3%)\n",
            "  adding: content/cropped_images/IMG_20230213_212214_ო_2.jpg (deflated 4%)\n",
            "  adding: content/cropped_images/IMG_20230226_125208_ქ_1.jpg (deflated 4%)\n",
            "  adding: content/cropped_images/IMG_20221210_205824_ფ_1.jpg (deflated 4%)\n",
            "  adding: content/cropped_images/IMG_20230215_135105 (1)_ჯ_1.jpg (deflated 3%)\n",
            "  adding: content/cropped_images/IMG_20230315_003205_ლ_1.jpg (deflated 3%)\n",
            "  adding: content/cropped_images/IMG_20230213_213008_უ_1.jpg (deflated 2%)\n",
            "  adding: content/cropped_images/IMG_20230213_201356 (1)_ს_1.jpg (deflated 4%)\n",
            "  adding: content/cropped_images/IMG_20230215_140350 (1)_ძ_1.jpg (deflated 6%)\n",
            "  adding: content/cropped_images/IMG_20230315_001116_ა_1.jpg (deflated 3%)\n",
            "  adding: content/cropped_images/IMG_20230213_213058_ნ_2.jpg (deflated 3%)\n",
            "  adding: content/cropped_images/IMG_20230215_134808 (1)_ა_1.jpg (deflated 3%)\n",
            "  adding: content/cropped_images/IMG_20230216_182829_ზ_1.jpg (deflated 2%)\n",
            "  adding: content/cropped_images/IMG_20230225_204704_ნ_1.jpg (deflated 4%)\n",
            "  adding: content/cropped_images/IMG_20230226_123842_მ_1.jpg (deflated 2%)\n",
            "  adding: content/cropped_images/IMG_20230306_174837_თ_1.jpg (deflated 3%)\n",
            "  adding: content/cropped_images/IMG_20220526_123129_მ_1.jpg (deflated 4%)\n",
            "  adding: content/cropped_images/IMG_20230125_173540_თ_3.jpg (deflated 4%)\n",
            "  adding: content/cropped_images/IMG_20230215_140933 (1)_ტ_1.jpg (deflated 4%)\n",
            "  adding: content/cropped_images/IMG_20230212_163204_ს_1.jpg (deflated 3%)\n",
            "  adding: content/cropped_images/IMG_20230213_201213 (1)_ი_1.jpg (deflated 3%)\n",
            "  adding: content/cropped_images/IMG_20230123_122233_პ_1.jpg (deflated 3%)\n",
            "  adding: content/cropped_images/IMG_20230306_173755_დ_1.jpg (deflated 4%)\n",
            "  adding: content/cropped_images/IMG_20230215_135333 (1)_ს_1.jpg (deflated 2%)\n",
            "  adding: content/cropped_images/IMG_20230213_212238_ი_1.jpg (deflated 2%)\n",
            "  adding: content/cropped_images/IMG_20230213_213058_ბ_1.jpg (deflated 3%)\n",
            "  adding: content/cropped_images/IMG_20230213_194526 (1)_ქ_2.jpg (deflated 5%)\n",
            "  adding: content/cropped_images/IMG_20230213_194526 (1)_შ_1.jpg (deflated 4%)\n",
            "  adding: content/cropped_images/IMG_20230213_213008_ნ_1.jpg (deflated 2%)\n",
            "  adding: content/cropped_images/IMG_20230205_140607_კ_1.jpg (deflated 2%)\n",
            "  adding: content/cropped_images/IMG_20230213_195012 (1)_მ_1.jpg (deflated 4%)\n",
            "  adding: content/cropped_images/IMG_20230215_135005 (1)_რ_1.jpg (deflated 3%)\n",
            "  adding: content/cropped_images/IMG_20230213_212448_რ_1.jpg (deflated 9%)\n",
            "  adding: content/cropped_images/IMG_20230215_135333 (1)_ქ_1.jpg (deflated 3%)\n",
            "  adding: content/cropped_images/IMG_20230312_103208_ლ_1.jpg (deflated 4%)\n",
            "  adding: content/cropped_images/IMG_20230306_173755_ე_1.jpg (deflated 6%)\n",
            "  adding: content/cropped_images/IMG_20230216_184020 (1)_ე_1.jpg (deflated 3%)\n",
            "  adding: content/cropped_images/IMG_20230215_135005 (1)_კ_1.jpg (deflated 3%)\n",
            "  adding: content/cropped_images/IMG_20230213_213058_მ_1.jpg (deflated 3%)\n",
            "  adding: content/cropped_images/IMG_20230312_233457_ჩ_1.jpg (deflated 7%)\n",
            "  adding: content/cropped_images/IMG_20230213_212325_რ_1.jpg (deflated 3%)\n",
            "  adding: content/cropped_images/IMG_20230302_132126_უ_1.jpg (deflated 3%)\n",
            "  adding: content/cropped_images/IMG_20221231_143556_ა_1.jpg (deflated 5%)\n",
            "  adding: content/cropped_images/IMG_20230215_135005 (1)_ს_1.jpg (deflated 4%)\n",
            "  adding: content/cropped_images/IMG_20230205_140607_ყ_1.jpg (deflated 4%)\n",
            "  adding: content/cropped_images/IMG_20230212_162759_ლ_1.jpg (deflated 3%)\n",
            "  adding: content/cropped_images/IMG_20230212_191424_ე_1.jpg (deflated 2%)\n",
            "  adding: content/cropped_images/IMG_20220404_150259_ა_1.jpg (deflated 3%)\n",
            "  adding: content/cropped_images/IMG_20230213_212935_ს_2.jpg (deflated 2%)\n",
            "  adding: content/cropped_images/IMG_20230220_134901_რ_1.jpg (deflated 4%)\n",
            "  adding: content/cropped_images/IMG_20230215_132923 (1)_ტ_1.jpg (deflated 2%)\n",
            "  adding: content/cropped_images/IMG_20230213_174631_თ_1.jpg (deflated 3%)\n",
            "  adding: content/cropped_images/IMG_20230216_182829_ლ_2.jpg (deflated 11%)\n",
            "  adding: content/cropped_images/IMG_20230215_135722 (1)_ბ_1.jpg (deflated 5%)\n",
            "  adding: content/cropped_images/IMG_20230312_144621_ს_2.jpg (deflated 5%)\n",
            "  adding: content/cropped_images/IMG_20230219_144541_ი_2.jpg (deflated 4%)\n",
            "  adding: content/cropped_images/IMG_20230215_135649 (1)_ლ_1.jpg (deflated 5%)\n",
            "  adding: content/cropped_images/IMG_20230213_195012 (1)_ტ_1.jpg (deflated 3%)\n",
            "  adding: content/cropped_images/IMG_20230312_144621_პ_1.jpg (deflated 5%)\n",
            "  adding: content/cropped_images/IMG_20230225_204704_გ_1.jpg (deflated 2%)\n",
            "  adding: content/cropped_images/IMG_20230213_221040_ე_1.jpg (deflated 6%)\n",
            "  adding: content/cropped_images/IMG_20230212_163000_მ_1.jpg (deflated 3%)\n",
            "  adding: content/cropped_images/IMG_20230213_201624 (1)_ს_1.jpg (deflated 11%)\n",
            "  adding: content/cropped_images/IMG_20230212_163114_ა_1.jpg (deflated 4%)\n",
            "  adding: content/cropped_images/IMG_20230125_173540_მ_2.jpg (deflated 3%)\n",
            "  adding: content/cropped_images/IMG_20230215_134823 (1)_ვ_1.jpg (deflated 3%)\n",
            "  adding: content/cropped_images/IMG_20230215_132923 (1)_ი_1.jpg (deflated 3%)\n",
            "  adding: content/cropped_images/IMG_20230219_144541_თ_1.jpg (deflated 2%)\n",
            "  adding: content/cropped_images/IMG_20230213_212448_ა_1.jpg (deflated 10%)\n",
            "  adding: content/cropped_images/IMG_20230213_212214_ბ_1.jpg (deflated 3%)\n",
            "  adding: content/cropped_images/IMG_20230213_215351_ე_1.jpg (deflated 5%)\n",
            "  adding: content/cropped_images/IMG_20230213_212238_ბ_1.jpg (deflated 2%)\n",
            "  adding: content/cropped_images/IMG_20230213_213008_ს_2.jpg (deflated 2%)\n",
            "  adding: content/cropped_images/IMG_20230125_173540_თ_1.jpg (deflated 4%)\n",
            "  adding: content/cropped_images/IMG_20230213_213008_ა_1.jpg (deflated 2%)\n",
            "  adding: content/cropped_images/IMG_20230212_163204_ლ_1.jpg (deflated 2%)\n",
            "  adding: content/cropped_images/IMG_20230213_214906_ნ_1.jpg (deflated 4%)\n",
            "  adding: content/cropped_images/IMG_20230213_033119_გ_1.jpg (deflated 4%)\n",
            "  adding: content/cropped_images/IMG_20230226_123842_ო_1.jpg (deflated 4%)\n",
            "  adding: content/cropped_images/IMG_20230213_214906_ი_1.jpg (deflated 3%)\n",
            "  adding: content/cropped_images/IMG_20230213_174346_ს_1.jpg (deflated 8%)\n",
            "  adding: content/cropped_images/IMG_20230220_134901_ს_1.jpg (deflated 7%)\n",
            "  adding: content/cropped_images/IMG_20230312_103208_ს_1.jpg (deflated 3%)\n",
            "  adding: content/cropped_images/IMG_20220612_160637_ვ_1.jpg (deflated 3%)\n",
            "  adding: content/cropped_images/IMG_20230213_213008_რ_1.jpg (deflated 3%)\n",
            "  adding: content/cropped_images/IMG_20230213_033128_ზ_1.jpg (deflated 3%)\n",
            "  adding: content/cropped_images/IMG_20230215_132858 (1)_ვ_1.jpg (deflated 2%)\n",
            "  adding: content/cropped_images/IMG_20230213_213853_ხ_1.jpg (deflated 2%)\n",
            "  adding: content/cropped_images/IMG_20230306_173755_შ_1.jpg (deflated 3%)\n",
            "  adding: content/cropped_images/IMG_20230302_132126_ზ_2.jpg (deflated 2%)\n",
            "  adding: content/cropped_images/IMG_20230213_033119_ხ_1.jpg (deflated 6%)\n",
            "  adding: content/cropped_images/IMG_20230220_134901_ლ_1.jpg (deflated 5%)\n",
            "  adding: content/cropped_images/IMG_20230215_134920 (1)_დ_1.jpg (deflated 3%)\n",
            "  adding: content/cropped_images/IMG_20230212_163951_რ_1.jpg (deflated 4%)\n",
            "  adding: content/cropped_images/IMG_20230215_134920 (1)_ს_3.jpg (deflated 4%)\n",
            "  adding: content/cropped_images/IMG_20230226_123842_ა_2.jpg (deflated 5%)\n",
            "  adding: content/cropped_images/IMG_20230215_135757 (1)_ვ_1.jpg (deflated 3%)\n",
            "  adding: content/cropped_images/IMG_20230306_173755_ქ_2.jpg (deflated 7%)\n",
            "  adding: content/cropped_images/IMG_20230213_201356 (1)_დ_1.jpg (deflated 5%)\n",
            "  adding: content/cropped_images/IMG_20230220_135524(1)_ლ_1.jpg (deflated 6%)\n",
            "  adding: content/cropped_images/IMG_20230213_195012 (1)_ვ_1.jpg (deflated 2%)\n",
            "  adding: content/cropped_images/IMG_20230315_001116_ი_2.jpg (deflated 4%)\n",
            "  adding: content/cropped_images/IMG_20230315_003205_რ_1.jpg (deflated 4%)\n",
            "  adding: content/cropped_images/IMG_20230215_132741 (1)_ტ_1.jpg (deflated 2%)\n",
            "  adding: content/cropped_images/IMG_20230213_213008_მ_1.jpg (deflated 2%)\n",
            "  adding: content/cropped_images/IMG_20230215_140454 (1)_ბ_1.jpg (deflated 2%)\n",
            "  adding: content/cropped_images/IMG_20230213_215351_ა_2.jpg (deflated 3%)\n",
            "  adding: content/cropped_images/IMG_20230215_135259 (1)_გ_1.jpg (deflated 2%)\n",
            "  adding: content/cropped_images/IMG_20230215_135722 (1)_ხ_1.jpg (deflated 8%)\n",
            "  adding: content/cropped_images/IMG_20230212_163016_ი_1.jpg (deflated 4%)\n",
            "  adding: content/cropped_images/IMG_20230312_103208_დ_1.jpg (deflated 2%)\n",
            "  adding: content/cropped_images/IMG_20230228_202054_ე_1.jpg (deflated 4%)\n",
            "  adding: content/cropped_images/IMG_20230220_134736_ა_2.jpg (deflated 4%)\n",
            "  adding: content/cropped_images/IMG_20220526_123129_უ_1.jpg (deflated 6%)\n",
            "  adding: content/cropped_images/IMG_20221210_205824_ს_1.jpg (deflated 2%)\n",
            "  adding: content/cropped_images/IMG_20220526_123129_ზ_1.jpg (deflated 4%)\n",
            "  adding: content/cropped_images/IMG_20230212_163940_ვ_1.jpg (deflated 4%)\n",
            "  adding: content/cropped_images/IMG_20230213_033113_წ_1.jpg (deflated 4%)\n",
            "  adding: content/cropped_images/IMG_20220526_123129_შ_2.jpg (deflated 3%)\n",
            "  adding: content/cropped_images/IMG_20230226_135514_ტ_1.jpg (deflated 3%)\n",
            "  adding: content/cropped_images/IMG_20230312_103208_ბ_1.jpg (deflated 2%)\n",
            "  adding: content/cropped_images/IMG_20230213_174631_დ_1.jpg (deflated 3%)\n",
            "  adding: content/cropped_images/IMG_20221231_143556_გ_1.jpg (deflated 3%)\n",
            "  adding: content/cropped_images/IMG_20230306_173755_ა_4.jpg (deflated 3%)\n",
            "  adding: content/cropped_images/IMG_20230213_212238_ხ_1.jpg (deflated 3%)\n",
            "  adding: content/cropped_images/IMG_20230215_133817 (1)_ნ_1.jpg (deflated 3%)\n",
            "  adding: content/cropped_images/IMG_20230213_033119_ე_1.jpg (deflated 5%)\n",
            "  adding: content/cropped_images/IMG_20230226_145042_ტ_1.jpg (deflated 4%)\n",
            "  adding: content/cropped_images/IMG_20230315_003205_ი_1.jpg (deflated 3%)\n",
            "  adding: content/cropped_images/IMG_20230125_173540_ლ_1.jpg (deflated 3%)\n",
            "  adding: content/cropped_images/IMG_20230215_135649 (1)_გ_1.jpg (deflated 3%)\n",
            "  adding: content/cropped_images/IMG_20230213_213008_ო_2.jpg (deflated 3%)\n",
            "  adding: content/cropped_images/IMG_20230212_163717_დ_1.jpg (deflated 2%)\n",
            "  adding: content/cropped_images/IMG_20220612_160637_ო_1.jpg (deflated 4%)\n",
            "  adding: content/cropped_images/IMG_20230312_233457_შ_1.jpg (deflated 4%)\n",
            "  adding: content/cropped_images/IMG_20230213_214906_რ_3.jpg (deflated 4%)\n",
            "  adding: content/cropped_images/IMG_20220404_150259_ნ_1.jpg (deflated 2%)\n",
            "  adding: content/cropped_images/IMG_20221205_142933_ბ_1.jpg (deflated 3%)\n",
            "  adding: content/cropped_images/IMG_20230213_033119_ს_1.jpg (deflated 7%)\n",
            "  adding: content/cropped_images/IMG_20230306_173755_ფ_2.jpg (deflated 3%)\n",
            "  adding: content/cropped_images/IMG_20230212_163927_წ_1.jpg (deflated 2%)\n",
            "  adding: content/cropped_images/IMG_20230212_163940_ა_2.jpg (deflated 3%)\n",
            "  adding: content/cropped_images/IMG_20221205_142933_ვ_1.jpg (deflated 3%)\n",
            "  adding: content/cropped_images/IMG_20230213_201213 (1)_ა_1.jpg (deflated 3%)\n",
            "  adding: content/cropped_images/IMG_20230213_201913 (1)_ჩ_1.jpg (deflated 4%)\n",
            "  adding: content/cropped_images/IMG_20230212_163315_ნ_1.jpg (deflated 3%)\n",
            "  adding: content/cropped_images/IMG_20230215_135757 (1)_ი_3.jpg (deflated 3%)\n",
            "  adding: content/cropped_images/IMG_20230312_103208_თ_1.jpg (deflated 5%)\n",
            "  adding: content/cropped_images/IMG_20230220_134736_პ_1.jpg (deflated 8%)\n",
            "  adding: content/cropped_images/IMG_20230312_233457_ტ_3.jpg (deflated 3%)\n",
            "  adding: content/cropped_images/IMG_20230302_132126_ი_2.jpg (deflated 5%)\n",
            "  adding: content/cropped_images/IMG_20230215_140110 (1)_ვ_1.jpg (deflated 4%)\n",
            "  adding: content/cropped_images/IMG_20230213_033119_დ_1.jpg (deflated 8%)\n",
            "  adding: content/cropped_images/IMG_20230205_140607_ს_1.jpg (deflated 2%)\n",
            "  adding: content/cropped_images/IMG_20230215_134920 (1)_პ_1.jpg (deflated 4%)\n",
            "  adding: content/cropped_images/IMG_20230212_162108_ს_1.jpg (deflated 2%)\n",
            "  adding: content/cropped_images/IMG_20230212_162211_ი_1.jpg (deflated 4%)\n",
            "  adding: content/cropped_images/IMG_20230215_134920 (1)_ფ_2.jpg (deflated 3%)\n",
            "  adding: content/cropped_images/IMG_20220612_160637_ძ_1.jpg (deflated 4%)\n",
            "  adding: content/cropped_images/IMG_20230213_033113_შ_1.jpg (deflated 3%)\n",
            "  adding: content/cropped_images/IMG_20230216_184020 (1)_დ_1.jpg (deflated 4%)\n",
            "  adding: content/cropped_images/IMG_20230302_132126_ც_1.jpg (deflated 4%)\n",
            "  adding: content/cropped_images/IMG_20230213_215351_ვ_1.jpg (deflated 5%)\n",
            "  adding: content/cropped_images/IMG_20230213_195012 (1)_ე_1.jpg (deflated 4%)\n",
            "  adding: content/cropped_images/IMG_20230215_135722 (1)_ს_1.jpg (deflated 4%)\n",
            "  adding: content/cropped_images/IMG_20230215_134823 (1)_წ_1.jpg (deflated 5%)\n",
            "  adding: content/cropped_images/IMG_20230220_134736_ს_1.jpg (deflated 13%)\n",
            "  adding: content/cropped_images/IMG_20230213_213058_ხ_2.jpg (deflated 2%)\n",
            "  adding: content/cropped_images/IMG_20230123_122233_ხ_1.jpg (deflated 5%)\n",
            "  adding: content/cropped_images/IMG_20230123_122233_მ_2.jpg (deflated 3%)\n",
            "  adding: content/cropped_images/IMG_20230213_212325_ფ_1.jpg (deflated 2%)\n",
            "  adding: content/cropped_images/IMG_20220404_150259_თ_1.jpg (deflated 3%)\n",
            "  adding: content/cropped_images/IMG_20230213_201624 (1)_ო_1.jpg (deflated 11%)\n",
            "  adding: content/cropped_images/IMG_20230212_163927_ვ_1.jpg (deflated 2%)\n",
            "  adding: content/cropped_images/IMG_20230212_184734_ს_1.jpg (deflated 4%)\n",
            "  adding: content/cropped_images/IMG_20230215_140454 (1)_დ_1.jpg (deflated 3%)\n",
            "  adding: content/cropped_images/IMG_20230315_001116_კ_1.jpg (deflated 2%)\n",
            "  adding: content/cropped_images/IMG_20230216_182829_ნ_1.jpg (deflated 3%)\n",
            "  adding: content/cropped_images/IMG_20230212_163814_რ_1.jpg (deflated 6%)\n",
            "  adding: content/cropped_images/IMG_20230213_174337_რ_2.jpg (deflated 2%)\n",
            "  adding: content/cropped_images/IMG_20230213_213008_შ_2.jpg (deflated 2%)\n",
            "  adding: content/cropped_images/IMG_20230213_214906_რ_2.jpg (deflated 3%)\n",
            "  adding: content/cropped_images/IMG_20230212_163114_ო_1.jpg (deflated 6%)\n",
            "  adding: content/cropped_images/IMG_20230312_233457_ს_2.jpg (deflated 6%)\n",
            "  adding: content/cropped_images/IMG_20230215_140933 (1)_ქ_1.jpg (deflated 3%)\n",
            "  adding: content/cropped_images/IMG_20230212_163927_ნ_1.jpg (deflated 3%)\n",
            "  adding: content/cropped_images/IMG_20230220_134901_წ_1.jpg (deflated 3%)\n",
            "  adding: content/cropped_images/IMG_20230312_233457_ე_2.jpg (deflated 3%)\n",
            "  adding: content/cropped_images/IMG_20230226_145042_ქ_1.jpg (deflated 4%)\n",
            "  adding: content/cropped_images/IMG_20230312_233457_ბ_3.jpg (deflated 6%)\n",
            "  adding: content/cropped_images/IMG_20230213_174613_შ_1.jpg (deflated 5%)\n",
            "  adding: content/cropped_images/IMG_20230215_132923 (1)_მ_1.jpg (deflated 3%)\n",
            "  adding: content/cropped_images/IMG_20230215_134920 (1)_ლ_2.jpg (deflated 4%)\n",
            "  adding: content/cropped_images/IMG_20230215_134823 (1)_ი_1.jpg (deflated 3%)\n",
            "  adding: content/cropped_images/IMG_20230212_163000_ბ_1.jpg (deflated 2%)\n",
            "  adding: content/cropped_images/IMG_20230215_132923 (1)_დ_1.jpg (deflated 3%)\n",
            "  adding: content/cropped_images/IMG_20230213_033119_ბ_2.jpg (deflated 5%)\n",
            "  adding: content/cropped_images/IMG_20230213_174631_ო_1.jpg (deflated 4%)\n",
            "  adding: content/cropped_images/IMG_20230226_145042_ლ_1.jpg (deflated 4%)\n",
            "  adding: content/cropped_images/IMG_20230226_123842_ი_2.jpg (deflated 4%)\n",
            "  adding: content/cropped_images/IMG_20230213_215351_რ_1.jpg (deflated 4%)\n",
            "  adding: content/cropped_images/IMG_20230212_163717_ი_1.jpg (deflated 2%)\n",
            "  adding: content/cropped_images/IMG_20230213_212448_ვ_1.jpg (deflated 5%)\n",
            "  adding: content/cropped_images/IMG_20230213_212935_ო_1.jpg (deflated 2%)\n",
            "  adding: content/cropped_images/IMG_20230213_214906_რ_1.jpg (deflated 5%)\n",
            "  adding: content/cropped_images/IMG_20230215_135757 (1)_დ_3.jpg (deflated 2%)\n",
            "  adding: content/cropped_images/IMG_20230213_212238_ე_1.jpg (deflated 4%)\n",
            "  adding: content/cropped_images/IMG_20230213_212935_მ_1.jpg (deflated 2%)\n",
            "  adding: content/cropped_images/IMG_20230215_134920 (1)_ი_3.jpg (deflated 6%)\n",
            "  adding: content/cropped_images/IMG_20230213_195012 (1)_დ_1.jpg (deflated 3%)\n",
            "  adding: content/cropped_images/IMG_20230213_213008_რ_2.jpg (deflated 2%)\n",
            "  adding: content/cropped_images/IMG_20230212_163940_ა_1.jpg (deflated 7%)\n",
            "  adding: content/cropped_images/IMG_20230213_212935_ტ_1.jpg (deflated 2%)\n",
            "  adding: content/cropped_images/IMG_20230226_125208_ბ_3.jpg (deflated 4%)\n",
            "  adding: content/cropped_images/IMG_20230312_233457_ნ_2.jpg (deflated 3%)\n",
            "  adding: content/cropped_images/IMG_20230215_132923 (1)_ნ_1.jpg (deflated 3%)\n",
            "  adding: content/cropped_images/IMG_20230213_213058_ჩ_1.jpg (deflated 2%)\n",
            "  adding: content/cropped_images/IMG_20230312_144621_შ_1.jpg (deflated 4%)\n",
            "  adding: content/cropped_images/IMG_20230125_173540_თ_2.jpg (deflated 4%)\n",
            "  adding: content/cropped_images/IMG_20230213_212214_გ_1.jpg (deflated 3%)\n",
            "  adding: content/cropped_images/IMG_20221205_142933_რ_1.jpg (deflated 3%)\n",
            "  adding: content/cropped_images/IMG_20230213_212238_შ_1.jpg (deflated 3%)\n",
            "  adding: content/cropped_images/IMG_20230213_215351_ზ_1.jpg (deflated 3%)\n",
            "  adding: content/cropped_images/IMG_20230215_135757 (1)_ე_1.jpg (deflated 2%)\n",
            "  adding: content/cropped_images/IMG_20230216_185740 (1)_მ_1.jpg (deflated 6%)\n",
            "  adding: content/cropped_images/IMG_20230213_174425_გ_1.jpg (deflated 4%)\n",
            "  adding: content/cropped_images/IMG_20230213_212214_ს_1.jpg (deflated 6%)\n",
            "  adding: content/cropped_images/IMG_20230212_184734_თ_1.jpg (deflated 4%)\n",
            "  adding: content/cropped_images/IMG_20230213_033113_ყ_1.jpg (deflated 9%)\n",
            "  adding: content/cropped_images/IMG_20230302_132126_ჩ_1.jpg (deflated 3%)\n",
            "  adding: content/cropped_images/IMG_20230216_182829_ე_1.jpg (deflated 2%)\n",
            "  adding: content/cropped_images/IMG_20230212_163940_ქ_1.jpg (deflated 3%)\n",
            "  adding: content/cropped_images/IMG_20230213_212935_ს_1.jpg (deflated 3%)\n",
            "  adding: content/cropped_images/IMG_20230212_163717_ჩ_1.jpg (deflated 3%)\n",
            "  adding: content/cropped_images/IMG_20230302_132126_რ_1.jpg (deflated 5%)\n",
            "  adding: content/cropped_images/IMG_20230213_174346_ა_1.jpg (deflated 2%)\n",
            "  adding: content/cropped_images/IMG_20230216_184020 (1)_რ_1.jpg (deflated 3%)\n",
            "  adding: content/cropped_images/IMG_20230212_184734_ქ_1.jpg (deflated 4%)\n",
            "  adding: content/cropped_images/IMG_20230213_213008_დ_1.jpg (deflated 2%)\n",
            "  adding: content/cropped_images/IMG_20230312_233457_ვ_1.jpg (deflated 3%)\n",
            "  adding: content/cropped_images/IMG_20230123_122233_ი_2.jpg (deflated 4%)\n",
            "  adding: content/cropped_images/IMG_20230215_134823 (1)_ზ_1.jpg (deflated 4%)\n",
            "  adding: content/cropped_images/IMG_20230215_133603 (1)_ხ_1.jpg (deflated 4%)\n",
            "  adding: content/cropped_images/IMG_20230213_212214_ა_1.jpg (deflated 3%)\n",
            "  adding: content/cropped_images/IMG_20230213_214906_ლ_2.jpg (deflated 5%)\n",
            "  adding: content/cropped_images/IMG_20230215_134920 (1)_რ_2.jpg (deflated 4%)\n",
            "  adding: content/cropped_images/IMG_20230213_212238_მ_2.jpg (deflated 3%)\n",
            "  adding: content/cropped_images/IMG_20230215_134920 (1)_უ_1.jpg (deflated 4%)\n",
            "  adding: content/cropped_images/IMG_20230312_144621_ხ_1.jpg (deflated 6%)\n",
            "  adding: content/cropped_images/IMG_20230315_001116_ნ_1.jpg (deflated 3%)\n",
            "  adding: content/cropped_images/IMG_20230226_123842_პ_1.jpg (deflated 3%)\n",
            "  adding: content/cropped_images/IMG_20221210_205824_უ_2.jpg (deflated 3%)\n",
            "  adding: content/cropped_images/IMG_20230215_132923 (1)_ო_2.jpg (deflated 2%)\n",
            "  adding: content/cropped_images/IMG_20230213_221040_ნ_1.jpg (deflated 6%)\n",
            "  adding: content/cropped_images/IMG_20230312_103208_ტ_1.jpg (deflated 2%)\n",
            "  adding: content/cropped_images/IMG_20230215_134808 (1)_ი_1.jpg (deflated 3%)\n",
            "  adding: content/cropped_images/IMG_20230213_174425_ვ_1.jpg (deflated 3%)\n",
            "  adding: content/cropped_images/IMG_20230215_132741 (1)_ჯ_1.jpg (deflated 2%)\n",
            "  adding: content/cropped_images/IMG_20230215_134823 (1)_ნ_1.jpg (deflated 4%)\n",
            "  adding: content/cropped_images/IMG_20230213_195100 (1)_ი_1.jpg (deflated 3%)\n",
            "  adding: content/cropped_images/IMG_20230312_103208_ა_2.jpg (deflated 4%)\n",
            "  adding: content/cropped_images/IMG_20230125_173540_გ_1.jpg (deflated 3%)\n",
            "  adding: content/cropped_images/IMG_20230315_003205_ბ_1.jpg (deflated 3%)\n",
            "  adding: content/cropped_images/IMG_20230213_195100 (1)_კ_1.jpg (deflated 3%)\n",
            "  adding: content/cropped_images/IMG_20230306_173755_ა_3.jpg (deflated 3%)\n",
            "  adding: content/cropped_images/IMG_20230123_122233_ს_1.jpg (deflated 4%)\n",
            "  adding: content/cropped_images/IMG_20230220_134736_ლ_2.jpg (deflated 14%)\n",
            "  adding: content/cropped_images/IMG_20230215_132741 (1)_ს_1.jpg (deflated 3%)\n",
            "  adding: content/cropped_images/IMG_20230215_132858 (1)_რ_2.jpg (deflated 2%)\n",
            "  adding: content/cropped_images/IMG_20230213_213853_გ_1.jpg (deflated 2%)\n",
            "  adding: content/cropped_images/IMG_20230225_204704_ტ_1.jpg (deflated 3%)\n",
            "  adding: content/cropped_images/IMG_20230302_132126_ო_1.jpg (deflated 3%)\n",
            "  adding: content/cropped_images/IMG_20230312_233457_ა_5.jpg (deflated 3%)\n",
            "  adding: content/cropped_images/IMG_20230216_184020 (1)_ბ_1.jpg (deflated 3%)\n",
            "  adding: content/cropped_images/IMG_20230213_212935_დ_1.jpg (deflated 2%)\n",
            "  adding: content/cropped_images/IMG_20230216_185644 (1)_ლ_1.jpg (deflated 3%)\n",
            "  adding: content/cropped_images/IMG_20230215_132923 (1)_რ_1.jpg (deflated 3%)\n",
            "  adding: content/cropped_images/IMG_20230212_163940_ი_2.jpg (deflated 7%)\n",
            "  adding: content/cropped_images/IMG_20230228_202054_თ_1.jpg (deflated 4%)\n",
            "  adding: content/cropped_images/IMG_20230213_212448_ბ_1.jpg (deflated 5%)\n",
            "  adding: content/cropped_images/IMG_20230212_163951_ს_1.jpg (deflated 4%)\n",
            "  adding: content/cropped_images/IMG_20230312_144621_ქ_1.jpg (deflated 4%)\n",
            "  adding: content/cropped_images/IMG_20220526_123129_პ_1.jpg (deflated 4%)\n",
            "  adding: content/cropped_images/IMG_20230212_163114_თ_1.jpg (deflated 2%)\n",
            "  adding: content/cropped_images/IMG_20221205_142933_უ_1.jpg (deflated 4%)\n",
            "  adding: content/cropped_images/IMG_20221231_143556_ე_1.jpg (deflated 3%)\n",
            "  adding: content/cropped_images/IMG_20230213_213058_წ_1.jpg (deflated 3%)\n",
            "  adding: content/cropped_images/IMG_20221231_143556_რ_2.jpg (deflated 3%)\n",
            "  adding: content/cropped_images/IMG_20230212_191424_ნ_1.jpg (deflated 2%)\n",
            "  adding: content/cropped_images/IMG_20230212_163951_ხ_1.jpg (deflated 4%)\n",
            "  adding: content/cropped_images/IMG_20230215_135550 (1)_ს_1.jpg (deflated 3%)\n",
            "  adding: content/cropped_images/IMG_20230212_184734_რ_1.jpg (deflated 2%)\n",
            "  adding: content/cropped_images/IMG_20230315_003205_ტ_1.jpg (deflated 3%)\n",
            "  adding: content/cropped_images/IMG_20230212_162211_შ_1.jpg (deflated 3%)\n",
            "  adding: content/cropped_images/IMG_20230215_135550 (1)_ვ_1.jpg (deflated 3%)\n",
            "  adding: content/cropped_images/IMG_20230125_173540_უ_1.jpg (deflated 6%)\n",
            "  adding: content/cropped_images/IMG_20230212_184734_ი_1.jpg (deflated 5%)\n",
            "  adding: content/cropped_images/IMG_20220404_150259_პ_1.jpg (deflated 3%)\n",
            "  adding: content/cropped_images/IMG_20230215_140110 (1)_ო_1.jpg (deflated 3%)\n",
            "  adding: content/cropped_images/IMG_20230215_134920 (1)_ი_1.jpg (deflated 3%)\n",
            "  adding: content/cropped_images/IMG_20230226_123842_თ_1.jpg (deflated 7%)\n",
            "  adding: content/cropped_images/IMG_20230315_003205_გ_1.jpg (deflated 3%)\n",
            "  adding: content/cropped_images/IMG_20230215_134823 (1)_გ_1.jpg (deflated 3%)\n",
            "  adding: content/cropped_images/IMG_20230212_163114_ე_1.jpg (deflated 5%)\n",
            "  adding: content/cropped_images/IMG_20230215_132923 (1)_დ_2.jpg (deflated 3%)\n",
            "  adding: content/cropped_images/IMG_20230205_140607_რ_1.jpg (deflated 2%)\n",
            "  adding: content/cropped_images/IMG_20230312_144621_მ_1.jpg (deflated 4%)\n",
            "  adding: content/cropped_images/IMG_20230212_184734_ფ_1.jpg (deflated 4%)\n",
            "  adding: content/cropped_images/IMG_20220404_150259_ლ_1.jpg (deflated 3%)\n",
            "  adding: content/cropped_images/IMG_20230212_163000_ლ_1.jpg (deflated 4%)\n",
            "  adding: content/cropped_images/IMG_20230213_221040_ბ_1.jpg (deflated 5%)\n",
            "  adding: content/cropped_images/IMG_20230215_133817 (1)_კ_1.jpg (deflated 5%)\n",
            "  adding: content/cropped_images/IMG_20230220_134901_ე_1.jpg (deflated 3%)\n",
            "  adding: content/cropped_images/IMG_20230213_174346_უ_1.jpg (deflated 2%)\n",
            "  adding: content/cropped_images/IMG_20230215_132741 (1)_უ_1.jpg (deflated 2%)\n",
            "  adding: content/cropped_images/IMG_20220526_123129_ზ_2.jpg (deflated 3%)\n",
            "  adding: content/cropped_images/IMG_20220526_123129_შ_1.jpg (deflated 4%)\n",
            "  adding: content/cropped_images/IMG_20230312_233457_მ_1.jpg (deflated 2%)\n",
            "  adding: content/cropped_images/IMG_20230213_174631_რ_1.jpg (deflated 3%)\n",
            "  adding: content/cropped_images/IMG_20230215_134920 (1)_თ_1.jpg (deflated 6%)\n",
            "  adding: content/cropped_images/IMG_20230125_173540_ე_1.jpg (deflated 3%)\n",
            "  adding: content/cropped_images/IMG_20221210_205824_ი_1.jpg (deflated 6%)\n",
            "  adding: content/cropped_images/IMG_20230215_135005 (1)_ლ_1.jpg (deflated 3%)\n",
            "  adding: content/cropped_images/IMG_20230312_103208_ვ_1.jpg (deflated 2%)\n",
            "  adding: content/cropped_images/IMG_20230213_213058_ნ_3.jpg (deflated 2%)\n",
            "  adding: content/cropped_images/IMG_20230312_233457_ა_2.jpg (deflated 3%)\n",
            "  adding: content/cropped_images/IMG_20230125_173540_ხ_2.jpg (deflated 4%)\n",
            "  adding: content/cropped_images/IMG_20230306_173755_ც_1.jpg (deflated 5%)\n",
            "  adding: content/cropped_images/IMG_20220612_160637_ი_1.jpg (deflated 5%)\n",
            "  adding: content/cropped_images/IMG_20230215_133817 (1)_რ_1.jpg (deflated 3%)\n",
            "  adding: content/cropped_images/IMG_20230220_134736_შ_1.jpg (deflated 7%)\n",
            "  adding: content/cropped_images/IMG_20230215_140350 (1)_ბ_1.jpg (deflated 6%)\n",
            "  adding: content/cropped_images/IMG_20230213_213853_რ_1.jpg (deflated 2%)\n",
            "  adding: content/cropped_images/IMG_20230215_135333 (1)_უ_1.jpg (deflated 5%)\n",
            "  adding: content/cropped_images/IMG_20230213_174425_ო_1.jpg (deflated 4%)\n",
            "  adding: content/cropped_images/IMG_20230205_132210_ე_1.jpg (deflated 9%)\n",
            "  adding: content/cropped_images/IMG_20230212_163940_ნ_1.jpg (deflated 4%)\n",
            "  adding: content/cropped_images/IMG_20230215_135005 (1)_ა_2.jpg (deflated 3%)\n",
            "  adding: content/cropped_images/IMG_20230215_135722 (1)_ნ_1.jpg (deflated 4%)\n",
            "  adding: content/cropped_images/IMG_20230123_122233_ს_2.jpg (deflated 7%)\n",
            "  adding: content/cropped_images/IMG_20230213_221040_ა_1.jpg (deflated 7%)\n",
            "  adding: content/cropped_images/IMG_20230315_003205_თ_1.jpg (deflated 4%)\n",
            "  adding: content/cropped_images/IMG_20230213_212214_ე_2.jpg (deflated 6%)\n",
            "  adding: content/cropped_images/IMG_20230215_134823 (1)_ს_1.jpg (deflated 3%)\n",
            "  adding: content/cropped_images/IMG_20230226_123842_რ_2.jpg (deflated 4%)\n",
            "  adding: content/cropped_images/IMG_20230312_144621_ე_1.jpg (deflated 5%)\n",
            "  adding: content/cropped_images/IMG_20230213_174631_კ_1.jpg (deflated 2%)\n",
            "  adding: content/cropped_images/IMG_20230215_134920 (1)_ს_2.jpg (deflated 5%)\n",
            "  adding: content/cropped_images/IMG_20220526_123129_ჯ_1.jpg (deflated 3%)\n",
            "  adding: content/cropped_images/IMG_20230213_174346_ი_1.jpg (deflated 5%)\n",
            "  adding: content/cropped_images/IMG_20230312_233457_ბ_1.jpg (deflated 4%)\n",
            "  adding: content/cropped_images/IMG_20230228_202054_ო_1.jpg (deflated 6%)\n",
            "  adding: content/cropped_images/IMG_20230213_033119_რ_1.jpg (deflated 6%)\n",
            "  adding: content/cropped_images/IMG_20230312_233457_კ_2.jpg (deflated 3%)\n",
            "  adding: content/cropped_images/IMG_20230213_033128_ჟ_1.jpg (deflated 8%)\n",
            "  adding: content/cropped_images/IMG_20221210_205824_მ_2.jpg (deflated 3%)\n",
            "  adding: content/cropped_images/IMG_20230213_212214_ტ_1.jpg (deflated 8%)\n",
            "  adding: content/cropped_images/IMG_20230225_204704_უ_1.jpg (deflated 3%)\n",
            "  adding: content/cropped_images/IMG_20230226_123842_ლ_1.jpg (deflated 4%)\n",
            "  adding: content/cropped_images/IMG_20230125_173540_ო_1.jpg (deflated 3%)\n",
            "  adding: content/cropped_images/IMG_20230215_133625 (1)_ჩ_1.jpg (deflated 4%)\n",
            "  adding: content/cropped_images/IMG_20230226_125208_ბ_2.jpg (deflated 3%)\n",
            "  adding: content/cropped_images/IMG_20230213_174613_ძ_1.jpg (deflated 5%)\n",
            "  adding: content/cropped_images/IMG_20230213_201356 (1)_ნ_1.jpg (deflated 3%)\n",
            "  adding: content/cropped_images/IMG_20230215_140639 (1)_ნ_1.jpg (deflated 4%)\n",
            "  adding: content/cropped_images/IMG_20230213_201213 (1)_ე_1.jpg (deflated 4%)\n",
            "  adding: content/cropped_images/IMG_20230215_134920 (1)_ვ_1.jpg (deflated 3%)\n",
            "  adding: content/cropped_images/IMG_20230215_135757 (1)_ქ_1.jpg (deflated 2%)\n",
            "  adding: content/cropped_images/IMG_20230213_213008_კ_1.jpg (deflated 2%)\n",
            "  adding: content/cropped_images/IMG_20230205_140607_ტ_1.jpg (deflated 2%)\n",
            "  adding: content/cropped_images/IMG_20230220_134901_ო_1.jpg (deflated 6%)\n",
            "  adding: content/cropped_images/IMG_20230213_212238_რ_1.jpg (deflated 4%)\n",
            "  adding: content/cropped_images/IMG_20230215_133603 (1)_ო_1.jpg (deflated 4%)\n",
            "  adding: content/cropped_images/IMG_20230228_202054_დ_1.jpg (deflated 4%)\n",
            "  adding: content/cropped_images/IMG_20230213_213008_ო_1.jpg (deflated 3%)\n",
            "  adding: content/cropped_images/IMG_20230306_173755_ვ_1.jpg (deflated 5%)\n",
            "  adding: content/cropped_images/IMG_20230212_162135_მ_2.jpg (deflated 2%)\n",
            "  adding: content/cropped_images/IMG_20230213_194526 (1)_ა_1.jpg (deflated 2%)\n",
            "  adding: content/cropped_images/IMG_20230213_174613_ა_1.jpg (deflated 4%)\n",
            "  adding: content/cropped_images/IMG_20230213_033113_რ_1.jpg (deflated 5%)\n",
            "  adding: content/cropped_images/IMG_20230215_140350 (1)_ლ_1.jpg (deflated 3%)\n",
            "  adding: content/cropped_images/IMG_20230306_174837_უ_1.jpg (deflated 3%)\n",
            "  adding: content/cropped_images/IMG_20230226_135514_ზ_1.jpg (deflated 3%)\n",
            "  adding: content/cropped_images/IMG_20230315_001116_ო_1.jpg (deflated 7%)\n",
            "  adding: content/cropped_images/IMG_20230215_133817 (1)_ო_1.jpg (deflated 4%)\n",
            "  adding: content/cropped_images/IMG_20230213_194526 (1)_ე_3.jpg (deflated 3%)\n",
            "  adding: content/cropped_images/IMG_20230216_185740 (1)_ყ_1.jpg (deflated 5%)\n",
            "  adding: content/cropped_images/IMG_20230215_135757 (1)_ა_2.jpg (deflated 2%)\n",
            "  adding: content/cropped_images/IMG_20230215_135005 (1)_ფ_1.jpg (deflated 3%)\n",
            "  adding: content/cropped_images/IMG_20230312_233457_ლ_1.jpg (deflated 3%)\n",
            "  adding: content/cropped_images/IMG_20230212_162304_ი_1.jpg (deflated 3%)\n",
            "  adding: content/cropped_images/IMG_20230302_132126_ღ_1.jpg (deflated 4%)\n",
            "  adding: content/cropped_images/IMG_20230125_173540_ხ_1.jpg (deflated 4%)\n",
            "  adding: content/cropped_images/IMG_20221231_143556_უ_2.jpg (deflated 4%)\n",
            "  adding: content/cropped_images/IMG_20230125_173540_ს_1.jpg (deflated 4%)\n",
            "  adding: content/cropped_images/IMG_20230306_173755_ყ_1.jpg (deflated 4%)\n",
            "  adding: content/cropped_images/IMG_20230212_163814_ფ_1.jpg (deflated 5%)\n",
            "  adding: content/cropped_images/IMG_20230215_134920 (1)_ც_2.jpg (deflated 4%)\n",
            "  adding: content/cropped_images/IMG_20230215_135757 (1)_რ_1.jpg (deflated 2%)\n",
            "  adding: content/cropped_images/IMG_20230212_162135_ფ_1.jpg (deflated 2%)\n",
            "  adding: content/cropped_images/IMG_20230213_213058_ი_1.jpg (deflated 2%)\n",
            "  adding: content/cropped_images/IMG_20230212_163844_ლ_1.jpg (deflated 3%)\n",
            "  adding: content/cropped_images/IMG_20230212_163000_რ_1.jpg (deflated 4%)\n",
            "  adding: content/cropped_images/IMG_20230216_185644 (1)_ღ_1.jpg (deflated 3%)\n",
            "  adding: content/cropped_images/IMG_20230215_134920 (1)_ზ_1.jpg (deflated 3%)\n",
            "  adding: content/cropped_images/IMG_20230213_212325_უ_1.jpg (deflated 2%)\n",
            "  adding: content/cropped_images/IMG_20230225_204704_ა_1.jpg (deflated 3%)\n",
            "  adding: content/cropped_images/IMG_20230212_162304_ღ_1.jpg (deflated 8%)\n",
            "  adding: content/cropped_images/IMG_20230213_213008_თ_1.jpg (deflated 3%)\n",
            "  adding: content/cropped_images/IMG_20230213_033119_ი_1.jpg (deflated 14%)\n",
            "  adding: content/cropped_images/IMG_20230213_215351_ფ_1.jpg (deflated 2%)\n",
            "  adding: content/cropped_images/IMG_20230220_134736_რ_2.jpg (deflated 10%)\n",
            "  adding: content/cropped_images/IMG_20230212_163114_ს_1.jpg (deflated 2%)\n",
            "  adding: content/cropped_images/IMG_20230216_185644 (1)_უ_1.jpg (deflated 3%)\n",
            "  adding: content/cropped_images/IMG_20230226_135514_ა_1.jpg (deflated 3%)\n",
            "  adding: content/cropped_images/IMG_20230212_162804_რ_1.jpg (deflated 2%)\n",
            "  adding: content/cropped_images/IMG_20220526_123129_ა_2.jpg (deflated 4%)\n",
            "  adding: content/cropped_images/IMG_20220526_123129_ი_2.jpg (deflated 4%)\n",
            "  adding: content/cropped_images/IMG_20230213_174337_ტ_1.jpg (deflated 2%)\n",
            "  adding: content/cropped_images/IMG_20230226_125208_ა_2.jpg (deflated 4%)\n",
            "  adding: content/cropped_images/IMG_20230213_033113_ნ_1.jpg (deflated 8%)\n",
            "  adding: content/cropped_images/IMG_20230213_212935_ა_1.jpg (deflated 4%)\n",
            "  adding: content/cropped_images/IMG_20230213_201913 (1)_ა_1.jpg (deflated 5%)\n",
            "  adding: content/cropped_images/IMG_20230212_163857_მ_1.jpg (deflated 3%)\n",
            "  adding: content/cropped_images/IMG_20230213_194526 (1)_ფ_2.jpg (deflated 2%)\n",
            "  adding: content/cropped_images/IMG_20230306_174837_მ_1.jpg (deflated 3%)\n",
            "  adding: content/cropped_images/IMG_20230212_163927_უ_1.jpg (deflated 3%)\n",
            "  adding: content/cropped_images/IMG_20230216_184020 (1)_ვ_1.jpg (deflated 5%)\n",
            "  adding: content/cropped_images/IMG_20230315_001116_გ_1.jpg (deflated 3%)\n",
            "  adding: content/cropped_images/IMG_20230212_162135_ა_2.jpg (deflated 2%)\n",
            "  adding: content/cropped_images/IMG_20230215_134920 (1)_ფ_3.jpg (deflated 4%)\n",
            "  adding: content/cropped_images/IMG_20230213_213008_ე_3.jpg (deflated 2%)\n",
            "  adding: content/cropped_images/IMG_20230125_173540_ო_2.jpg (deflated 4%)\n",
            "  adding: content/cropped_images/IMG_20230226_135514_უ_1.jpg (deflated 4%)\n",
            "  adding: content/cropped_images/IMG_20230215_140350 (1)_ე_2.jpg (deflated 7%)\n",
            "  adding: content/cropped_images/IMG_20230212_162135_მ_1.jpg (deflated 3%)\n",
            "  adding: content/cropped_images/IMG_20220612_160637_ბ_1.jpg (deflated 3%)\n",
            "  adding: content/cropped_images/IMG_20230215_135333 (1)_მ_1.jpg (deflated 4%)\n",
            "  adding: content/cropped_images/IMG_20230212_163000_ხ_1.jpg (deflated 4%)\n",
            "  adding: content/cropped_images/IMG_20230215_140110 (1)_თ_1.jpg (deflated 5%)\n",
            "  adding: content/cropped_images/IMG_20230312_233457_ი_4.jpg (deflated 4%)\n",
            "  adding: content/cropped_images/IMG_20230215_132923 (1)_კ_1.jpg (deflated 3%)\n",
            "  adding: content/cropped_images/IMG_20230215_133817 (1)_კ_2.jpg (deflated 4%)\n",
            "  adding: content/cropped_images/IMG_20230226_123842_კ_1.jpg (deflated 4%)\n",
            "  adding: content/cropped_images/IMG_20230213_033119_ე_2.jpg (deflated 3%)\n",
            "  adding: content/cropped_images/IMG_20230212_163940_რ_1.jpg (deflated 4%)\n"
          ]
        },
        {
          "output_type": "display_data",
          "data": {
            "text/plain": [
              "<IPython.core.display.Javascript object>"
            ],
            "application/javascript": [
              "\n",
              "    async function download(id, filename, size) {\n",
              "      if (!google.colab.kernel.accessAllowed) {\n",
              "        return;\n",
              "      }\n",
              "      const div = document.createElement('div');\n",
              "      const label = document.createElement('label');\n",
              "      label.textContent = `Downloading \"${filename}\": `;\n",
              "      div.appendChild(label);\n",
              "      const progress = document.createElement('progress');\n",
              "      progress.max = size;\n",
              "      div.appendChild(progress);\n",
              "      document.body.appendChild(div);\n",
              "\n",
              "      const buffers = [];\n",
              "      let downloaded = 0;\n",
              "\n",
              "      const channel = await google.colab.kernel.comms.open(id);\n",
              "      // Send a message to notify the kernel that we're ready.\n",
              "      channel.send({})\n",
              "\n",
              "      for await (const message of channel.messages) {\n",
              "        // Send a message to notify the kernel that we're ready.\n",
              "        channel.send({})\n",
              "        if (message.buffers) {\n",
              "          for (const buffer of message.buffers) {\n",
              "            buffers.push(buffer);\n",
              "            downloaded += buffer.byteLength;\n",
              "            progress.value = downloaded;\n",
              "          }\n",
              "        }\n",
              "      }\n",
              "      const blob = new Blob(buffers, {type: 'application/binary'});\n",
              "      const a = document.createElement('a');\n",
              "      a.href = window.URL.createObjectURL(blob);\n",
              "      a.download = filename;\n",
              "      div.appendChild(a);\n",
              "      a.click();\n",
              "      div.remove();\n",
              "    }\n",
              "  "
            ]
          },
          "metadata": {}
        },
        {
          "output_type": "display_data",
          "data": {
            "text/plain": [
              "<IPython.core.display.Javascript object>"
            ],
            "application/javascript": [
              "download(\"download_5219985f-cd3d-480b-9c43-eeffcb7db4cd\", \"cropped_images.zip\", 9276290)"
            ]
          },
          "metadata": {}
        }
      ]
    },
    {
      "cell_type": "code",
      "source": [
        "\n",
        "# path = \"cropped_images/\"\n",
        "dir_list = os.listdir(\"cropped_images/\")\n",
        "# ა_list = [d for d in dir_list if \"ა\" in d]\n",
        "letter_list = [re.findall(\"\\_(.)\\_\", d)[0] for d in dir_list if re.findall(\"\\_(.)\\_\", d)]\n"
      ],
      "metadata": {
        "id": "F04Rm_G0kkJp"
      },
      "execution_count": 14,
      "outputs": []
    },
    {
      "cell_type": "code",
      "source": [
        "# to detect the most frequent letters\n",
        "\n",
        "letter_counter = Counter(letter_list)\n",
        "letter_counter.most_common()"
      ],
      "metadata": {
        "colab": {
          "base_uri": "https://localhost:8080/"
        },
        "id": "MIAIW9r2_QwS",
        "outputId": "150d8cd0-10bc-4408-fc30-d45149ec785c"
      },
      "execution_count": 15,
      "outputs": [
        {
          "output_type": "execute_result",
          "data": {
            "text/plain": [
              "[('ი', 137),\n",
              " ('ა', 134),\n",
              " ('რ', 111),\n",
              " ('ე', 98),\n",
              " ('ს', 94),\n",
              " ('ლ', 92),\n",
              " ('ო', 81),\n",
              " ('ნ', 79),\n",
              " ('ბ', 75),\n",
              " ('უ', 70),\n",
              " ('მ', 69),\n",
              " ('ტ', 64),\n",
              " ('ვ', 63),\n",
              " ('დ', 61),\n",
              " ('თ', 56),\n",
              " ('კ', 53),\n",
              " ('ფ', 44),\n",
              " ('გ', 42),\n",
              " ('ქ', 41),\n",
              " ('ხ', 35),\n",
              " ('შ', 32),\n",
              " ('პ', 30),\n",
              " ('ზ', 26),\n",
              " ('ც', 23),\n",
              " ('წ', 19),\n",
              " ('ყ', 15),\n",
              " ('ჩ', 15),\n",
              " ('ძ', 14),\n",
              " ('ღ', 12),\n",
              " ('ჟ', 6),\n",
              " ('ჯ', 5),\n",
              " ('ჭ', 4),\n",
              " ('ჰ', 1)]"
            ]
          },
          "metadata": {},
          "execution_count": 15
        }
      ]
    },
    {
      "cell_type": "markdown",
      "source": [
        "# **3. Distributing the top of letters by separate folders**\n",
        "\n",
        "I will create folders for 8 most frequent letters and another one for the others."
      ],
      "metadata": {
        "id": "9eocgUva5YcE"
      }
    },
    {
      "cell_type": "code",
      "source": [
        "import shutil\n",
        "\n",
        "# src_path = r\"E:\\pynative\\reports\\sales.txt\" # source\n",
        "# dst_path = r\"E:\\pynative\\account\\sales.txt\" # destination\n",
        "# shutil.move(src_path, dst_path) # move\n",
        "# shutil.copyfile(src_path, dst_path) # copy"
      ],
      "metadata": {
        "id": "EryQj87EW28e"
      },
      "execution_count": 16,
      "outputs": []
    },
    {
      "cell_type": "code",
      "source": [
        "treshold = 80"
      ],
      "metadata": {
        "id": "wzlOpG5jV9EF"
      },
      "execution_count": 17,
      "outputs": []
    },
    {
      "cell_type": "code",
      "source": [
        "head_letter_dict = {x: count for x, count in Counter(letter_list).items() if count >= treshold}\n",
        "head_letter_dict = {k: v for k, v in sorted(head_letter_dict.items(), key=lambda item: item[1], reverse=True)}\n",
        "head_letter_dict"
      ],
      "metadata": {
        "colab": {
          "base_uri": "https://localhost:8080/"
        },
        "id": "H3efCTNZWBi_",
        "outputId": "268d3c30-5a32-448c-c52b-18403841e493"
      },
      "execution_count": 18,
      "outputs": [
        {
          "output_type": "execute_result",
          "data": {
            "text/plain": [
              "{'ი': 137, 'ა': 134, 'რ': 111, 'ე': 98, 'ს': 94, 'ლ': 92, 'ო': 81}"
            ]
          },
          "metadata": {},
          "execution_count": 18
        }
      ]
    },
    {
      "cell_type": "code",
      "source": [
        "tail_letter_dict = {x: count for x, count in Counter(letter_list).items() if count < treshold}\n",
        "tail_letter_dict = {k: v for k, v in sorted(tail_letter_dict.items(), key=lambda item: item[1], reverse=True)}\n",
        "# tail_letter_dict"
      ],
      "metadata": {
        "id": "gwzpI93GWBmW"
      },
      "execution_count": 19,
      "outputs": []
    },
    {
      "cell_type": "code",
      "source": [
        "head_letter_dict['other'] = np.sum([v for v in tail_letter_dict.values()])\n",
        "head_letter_dict"
      ],
      "metadata": {
        "colab": {
          "base_uri": "https://localhost:8080/"
        },
        "id": "_Ge2FLzsWct7",
        "outputId": "95e6f706-c5f4-4938-ea59-14da64fca84c"
      },
      "execution_count": 20,
      "outputs": [
        {
          "output_type": "execute_result",
          "data": {
            "text/plain": [
              "{'ი': 137,\n",
              " 'ა': 134,\n",
              " 'რ': 111,\n",
              " 'ე': 98,\n",
              " 'ს': 94,\n",
              " 'ლ': 92,\n",
              " 'ო': 81,\n",
              " 'other': 954}"
            ]
          },
          "metadata": {},
          "execution_count": 20
        }
      ]
    },
    {
      "cell_type": "code",
      "source": [
        "# for filePath in glob.glob(\"cropped_images_i/*.jpg\"):\n",
        "#     filePath_splitted = filePath.split('/')\n",
        "#     shutil.move(filePath, 'cropped_images/' + filePath_splitted[1])"
      ],
      "metadata": {
        "id": "TC17XhieWwFZ"
      },
      "execution_count": 21,
      "outputs": []
    },
    {
      "cell_type": "code",
      "source": [
        "del head_letter_dict['other']"
      ],
      "metadata": {
        "id": "cLfajQ7gc8fA"
      },
      "execution_count": 22,
      "outputs": []
    },
    {
      "cell_type": "code",
      "source": [
        "base_dir = 'grouped_images'\n",
        "os.mkdir(base_dir)\n",
        "\n",
        "for letter in head_letter_dict.keys():\n",
        "    os.mkdir(base_dir + '/letter_' + letter)"
      ],
      "metadata": {
        "id": "eTaWpNmEXMsZ"
      },
      "execution_count": 23,
      "outputs": []
    },
    {
      "cell_type": "code",
      "source": [
        "# distributing images with top of letters by folders\n",
        "for letter in head_letter_dict.keys():\n",
        "    fileList = [f for f in glob.glob(\"cropped_images/*.jpg\") if letter in f]\n",
        "    for filePath in fileList:\n",
        "        filePath_splitted = filePath.split('/')\n",
        "        shutil.copyfile(filePath, 'grouped_images/letter_'+letter+'/' + filePath_splitted[1])\n"
      ],
      "metadata": {
        "id": "fUMjlrLhYp1k"
      },
      "execution_count": 24,
      "outputs": []
    },
    {
      "cell_type": "code",
      "source": [
        "# and the rest:\n",
        "# fileList = [f for f in glob.glob(\"cropped_images/*.jpg\") if not any(letter in f for letter in head_letter_dict.keys())]\n",
        "# for filePath in fileList:\n",
        "#     filePath_splitted = filePath.split('/')\n",
        "#     shutil.copyfile(filePath, 'grouped_images/letter_other/' + filePath_splitted[1])\n"
      ],
      "metadata": {
        "id": "23P2NiLpZ0M7"
      },
      "execution_count": null,
      "outputs": []
    },
    {
      "cell_type": "code",
      "source": [],
      "metadata": {
        "id": "7C94LwevmNS6"
      },
      "execution_count": null,
      "outputs": []
    },
    {
      "cell_type": "markdown",
      "source": [
        "# **4. Distributing images by test, validation and train folders for each letter**\n",
        "\n",
        "based on https://www.analyticsvidhya.com/blog/2022/07/training-cnn-from-scratch-using-the-custom-dataset/"
      ],
      "metadata": {
        "id": "Lm9M4FUhaKbn"
      }
    },
    {
      "cell_type": "code",
      "source": [
        "base_dir = 'grouped_images'\n",
        "dataset_types = [\"train\", \"validation\", \"test\"]"
      ],
      "metadata": {
        "id": "BSd_gAfFZ8oC"
      },
      "execution_count": 25,
      "outputs": []
    },
    {
      "cell_type": "code",
      "source": [
        "for t in dataset_types:\n",
        "    t_dir = os.path.join(base_dir, t)\n",
        "    os.mkdir(t_dir)\n",
        "    for letter in head_letter_dict.keys():\n",
        "        t_letter_dir = os.path.join(t_dir, letter)\n",
        "        os.mkdir(t_letter_dir)\n"
      ],
      "metadata": {
        "id": "WA5YXfw0lNEO"
      },
      "execution_count": 26,
      "outputs": []
    },
    {
      "cell_type": "code",
      "source": [
        "letter_sizes = {}\n",
        "\n",
        "for letter, amount in head_letter_dict.items():\n",
        "    letter_sizes[letter] = {}\n",
        "    letter_sizes[letter]['test'] = int(np.floor(amount * 0.2))\n",
        "    letter_sizes[letter]['validation'] = int(np.floor((amount - letter_sizes[letter]['test']) * 0.2))\n",
        "    letter_sizes[letter]['train'] = amount - (letter_sizes[letter]['test'] + letter_sizes[letter]['validation'])\n",
        "    # print(head_letter_dict[letter])\n",
        "\n",
        "letter_sizes"
      ],
      "metadata": {
        "colab": {
          "base_uri": "https://localhost:8080/"
        },
        "id": "Tyz-g7mtr47Y",
        "outputId": "804513fe-df96-4ad8-d035-47f12d3ce80e"
      },
      "execution_count": 27,
      "outputs": [
        {
          "output_type": "execute_result",
          "data": {
            "text/plain": [
              "{'ი': {'test': 27, 'validation': 22, 'train': 88},\n",
              " 'ა': {'test': 26, 'validation': 21, 'train': 87},\n",
              " 'რ': {'test': 22, 'validation': 17, 'train': 72},\n",
              " 'ე': {'test': 19, 'validation': 15, 'train': 64},\n",
              " 'ს': {'test': 18, 'validation': 15, 'train': 61},\n",
              " 'ლ': {'test': 18, 'validation': 14, 'train': 60},\n",
              " 'ო': {'test': 16, 'validation': 13, 'train': 52}}"
            ]
          },
          "metadata": {},
          "execution_count": 27
        }
      ]
    },
    {
      "cell_type": "code",
      "source": [
        "# '''\n",
        "# TO DELETE OTHER LETTERS\n",
        "# '''\n",
        "\n",
        "# files = glob.glob('grouped_images/letter_other/*')\n",
        "# ბ დ // ვ მ ტ უ ნ\n",
        "# files = glob.glob('grouped_images/test/დ/*')\n",
        "# for f in files:\n",
        "#     os.remove(f)\n",
        "\n",
        "# !rmdir grouped_images/test/დ"
      ],
      "metadata": {
        "id": "lS0RMw-Bfmh9"
      },
      "execution_count": 37,
      "outputs": []
    },
    {
      "cell_type": "code",
      "source": [
        "# extra_letters = ['ბ', 'დ', 'ვ', 'მ', 'ტ', 'უ', 'ნ'] # \n",
        "# folder_categories = ['train', 'test', 'validation']\n",
        "\n",
        "# for ff in folder_categories:\n",
        "#     for ll in extra_letters:\n",
        "#         # for f in glob.glob('grouped_images/' + ff + '/' + ll + '/*'):\n",
        "#         #     os.remove(f)\n",
        "#         !rmdir os.path.join(os.getcwd(), 'grouped_images', ff, ll)"
      ],
      "metadata": {
        "id": "S48JXj5V6zuK"
      },
      "execution_count": 41,
      "outputs": []
    },
    {
      "cell_type": "code",
      "source": [
        "# del head_letter_dict['other']"
      ],
      "metadata": {
        "id": "d09IIiZygK8q"
      },
      "execution_count": null,
      "outputs": []
    },
    {
      "cell_type": "code",
      "source": [
        "for letter in head_letter_dict.keys():\n",
        "    file_names = [f.split('/')[-1] for f in os.listdir('grouped_images/letter_' + letter)]\n",
        "\n",
        "    test_names = file_names[:letter_sizes[letter]['test']]\n",
        "    validation_names = file_names[letter_sizes[letter]['test']:letter_sizes[letter]['test']+letter_sizes[letter]['validation']]\n",
        "    train_names = file_names[-letter_sizes[letter]['train']:]\n",
        "\n",
        "    original_dir = 'grouped_images/letter_' + letter\n",
        "\n",
        "    for f in test_names:\n",
        "        target_dir = 'grouped_images/test/' + letter\n",
        "        src = os.path.join(original_dir, f)\n",
        "        dst = os.path.join(target_dir, f)\n",
        "        shutil.copyfile(src, dst)\n",
        "\n",
        "    for f in validation_names:\n",
        "        target_dir = 'grouped_images/validation/' + letter\n",
        "        src = os.path.join(original_dir, f)\n",
        "        dst = os.path.join(target_dir, f)\n",
        "        shutil.copyfile(src, dst)\n",
        "\n",
        "    for f in train_names:\n",
        "        target_dir = 'grouped_images/train/' + letter\n",
        "        src = os.path.join(original_dir, f)\n",
        "        dst = os.path.join(target_dir, f)\n",
        "        shutil.copyfile(src, dst)\n"
      ],
      "metadata": {
        "id": "CFQ95cLalNHD"
      },
      "execution_count": 28,
      "outputs": []
    },
    {
      "cell_type": "markdown",
      "source": [
        "# **5. Training the CNN**\n",
        "\n",
        "based on https://www.analyticsvidhya.com/blog/2022/07/training-cnn-from-scratch-using-the-custom-dataset/"
      ],
      "metadata": {
        "id": "Obv1JRdCwqCd"
      }
    },
    {
      "cell_type": "markdown",
      "source": [
        "about handwritten letters: https://data-flair.training/blogs/handwritten-character-recognition-neural-network/"
      ],
      "metadata": {
        "id": "pOewm31STKp6"
      }
    },
    {
      "cell_type": "code",
      "source": [
        "# ??????\n",
        "\n",
        "# import tensorflow as tf\n",
        "# import tensorflow_datasets as tfds\n",
        "\n",
        "# # tf.enable_eager_execution()\n",
        "\n",
        "# from keras.layers.core import Dense, Activation, Dropout, Flatten\n",
        "# from keras.layers.convolutional import Convolution2D, MaxPooling2D\n",
        "# from keras.optimizers import SGD, RMSprop, Adam\n",
        "# from keras.utils import np_utils\n",
        "# from keras.models import Sequential\n",
        "\n",
        "# from sklearn.tree import DecisionTreeClassifier # Import Decision Tree Classifier\n",
        "# from sklearn import metrics\n",
        "# from sklearn.utils import shuffle\n",
        "# from sklearn.model_selection import train_test_split\n",
        "\n",
        "# import matplotlib.image as mpimg\n",
        "# import matplotlib.pyplot as plt\n",
        "# import random\n",
        "# # from numpy import *\n",
        "# from PIL import Image\n",
        "# import theano"
      ],
      "metadata": {
        "id": "VOzMnLmEeZZ0"
      },
      "execution_count": null,
      "outputs": []
    },
    {
      "cell_type": "code",
      "source": [
        "# based on: https://medium.com/artificialis/get-started-with-computer-vision-by-building-a-digit-recognition-model-with-tensorflow-b2216823b90a\n",
        "\n",
        "from keras.models import Sequential\n",
        "from keras.layers import Dense, Flatten, Conv2D, MaxPool2D, Dropout\n",
        "from keras.optimizers import SGD, Adam\n",
        "\n",
        "model = Sequential()\n",
        "\n",
        "model.add(Conv2D(16, (3, 3), activation='relu', input_shape=(150, 100, 1)))\n",
        "model.add(Conv2D(16, (3, 3), activation='relu')) # , padding='same'\n",
        "# model.add(MaxPool2D((2, 2), strides=2))\n",
        "model.add(MaxPool2D(pool_size=(2, 2)))\n",
        "# model.add(Dropout(0.25))\n",
        "\n",
        "model.add(Conv2D(16, (3, 3), activation='relu'))\n",
        "model.add(Conv2D(16, (3, 3), activation='relu'))\n",
        "# model.add(MaxPool2D((2, 2), strides=2))\n",
        "model.add(MaxPool2D(pool_size=(2, 2)))\n",
        "# model.add(Dropout(0.25))\n",
        "\n",
        "# model.add(Conv2D(16, (3, 3), activation='relu', padding='valid'))\n",
        "# model.add(MaxPool2D((2, 2), strides=2))\n",
        "# model.add(Dropout(0.25))\n",
        "\n",
        "model.add(Flatten())\n",
        "# model.add(Dense(512, activation='relu'))\n",
        "# model.add(Dropout(0.5))\n",
        "# model.add(Dense(64, activation='relu'))\n",
        "\n",
        "model.add(Dense(7, activation='softmax')) # sigmoid # 1\n",
        "# == num_classes 9 8 ?\n",
        "model.summary()\n"
      ],
      "metadata": {
        "colab": {
          "base_uri": "https://localhost:8080/"
        },
        "id": "mLDoKwt_hR_j",
        "outputId": "9f9396c4-4551-40a3-c8e9-60c607487eb0"
      },
      "execution_count": 34,
      "outputs": [
        {
          "output_type": "stream",
          "name": "stdout",
          "text": [
            "Model: \"sequential_1\"\n",
            "_________________________________________________________________\n",
            " Layer (type)                Output Shape              Param #   \n",
            "=================================================================\n",
            " conv2d_4 (Conv2D)           (None, 148, 98, 16)       160       \n",
            "                                                                 \n",
            " conv2d_5 (Conv2D)           (None, 146, 96, 16)       2320      \n",
            "                                                                 \n",
            " max_pooling2d_2 (MaxPooling  (None, 73, 48, 16)       0         \n",
            " 2D)                                                             \n",
            "                                                                 \n",
            " conv2d_6 (Conv2D)           (None, 71, 46, 16)        2320      \n",
            "                                                                 \n",
            " conv2d_7 (Conv2D)           (None, 69, 44, 16)        2320      \n",
            "                                                                 \n",
            " max_pooling2d_3 (MaxPooling  (None, 34, 22, 16)       0         \n",
            " 2D)                                                             \n",
            "                                                                 \n",
            " flatten_1 (Flatten)         (None, 11968)             0         \n",
            "                                                                 \n",
            " dense_1 (Dense)             (None, 7)                 83783     \n",
            "                                                                 \n",
            "=================================================================\n",
            "Total params: 90,903\n",
            "Trainable params: 90,903\n",
            "Non-trainable params: 0\n",
            "_________________________________________________________________\n"
          ]
        }
      ]
    },
    {
      "cell_type": "code",
      "source": [
        "# '''\n",
        "# OLD VERSION\n",
        "# '''\n",
        "\n",
        "# ###-----Build Your Model------###\n",
        "# # from keras import layers\n",
        "# # from keras import models\n",
        "\n",
        "# # from keras.models import Sequential\n",
        "# # from keras.layers.core import Dense, Activation, Dropout, Flatten\n",
        "# # from keras.layers.convolutional import Convolution2D, MaxPooling2D, AveragePooling2D\n",
        "\n",
        "# from keras.models import Sequential\n",
        "# from keras.layers import Dense, Flatten, Conv2D, MaxPool2D, Dropout\n",
        "# from keras.optimizers import SGD, Adam\n",
        "\n",
        "# model = Sequential()\n",
        "\n",
        "# model.add(Conv2D(32, (3, 3), activation='relu', input_shape=(150, 100, 1)))\n",
        "# # model.add(Conv2D(16, (3, 3), activation='relu', padding='same'))\n",
        "# model.add(MaxPool2D((2, 2), strides=2))\n",
        "# model.add(Dropout(0.25))\n",
        "\n",
        "# # model.add(Conv2D(32, (3, 3), activation='relu', padding='same'))\n",
        "# # model.add(Conv2D(32, (3, 3), activation='relu', padding='same'))\n",
        "# # model.add(MaxPool2D((2, 2), strides=2))\n",
        "# # model.add(Dropout(0.25))\n",
        "\n",
        "# model.add(Conv2D(64, (3, 3), activation='relu', padding='same'))\n",
        "# # model.add(Conv2D(64, (3, 3), activation='relu', padding='same'))\n",
        "# model.add(MaxPool2D((2, 2), strides=2))\n",
        "# model.add(Dropout(0.25))\n",
        "\n",
        "# model.add(Conv2D(128, (3, 3), activation='relu', padding='valid'))\n",
        "# # model.add(Conv2D(128, (3, 3), activation='relu', padding='same'))\n",
        "# model.add(MaxPool2D((2, 2), strides=2))\n",
        "# model.add(Dropout(0.25))\n",
        "\n",
        "# # model.add(Conv2D(256, (3, 3), activation='relu', padding='same'))\n",
        "# # model.add(Conv2D(256, (3, 3), activation='relu', padding='same'))\n",
        "# # model.add(MaxPool2D((2, 2), strides=(2,2)))\n",
        "# # model.add(Dropout(0.25))\n",
        "\n",
        "# model.add(Flatten())\n",
        "# model.add(Dense(512, activation='relu'))\n",
        "# model.add(Dropout(0.5))\n",
        "# model.add(Dense(64, activation='relu'))\n",
        "\n",
        "# model.add(Dense(1, activation='softmax')) # sigmoid # 1\n",
        "# # == num_classes\n",
        "# # 9 ?\n",
        "# model.summary()\n"
      ],
      "metadata": {
        "id": "bwBdOgUxxx9X"
      },
      "execution_count": null,
      "outputs": []
    },
    {
      "cell_type": "code",
      "source": [
        "####----Configuring the model for training-----####\n",
        "from tensorflow import keras\n",
        "from keras import optimizers\n",
        "\n",
        "model.compile(loss='categorical_crossentropy', # binary_crossentropy \n",
        "              # sparse_categorical_crossentropy - 9 classes\n",
        "              # categorical_crossentropy - 8 classes\n",
        "              optimizer=keras.optimizers.Adam(), \n",
        "              # optimizer=keras.optimizers.RMSprop(learning_rate=1e-4), \n",
        "              metrics=['accuracy'])\n"
      ],
      "metadata": {
        "id": "JizRDsi7xyAP"
      },
      "execution_count": 35,
      "outputs": []
    },
    {
      "cell_type": "code",
      "source": [
        "train_dir = os.path.join(base_dir, 'train')\n",
        "validation_dir = os.path.join(base_dir, 'validation')"
      ],
      "metadata": {
        "id": "Eee371TNzy2Q"
      },
      "execution_count": 36,
      "outputs": []
    },
    {
      "cell_type": "code",
      "source": [
        "#####-----Data Preprocessing-----######\n",
        "\n",
        "from keras.preprocessing.image import ImageDataGenerator\n",
        "\n",
        "train_datagen = ImageDataGenerator(rescale=1./255)\n",
        "test_datagen = ImageDataGenerator(rescale=1./255)\n",
        "\n",
        "# about .flow_from_directory: https://vijayabhaskar96.medium.com/tutorial-image-classification-with-keras-flow-from-directory-and-generators-95f75ebe5720\n",
        "train_generator = train_datagen.flow_from_directory(train_dir, target_size=(150, 100), batch_size=5, class_mode='categorical', color_mode = 'grayscale') # was: 'binary'\n",
        "validation_generator = test_datagen.flow_from_directory(validation_dir, target_size=(150, 100), batch_size=5, class_mode='categorical', color_mode = 'grayscale') # was: batch_size=20\n",
        "\n",
        "for data_batch, labels_batch in train_generator:\n",
        "    print('data batch shape:', data_batch.shape)\n",
        "    print('labels batch shape:', labels_batch.shape)\n",
        "    break"
      ],
      "metadata": {
        "colab": {
          "base_uri": "https://localhost:8080/"
        },
        "id": "Ii4oX3l8wwiE",
        "outputId": "993d1cb9-62d0-4e74-dc70-c549d16ae47c"
      },
      "execution_count": 37,
      "outputs": [
        {
          "output_type": "stream",
          "name": "stdout",
          "text": [
            "Found 484 images belonging to 7 classes.\n",
            "Found 117 images belonging to 7 classes.\n",
            "data batch shape: (5, 150, 100, 1)\n",
            "labels batch shape: (5, 7)\n"
          ]
        }
      ]
    },
    {
      "cell_type": "code",
      "source": [
        "####----Fit the Model----####\n",
        "history = model.fit(train_generator, epochs=4, validation_data=validation_generator)\n",
        "# 10 4 \n",
        "# steps_per_epoch=5, \n",
        "# , validation_steps=50\n",
        "# about parameters: https://datascience.stackexchange.com/questions/29719/how-to-set-batch-size-steps-per-epoch-and-validation-steps\n",
        "\n",
        "######-----Save the Model-------######\n",
        "model.save('geo_letters_top8.h5')"
      ],
      "metadata": {
        "colab": {
          "base_uri": "https://localhost:8080/"
        },
        "id": "ym9Dfbnuwwkp",
        "outputId": "77b2f43b-cc94-459e-e113-aed2f8c843f5"
      },
      "execution_count": 38,
      "outputs": [
        {
          "output_type": "stream",
          "name": "stdout",
          "text": [
            "Epoch 1/4\n",
            "97/97 [==============================] - 15s 147ms/step - loss: 1.0234 - accuracy: 0.6405 - val_loss: 0.5658 - val_accuracy: 0.8803\n",
            "Epoch 2/4\n",
            "97/97 [==============================] - 15s 150ms/step - loss: 0.2154 - accuracy: 0.9360 - val_loss: 0.5089 - val_accuracy: 0.8632\n",
            "Epoch 3/4\n",
            "97/97 [==============================] - 14s 149ms/step - loss: 0.0528 - accuracy: 0.9773 - val_loss: 0.6812 - val_accuracy: 0.8632\n",
            "Epoch 4/4\n",
            "97/97 [==============================] - 16s 160ms/step - loss: 0.0400 - accuracy: 0.9876 - val_loss: 0.5561 - val_accuracy: 0.8803\n"
          ]
        }
      ]
    },
    {
      "cell_type": "code",
      "source": [],
      "metadata": {
        "id": "64PMXG1P4vLq"
      },
      "execution_count": null,
      "outputs": []
    },
    {
      "cell_type": "code",
      "source": [
        "######-----Displaying curves of loss and accuracy during training-------######\n",
        "import matplotlib.pyplot as plt\n",
        "\n",
        "acc = history.history['accuracy']\n",
        "val_acc = history.history['val_accuracy']\n",
        "loss = history.history['loss']\n",
        "val_loss = history.history['val_loss']\n",
        "epochs = range(1, len(acc) + 1)\n",
        "\n",
        "plt.plot(epochs, acc, 'r', label='Training acc')\n",
        "plt.plot(epochs, val_acc, 'b', label='Validation acc')\n",
        "plt.title('Training and validation accuracy')\n",
        "plt.legend()\n",
        "plt.figure()\n",
        "plt.plot(epochs, loss, 'r', label='Training loss')\n",
        "plt.plot(epochs, val_loss, 'b', label='Validation loss')\n",
        "plt.title('Training and validation loss')\n",
        "plt.legend()\n",
        "plt.show()"
      ],
      "metadata": {
        "colab": {
          "base_uri": "https://localhost:8080/",
          "height": 887
        },
        "id": "xAERDIJawwr-",
        "outputId": "770d3b3a-2f91-470c-90c6-4ec60939b1f1"
      },
      "execution_count": 39,
      "outputs": [
        {
          "output_type": "display_data",
          "data": {
            "text/plain": [
              "<Figure size 640x480 with 1 Axes>"
            ],
            "image/png": "[encoded data removed]"
          },
          "metadata": {}
        },
        {
          "output_type": "display_data",
          "data": {
            "text/plain": [
              "<Figure size 640x480 with 1 Axes>"
            ],
            "image/png": "[encoded data removed]"
          },
          "metadata": {}
        }
      ]
    },
    {
      "cell_type": "code",
      "source": [
        "history.history"
      ],
      "metadata": {
        "colab": {
          "base_uri": "https://localhost:8080/"
        },
        "id": "2Y8O4v39fkqb",
        "outputId": "0f1008b0-ccb0-4f19-b173-afcc94378edb"
      },
      "execution_count": 40,
      "outputs": [
        {
          "output_type": "execute_result",
          "data": {
            "text/plain": [
              "{'loss': [1.0234428644180298,\n",
              "  0.21541830897331238,\n",
              "  0.05275823175907135,\n",
              "  0.03995124250650406],\n",
              " 'accuracy': [0.6404958963394165,\n",
              "  0.9359503984451294,\n",
              "  0.9772727489471436,\n",
              "  0.9876033067703247],\n",
              " 'val_loss': [0.5658140778541565,\n",
              "  0.5089169144630432,\n",
              "  0.6812267303466797,\n",
              "  0.5560690760612488],\n",
              " 'val_accuracy': [0.8803418874740601,\n",
              "  0.8632478713989258,\n",
              "  0.8632478713989258,\n",
              "  0.8803418874740601]}"
            ]
          },
          "metadata": {},
          "execution_count": 40
        }
      ]
    },
    {
      "cell_type": "markdown",
      "source": [
        "comment\n",
        "<!-- BECAUSE val_loss and val_accuracy were only after first Epoch\n",
        "**BUT WHY?**\n",
        "\n",
        "Epoch 1/4\n",
        "10/10 [==============================] - ETA: 0s - loss: 2.0863 - accuracy: 0.2642WARNING:tensorflow:Your input ran out of data; interrupting training. Make sure that your dataset or generator can generate at least `steps_per_epoch * epochs` batches (in this case, 50 batches). You may need to use the repeat() function when building your dataset.\n",
        "10/10 [==============================] - 5s 385ms/step - loss: 2.0863 - accuracy: 0.2642 - val_loss: 1.9104 - val_accuracy: 0.3700\n",
        "\n",
        "Epoch 2/4\n",
        "\n",
        "10/10 [==============================] - 3s 342ms/step - loss: 1.5920 - accuracy: 0.5050\n",
        "\n",
        "Epoch 3/4\n",
        "\n",
        "10/10 [==============================] - 3s 290ms/step - loss: 0.6316 - accuracy: 0.7824\n",
        "\n",
        "Epoch 4/4\n",
        "\n",
        "10/10 [==============================] - 3s 305ms/step - loss: 0.5871 - accuracy: 0.8200 -->\n"
      ],
      "metadata": {
        "id": "c03IxEy9hlyl"
      }
    },
    {
      "cell_type": "code",
      "source": [],
      "metadata": {
        "id": "gj4lyQDGfktM"
      },
      "execution_count": null,
      "outputs": []
    },
    {
      "cell_type": "markdown",
      "source": [
        "# **Conclusion**"
      ],
      "metadata": {
        "id": "tmqBP8pYxh1K"
      }
    },
    {
      "cell_type": "markdown",
      "source": [
        "The next conditions make better results (**accuracy = 87%**) than previous:\n",
        "\n",
        "- Only Top-8 letters, without other\n",
        "- 9 in the last layer (Dense)\n",
        "- Small numbers of filters (16)\n",
        "- 'sparse_categorical_crossentropy' and Adam\n",
        "- validation_steps = 40 (**WHY?**)"
      ],
      "metadata": {
        "id": "utZXRmCTkAes"
      }
    },
    {
      "cell_type": "markdown",
      "source": [
        "# **6. Predicting for an external image**"
      ],
      "metadata": {
        "id": "IjVTr9Ig6eef"
      }
    },
    {
      "cell_type": "markdown",
      "source": [
        "REPLACE THE NEW IMAGE"
      ],
      "metadata": {
        "id": "1rv75lnuDtbs"
      }
    },
    {
      "cell_type": "code",
      "source": [
        "predict_img = cv2.imread(\"/content/georgian-letters-photo-database/georgian_letters_image_database/for_prediction/IMG_20230219_144541.jpg\")\n",
        "\n",
        "# predict_labels_df = pd.read_csv(\"/content/georgian-letters-photo-database/georgian_letters_image_database/for_prediction/IMG_20230219_144541.csv\")\n",
        "# predict_labels_df"
      ],
      "metadata": {
        "id": "GiGAvdBz-Nhx"
      },
      "execution_count": null,
      "outputs": []
    },
    {
      "cell_type": "code",
      "source": [
        "!mkdir cropped_images_for_prediction"
      ],
      "metadata": {
        "id": "SSftwZD5-0-r"
      },
      "execution_count": null,
      "outputs": []
    },
    {
      "cell_type": "code",
      "source": [
        "source_folder = 'georgian-letters-photo-database/georgian_letters_image_database/for_prediction/'\n",
        "target_name = 'label_coordinates_pred'\n",
        "\n",
        "to_extract_coordinates(source_folder, target_name)\n",
        "df_pred = pd.read_csv(target_name + '.csv')\n"
      ],
      "metadata": {
        "id": "IJYb4noe-1BT"
      },
      "execution_count": null,
      "outputs": []
    },
    {
      "cell_type": "code",
      "source": [
        "# the folder where images locate\n",
        "source_folder_pred = 'georgian-letters-photo-database/georgian_letters_image_database/for_prediction/'\n",
        "\n",
        "# the folder where cropped images will be saved\n",
        "target_folder_pred = 'cropped_images_for_prediction/'\n",
        "\n",
        "to_crop_letters(df_pred, source_folder_pred, target_folder_pred)"
      ],
      "metadata": {
        "colab": {
          "base_uri": "https://localhost:8080/"
        },
        "id": "-u0FSsEV-1D1",
        "outputId": "27be59e9-0695-4d14-b028-57db107ede2a"
      },
      "execution_count": null,
      "outputs": [
        {
          "output_type": "execute_result",
          "data": {
            "text/plain": [
              "1"
            ]
          },
          "metadata": {},
          "execution_count": 41
        }
      ]
    },
    {
      "cell_type": "code",
      "source": [],
      "metadata": {
        "id": "Qd180CuE-1GO"
      },
      "execution_count": null,
      "outputs": []
    },
    {
      "cell_type": "code",
      "source": [
        "# dictionary of Georgian alphabet\n",
        "\n",
        "df = pd.read_csv('label_coordinates.csv')\n",
        "letter_names = list(set(list(df['letter_name'])))\n",
        "\n",
        "geo_dict = {}\n",
        "for letter_name in letter_names:\n",
        "    geo_dict[int(letter_name[:-1])] = letter_name[-1]\n",
        "\n",
        "# print(geo_dict)"
      ],
      "metadata": {
        "id": "hlGZGt1oiyFv"
      },
      "execution_count": null,
      "outputs": []
    },
    {
      "cell_type": "code",
      "source": [],
      "metadata": {
        "id": "qZLm2JCniyIb"
      },
      "execution_count": null,
      "outputs": []
    },
    {
      "cell_type": "markdown",
      "source": [
        "based on: https://data-flair.training/blogs/handwritten-character-recognition-neural-network/"
      ],
      "metadata": {
        "id": "OS2G0zkuhe_T"
      }
    },
    {
      "cell_type": "code",
      "source": [
        "# example for 'ა'\n",
        "\n",
        "# img_url = '/content/cropped_images_for_prediction/IMG_20230219_144541_ა_1.jpg'\n",
        "# ok\n",
        "# img_url = '/content/cropped_images_for_prediction/IMG_20230219_144541_ი_1.jpg'\n",
        "# not ok\n",
        "# img_url = '/content/cropped_images_for_prediction/IMG_20230219_144541_ი_2.jpg'\n",
        "# not ok\n",
        "# img_url = '/content/cropped_images_for_prediction/IMG_20230219_144541_კ_1.jpg'\n",
        "# not ok\n",
        "# img_url = '/content/cropped_images_for_prediction/IMG_20230219_144541_ლ_1.jpg'\n",
        "# not ok\n",
        "# img_url = '/content/cropped_images_for_prediction/IMG_20230219_144541_ნ_1.jpg'\n",
        "# not ok\n",
        "# img_url = '/content/cropped_images_for_prediction/IMG_20230219_144541_ხ_1.jpg'\n",
        "# not ok\n",
        "\n",
        "# pred_img = cv2.imread(img_url)\n",
        "# img_final = np.reshape(pred_img, (3,150,100,1))\n",
        "\n",
        "# print(\"The letter on the image is {0}\".format(geo_dict[np.argmax(model.predict(img_final))]))\n"
      ],
      "metadata": {
        "colab": {
          "base_uri": "https://localhost:8080/"
        },
        "id": "QLWh3PjQhOyd",
        "outputId": "77f14099-c0d2-4de7-f993-8434d0edd8e2"
      },
      "execution_count": null,
      "outputs": [
        {
          "output_type": "stream",
          "name": "stdout",
          "text": [
            "1/1 [==============================] - 0s 97ms/step\n",
            "The letter on the image is ა\n"
          ]
        }
      ]
    },
    {
      "cell_type": "code",
      "source": [
        "head_letter_dict.keys()"
      ],
      "metadata": {
        "colab": {
          "base_uri": "https://localhost:8080/"
        },
        "id": "rXAc0WKIwOZR",
        "outputId": "dafe984c-9d94-4e58-efaa-f7d56739199b"
      },
      "execution_count": null,
      "outputs": [
        {
          "output_type": "execute_result",
          "data": {
            "text/plain": [
              "dict_keys(['ი', 'ა', 'რ', 'ე', 'ს', 'ლ', 'ნ', 'ო'])"
            ]
          },
          "metadata": {},
          "execution_count": 43
        }
      ]
    },
    {
      "cell_type": "code",
      "source": [
        "import re\n",
        "\n",
        "pred_folder = \"cropped_images_for_prediction/\"\n",
        "\n",
        "pred_dir_list = os.listdir(pred_folder)\n",
        "# ა_list = [d for d in dir_list if \"ა\" in d]\n",
        "pred_letter_list = [re.findall(\"\\_(.)\\_\", d)[0] for d in pred_dir_list if re.findall(\"\\_(.)\\_\", d)]\n",
        "\n",
        "# if letter in head_letter_dict.keys()\n",
        "\n",
        "for img_url in pred_dir_list:\n",
        "    letter = re.findall(\"\\_(.)\\_\", img_url)[0]\n",
        "    if letter in head_letter_dict.keys():\n",
        "        print()\n",
        "        print()\n",
        "        pred_img = cv2.imread(pred_folder+img_url)\n",
        "        img_final = np.reshape(pred_img, (3,150,100,1))\n",
        "        # recognized_letter = geo_dict[np.argmax(model.predict(img_final))] # NO RELATED TO geo_dict !!!\n",
        "        print(img_url, letter, np.argmax(model.predict(img_final)))\n",
        "        print(model.predict(img_final))\n",
        "        # if recognized_letter == letter:\n",
        "        #     print(\"RECOGNIZED CORRECTLY:\", letter)\n",
        "        # else:\n",
        "        #     print(\"RECOGNIZED INCORRECTLY: real - {}, recognized - {}\".format(letter, recognized_letter))\n"
      ],
      "metadata": {
        "colab": {
          "base_uri": "https://localhost:8080/"
        },
        "id": "BDpnetWWqQWz",
        "outputId": "78ad8afa-b49e-4f78-b14b-c34988a642eb"
      },
      "execution_count": null,
      "outputs": [
        {
          "output_type": "stream",
          "name": "stdout",
          "text": [
            "\n",
            "\n",
            "1/1 [==============================] - 0s 147ms/step\n",
            "IMG_20230219_144541_ლ_1.jpg ლ 0\n",
            "1/1 [==============================] - 0s 38ms/step\n",
            "[[1. 0. 0. 0. 0. 0. 0. 0.]\n",
            " [0. 0. 0. 1. 0. 0. 0. 0.]\n",
            " [1. 0. 0. 0. 0. 0. 0. 0.]]\n",
            "\n",
            "\n",
            "1/1 [==============================] - 0s 38ms/step\n",
            "IMG_20230219_144541_ა_1.jpg ა 7\n",
            "1/1 [==============================] - 0s 38ms/step\n",
            "[[0. 0. 0. 0. 0. 0. 0. 1.]\n",
            " [0. 0. 0. 0. 0. 0. 0. 1.]\n",
            " [0. 0. 0. 0. 0. 0. 1. 0.]]\n",
            "\n",
            "\n",
            "1/1 [==============================] - 0s 42ms/step\n",
            "IMG_20230219_144541_ნ_1.jpg ნ 5\n",
            "1/1 [==============================] - 0s 45ms/step\n",
            "[[0. 0. 0. 0. 0. 1. 0. 0.]\n",
            " [1. 0. 0. 0. 0. 0. 0. 0.]\n",
            " [1. 0. 0. 0. 0. 0. 0. 0.]]\n",
            "\n",
            "\n",
            "1/1 [==============================] - 0s 48ms/step\n",
            "IMG_20230219_144541_ი_2.jpg ი 0\n",
            "1/1 [==============================] - 0s 44ms/step\n",
            "[[1. 0. 0. 0. 0. 0. 0. 0.]\n",
            " [1. 0. 0. 0. 0. 0. 0. 0.]\n",
            " [1. 0. 0. 0. 0. 0. 0. 0.]]\n",
            "\n",
            "\n",
            "1/1 [==============================] - 0s 39ms/step\n",
            "IMG_20230219_144541_ი_1.jpg ი 8\n",
            "1/1 [==============================] - 0s 46ms/step\n",
            "[[0.00185826 0.         0.         0.99814177 0.         0.\n",
            "  0.         0.        ]\n",
            " [1.         0.         0.         0.         0.         0.\n",
            "  0.         0.        ]\n",
            " [0.         0.         0.         0.         0.         0.\n",
            "  0.         1.        ]]\n"
          ]
        }
      ]
    },
    {
      "cell_type": "code",
      "source": [
        "from google.colab.patches import cv2_imshow\n",
        "\n",
        "img_final = np.reshape(pred_img, (3,150,100,1))\n",
        "\n",
        "img_pred = geo_dict[np.argmax(model.predict(img_final))]\n",
        "\n",
        "# # cv2.putText(img, \"Dataflair _ _ _ \", (20,25), cv2.FONT_HERSHEY_TRIPLEX, 0.7, color = (0,0,230))\n",
        "cv2.putText(pred_img, \"Prediction: \" + img_pred, (20,410), cv2.FONT_HERSHEY_DUPLEX, 1.3, color = (255,0,30))\n",
        "cv2_imshow(pred_img)\n"
      ],
      "metadata": {
        "colab": {
          "base_uri": "https://localhost:8080/",
          "height": 185
        },
        "id": "kwwcAhxehO1O",
        "outputId": "a6e1c470-8766-4699-98b3-c9dedc47cec8"
      },
      "execution_count": null,
      "outputs": [
        {
          "output_type": "stream",
          "name": "stdout",
          "text": [
            "1/1 [==============================] - 0s 38ms/step\n"
          ]
        },
        {
          "output_type": "display_data",
          "data": {
            "text/plain": [
              "<PIL.Image.Image image mode=RGB size=100x150 at 0x7F7AFC5E57C0>"
            ],
            "image/png": "[encoded data removed]"
          },
          "metadata": {}
        }
      ]
    },
    {
      "cell_type": "code",
      "source": [],
      "metadata": {
        "id": "hSg_WUhp-1IR"
      },
      "execution_count": null,
      "outputs": []
    },
    {
      "cell_type": "markdown",
      "source": [
        "# **What to do next:**"
      ],
      "metadata": {
        "id": "fKxhzaeDxl5G"
      }
    },
    {
      "cell_type": "markdown",
      "source": [
        "\n",
        "  - **TO CHECK ALL THE LABELS ON ALL THE PHOTOS -- THERE ARE MISTAKES**\n",
        "  <!-- - to view the cropped dataset and remove noisy images (totally black and so on) or maybe to change threshold for black/white masking -->\n",
        "  - to top up the dataset\n",
        "  - TO TRY **scipy.ndimage as ndi** and **smoothing** or sharping (DataCamp, biomedical, chapter 2, lesson 3)\n",
        "  - to fix validation curves on graphics\n",
        "  - **TO VISUALIZE A PREDICTION**"
      ],
      "metadata": {
        "id": "1CVGqX5TwlcK"
      }
    },
    {
      "cell_type": "code",
      "source": [],
      "metadata": {
        "id": "HqaW4O7dkkML"
      },
      "execution_count": null,
      "outputs": []
    },
    {
      "cell_type": "code",
      "source": [],
      "metadata": {
        "id": "WETnC5TbjLSo"
      },
      "execution_count": null,
      "outputs": []
    },
    {
      "cell_type": "markdown",
      "source": [
        "Downloading the cropped images:"
      ],
      "metadata": {
        "id": "oOwi3tzUyQpB"
      }
    },
    {
      "cell_type": "code",
      "source": [
        "# Downloading the cropped images:\n",
        "\n",
        "# !zip -r /content/cropped_images.zip /content/cropped_images\n",
        "\n",
        "# from google.colab import files\n",
        "# files.download(\"/content/cropped_images.zip\")"
      ],
      "metadata": {
        "id": "0RnkwTFXjLVp"
      },
      "execution_count": null,
      "outputs": []
    },
    {
      "cell_type": "code",
      "source": [
        "# !zip -r /content/grouped_images.zip /content/grouped_images\n",
        "\n",
        "# from google.colab import files\n",
        "# files.download(\"/content/grouped_images.zip\")"
      ],
      "metadata": {
        "id": "pno_IfxokkOh"
      },
      "execution_count": null,
      "outputs": []
    },
    {
      "cell_type": "code",
      "source": [],
      "metadata": {
        "id": "dEn4Xsr_ybO2"
      },
      "execution_count": null,
      "outputs": []
    },
    {
      "cell_type": "code",
      "source": [],
      "metadata": {
        "id": "CEuEi_mLybRc"
      },
      "execution_count": null,
      "outputs": []
    },
    {
      "cell_type": "markdown",
      "source": [
        "# **===== DRAFTS =====**"
      ],
      "metadata": {
        "id": "DlZSXLP3ukHA"
      }
    },
    {
      "cell_type": "code",
      "source": [
        "from google.colab.patches import cv2_imshow\n"
      ],
      "metadata": {
        "id": "1t5w_Wmsu8bw"
      },
      "execution_count": null,
      "outputs": []
    },
    {
      "cell_type": "code",
      "source": [
        "img_test = cv2.imread(\"/content/cropped_images/IMG_20230212_163114_ე_1.jpg\")\n",
        "\n",
        "cv2_imshow(img_test)\n"
      ],
      "metadata": {
        "colab": {
          "base_uri": "https://localhost:8080/",
          "height": 317
        },
        "id": "d0GzP-O3kkQ5",
        "outputId": "8070a790-8295-44cc-a2d5-5e820d996e38"
      },
      "execution_count": null,
      "outputs": [
        {
          "output_type": "display_data",
          "data": {
            "text/plain": [
              "<PIL.Image.Image image mode=RGB size=200x300 at 0x7F267C697B50>"
            ],
            "image/png": "[encoded data removed]"
          },
          "metadata": {}
        }
      ]
    },
    {
      "cell_type": "code",
      "source": [
        "cv2_imshow(invert_image(img_test))\n"
      ],
      "metadata": {
        "colab": {
          "base_uri": "https://localhost:8080/",
          "height": 317
        },
        "id": "eiTwFUytqNzC",
        "outputId": "c6bc3560-261c-4b1f-c11e-7323ebd0df21"
      },
      "execution_count": null,
      "outputs": [
        {
          "output_type": "display_data",
          "data": {
            "text/plain": [
              "<PIL.Image.Image image mode=RGB size=200x300 at 0x7F266C2838E0>"
            ],
            "image/png": "[encoded data removed]"
          },
          "metadata": {}
        }
      ]
    },
    {
      "cell_type": "code",
      "source": [],
      "metadata": {
        "id": "pRgw_FE_qN1m"
      },
      "execution_count": null,
      "outputs": []
    },
    {
      "cell_type": "code",
      "source": [
        "x = []\n",
        "img = Image.open('grouped_images/train/ა/IMG_20220404_150259_ა_1.jpg')\n",
        "img.load()\n",
        "data = np.asarray(img, dtype=\"int32\")\n",
        "x.append(data)\n",
        "x = np.array(x)\n",
        "print(x.shape)"
      ],
      "metadata": {
        "colab": {
          "base_uri": "https://localhost:8080/"
        },
        "id": "vAfGMKkTnCy3",
        "outputId": "e11147eb-f040-4db3-deb5-088a6f33ed26"
      },
      "execution_count": null,
      "outputs": [
        {
          "output_type": "stream",
          "name": "stdout",
          "text": [
            "(1, 150, 100)\n"
          ]
        }
      ]
    },
    {
      "cell_type": "code",
      "source": [],
      "metadata": {
        "id": "bZQ1v9VCTyZ8"
      },
      "execution_count": null,
      "outputs": []
    },
    {
      "cell_type": "code",
      "source": [],
      "metadata": {
        "id": "YWxRwNLmTyct"
      },
      "execution_count": null,
      "outputs": []
    },
    {
      "cell_type": "code",
      "source": [],
      "metadata": {
        "id": "7JgVdtT7Tyfl"
      },
      "execution_count": null,
      "outputs": []
    },
    {
      "cell_type": "code",
      "source": [
        "# threshold\n",
        "thresh = cv2.threshold(img_test, 180, 255, cv2.THRESH_BINARY)[1]\n",
        "\n",
        "# count number of white pixels\n",
        "mean = np.mean(img_test)\n",
        "print(\"mean =\", mean)\n",
        "\n",
        "mean_masked = np.mean(img_test[np.where(thresh == 255)])\n",
        "print(\"masked mean =\", mean_masked)\n"
      ],
      "metadata": {
        "colab": {
          "base_uri": "https://localhost:8080/"
        },
        "id": "MZuc0YOOl0yd",
        "outputId": "30a19f3e-2864-4b0d-ce2c-9a6f45541f5d"
      },
      "execution_count": null,
      "outputs": [
        {
          "output_type": "stream",
          "name": "stdout",
          "text": [
            "mean = 136.24663333333334\n",
            "masked mean = 215.07470801449858\n"
          ]
        }
      ]
    },
    {
      "cell_type": "code",
      "source": [
        "# write thresh to disk\n",
        "cv2.imwrite(\"gray_with_spots_thresh.png\", thresh)\n",
        "\n",
        "# display it\n",
        "cv2_imshow(thresh)\n",
        "cv2.waitKey(0)"
      ],
      "metadata": {
        "colab": {
          "base_uri": "https://localhost:8080/",
          "height": 335
        },
        "id": "3o2WpDdEl000",
        "outputId": "db92e099-5c80-438e-e6a1-64986a3cbcbe"
      },
      "execution_count": null,
      "outputs": [
        {
          "output_type": "display_data",
          "data": {
            "text/plain": [
              "<PIL.Image.Image image mode=RGB size=200x300 at 0x7F267C5F9D00>"
            ],
            "image/png": "[encoded data removed]"
          },
          "metadata": {}
        },
        {
          "output_type": "execute_result",
          "data": {
            "text/plain": [
              "-1"
            ]
          },
          "metadata": {},
          "execution_count": 56
        }
      ]
    },
    {
      "cell_type": "code",
      "source": [],
      "metadata": {
        "id": "WpaFN_QlkkVV"
      },
      "execution_count": null,
      "outputs": []
    },
    {
      "cell_type": "code",
      "source": [],
      "metadata": {
        "id": "FNpK3qTTkkX6"
      },
      "execution_count": null,
      "outputs": []
    },
    {
      "cell_type": "code",
      "source": [],
      "metadata": {
        "id": "tmPdQLNbK_kq"
      },
      "execution_count": null,
      "outputs": []
    },
    {
      "cell_type": "code",
      "source": [],
      "metadata": {
        "id": "uBSgKcaPK_nC"
      },
      "execution_count": null,
      "outputs": []
    },
    {
      "cell_type": "code",
      "source": [
        "# #creating two dir for training and testing\n",
        "# !mkdir test_labels train_labels\n",
        "\n",
        "# # lists the files inside 'annotations' in a random order (not really random, by their hash value instead)\n",
        "# # Moves the first 274/1370 labels (20% of the labels) to the testing dir: `test_labels`\n",
        "# !ls annotations/* | sort -R | head -274 | xargs -I{} mv {} test_labels/\n",
        "\n",
        "# # Moves the rest of the labels ( 1096 labels ) to the training dir: `train_labels`\n",
        "# !ls annotations/* | xargs -I{} mv {} train_labels/"
      ],
      "metadata": {
        "id": "6SMfjBANv-XZ"
      },
      "execution_count": null,
      "outputs": []
    },
    {
      "cell_type": "code",
      "source": [
        "#creating two dir for training and testing\n",
        "!mkdir test_labels train_labels"
      ],
      "metadata": {
        "id": "yzNsH5fzv-Ze"
      },
      "execution_count": null,
      "outputs": []
    },
    {
      "cell_type": "code",
      "source": [
        "#creating two dir for training and testing\n",
        "!mkdir test train"
      ],
      "metadata": {
        "id": "iwCz_3jv_CGq"
      },
      "execution_count": null,
      "outputs": []
    },
    {
      "cell_type": "code",
      "source": [
        "# 86 * 0.2"
      ],
      "metadata": {
        "colab": {
          "base_uri": "https://localhost:8080/"
        },
        "id": "YFaH4GwC7X8M",
        "outputId": "157973a2-cd8a-4a3c-bee2-6a716fa5fdb0"
      },
      "execution_count": null,
      "outputs": [
        {
          "output_type": "execute_result",
          "data": {
            "text/plain": [
              "17.2"
            ]
          },
          "metadata": {},
          "execution_count": 7
        }
      ]
    },
    {
      "cell_type": "code",
      "source": [
        "# Moves the first 51/86 labels (20% of the labels) to the testing dir: `test_labels`\n",
        "!ls georgian-letters-photo-database/* | head -51 | xargs -I{} mv {} test/\n",
        "\n",
        "# to cancel:\n",
        "# !ls test/* | xargs -I{} mv {} georgian-letters-photo-database/"
      ],
      "metadata": {
        "id": "MpBOQJ08v-b0"
      },
      "execution_count": null,
      "outputs": []
    },
    {
      "cell_type": "code",
      "source": [
        "!ls georgian-letters-photo-database/* | xargs -I{} mv {} train/"
      ],
      "metadata": {
        "id": "scSR7lhx_KRX"
      },
      "execution_count": null,
      "outputs": []
    },
    {
      "cell_type": "code",
      "source": [],
      "metadata": {
        "id": "tECCjx5j_PvM"
      },
      "execution_count": null,
      "outputs": []
    }
  ]
}