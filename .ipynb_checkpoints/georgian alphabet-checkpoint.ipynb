{
 "cells": [
  {
   "cell_type": "code",
   "execution_count": null,
   "id": "685cb097",
   "metadata": {},
   "outputs": [],
   "source": []
  },
  {
   "cell_type": "code",
   "execution_count": 1,
   "id": "f1c13a92",
   "metadata": {},
   "outputs": [],
   "source": [
    "import requests\n",
    "from bs4 import Tag, NavigableString, BeautifulSoup\n",
    "import re\n",
    "from datetime import datetime, date, time, timedelta\n",
    "\n",
    "import pandas as pd\n"
   ]
  },
  {
   "cell_type": "code",
   "execution_count": null,
   "id": "792e9959",
   "metadata": {},
   "outputs": [],
   "source": []
  },
  {
   "cell_type": "code",
   "execution_count": null,
   "id": "18e0a1d6",
   "metadata": {},
   "outputs": [],
   "source": []
  },
  {
   "cell_type": "code",
   "execution_count": null,
   "id": "ed45d8dc",
   "metadata": {},
   "outputs": [],
   "source": []
  },
  {
   "cell_type": "markdown",
   "id": "068ab0de",
   "metadata": {},
   "source": [
    "# 1. To extract info about studied alphabet"
   ]
  },
  {
   "cell_type": "code",
   "execution_count": 2,
   "id": "ae570a54",
   "metadata": {},
   "outputs": [],
   "source": [
    "russian_string = \"АаБбВвГгДдЕеЁёЖжЗзИиЙйКкЛлМмНнОоПпСсТтУуФфХхЦцЧчШшЩщЪъЫыЬьЭэЮюЯя\""
   ]
  },
  {
   "cell_type": "code",
   "execution_count": null,
   "id": "7ab993ed",
   "metadata": {},
   "outputs": [],
   "source": []
  },
  {
   "cell_type": "code",
   "execution_count": null,
   "id": "41491090",
   "metadata": {},
   "outputs": [],
   "source": []
  },
  {
   "cell_type": "code",
   "execution_count": null,
   "id": "591d82a2",
   "metadata": {},
   "outputs": [],
   "source": [
    "# georgian alphabet with english pronunciation\n",
    "# https://app2brain.com/learn-languages/georgian/alphabet-pronunciation/"
   ]
  },
  {
   "cell_type": "code",
   "execution_count": null,
   "id": "949d3b7b",
   "metadata": {},
   "outputs": [],
   "source": []
  },
  {
   "cell_type": "code",
   "execution_count": null,
   "id": "62549e86",
   "metadata": {},
   "outputs": [],
   "source": [
    "# georgian alphabet with russian pronunciation\n",
    "\n",
    "# https://georgiabest.ru/gruzinskiy-yazyk/\n",
    "# https://gruzinskij.ru/%D0%B1%D0%B5%D0%B7-%D1%80%D1%83%D0%B1%D1%80%D0%B8%D0%BA%D0%B8/probaalfevita.html\n",
    "# https://gruzinskij.ru/%D0%B1%D0%B5%D0%B7-%D1%80%D1%83%D0%B1%D1%80%D0%B8%D0%BA%D0%B8/probaalfevita.html"
   ]
  },
  {
   "cell_type": "code",
   "execution_count": null,
   "id": "a45f7bac",
   "metadata": {},
   "outputs": [],
   "source": []
  },
  {
   "cell_type": "code",
   "execution_count": null,
   "id": "f4c3e7ac",
   "metadata": {},
   "outputs": [],
   "source": []
  },
  {
   "cell_type": "code",
   "execution_count": null,
   "id": "ae9ff785",
   "metadata": {},
   "outputs": [],
   "source": []
  },
  {
   "cell_type": "markdown",
   "id": "dcb4c448",
   "metadata": {},
   "source": [
    "# 2. To define sets of languages"
   ]
  },
  {
   "cell_type": "code",
   "execution_count": 3,
   "id": "bbc93cf7",
   "metadata": {},
   "outputs": [],
   "source": [
    "original_languages_set = ['rus', 'eng']\n",
    "studied_languages_set = ['geo']"
   ]
  },
  {
   "cell_type": "code",
   "execution_count": null,
   "id": "7abad4bd",
   "metadata": {},
   "outputs": [],
   "source": []
  },
  {
   "cell_type": "code",
   "execution_count": 5,
   "id": "f1c7c384",
   "metadata": {},
   "outputs": [
    {
     "data": {
      "text/plain": [
       "{'geo': {'rus': {'ა': 'a', 'ბ': 'б'}}}"
      ]
     },
     "execution_count": 5,
     "metadata": {},
     "output_type": "execute_result"
    }
   ],
   "source": [
    "geo_alphabet = {}\n",
    "geo_alphabet['ა'] = 'a'\n",
    "geo_alphabet['ბ'] = 'б'\n",
    "\n",
    "alphabets_dict = {}\n",
    "alphabets_dict['geo'] = {}\n",
    "alphabets_dict['geo']['rus'] = geo_alphabet\n",
    "\n",
    "alphabets_dict"
   ]
  },
  {
   "cell_type": "code",
   "execution_count": 7,
   "id": "c2cce0f5",
   "metadata": {},
   "outputs": [
    {
     "data": {
      "text/plain": [
       "{'ა': 'a', 'ბ': 'б'}"
      ]
     },
     "execution_count": 7,
     "metadata": {},
     "output_type": "execute_result"
    }
   ],
   "source": [
    "# example of languages pair\n",
    "\n",
    "alphabets_dict['geo']['rus']"
   ]
  },
  {
   "cell_type": "code",
   "execution_count": null,
   "id": "a00f3725",
   "metadata": {},
   "outputs": [],
   "source": []
  },
  {
   "cell_type": "code",
   "execution_count": null,
   "id": "4035a5f8",
   "metadata": {},
   "outputs": [],
   "source": []
  },
  {
   "cell_type": "code",
   "execution_count": null,
   "id": "8791964e",
   "metadata": {},
   "outputs": [],
   "source": []
  },
  {
   "cell_type": "code",
   "execution_count": null,
   "id": "a415bcc0",
   "metadata": {},
   "outputs": [],
   "source": []
  },
  {
   "cell_type": "code",
   "execution_count": null,
   "id": "b3052e12",
   "metadata": {},
   "outputs": [],
   "source": []
  },
  {
   "cell_type": "code",
   "execution_count": null,
   "id": "784ef1d5",
   "metadata": {},
   "outputs": [],
   "source": []
  },
  {
   "cell_type": "code",
   "execution_count": null,
   "id": "68f34189",
   "metadata": {},
   "outputs": [],
   "source": []
  },
  {
   "cell_type": "code",
   "execution_count": null,
   "id": "e5774e01",
   "metadata": {},
   "outputs": [],
   "source": [
    "original_languages_dict = {}\n",
    "\n",
    "original_languages_dict['rus'] = []"
   ]
  },
  {
   "cell_type": "code",
   "execution_count": null,
   "id": "7e6f06d3",
   "metadata": {},
   "outputs": [],
   "source": [
    "studied_languages_dict = {}"
   ]
  },
  {
   "cell_type": "code",
   "execution_count": null,
   "id": "114621f5",
   "metadata": {},
   "outputs": [],
   "source": []
  },
  {
   "cell_type": "code",
   "execution_count": null,
   "id": "5877a726",
   "metadata": {},
   "outputs": [],
   "source": []
  },
  {
   "cell_type": "code",
   "execution_count": null,
   "id": "863389bb",
   "metadata": {},
   "outputs": [],
   "source": []
  },
  {
   "cell_type": "code",
   "execution_count": null,
   "id": "bdda4ac3",
   "metadata": {},
   "outputs": [],
   "source": []
  },
  {
   "cell_type": "code",
   "execution_count": null,
   "id": "7ab9c37d",
   "metadata": {},
   "outputs": [],
   "source": []
  }
 ],
 "metadata": {
  "kernelspec": {
   "display_name": "Python 3 (ipykernel)",
   "language": "python",
   "name": "python3"
  },
  "language_info": {
   "codemirror_mode": {
    "name": "ipython",
    "version": 3
   },
   "file_extension": ".py",
   "mimetype": "text/x-python",
   "name": "python",
   "nbconvert_exporter": "python",
   "pygments_lexer": "ipython3",
   "version": "3.9.13"
  }
 },
 "nbformat": 4,
 "nbformat_minor": 5
}
